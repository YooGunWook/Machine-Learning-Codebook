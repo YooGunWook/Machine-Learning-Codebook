{
  "nbformat": 4,
  "nbformat_minor": 0,
  "metadata": {
    "colab": {
      "name": "(원본) 혀누를 위한 Maching Learning",
      "provenance": [],
      "collapsed_sections": [
        "aFbtD4uKrv3W",
        "t88oG-qc-16q",
        "qO3dY4c56Gfw",
        "bJWmUSDlAyOK",
        "YLx__wuPieBe",
        "0AvQgkfqSKEC",
        "TeHCabICQgtA",
        "konh6so3QisB",
        "fMGaKcfzRH7M",
        "RHJVdAb03sh_",
        "r_S9Z4by3seb",
        "bxyf2bX3aaep",
        "vEw5OQDyXvzl",
        "P2Hj6aBncgJk",
        "N8Gae7f3VB5Y",
        "OEBuuhlkwIMu",
        "ZjjuHB0rwULR",
        "6PdHdvEww3aD",
        "XiDidYG-jsQy",
        "NXUWwMTJw9dq",
        "qvOxz3SYw9h8",
        "6zK5cpuckTJ3",
        "Y1XBnMuCw9l6",
        "Kyosm9OZw9qZ",
        "AFcp77hOw9uI",
        "G5PI_pRfw91l",
        "SwHw2i3oyho5",
        "kgZbjX5iw-AF",
        "iqB656qNygjH",
        "-EK-RY0opSNX",
        "tjMcvT33ymnI",
        "NY5w7x_6yqab",
        "OXWSQuGTyqlO",
        "CrvIqWElqhzM",
        "5Kt66CjqyzCz",
        "b_0h1642y2nI",
        "wGGUGYR9y4LI",
        "DvZ5Q-fky4TV",
        "3p0Lc8RFy4XJ",
        "Q4GE559ly4Zw",
        "pozkZiGgzD8i",
        "5ynxIB0azGk2",
        "eWamjn8MzGqU",
        "WuuADgPUzGz6"
      ],
      "toc_visible": true
    },
    "kernelspec": {
      "name": "python3",
      "display_name": "Python 3"
    }
  },
  "cells": [
    {
      "cell_type": "markdown",
      "metadata": {
        "id": "ENYso35hnbpA",
        "colab_type": "text"
      },
      "source": [
        "---\n",
        "# ┗(•̀へ •́ )ﾉ Hyun's Machine Learning\n",
        "---\n",
        "자 Machine Learning을 공부해봅시다 (´∇｀)  \n",
        "## Authored by. Hyun\n",
        "![미니언즈!](https://post-phinf.pstatic.net/MjAxNzA3MTBfMjIg/MDAxNDk5NjcxOTY1NDQw.Kz07JXiZg6AT6Y4PAZY7ubUNAr7rbDinLwFGuS0OOxcg.WVhpo8yfybUh0qImMGNAo1ucSUPuNOvQyzlO_vKlAlkg.JPEG/%EC%98%81%EC%A7%84%EC%9C%845.jpg?type=w1200)"
      ]
    },
    {
      "cell_type": "markdown",
      "metadata": {
        "id": "aFbtD4uKrv3W",
        "colab_type": "text"
      },
      "source": [
        "# ┗(•̀へ •́  )ﾉ **이것만 돌리면 다 돌아간다~~~**"
      ]
    },
    {
      "cell_type": "code",
      "metadata": {
        "id": "gRO8gtPDrySn",
        "colab_type": "code",
        "colab": {}
      },
      "source": [
        "# # 기본\n",
        "# import numpy as np\n",
        "# from numpy.linalg import inv\n",
        "# from numpy.linalg import solve\n",
        "# import random\n",
        "\n",
        "# import pandas as pd\n",
        "# from pandas import Series, DataFrame\n",
        "# import pandas_profiling\n",
        "# import openpyxl\n",
        "\n",
        "# import matplotlib.pyplot as plt\n",
        "# import urllib\n",
        "# import matplotlib.dates as mdates\n",
        "# from matplotlib.dates import bytespdate2num\n",
        "# import matplotlib.ticker as ticker\n",
        "# from matplotlib import font_manager, rc\n",
        "# from matplotlib import style\n",
        "# import seaborn as sns\n",
        "\n",
        "# import time\n",
        "\n",
        "# import itertools\n",
        "# import re\n",
        "# import warnings\n",
        "# warnings.filterwarnings(\"ignore\")\n",
        "\n",
        "# # 시계열 데이터 처리\n",
        "# import calendar\n",
        "# import dateutil\n",
        "# from dateutil.parser import parse\n",
        "# import datetime\n",
        "\n",
        "# # Network 분석\n",
        "# import networkx as nx\n",
        "\n",
        "# # 지도시각화\n",
        "# import folium\n",
        "# from folium import plugins\n",
        "# import html\n",
        "# import json\n",
        "# import geopy\n",
        "# from geopy.geocoders import Nominatim\n",
        "# import os\n",
        "# import requests\n",
        "# import ipywidgets\n",
        "# from IPython.display import Image\n",
        "# from ipywidgets import interact\n",
        "\n",
        "# # Clustering\n",
        "# from sklearn.cluster import KMeans\n",
        "# from scipy.cluster.hierarchy import linkage, dendrogram\n",
        "\n",
        "# # Factor analysis\n",
        "# from factor_analyzer import FactorAnalyzer\n",
        "\n",
        "# # Machine learning 용도\n",
        "# from sklearn.preprocessing import StandardScaler, MinMaxScaler\n",
        "# from sklearn.linear_model import LinearRegression\n",
        "# from sklearn.model_selection import train_test_split\n",
        "# from sklearn.metrics import r2_score\n",
        "#from sklearn.metrics import classification_report\n",
        "# from sklearn.model_selection import PredefinedSplit\n",
        "# from sklearn.model_selection import GridSearchCV, ParameterGrid\n",
        "# from sklearn.metrics import (roc_curve, auc, accuracy_score, roc_auc_score)\n",
        "# from sklearn.cluster import KMeans\n",
        "# from sklearn.decomposition import PCA\n",
        "# from sklearn.metrics import silhouette_samples, silhouette_score\n",
        "# from sklearn.preprocessing import OneHotEncoder,LabelEncoder\n",
        "# from sklearn.preprocessing import StandardScaler\n",
        "# from sklearn.preprocessing import MinMaxScaler\n",
        "# from sklearn.preprocessing import RobustScaler\n",
        "# from sklearn.datasets import make_blobs\n",
        "# import scipy.cluster.hierarchy as shc\n",
        "# from sklearn.cluster import AgglomerativeClustering\n",
        "# from xgboost import XGBRegressor\n",
        "# from catboost import CatBoostRegressor\n",
        "# from sklearn.ensemble import AdaBoostRegressor, GradientBoostingRegressor\n",
        "# from lightgbm import LGBMClassifier, LGBMRegressor\n",
        "# import lightgbm as lgb\n",
        "# from sklearn.ensemble import RandomForestClassifier\n",
        "# from sklearn import metrics\n",
        "\n",
        "# # Deep learning 용도\n",
        "# import torch\n",
        "# import torchvision.datasets as dsets\n",
        "# import torchvision.transforms as transforms\n",
        "# import random\n",
        "# import torch\n",
        "# import torch.nn as nn\n",
        "# import torch.nn.functional as F\n",
        "# import torch.optim as optim\n",
        "\n",
        "# # Wordcloud\n",
        "# import konlpy\n",
        "# from konlpy.tag import Okt\n",
        "# import collections\n",
        "# from collections import Counter\n",
        "# from wordcloud import WordCloud, STOPWORDS as stopwords\n",
        "# from PIL import Image, ImageFilter\n",
        "# from wordcloud import ImageColorGenerator\n",
        "# import pickle\n",
        "\n",
        "# # 한글 사용하기\n",
        "# import matplotlib.font_manager as fm\n",
        "# from matplotlib import rc\n",
        "# font_name = fm.FontProperties(fname=\"c:/Windows/Fonts/malgun.ttf\").get_name()\n",
        "# rc('font', family=font_name)\n",
        "\n",
        "\n",
        "# # 크롤링\n",
        "#  from selenium import webdriver\n",
        "# import requests\n",
        "# from bs4 import BeautifulSoup\n",
        "\n",
        "# # 기타\n",
        "# from urllib.request import urlopen\n",
        "# from tqdm import tqdm\n",
        "# import time\n",
        "# from zeep import Client\n",
        "# from collections import namedtuple\n",
        "# import sqlite3\n",
        "\n",
        "# # 한 번에 matplotlib 그림 띄우기\n",
        "# %matplotlib inline    \n",
        "# %config InlineBackend.figure_format = 'retina'  #%matplotlib 뒤에 써주면 그래프를 더 높은 해상도로 보여줌\n",
        "\n",
        "# # 설정 관련\n",
        "# pd.set_option('display.max_columns', 200)\n",
        "# pd.set_option('display.max_rows', 200)"
      ],
      "execution_count": 0,
      "outputs": []
    },
    {
      "cell_type": "markdown",
      "metadata": {
        "id": "t88oG-qc-16q",
        "colab_type": "text"
      },
      "source": [
        "# 목차"
      ]
    },
    {
      "cell_type": "markdown",
      "metadata": {
        "id": "PhANASX2-28p",
        "colab_type": "text"
      },
      "source": [
        "## 1. Machine Learning은 무엇일까???\n",
        "## 2. Machine Learning 관련 용어, 메소드 모음\n",
        "## 3. Supervised Learning\n",
        "## 4. Unsupervised Learning\n",
        "## 5. 기타 ML에 필요한 기법들"
      ]
    },
    {
      "cell_type": "markdown",
      "metadata": {
        "id": "qO3dY4c56Gfw",
        "colab_type": "text"
      },
      "source": [
        "# 1. Machine learning은 무엇일까???"
      ]
    },
    {
      "cell_type": "markdown",
      "metadata": {
        "id": "NpmsSftm2QQq",
        "colab_type": "text"
      },
      "source": [
        "![](https://lh3.googleusercontent.com/HK5QOxzeXCF0CMWSTae2OkxXmxETt0lNlyTYrYhVTiNrGxFr33lLgCnjfGiSSQgVVmJhjlkx4gM8eo71BBV6HW_IAo1b-kzqJL4ZLcqeiUhXIYin0vjeTjxrJOQWRmNSve6TX-er2RQ)"
      ]
    },
    {
      "cell_type": "markdown",
      "metadata": {
        "id": "E2wWk6km_CWp",
        "colab_type": "text"
      },
      "source": [
        "## 도대체 머신러닝이 무엇이냐?\n",
        "- 머신러닝은 간단하게 말해서 기계가 기존의 데이터를 학습해서 사람보다 더 정확하게 새로운 데이터를 분류해주거나(classification) 구체적인 수치를 내놓는(regression) 것을 말함!!\n",
        "\n",
        "> 간단하게\n",
        "- 기존 데이터로 기계가 학습 \n",
        "- 새로운 데이터를 바탕으로 예측!\n",
        "\n",
        "좀 더 구체적으로 나누면\n",
        "\n",
        " > Step.1 데이터 전처리\n",
        "  1. EDA\n",
        "  2. FE\n",
        "\n",
        " > Step.2 Modeling\n",
        "  1. 데이터 나누기 (Train, Test)\n",
        "  2. 모델 학습시키기 (Train data)\n",
        "  3. 학습된 모델에 성능 평가하기 (Test data)\n",
        "  4. 성능을 높이기 위해 위 과정 반복\n",
        "\n",
        " > Step.3 Evaluation\n",
        "  1. 학습된 모델에 Test data 넣기\n",
        "  2. 결과 확인하기\n",
        "\n",
        "이렇게 나눌 수 있다.\n",
        "\n",
        "그림으로 살펴보면 요로로콤!\n",
        "\n",
        "![](https://github.com/hw79chopin/Python3_Code_book/blob/master/data/ML_Explanation.png?raw=true)\n"
      ]
    },
    {
      "cell_type": "markdown",
      "metadata": {
        "id": "w0kBSwd8bBhS",
        "colab_type": "text"
      },
      "source": [
        "## Step 하나하나씩 살펴보기"
      ]
    },
    {
      "cell_type": "markdown",
      "metadata": {
        "id": "pLCPuuuKbGjP",
        "colab_type": "text"
      },
      "source": [
        "\n",
        "> Step.1 Data cleaning\n",
        "1. EDA\n",
        " - EDA는 Exploratory Data Analysis로 데이터를 전반적으로 훑어보면서 데이터의 특성을 파악하는 과정!\n",
        "2. FE\n",
        " - FE는 Feature Engineering으로 기계가 학습할 수 있게 데이터를 다듬어 특징(feature)를 생성해주는 과정이다.\n",
        " - FE는 모델 성능에 미치는 영향이 크기에 매우 중요하며 전문성과 시간, 비용이 많이 든다.\n",
        " - Pandas를 정말 많이 사용함 ㅋㅋ\n",
        "\n",
        "> Step.2 Modeling\n",
        "1. 데이터 나누기\n",
        " - 가지고 있는 데이터를 크게 Train, Test 데이터로 나눈다. \n",
        " - 자세한 설명은 뒤에 ```빈용 개념정리``` 부분 확인!\n",
        "2. 모델 학습시키기\n",
        " - Train data를 활용해서 모델을 학습시킨다.\n",
        " - 독립변수 X와 종속변수 Y의 상관관계를 기계가 학습하도록 하는 것!\n",
        "3. 성능 평가하기\n",
        " - Train data로 학습된 모델의 성능을 Test data (혹은 test data)로 평가해보기!\n",
        " - Evaluation 방법은 ```빈용 개념정리``` 부분 확인!\n",
        " - Train, Test, Validation data에 대한 자세한 설명은 뒤에 ```빈용 개념정리``` 부분 확인!\n",
        "4. 성능을 높이기 위해 위 과정 반복\n",
        " - 모델의 성능을 높이기 위해서 FE를 다시 해주거나, hyperparameter를 조정해주거나, grid search를 하거나, 여러 model로 돌려보는 등을 반복!\n",
        "\n",
        "> Step.3 Evaluation\n",
        " 1. 학습된 모델에 Test data 넣기\n",
        "  - 어느 정도 모델의 성능이 높아졌다고 생각하면 test data로 성능을 평가하기!\n",
        "  - 성능이 아직 낮으면 다시 Step.2로 돌아가기~^^\n",
        " 2. 결과 확인하기\n",
        "  - 성능이 괜찮게 나오면 자기 자신을 토닥여주며 만족하면 됨!\n"
      ]
    },
    {
      "cell_type": "markdown",
      "metadata": {
        "id": "_wRHFLFTcFBN",
        "colab_type": "text"
      },
      "source": [
        "## Machine Learning의 종류"
      ]
    },
    {
      "cell_type": "markdown",
      "metadata": {
        "id": "IknJz98B6eFD",
        "colab_type": "text"
      },
      "source": [
        "![123123](https://wordstream-files-prod.s3.amazonaws.com/s3fs-public/styles/simple_image/public/images/machine-learning1.png?SnePeroHk5B9yZaLY7peFkULrfW8Gtaf&itok=yjEJbEKD)"
      ]
    },
    {
      "cell_type": "markdown",
      "metadata": {
        "id": "AJ7DZyJVcHzi",
        "colab_type": "text"
      },
      "source": [
        "- Machine Learning에는 크게 지도학습(Supervised Learning), 비지도학습(Unsupervised Learning)으로 나뉜다.\n",
        "\n",
        "> 지도학습\n",
        "- 답이 이미 있는 데이터를 기계가 학습한 뒤, 새로운 데이터가 들어왔을 때 답을 예측하는 방법\n",
        "- Regression, Classification이 이에 해당\n",
        "\n",
        "> 비지도학습\n",
        " - 답이 없는 데이터의 특징들을 기계가 스스로 학습한 뒤 이를 바탕으로 답을 내주는 방법\n",
        " - Clustering, Dimensionality Reduction이 이에 해당"
      ]
    },
    {
      "cell_type": "markdown",
      "metadata": {
        "id": "bJWmUSDlAyOK",
        "colab_type": "text"
      },
      "source": [
        "# 2. Machine Learning 관련 용어, 메소드 모음"
      ]
    },
    {
      "cell_type": "markdown",
      "metadata": {
        "id": "YLx__wuPieBe",
        "colab_type": "text"
      },
      "source": [
        "## Machine learning 빈용 개념정리\n",
        "---\n",
        "\n",
        "### **순서**\n",
        "\n",
        "> Bagging vs Boosting\n",
        "\n",
        "> Bias와 Variance\n",
        "\n",
        "> Cost function, Loss function, Objecetive function\n",
        "\n",
        "> Cross Validation vs Hold-out Validation\n",
        "\n",
        "> Data 나누기 (Train data, Test data, Split data)\n",
        "\n",
        "> Evaluation (F1 score, accuracy, precision, ROC, AUC. MAE, MSE, MAPE)\n",
        "\n",
        "> Overfitting, Underfitting"
      ]
    },
    {
      "cell_type": "markdown",
      "metadata": {
        "id": "0AvQgkfqSKEC",
        "colab_type": "text"
      },
      "source": [
        "### Bagging vs Boosting\n"
      ]
    },
    {
      "cell_type": "markdown",
      "metadata": {
        "id": "orswR1yswPMb",
        "colab_type": "text"
      },
      "source": [
        "> Boosting이란?  \n",
        "![123123](https://quantdare.com/wp-content/uploads/2016/04/bb3.png)\n",
        "- Bagging은 샘플을 여러 번 뽑아 각 모델을 학습시켜 결과를 집계(Aggregating) 하는 방법이다.\n",
        "- Boosting은 Bagging과 다르게 이전 모델의 오차를 고려하여 학습을 하는 Ensemble 모델이다!\n",
        "- 못 맞춘 데이터에 대해서만 순차적으로 학습시켜서 여러개의 모델을 학습함. 그래서 bagging에 비해서 상대적으로 속도가 많이 느리다. 그 전 모델의 학습이 끝나야 다음 모델학습이 가능하기 때문.\n",
        "\n",
        "> Bagging과 Boosting의 차이점  \n",
        "![123123](https://user-images.githubusercontent.com/31475037/59011343-5a586280-886f-11e9-86ab-3143ad265195.png)\n",
        "\n",
        "> Boosting 종류  \n",
        "![123123](https://image.slidesharecdn.com/mlstudyboostingv0-171128021615/95/boosting-bagging-vs-boosting-14-638.jpg?cb=1511939004)\n",
        "- 크게 Adaboost, GBM, Xgboost, Light GBM등이 있다.\n",
        "\n",
        "\n",
        "\n",
        "\n",
        "\n",
        "\n",
        "\n",
        "\n",
        "\n"
      ]
    },
    {
      "cell_type": "markdown",
      "metadata": {
        "id": "TeHCabICQgtA",
        "colab_type": "text"
      },
      "source": [
        "### Bias와 Variance"
      ]
    },
    {
      "cell_type": "markdown",
      "metadata": {
        "id": "Pp5L3Mh63so4",
        "colab_type": "text"
      },
      "source": [
        "\n",
        "\n",
        "![bias](https://img1.daumcdn.net/thumb/R1280x0/?scode=mtistory2&fname=http%3A%2F%2Fcfile9.uf.tistory.com%2Fimage%2F99CDCC33599AC28F075E3C)\n",
        "\n",
        "> Bias란?\n",
        " - Bias는 실제 값에서 멀어진 척도 \n",
        "\n",
        "> Variance란?\n",
        " - Variance는 예측된 값들이 서로 얼마나 멀리 떨어져 있는지에 대한 척도\n",
        "\n",
        "> Modeling의 목표\n",
        " - 왼쪽 위의 그림처럼 Bias도 낮고, Variance도 낮게, 즉 모두 정확하게 예측하는 것!\n",
        "\n",
        "> Bias, Variance and fitting\n",
        "- Overfitting 모델은 High Variace 모델이라고도 하는데(오른쪽 위), Train Data의 지엽적인 특성까지 반영되어 학습된 것은 잘 예측하지만, 학습되지 않은 데이터에 대해서는 예측력이 떨어지게 됨\n",
        "- Underfitting 모델은 High Bias 모델이라고 하는데(왼쪽 아래), 너무 적은 특성만을 반영하여, 예측의 범위가 좁고 정확도가 떨어지게 됨\n",
        "- 다시 말하면, Bias 에러가 높아지는 것은 많은 데이터를 고려하지 않아(=모델이 너무 단순해) 정확한 예측을 하지 못하는 경우를 말하고, Variance(분산) 에러는 노이즈까지 전부 학습해(=모델이 너무 복잡해) 약간의 input에도 예측 Y 값이 크게 흔들리는 것을 말함. \n",
        "- 이 두가지 에러가 **Trade-off** 관계에 있어서 이 둘을 모두 잡는 것은 불가능 한 딜레마가 생김\n",
        " ![graph](https://img1.daumcdn.net/thumb/R1280x0/?scode=mtistory2&fname=http%3A%2F%2Fcfile9.uf.tistory.com%2Fimage%2F996DB433599AC34225B9BD)\n",
        "- Total Error가 최소인 지점을 찾기 위한 가장 효과적인 방법은 **Validation Set을 만드는 것**이다."
      ]
    },
    {
      "cell_type": "markdown",
      "metadata": {
        "id": "konh6so3QisB",
        "colab_type": "text"
      },
      "source": [
        "### Cost function, Loss function, Objective function\n"
      ]
    },
    {
      "cell_type": "markdown",
      "metadata": {
        "id": "_My2nQow3slr",
        "colab_type": "text"
      },
      "source": [
        "> Cost function\n",
        "- Cost function은 loss function의 합이다. \n",
        "- 즉 entire data set에서 loss funciton을 계산한 합이다.\n",
        "- 순간순간의 loss를 판단할 땐 loss function, 학습이 완료된 후에는 cost function!\n",
        "- A loss function is a part of a cost function which is a type of an objective function!!!\n",
        "\n",
        "> Loss function\n",
        "- Loss function은 data point에서의 오차. Single data set에서의 오차를 구하는 것\n",
        "순간순간의 loss를 판단할 땐 loss function, 학습이 완료된 후에는 cost function!\n",
        "- A loss function is a part of a cost function which is a type of an objective function!!!\n",
        "\n",
        "> Objective function\n",
        "- The most general term for any function that you optimize during training.\n",
        "- For example, a probability of generating training set in maximum likelihood approach is a well defined objective function, but it is not a loss function nor cost function (however you could define an equivalent cost function). For example:"
      ]
    },
    {
      "cell_type": "markdown",
      "metadata": {
        "id": "fMGaKcfzRH7M",
        "colab_type": "text"
      },
      "source": [
        "### Cross Validation vs Hold-out Validation"
      ]
    },
    {
      "cell_type": "markdown",
      "metadata": {
        "id": "BR1u65ZTRbAC",
        "colab_type": "text"
      },
      "source": [
        "- Validation Set을 만드는 대표적인 두 유형에는 Cross Validation과 에 대해 알아보겠습니다.\n",
        "\n",
        "> Cross Validation\n",
        "- Cross validation은 validation set을 뗄 만큼 data가 크지 않을 때 사용\n",
        "- Training Set을 여러 Subset으로 나누고 각 모델을 이 Subset의 조합으로 훈련시키고 나머지 부분으로 검증하는 방법이다.  \n",
        "![validation](https://t1.daumcdn.net/cfile/tistory/990DD2465B72F1491E)\n",
        "\n",
        "#### 메소드 모음\n",
        "- **KFold ( n_splits = , shuffle = True)**: KFold\n",
        "  - n_splits: 데이터를 몇 번 나눌꺼냐\n",
        "  - shuffle: 데이터를 나누기 전에 섞을건지\n"
      ]
    },
    {
      "cell_type": "code",
      "metadata": {
        "id": "R_Hu6BgUi8aY",
        "colab_type": "code",
        "colab": {}
      },
      "source": [
        "# Cross validation code\n",
        "from sklearn.model_selection import KFold\n",
        "from sklearn import metrics\n",
        "X = np.arange(16).reshape((8,-1)) ## 8개의 row, 2개의 column\n",
        "y = np.arange(8).reshape((-1,1))\n",
        "kf = KFold(n_splits=4) # 8개의 row를 각각 2줄짜리 4개의 set으로 분리합니다\n",
        "for train_index, test_index in kf.split(X):\n",
        "    print(\"TRAIN:\", train_index, \"TEST:\", test_index)\n",
        "    X_train, X_test = X[train_index], X[test_index] \n",
        "    y_train, y_test = y[train_index], y[test_index]\n",
        "\n",
        "# 각각의 iteration을 print합니다. 첫 줄의 의미는 2~7번째 row를 학습하고 0,1번째 row를 validation set으로 하여 검증한다는 것입니다."
      ],
      "execution_count": 0,
      "outputs": []
    },
    {
      "cell_type": "code",
      "metadata": {
        "id": "U8v7_Cxxi80h",
        "colab_type": "code",
        "colab": {}
      },
      "source": [
        "# Kfold 예시1\n",
        "from sklearn.linear_model import Lasso, Ridge\n",
        "from sklearn.metrics import mean_squared_error\n",
        "from sklearn.model_selection import KFold\n",
        "kf = KFold(n_splits=10)\n",
        "lasso_regressor = Lasso()\n",
        "ridge_regressor = Ridge()\n",
        "\n",
        "lasso_mse = []\n",
        "ridge_mse = []\n",
        "\n",
        "for train_index, test_index in kf.split(X):\n",
        "    lasso_regressor.fit(X[train_index], y[train_index])\n",
        "    ridge_regressor.fit(X[train_index], y[train_index])\n",
        "    \n",
        "    lasso_mse.append(mean_squared_error(y[test_index], lasso_regressor.predict(X[test_index])))\n",
        "    ridge_mse.append(mean_squared_error(y[test_index], ridge_regressor.predict(X[test_index])))\n",
        "    \n",
        "sum(lasso_mse) / 10, sum(ridge_mse) / 10\n",
        "\n",
        "################################################################################################################\n",
        "\n",
        "# Kfold 예시2\n",
        "from sklearn.model_selection import cross_val_score\n",
        "import numpy as np \n",
        "\n",
        "lasso_regressor = Lasso(warm_start=False)\n",
        "ridge_regressor = Ridge()\n",
        "\n",
        "lasso_scores = cross_val_score(lasso_regressor, X, y, cv=10, \n",
        "                               scoring='neg_mean_squared_error')\n",
        "ridge_scores= cross_val_score(ridge_regressor, X, y, cv=10, \n",
        "                              scoring='neg_mean_squared_error')\n",
        "# cv: 몇 번 돌릴 것이냐. cross-validation, scoring: 점수를 측정하는 기준\n",
        "np.mean(lasso_scores), np.mean(ridge_scores)"
      ],
      "execution_count": 0,
      "outputs": []
    },
    {
      "cell_type": "markdown",
      "metadata": {
        "id": "mUu4aBOgRoI8",
        "colab_type": "text"
      },
      "source": [
        "> Hold-out Validation\n",
        "- 데이터를 무작위로 train set과 validation set, test set으로 구분한 뒤, train set과 validation set을 이용해 분석 모형을 구축하고, test set을 이용하여 분석 모형의 성능을 평가하는 방법  \n",
        "- step.1\n",
        " - Original Set을 무작위로 train set과 validation set, test set으로 구분!\n",
        "- step.2\n",
        "  - hyperparameter를 다르게 해 여러가지 세팅을 만들어본 뒤, 학습 알고리즘을 사용해 Train set에 모델을 학습시키뮤\n",
        "- step.3\n",
        "  - Validation Set로 모델의 성능을 평가해 가장 좋은 성능의 hyperparameter 세팅을 선택함\n",
        "- step.4\n",
        "  - Train Set은 보통 클수록 좋음. 그러므로 모델 선택 후에 Train Set와 Validation Set을 합쳐 더 큰 데이터셋으로 step.3에서 선택한 최선의 hyperparameter 세팅을 사용한 모델을 학습하기!\n",
        "- step.5 \n",
        "  - 이제 Test Set을 사용해 모델의 성능을 평가~\n",
        "- Cross Validation과의 차이점: Hold-out Validation에서 Test Set의 경우 모형에는 영향을 주지 않고, 모델의 성능 측정 만을 위해 사용된다는 점!\n",
        "    "
      ]
    },
    {
      "cell_type": "markdown",
      "metadata": {
        "id": "RHJVdAb03sh_",
        "colab_type": "text"
      },
      "source": [
        "### Data 나누기 \n",
        "(Train data, Test data, Validation data)\n"
      ]
    },
    {
      "cell_type": "markdown",
      "metadata": {
        "id": "Jtk3dxfIQpvk",
        "colab_type": "text"
      },
      "source": [
        "![datasets](https://t1.daumcdn.net/cfile/tistory/9951E5445AAE1BE025)\n",
        "> Validation Set이 왜 필요할까?\n",
        " - Validation Set을 통해 우리는 모델의 성능을 대략적으로 파악할 수 있음\n",
        " - Train Set의 일부를 떼어낸 후, 남은 부분을 학습한 뒤, 모델을 통해 떼어낸 부분에 대한 예측 진행!\n",
        " - 우리는 떼어낸 부분의 실제 값을 알고 있기 때문에 예측치와 비교하여 성능을 평가하는 여러 측정 공식을 통해 모델의 성능을 측정함\n",
        " -  그러니 Validation Set은 모의고사 문제인 셈이쥬.\n",
        "\n",
        "\n"
      ]
    },
    {
      "cell_type": "markdown",
      "metadata": {
        "id": "r_S9Z4by3seb",
        "colab_type": "text"
      },
      "source": [
        "### Model Evaluation (Classification)"
      ]
    },
    {
      "cell_type": "markdown",
      "metadata": {
        "id": "SCiaUsuzVHE2",
        "colab_type": "text"
      },
      "source": [
        "[참조 사이트](https://frhyme.github.io/machine-learning/clf_%ED%8F%89%EA%B0%80%ED%95%98%EA%B8%B0/)  \n",
        "\n",
        "<img src=\"https://t1.daumcdn.net/cfile/tistory/99DC064C5BE056CE10\" alt=\"Drawing\" style=\"width: 500px;\"/>  \n",
        "- True Positive(TP) : 실제 True인 정답을 True라고 예측 (정답)\n",
        "- False Positive(FP) : 실제 False인 정답을 True라고 예측 (오답)\n",
        "- False Negative(FN) : 실제 True인 정답을 False라고 예측 (오답)\n",
        "- True Negative(TN) : 실제 False인 정답을 False라고 예측 (정답)<br>"
      ]
    },
    {
      "cell_type": "markdown",
      "metadata": {
        "colab_type": "text",
        "id": "AedwSafZY4tu"
      },
      "source": [
        "`A, B, C, D, E, F, G, H, I, J, K, L, M, N, O, P, Q, R, S, T, U, V, W, X, Y, Z`"
      ]
    },
    {
      "cell_type": "markdown",
      "metadata": {
        "id": "lBV7Nn9ZXaMo",
        "colab_type": "text"
      },
      "source": [
        "#### 정확도(accuracy)"
      ]
    },
    {
      "cell_type": "markdown",
      "metadata": {
        "id": "N9Xu9a1LXUVb",
        "colab_type": "text"
      },
      "source": [
        "- 정확도(accuracy)란 전체 샘플 중 맞게 예측한 샘플 수의 비율\n",
        "- 높을수록 좋은 모형이고 일반적으로 학습에서 최적화 목적함수로 사용됨!!\n",
        "- 정확도(Accuracy)의 가장 큰 문제점은 **클래스의 분포가 같을 때만 이용 가능하다는 점**\n",
        "- 이러한 **단점을 보완**하는 지표가 정밀도(Precision)와 재현율(Recall), ROC 곡선과 AUC입니다.\n",
        "\n",
        "$$accuracy=\\frac{TP+TN}{TP+TN+FP+FN}$$<br>\n",
        "``` python\n",
        "from sklearn.metrics import accuracy_score\n",
        "y_true = [0, 0, 0, 1, 1, 1, 1, 1, 1, 1]\n",
        "y_pred = [0, 0, 1, 0, 0, 1, 1, 1, 1, 1]\n",
        "\n",
        "accuracy_score(y_true, y_pred)\n",
        "```\n",
        "\n",
        "\n"
      ]
    },
    {
      "cell_type": "markdown",
      "metadata": {
        "id": "XtJXnJNKXV30",
        "colab_type": "text"
      },
      "source": [
        "#### 정밀도(precision)"
      ]
    },
    {
      "cell_type": "markdown",
      "metadata": {
        "id": "0EPaMs0OXV8S",
        "colab_type": "text"
      },
      "source": [
        "- 정밀도(precision)란 positive 클래스에 속한다고 분류한 샘플 중 실제로 positive 클래스에 속하는 샘플 수의 비율\n",
        "- 높을수록 좋은 모형!!!\n",
        "\n",
        "$$precision=\\frac{TP}{TP+FP}$$\n",
        "\n",
        "``` python\n",
        "from sklearn.metrics import precision_score\n",
        "y_true = [0, 0, 0, 1, 1, 1, 1, 1, 1, 1]\n",
        "y_pred = [0, 0, 1, 0, 0, 1, 1, 1, 1, 1]\n",
        "\n",
        "precision_score(y_true, y_pred)\n",
        "```"
      ]
    },
    {
      "cell_type": "markdown",
      "metadata": {
        "id": "uU_ReU8QXWEo",
        "colab_type": "text"
      },
      "source": [
        "#### 재현율(recall)"
      ]
    },
    {
      "cell_type": "markdown",
      "metadata": {
        "id": "MHaUHh1EXWIk",
        "colab_type": "text"
      },
      "source": [
        "- 재현율(recall)이란 실제 positive 클래스에 속한 표본 중에 positive 클래스에 속한다고 출력한 표본의 수의 비율\n",
        "- 높을수록 좋은 모형!!\n",
        "- TPR(true positive rate) 또는 민감도(sensitivity)라고도 합니다.\n",
        "\n",
        "$$recall=\\frac{TP}{TP+FN}$$\n",
        "\n",
        "``` python\n",
        "from sklearn.metrics import recall_score\n",
        "y_true = [0, 0, 0, 1, 1, 1, 1, 1, 1, 1]\n",
        "y_pred = [0, 0, 1, 0, 0, 1, 1, 1, 1, 1]\n",
        "\n",
        "recall_score(y_true, y_pred)\n",
        "```"
      ]
    },
    {
      "cell_type": "markdown",
      "metadata": {
        "id": "HDZoiHjyXuTu",
        "colab_type": "text"
      },
      "source": [
        "#### F Score, F1 score"
      ]
    },
    {
      "cell_type": "markdown",
      "metadata": {
        "id": "5AZKUVmhXvhM",
        "colab_type": "text"
      },
      "source": [
        "- F Score는 precision과 recall의 **가중조화평균**\n",
        "- 베타($\\beta$)는 정밀도에 주어지는 가중치\n",
        "\n",
        "$$F_β=\\frac{(1+β^2)(precision*recall)}{β^2precision+recall}$$\n",
        " \n",
        "- 베타가 1인 경우가 F1 Score!\n",
        "$$F_1=\\frac{2⋅precision⋅recall}{precision+recall}$$\n",
        "\n",
        "``` python\n",
        "from sklearn.metrics import f1_score\n",
        "y_true = [0, 0, 0, 1, 1, 1, 1, 1, 1, 1]\n",
        "y_pred = [0, 0, 1, 0, 0, 1, 1, 1, 1, 1]\n",
        "\n",
        "f1_score(y_true, y_pred)\n",
        "```"
      ]
    },
    {
      "cell_type": "markdown",
      "metadata": {
        "id": "bxyf2bX3aaep",
        "colab_type": "text"
      },
      "source": [
        "#### Classification_report"
      ]
    },
    {
      "cell_type": "markdown",
      "metadata": {
        "id": "b9Afq16ZXvqL",
        "colab_type": "text"
      },
      "source": [
        "- Classification report는 sklearn 패키지의 metrics 패키지에서 precision, recall , F1 score를 구할 때 쓰는 메소드\n",
        "- Classification report는 각각의 클래스를 양성(positive) 클래스로 보았을 때의  precision, recall , F1 score를 각각 구하고 그 평균값으로 전체 모형의 성능을 평가함!!\n",
        "\n",
        "``` python\n",
        "from sklearn.metrics import classification_report\n",
        "\n",
        "y_true = [0, 0, 0, 1, 1, 1, 1, 1, 1, 1]\n",
        "y_pred = [0, 0, 1, 0, 0, 1, 1, 1, 1, 1]\n",
        "\n",
        "print(classification_report(y_true, y_pred, target_names=['class 0', 'class 1']))\n",
        "```"
      ]
    },
    {
      "cell_type": "markdown",
      "metadata": {
        "id": "vEw5OQDyXvzl",
        "colab_type": "text"
      },
      "source": [
        "#### ROC, AUC"
      ]
    },
    {
      "cell_type": "markdown",
      "metadata": {
        "id": "eCTCVNqlbOvg",
        "colab_type": "text"
      },
      "source": [
        "> ROC, AUC\n",
        "- ROC이란 TPR과 FPR은 어떤 기준을 연속적으로 바꾸며 측정해야 하는데 이를 한눈에 볼 수 있게 한 것\n",
        "- AUC란 ROC 곡선 아래 부분의 면적이다. 1에 가까울수록 성능이 좋음!\n",
        "- ![ROC_curve](https://t1.daumcdn.net/cfile/tistory/262E8E3F544837AD27)<br>\n",
        "- 위 그림처럼 ROC 곡선은 TPR과 FPR이 둘다 [0,1]의 범위이며 (0,0)에서 (1,1)을 잇는 곡선이다. \n",
        "\n",
        "- TRP(True Positive Rate) = recall\n",
        "$$TPR=\\frac{TP}{TP+FN}$$<br>\n",
        "- FPR(False Positive Rate)\n",
        "$$FPR=\\frac{FP}{FP+TN}$$<br>\n",
        "- TPR과 FPR은 반비례 관계에 있음\n",
        "  - 예시) 3인지 아닌지 판단할 때, 조금만 3처럼 보여도 모두 3이라고 분류할 경우, 이 때의 TPR은 1에 가까워지지만 반대로 FPR은 매우 낮아진다. 반대로 조금만 비슷하지 않아도 모두 3이 아니라고 분류할 경우 TPR은 급격히 낮아져 0에 가까워지겠지만, FPR은 반대로 급격히 높아져 1에 가까워진다.(3이라고 분류 자체를 안하므로, 잘못 분류하는 경우가 없는 것). 이처럼 TPR과 FPR은 어떤 기준(언제 3이라고 예측할까?)을 연속적으로 바꾸며 측정해야 하는데 이를 한눈에 볼 수 있게 한 것이 바로 **ROC 곡선**입니다.  \n"
      ]
    },
    {
      "cell_type": "code",
      "metadata": {
        "id": "_0ZGnYi9Xv9w",
        "colab_type": "code",
        "colab": {}
      },
      "source": [
        "from sklearn.metrics import roc_auc_score\n",
        "y_true = np.array([0, 0, 0, 1, 1, 1, 1, 1, 1, 1])\n",
        "y_scores = np.array([0.1, 0.4, 0.35, 0.8])\n",
        "roc_auc_score(y_true, y_scores)"
      ],
      "execution_count": 0,
      "outputs": []
    },
    {
      "cell_type": "markdown",
      "metadata": {
        "id": "POW8Za7TX6oi",
        "colab_type": "text"
      },
      "source": [
        "시각화"
      ]
    },
    {
      "cell_type": "code",
      "metadata": {
        "id": "7gtchm7nX5Rg",
        "colab_type": "code",
        "colab": {}
      },
      "source": [
        "import matplotlib.pyplot as plt \n",
        "\n",
        "from sklearn.metrics import accuracy_score, precision_score, precision_recall_curve\n",
        "from sklearn.metrics import classification_report, confusion_matrix\n",
        "from sklearn.metrics import roc_curve, roc_auc_score\n",
        "\n",
        "from sklearn.linear_model import LogisticRegression\n",
        "\n",
        "def learn_and_eval_clf(x, y_true):\n",
        "    clf = LogisticRegression(random_state=42)\n",
        "    clf.fit(x, y_true)\n",
        "\n",
        "    y_pred = clf.predict(x)\n",
        "    print(\"accuracy_score: {}\".format( accuracy_score(y_true, y_pred)))\n",
        "    print(\"precision_score: {}\".format( precision_score(y_true, y_pred)))\n",
        "    #print(\"AUC: Area Under Curve: {}\".format(roc_auc_score(y_true, y_pred_proba[:, 1])))\n",
        "    #print(\"Classificcation Report: \\n{}\".format(classification_report(y_true, y_pred)))\n",
        "    #print(\"Confusition matrix: \\n{}\".format(confusion_matrix(y_true, y_pred)))\n",
        "\n",
        "    y_score = clf.decision_function(x)\n",
        "    precision, recall, _ = precision_recall_curve(y_true, y_score)\n",
        "    fpr, tpr, _ = roc_curve(y_true, y_score)\n",
        "\n",
        "    f, axes = plt.subplots(1, 2, sharex=True, sharey=True)\n",
        "    f.set_size_inches((8, 4)) \n",
        "    axes[0].fill_between(recall, precision, step='post', alpha=0.2, color='b')\n",
        "    axes[0].set_title('Recall-Precision Curve')\n",
        "\n",
        "    axes[1].plot(fpr, tpr)\n",
        "    axes[1].plot([0, 1], [0, 1], linestyle='--')\n",
        "    axes[1].set_title('ROC curve')\n",
        "    #plt.save\n",
        "    return f\n",
        "\n",
        "## - 임의로 각각 평균이 0.0, 0.25인, 큰 차이가 나지 않는 샘플들을 뽑아서, 분류해본다. \n",
        "\n",
        "sample_size = 100\n",
        "x = np.vstack(\n",
        "    [np.random.normal(0, 1, sample_size*2).reshape(sample_size, 2), \n",
        "     np.random.normal(0.25, 1, sample_size*2).reshape(sample_size, 2), \n",
        "    ]\n",
        ")\n",
        "y_true = np.array([0 for i in range(0, sample_size)]+[1 for i in range(0, sample_size)])\n",
        "\n",
        "\n",
        "try1 = learn_and_eval_clf(x, y_true)\n",
        "\n",
        "### 임의로 각각 평균이 0.0, 2인, 큰 차이가 나지 않는 샘플들을 뽑아서, 분류해본다. \n",
        "\n",
        "sample_size = 100\n",
        "x = np.vstack(\n",
        "    [np.random.normal(0, 1, sample_size*2).reshape(sample_size, 2), \n",
        "     np.random.normal(2, 1, sample_size*2).reshape(sample_size, 2), \n",
        "    ]\n",
        ")\n",
        "y_true = np.array([0 for i in range(0, sample_size)]+[1 for i in range(0, sample_size)])\n",
        "try2 = learn_and_eval_clf(x, y_true)"
      ],
      "execution_count": 0,
      "outputs": []
    },
    {
      "cell_type": "markdown",
      "metadata": {
        "id": "P2Hj6aBncgJk",
        "colab_type": "text"
      },
      "source": [
        "### Model Evaluation (Regression)"
      ]
    },
    {
      "cell_type": "markdown",
      "metadata": {
        "id": "aJMPSJ60X7sC",
        "colab_type": "text"
      },
      "source": [
        "- Continuous한 값을 예측하는 Regression은 Accuracy 등의 분류 모델 평가 기준으로 평가하는 것이 부적절함!ㅡㅡ;;;\n",
        "- Classification은 맞게 분류했는지/아닌지만 평가하면 되지만 Regression은 정확하게 예측하지 못했더라도 정답과 비슷하게 맞추면 성능이 좋다고 평가해야하기 때문!"
      ]
    },
    {
      "cell_type": "markdown",
      "metadata": {
        "id": "sj9hOXCJX7wn",
        "colab_type": "text"
      },
      "source": [
        "#### MAE(Mean Absolute Error)"
      ]
    },
    {
      "cell_type": "code",
      "metadata": {
        "id": "16Kh5aGwX71E",
        "colab_type": "code",
        "colab": {}
      },
      "source": [
        "from sklearn.metrics import mean_absolute_error\n",
        "\n",
        "mean_absolute_error(y_test, y_predict)"
      ],
      "execution_count": 0,
      "outputs": []
    },
    {
      "cell_type": "markdown",
      "metadata": {
        "id": "IazaMePGX76R",
        "colab_type": "text"
      },
      "source": [
        "#### MSE(Mean Squared Error)"
      ]
    },
    {
      "cell_type": "code",
      "metadata": {
        "id": "DyzEFO5qX7-k",
        "colab_type": "code",
        "colab": {}
      },
      "source": [
        "from sklearn.metrics import mean_squared_error\n",
        "\n",
        "mean_squared_error(y_test, y_predict)"
      ],
      "execution_count": 0,
      "outputs": []
    },
    {
      "cell_type": "markdown",
      "metadata": {
        "id": "uD8jqOziX8DR",
        "colab_type": "text"
      },
      "source": [
        "#### MAPE"
      ]
    },
    {
      "cell_type": "markdown",
      "metadata": {
        "id": "X0jrj1BGYH5Y",
        "colab_type": "text"
      },
      "source": [
        "- Scale Dependent Error의 단점을 보완하기 위한 방법이다.\n",
        "- 하지만 MAPE 역시 실제 예측 값이 1보다 작을 경우 분모가 작아져 무한대에 가까워질 수 있다는 단점이 있다."
      ]
    },
    {
      "cell_type": "code",
      "metadata": {
        "id": "QyhyWH_GYIbY",
        "colab_type": "code",
        "colab": {}
      },
      "source": [
        "from sklearn.utils import check_arrays\n",
        "def mean_absolute_percentage_error(y_true, y_pred): \n",
        "    y_true, y_pred = check_arrays(y_true, y_pred)\n",
        "\n",
        "    #if _is_1d(y_true): \n",
        "    #    y_true, y_pred = _check_1d_array(y_true, y_pred)\n",
        "\n",
        "    return np.mean(np.abs((y_true - y_pred) / y_true)) * 100"
      ],
      "execution_count": 0,
      "outputs": []
    },
    {
      "cell_type": "markdown",
      "metadata": {
        "id": "N8Gae7f3VB5Y",
        "colab_type": "text"
      },
      "source": [
        "### Overfitting, Underfitting"
      ]
    },
    {
      "cell_type": "markdown",
      "metadata": {
        "id": "cVAOq1gD3pv2",
        "colab_type": "text"
      },
      "source": [
        "![123123](https://mblogthumb-phinf.pstatic.net/MjAxODA3MzBfMjMy/MDAxNTMyODkwNjUxMjY4.H_ocFIRFaG8MWrBsv8BWrTCaAMGLMKZZUh_Rd1krRLog.HAZRdDtrQMvVGKiEWfGls8bm0EhTyRKf7XzoSY1Cibsg.JPEG.qbxlvnf11/maxresdefault.jpg?type=w800)\n",
        "\n",
        "> **과대적합(Overfitting)**이란?\n",
        " - 모델이 Train Dataset에 너무 잘 맞아서 일반성이 떨어지게 되는 문제\n",
        " - 즉 Train Dataset을 너무 과하게 학습해 학습되지 않은 데이터가 들어오면 분류하지 못하게 되는 것\n",
        " - 위 그림의 오른쪽 그림들이 과대적합의 예시\n",
        " - 보시다시피 Train Set을 거의 다 거치거나 분류해내며 굉장히 높은 성능을 보여주고 있지만, 새로운 변수에 대응하기 어려움\n",
        " - 그림의 가운데 모델이 적합한 모델이라고 할 수 있음!\n",
        "\n",
        "> **과소적합(Underfitting)**이란?\n",
        " - Overfitting과 반대 개념\n",
        " - 모델이 너무 단순해서 데이터의 내재된 구조를 학습하지 못하는 것\n",
        " - 위 그림의 왼쪽 그림이 underfitting.\n",
        "<br>\n",
        "\n",
        "> Machine Learning에서 **Overfitting을 방지하는 방법**\n",
        " - 더 많은 데이터로 학습하기\n",
        " - Feature 개수 줄이기\n",
        " - 정규화(Regularization) 시키기 (e.g. L1, L2)  \n",
        "   ```용어 모음``` 확인\n",
        " - Early stopping: 어느 정도 loss가 줄어들지 않으면 학습 멈추기\n",
        "\n",
        "> Deep Learning에서 **Overfitting을 방지하는 방법**\n",
        " - Network size를 줄이기\n",
        " - Weight Decay\n",
        " - Dropout 해주기\n",
        " - Batch Normalization 해주기"
      ]
    },
    {
      "cell_type": "markdown",
      "metadata": {
        "id": "OEBuuhlkwIMu",
        "colab_type": "text"
      },
      "source": [
        "## Machine learning 용어 모음\n",
        "---"
      ]
    },
    {
      "cell_type": "markdown",
      "metadata": {
        "id": "epC3tuHrwRmF",
        "colab_type": "text"
      },
      "source": [
        "`A, B, C, D, E, F, G, H, I, J, K, L, M, N, O, P, Q, R, S, T, U, V, W, X, Y, Z`"
      ]
    },
    {
      "cell_type": "markdown",
      "metadata": {
        "id": "y-agd97XdIq4",
        "colab_type": "text"
      },
      "source": [
        "> ### Accuracy (정확도)\n",
        "- 정확도(accuracy)란 전체 샘플 중 맞게 예측한 샘플 수의 비율\n",
        "- 높을수록 좋은 모형이고 일반적으로 학습에서 최적화 목적함수로 사용됨!!\n",
        "- 정확도(Accuracy)의 가장 큰 문제점은 **클래스의 분포가 같을 때만 이용 가능하다는 점**\n",
        "- 이러한 **단점을 보완**하는 지표가 정밀도(Precision)와 재현율(Recall), ROC 곡선과 AUC입니다.\n",
        "- $$accuracy=\\frac{TP+TN}{TP+TN+FP+FN}$$<br>\n",
        "``` python\n",
        "from sklearn.metrics import accuracy_score\n",
        "y_true = [0, 0, 0, 1, 1, 1, 1, 1, 1, 1]\n",
        "y_pred = [0, 0, 1, 0, 0, 1, 1, 1, 1, 1]\n",
        "accuracy_score(y_true, y_pred)\n",
        "```\n",
        "\n",
        "> ### AUC\n",
        "- AUC란 ROC 곡선 아래 부분의 면적이다. 1에 가까울수록 성능이 좋음!\n",
        "\n",
        "> ### Batch size\n",
        "- Batch size: data를 나누는 것\n",
        "\n",
        "> ### Bagging\n",
        "- Bagging은 샘플을 여러 번 뽑아 각 모델을 학습시켜 결과를 집계(Aggregating) 하는 방법이다.\n",
        "\n",
        "> ### Bias\n",
        " - Bias는 실제 값에서 멀어진 척도 \n",
        "\n",
        "> ### bootstrapping\n",
        " - 통계학에서 가설을 test하거나 metric을 계산하지 전에 '중복을 허용한' random sampling을 적용하는 방법\n",
        " - Machine learning에서 bootstrapping이란 random sampling을 통해 train data를 늘리는 방법이다!\n",
        " - Overfitting을 줄이는 데 도움이 된다.\n",
        "\n",
        "> ### Cross validation\n",
        "- Cross validation은 validation set을 뗄 만큼 data가 크지 않을 때 사용\n",
        "- Training Set을 여러 Subset으로 나누고 각 모델을 이 Subset의 조합으로 훈련시키고 나머지 부분으로 검증하는 방법이다.\n",
        "\n",
        "> ### Cost function\n",
        "- Cost function은 loss function의 합이다. \n",
        "- 즉 entire data set에서 loss funciton을 계산한 합이다.\n",
        "- 순간순간의 loss를 판단할 땐 loss function, 학습이 완료된 후에는 cost function!\n",
        "- A loss function is a part of a cost function which is a type of an objective function!!!\n",
        "\n",
        "> ### Entropy\n",
        "- 불확실성에 대한 척도.\n",
        "- Entropy 함수  \n",
        "  $H_p(X) = \\mathbb{E}\\big[I(X)\\big] = \\mathbb{E} \\big[ \\log (\\frac{1}{p(X)}) \\big] = -\\sum_{i=1}^{n} p(x_i)\\log(p(x_i))$  \n",
        "  C는 범주의 갯수, q는 사건의 확률질량함수(probability mass function)\n",
        "- 예측이 어려울수록 정보의 양은 더 많아지고 엔트로피는 커진다.\n",
        "- 확률적으로 발생하는 사건에 대한 **정보량의 평균**. 놀람의 정도를 나타낸다고 볼 수 있다.\n",
        "\n",
        "> ### Epoch\n",
        "- one epoch: 모든 training example을 도는 것!\n",
        "\n",
        "> ### Gini Index\n",
        "- $G.I(A)=\\sum _{ i=1 }^{ d }{ { \\left( { R }_{ i }\\left( 1-\\sum _{ k=1 }^{ m }{ { p }_{ ik }^{ 2 } }  \\right)  \\right)  } }$\n",
        "- 정보의 순도를 측정할 때 사용하는 지표 중 하나\n",
        "\n",
        "> ### Gradient\n",
        "- Parameter들의 편미분계수, 기울기\n",
        "\n",
        "> ### Hold-out Validation\n",
        "- Validation set을 만드는 방법 중 하나\n",
        "- 데이터를 무작위로 train set과 validation set, test set으로 구분한 뒤, train set과 validation set을 이용해 분석 모형을 구축하고, test set을 이용하여 분석 모형의 성능을 평가하는 방법 \n",
        "- step.1\n",
        " - Original Set을 무작위로 train set과 validation set, test set으로 구분!\n",
        "- step.2\n",
        "  - hyperparameter를 다르게 해 여러가지 세팅을 만들어본 뒤, 학습 알고리즘을 사용해 Train set에 모델을 학습시키뮤\n",
        "- step.3\n",
        "  - Validation Set로 모델의 성능을 평가해 가장 좋은 성능의 hyperparameter 세팅을 선택함\n",
        "- step.4\n",
        "  - Train Set은 보통 클수록 좋음. 그러므로 모델 선택 후에 Train Set와 Validation Set을 합쳐 더 큰 데이터셋으로 step.3에서 선택한 최선의 hyperparameter 세팅을 사용한 모델을 학습하기!\n",
        "- step.5 \n",
        "  - 이제 Test Set을 사용해 모델의 성능을 평가~\n",
        "- Cross Validation과의 차이점: Hold-out Validation에서 Test Set의 경우 모형에는 영향을 주지 않고, 모델의 성능 측정 만을 위해 사용된다는 점! \n",
        "\n",
        "> ### Hyperparameter\n",
        "- 학습의 대상이 아니라 학습 이전에 정해놓은 변수\n",
        "- parameter는 학습의 대상이 되는 변수\n",
        "\n",
        "> ### Iteration\n",
        "- batch를 몇 번 학습에 사용했냐?\n",
        "- e.g. 1000개의 training set이 있고, batch size는 500이다. 그러므로 1 epoch 도는 동안 2 iteration이다.\n",
        "\n",
        "> ### Loss function  \n",
        "- Loss function은 data point에서의 오차. Single data set에서의 오차를 구하는 것\n",
        "순간순간의 loss를 판단할 땐 loss function, 학습이 완료된 후에는 cost function!\n",
        "- A loss function is a part of a cost function which is a type of an objective function!!!\n",
        "\n",
        "> ### MAE (Mean Absolute Error)\n",
        "```python\n",
        "from sklearn.metrics import mean_absolute_error\n",
        "mean_absolute_error(y_test, y_predict)\n",
        "```\n",
        "\n",
        "> ### MAPE (Mean Asolute Percentage Error)\n",
        "- Scale Dependent Error의 단점을 보완하기 위한 방법이다.\n",
        "- 하지만 MAPE 역시 실제 예측 값이 1보다 작을 경우 분모가 작아져 무한대에 가까워질 수 있다는 단점이 있다.\n",
        "``` python\n",
        "from sklearn.utils import check_arrays\n",
        "def mean_absolute_percentage_error(y_true, y_pred): \n",
        "    y_true, y_pred = check_arrays(y_true, y_pred)\n",
        "    return np.mean(np.abs((y_true - y_pred) / y_true)) * 100\n",
        "```\n",
        "\n",
        "> ### MSE(Mean Squared Error)\n",
        "```python\n",
        "from sklearn.metrics import mean_squared_error\n",
        "mean_squared_error(y_test, y_predict)\n",
        "```\n",
        "\n",
        "> ### Objective function\n",
        "- The most general term for any function that you optimize during training.\n",
        "- For example, a probability of generating training set in maximum likelihood approach is a well defined objective function, but it is not a loss function nor cost function (however you could define an equivalent cost function). For example:\n",
        "\n",
        "> ### Overfitting\n",
        " - 모델이 Train Dataset에 너무 잘 맞아서 일반성이 떨어지게 되는 문제\n",
        " - 즉 Train Dataset을 너무 과하게 학습해 학습되지 않은 데이터가 들어오면 분류하지 못하게 되는 것\n",
        " - 위 그림의 오른쪽 그림들이 과대적합의 예시\n",
        " - 보시다시피 Train Set을 거의 다 거치거나 분류해내며 굉장히 높은 성능을 보여주고 있지만, 새로운 변수에 대응하기 어려움\n",
        " - 그림의 가운데 모델이 적합한 모델이라고 할 수 있음!\n",
        "\n",
        "> ### Precision (정밀도)\n",
        "- 정밀도(precision)란 positive 클래스에 속한다고 분류한 샘플 중 실제로 positive 클래스에 속하는 샘플 수의 비율\n",
        "- 높을수록 좋은 모형!!!\n",
        "$$precision=\\frac{TP}{TP+FP}$$\n",
        "``` python\n",
        "from sklearn.metrics import precision_score\n",
        "y_true = [0, 0, 0, 1, 1, 1, 1, 1, 1, 1]\n",
        "y_pred = [0, 0, 1, 0, 0, 1, 1, 1, 1, 1]\n",
        "precision_score(y_true, y_pred)\n",
        "```\n",
        "\n",
        "> ### Recall (재현율)\n",
        "- 재현율(recall)이란 실제 positive 클래스에 속한 표본 중에 positive 클래스에 속한다고 출력한 표본의 수의 비율\n",
        "- 높을수록 좋은 모형!!\n",
        "- TPR(true positive rate) 또는 민감도(sensitivity)라고도 합니다.\n",
        "$$recall=\\frac{TP}{TP+FN}$$\n",
        "``` python\n",
        "from sklearn.metrics import recall_score\n",
        "y_true = [0, 0, 0, 1, 1, 1, 1, 1, 1, 1]\n",
        "y_pred = [0, 0, 1, 0, 0, 1, 1, 1, 1, 1]\n",
        "recall_score(y_true, y_pred)\n",
        "```\n",
        "\n",
        "> ### ROC\n",
        "- ROC이란 TPR과 FPR은 어떤 기준을 연속적으로 바꾸며 측정해야 하는데 이를 한눈에 볼 수 있게 한 것\n",
        "- ![ROC_curve](https://t1.daumcdn.net/cfile/tistory/262E8E3F544837AD27)<br>\n",
        "- 위 그림처럼 ROC 곡선은 TPR과 FPR이 둘다 [0,1]의 범위이며 (0,0)에서 (1,1)을 잇는 곡선이다. \n",
        "\n",
        "> ### Underfitting\n",
        " - Overfitting과 반대 개념\n",
        " - 모델이 너무 단순해서 데이터의 내재된 구조를 학습하지 못하는 것\n",
        " - 위 그림의 왼쪽 그림이 underfitting.\n",
        "\n",
        "> ### Variance\n",
        " - Variance는 예측된 값들이 서로 얼마나 멀리 떨어져 있는지에 대한 척도"
      ]
    },
    {
      "cell_type": "markdown",
      "metadata": {
        "id": "ygOPUNxI2uaa",
        "colab_type": "text"
      },
      "source": [
        "## Machine learning 관련 메소드 모음\n",
        "밑에 나오지 않은 기타 메소드들\n",
        "\n",
        "---"
      ]
    },
    {
      "cell_type": "markdown",
      "metadata": {
        "id": "ZjjuHB0rwULR",
        "colab_type": "text"
      },
      "source": [
        "### 학습한 모델 저장하는 법"
      ]
    },
    {
      "cell_type": "markdown",
      "metadata": {
        "id": "f_W-Sdk6w8vO",
        "colab_type": "text"
      },
      "source": [
        "joblib 활용"
      ]
    },
    {
      "cell_type": "code",
      "metadata": {
        "id": "qlqZIRBCwWwI",
        "colab_type": "code",
        "colab": {}
      },
      "source": [
        "## 저장할 때\n",
        "from sklearn.externals import joblib \n",
        "# 객체를 pickled binary file 형태로 저장한다 \n",
        "file_name = 'object_01.pkl' \n",
        "joblib.dump(obj, file_name) \n",
        "\n",
        "## 읽을 때\n",
        "from sklearn.externals import joblib \n",
        "# pickled binary file 형태로 저장된 객체를 로딩한다 \n",
        "file_name = 'object_01.pkl' \n",
        "obj = joblib.load(file_name) "
      ],
      "execution_count": 0,
      "outputs": []
    },
    {
      "cell_type": "markdown",
      "metadata": {
        "id": "s_CciL_ew_OG",
        "colab_type": "text"
      },
      "source": [
        "pickle 활용"
      ]
    },
    {
      "cell_type": "code",
      "metadata": {
        "id": "gvMC4llKwA2_",
        "colab_type": "code",
        "colab": {}
      },
      "source": [
        "# Save Model Using Pickle\n",
        "import pandas\n",
        "from sklearn import model_selection\n",
        "from sklearn.linear_model import LogisticRegression\n",
        "import pickle\n",
        "url = \"https://raw.githubusercontent.com/jbrownlee/Datasets/master/pima-indians-diabetes.data.csv\"\n",
        "names = ['preg', 'plas', 'pres', 'skin', 'test', 'mass', 'pedi', 'age', 'class']\n",
        "\n",
        "dataframe = pandas.read_csv(url, names=names)\n",
        "array = dataframe.values\n",
        "X = array[:,0:8]\n",
        "Y = array[:,8]\n",
        "test_size = 0.33\n",
        "seed = 7\n",
        "X_train, X_test, Y_train, Y_test = model_selection.train_test_split(X, Y, test_size=test_size, random_state=seed)\n",
        "\n",
        "# Fit the model on training set\n",
        "model = LogisticRegression()\n",
        "model.fit(X_train, Y_train)\n",
        "\n",
        "# save the model to disk\n",
        "filename = 'finalized_model.sav'\n",
        "pickle.dump(model, open(filename, 'wb'))\n",
        " \n",
        "# some time later...\n",
        " \n",
        "# load the model from disk\n",
        "loaded_model = pickle.load(open(filename, 'rb'))\n",
        "result = loaded_model.score(X_test, Y_test)\n",
        "print(result)"
      ],
      "execution_count": 0,
      "outputs": []
    },
    {
      "cell_type": "markdown",
      "metadata": {
        "id": "a6csp-C1x8HQ",
        "colab_type": "text"
      },
      "source": [
        "# 3. Supervised Learning"
      ]
    },
    {
      "cell_type": "markdown",
      "metadata": {
        "id": "6PdHdvEww3aD",
        "colab_type": "text"
      },
      "source": [
        "## 0-1. Regression"
      ]
    },
    {
      "cell_type": "markdown",
      "metadata": {
        "id": "XiDidYG-jsQy",
        "colab_type": "text"
      },
      "source": [
        "### Linear regression\n",
        "- 선형회귀!\n",
        "- 가장 basic!\n",
        "- train data로 모델을 만들고, test data로 성능을 평가\n",
        "\n",
        "### 빈용 메소드 모음\n",
        "- **linear_model .LinearRegression ( fit_intercept = True , normalisze = True , copy_X = True , n_jobs = )**: 모델 만들어주기 \n",
        "  - fit_intercept: 상수항을 넣을지 말지\n",
        "  - normalize: 앞에서 scaling 해줬으면 굳이 또 안해줘도 됨\n",
        "  - n_jobs: CPU를 몇 개 쓸건지 지정할 수 있다\n",
        " - **linear_model .LinearRegression . fit ( X_train , y_train )**: fit 시켜주기\n",
        "   \n",
        "   **.coef_**: 계수를 반환   \n",
        "\n",
        "   **.intercept_**: y 절편을 반환\n",
        "   \n",
        "   **.predict ( X_test )**: : 예측하기\n",
        "- **mean_squared_error ( y_true , y_pred )**: MSE 추출하기\n",
        "- statsmodels를 이용해서 regression을 할 수도 있음"
      ]
    },
    {
      "cell_type": "code",
      "metadata": {
        "id": "3DA-zNYni3M1",
        "colab_type": "code",
        "colab": {}
      },
      "source": [
        "from sklearn import linear_model\n",
        "from sklearn.metrics import mean_squared_error"
      ],
      "execution_count": 0,
      "outputs": []
    },
    {
      "cell_type": "code",
      "metadata": {
        "id": "2Yn-2GYBj1Nz",
        "colab_type": "code",
        "colab": {}
      },
      "source": [
        "# statsmodels를 이용한 regression\n",
        "import statsmodels.api as sm\n",
        "model = sm.OLS(y_train, X_train)\n",
        "results = model.fit()\n",
        "results.summary()"
      ],
      "execution_count": 0,
      "outputs": []
    },
    {
      "cell_type": "code",
      "metadata": {
        "id": "CNNiy75Xj2Fm",
        "colab_type": "code",
        "colab": {}
      },
      "source": [
        "# Normal equation 예시1\n",
        "from sklearn.linear_model import LinearRegression\n",
        "lr_ne = LinearRegression(fit_intercept = True)\n",
        "\n",
        "from sklearn.model_selection import train_test_split\n",
        "X_train, X_test, y_train, y_test = train_test_split(X, y, test_size = 0.33, random_state=42)\n",
        "\n",
        "lr_ne.fit(X_train, y_train)\n",
        "\n",
        "y_hat = lr_ne.predict(X_test)\n",
        "y_true = y_test\n",
        "\n",
        "mse = sklearn.metris.mean_squared_error(y_hat, y_true)"
      ],
      "execution_count": 0,
      "outputs": []
    },
    {
      "cell_type": "markdown",
      "metadata": {
        "id": "vGDuirxpw9Z6",
        "colab_type": "text"
      },
      "source": [
        "### Gradient descent\n",
        "- 한 점에서 내려가면서 기존 값에서 계속 업데이트 해주면서 새로운 값을 적용해 최소값을 찾아내는 것\n",
        "\n",
        "### 메소드 모음\n",
        "- **linear_model .LinearRegressionGD ( eta0 = , epochs = , batch-size = , shuffle = )**: gradient descent 만들기\n",
        "  - eta0: learning rate\n",
        "- 예시)\n",
        "\n",
        "  **linear_model .LinearRegressionGD ( eta0 = 0.001 , epochs = 10000 , batch-size = 1 , shuffle = False)**: Gradient descent\n",
        "  \n",
        "  **linear_model .LinearRegressionGD ( eta0 = 0.001 , epochs = 10000 , batch-size = len(X) , shuffle = False)**: Batch gradient descent\n",
        "  \n",
        "  **linear_model .LinearRegressionGD ( eta0 = 0.001 , epochs = 10000 , batch-size = 1 , shuffle = True)**: Stochasic gradient descent\n",
        "  \n",
        "  **linear_model .LinearRegressionGD ( eta0 = 0.001 , epochs = 10000 , batch-size = 100 , shuffle = True)**: Mini-batch stochasic gradient descent"
      ]
    },
    {
      "cell_type": "markdown",
      "metadata": {
        "id": "NXUWwMTJw9dq",
        "colab_type": "text"
      },
      "source": [
        "### Stochastic gradient descent\n",
        "- Gradient descent는 한 점을 잡고, 그 점에서 내려가서 최소값을 찾는 방법이다.\n",
        "- 전체 데이터가 1억건, 10억건 되는 상황에서 전체를 고려해서 한 번씩 weight를 수정하는 것은 시간이 오래 걸림! 이러한 상황에서 1억건의 데이터를 1천만 건씩 나눠서 학습을 진행하자는 것이 Stochastic gradient descent.\n",
        "- 기존보다 더 빠르게 학습함. \n",
        "- Stochastic gradient descent는 x의 값을 돌아가면서 gradient를 구해서 지역 최적화에 빠지는 것을 최소화 한다.\n",
        "\n",
        "### 메소드모음\n",
        "- **linear_model .SGDRegressor ( n_iter = , loss = ’squared_loss ’, penalty = ’l2 ’,  alpha = 0.0001 , l1_ratio = 0.15 , fit_intercept = True , max_iter = 1000 , tol = 0.001 , shuffle = True , verbose = 0 , epsilon = 0.1 , random_state = None , learning_rate = ’optimal ’ , eta0 = 0.01 , power_t = 0.25 , early_stopping = False , validation_fraction = 0.1 , n_iter_no_change = 5 , warm_start = False , average = False )**: Stochastic gradient descent\n",
        "  - loss function: squared loss를 기본적으로 사용하면 된다.\n",
        "  - penalty: regularization 방법. L1, L2, elastic net\n",
        "  - alpha: L2 앞에 람다 값을 얼마로 설정해줄까. 이 값이 크면 클수록 regularization이 많이 되기 때문에 학습 데이터 값이 줄어든다.\n",
        "  - max_iter: number of epoch. epoch을 몇 번 돌껀가\n",
        "  - tol: 멈추는 기준\n",
        "  - shutffle: SGD이기 때문에 섞는다. False로 하면 Batch gradient descent가 되는 것\n",
        "  - learning_rate: 돌아갈 때마다 일정량 줄어들게 되는 것. 줄어드는 전략은 3개의 전략! constant, optimal, invscaling\n",
        "  - eta0: learning rate을 지정. 학습속도를 빠르게 하려면 eta를 올려주면 됨. \n",
        "  - warm_start: 잘 안 쓰기는 하는데 weight의 초기값을 지정해줄 수 있다. 초기값을 기반으로 예측!"
      ]
    },
    {
      "cell_type": "code",
      "metadata": {
        "id": "8Om0Rxv3lXaq",
        "colab_type": "code",
        "colab": {}
      },
      "source": [
        "# Stochastic gradient descent 예시1\n",
        "from sklearn.linear_model import SGDRegressor\n",
        "lr_SGD = SGDRegressor()\n",
        "\n",
        "from sklearn.preprocessing import StandardScaler\n",
        "std_scaler = StandardScaler()\n",
        "std_scaler.fit(X)\n",
        "X_scaled = std_scaler.transform(X)\n",
        "\n",
        "from sklearn.mode_selection import train_test_split\n",
        "X_train, X_test, y_train, y_test = train_test_split(X, y, test_size = 0.33, random_state=42)\n",
        "\n",
        "lr_SGD.fit(X_train, y_train)\n",
        "\n",
        "y_hat = lr_SGD.predict(X_test)\n",
        "y_true = y_test\n",
        "\n",
        "mse = sklearn.metrics.mean_squared_error(y_hat, y_true)\n",
        "rmse = np.sqrt((((y_hat - y_true)**2).sum() / len(y_true)))\n",
        "\n",
        "'''\n",
        "rmse값이 엄청나게 커졌다는 것은 학습이 잘 안 되었다는 뜻!\n",
        "learning rate이 너무 크다거나 충분히 돌지 못했을 때 발생\n",
        "'''\n",
        "\n",
        "# scaled된 data로 돌리면\n",
        "X_train, X_test, y_train, y_test = train_test_split(X_scaled, y, test_size = 0.33, random_state=42)\n",
        "\n",
        "lr_SGD.fit(X_train, y_train)\n",
        "\n",
        "y_hat = lr_SGD.predict(X_test)\n",
        "y_true = y_test\n",
        "\n",
        "mse = sklearn.metrics.mean_squared_error(y_hat, y_true)\n",
        "rmse = np.sqrt((((y_hat - y_true)**2).sum() / len(y_true)))\n",
        "# rmse값이 안정적으로 나오게 된다. 즉 SGD regression을 할 때는 반드시 scaling을 해야 한다!"
      ],
      "execution_count": 0,
      "outputs": []
    },
    {
      "cell_type": "markdown",
      "metadata": {
        "id": "qvOxz3SYw9h8",
        "colab_type": "text"
      },
      "source": [
        "### Polynomial regression\n",
        "- 1차식이 아닌 다항식! 비선형 관계 예측에 용이!\n",
        "\n",
        "### 빈용 메소드 모음\n",
        "- **PolynomialFeatures ( degree = )**: polynomial feature 만들어주기. degree가 2이면 제곱항까지 만들어줄 것을 의미\n",
        "- **PolynomialFeatures .fit_transform ( 데이터 )**: polynomial feature로 바꿔주기"
      ]
    },
    {
      "cell_type": "code",
      "metadata": {
        "id": "gYLPd1Y0lgfc",
        "colab_type": "code",
        "outputId": "6f0c393f-5954-45d9-f90b-47ece3840f7f",
        "colab": {
          "base_uri": "https://localhost:8080/",
          "height": 264
        }
      },
      "source": [
        "# 예시1 \n",
        "import numpy as np\n",
        "import matplotlib.pyplot as plt\n",
        "\n",
        "def f(size):\n",
        "    x = np.linspace(0, 5, size)\n",
        "    y = x * np.sin(x ** 2) + 1\n",
        "    return (x,y)\n",
        "\n",
        "def sample(size):\n",
        "    x = np.linspace(0, 5, size)\n",
        "    y = x * np.sin(x ** 2) + 1 + np.random.randn(x.size)*0.5\n",
        "    return (x,y)\n",
        "  \n",
        "  \n",
        "\n",
        "f_x, f_y = f(1000)\n",
        "plt.plot(f_x, f_y)\n",
        "X, y = sample(1000)\n",
        "plt.scatter(X, y, s=3, c=\"black\")\n",
        "plt.show()"
      ],
      "execution_count": 0,
      "outputs": [
        {
          "output_type": "display_data",
          "data": {
            "image/png": "[encoded data removed]",
            "text/plain": [
              "<Figure size 432x288 with 1 Axes>"
            ]
          },
          "metadata": {
            "tags": []
          }
        }
      ]
    },
    {
      "cell_type": "code",
      "metadata": {
        "id": "VtqHeJTQlifD",
        "colab_type": "code",
        "outputId": "655dc6dc-2d83-4d40-8cc7-8ad0e2bd15dd",
        "colab": {
          "base_uri": "https://localhost:8080/",
          "height": 264
        }
      },
      "source": [
        "# 예시1 \n",
        "X = X.reshape(-1,1)\n",
        "y = y.reshape(-1,1)\n",
        "X.shape, y.shape\n",
        "\n",
        "from sklearn.linear_model import LinearRegression\n",
        "\n",
        "lr = LinearRegression()\n",
        "lr.fit(X,y)\n",
        "\n",
        "f_x, f_y = f(1000)\n",
        "plt.plot(f_x, f_y)\n",
        "plt.scatter(X.flatten(), y.flatten(), s=3, c=\"black\")\n",
        "plt.plot(X.flatten(), lr.predict(X).flatten())\n",
        "plt.show()"
      ],
      "execution_count": 0,
      "outputs": [
        {
          "output_type": "display_data",
          "data": {
            "image/png": "[encoded data removed]",
            "text/plain": [
              "<Figure size 432x288 with 1 Axes>"
            ]
          },
          "metadata": {
            "tags": []
          }
        }
      ]
    },
    {
      "cell_type": "code",
      "metadata": {
        "id": "VuV7QqZolimO",
        "colab_type": "code",
        "outputId": "62c9c5a1-7934-4cc2-eb25-97883b209bc8",
        "colab": {
          "base_uri": "https://localhost:8080/",
          "height": 264
        }
      },
      "source": [
        "# 예시1 \n",
        "from sklearn.preprocessing import PolynomialFeatures\n",
        "\n",
        "poly_features = PolynomialFeatures(degree=2)\n",
        "X_poly = poly_features.fit_transform(X)\n",
        "X_poly[:10]\n",
        "\n",
        "lr = LinearRegression(fit_intercept=False)\n",
        "lr.fit(X_poly,y)\n",
        "\n",
        "f_x, f_y = f(1000)\n",
        "plt.plot(f_x, f_y)\n",
        "plt.scatter(X.flatten(), y.flatten(), s=3, c=\"black\")\n",
        "plt.plot(X.flatten(), lr.predict(X_poly).flatten())\n",
        "plt.show()"
      ],
      "execution_count": 0,
      "outputs": [
        {
          "output_type": "display_data",
          "data": {
            "image/png": "[encoded data removed]",
            "text/plain": [
              "<Figure size 432x288 with 1 Axes>"
            ]
          },
          "metadata": {
            "tags": []
          }
        }
      ]
    },
    {
      "cell_type": "code",
      "metadata": {
        "id": "mbWplI6vlisR",
        "colab_type": "code",
        "outputId": "5340b079-a3dc-49e5-a1b2-ee263c2a1d13",
        "colab": {
          "base_uri": "https://localhost:8080/",
          "height": 264
        }
      },
      "source": [
        "# 예시1 \n",
        "poly_features = PolynomialFeatures(degree=16)\n",
        "X_poly = poly_features.fit_transform(X)\n",
        "X_poly[:3]\n",
        "\n",
        "lr = LinearRegression(fit_intercept=False)\n",
        "lr.fit(X_poly,y)\n",
        "f_x, f_y = f(1000)\n",
        "plt.plot(f_x, f_y)\n",
        "plt.scatter(X.flatten(), y.flatten(), s=3, c=\"black\")\n",
        "plt.plot(X.flatten(), lr.predict(X_poly).flatten())\n",
        "plt.show()"
      ],
      "execution_count": 0,
      "outputs": [
        {
          "output_type": "display_data",
          "data": {
            "image/png": "[encoded data removed]",
            "text/plain": [
              "<Figure size 432x288 with 1 Axes>"
            ]
          },
          "metadata": {
            "tags": []
          }
        }
      ]
    },
    {
      "cell_type": "markdown",
      "metadata": {
        "id": "6zK5cpuckTJ3",
        "colab_type": "text"
      },
      "source": [
        "### Regularized linear models (Lasso)\n",
        "- Regularization에서 L1 방법을 쓰는 것\n",
        "- Parameter에 절대값을 취함으로써 정규화시킨다.\n",
        "- Lasso를 쓰면 feature selection이 가능하다.\n",
        "\n",
        "### 메소드 모음\n",
        "- **linear_model .Lasso ( alpha = 1.0, fit_intercept = True , normalize = False , precompute = False , copy_X = True , max_iter = 1000 , tol = 0.0001 , warm_start = False , positive = False , random_state = None , selection = ’cyclic ’)**: Lasso"
      ]
    },
    {
      "cell_type": "code",
      "metadata": {
        "id": "5IB3kqrTlNla",
        "colab_type": "code",
        "colab": {}
      },
      "source": [
        "# Lasso 예시\n",
        "ridge_reg = Ridge(alpha=1, solver=\"sag\", random_state=42)\n",
        "ridge_reg.fit(X, y)\n",
        "ridge_reg.predict([[1.5]])\n",
        "\n",
        "from sklearn.linear_model import ElasticNet\n",
        "elastic_net = ElasticNet(alpha=0.1, l1_ratio=0.5, random_state=42)\n",
        "elastic_net.fit(X, y)\n",
        "elastic_net.predict([[1.5]])"
      ],
      "execution_count": 0,
      "outputs": []
    },
    {
      "cell_type": "markdown",
      "metadata": {
        "id": "Y1XBnMuCw9l6",
        "colab_type": "text"
      },
      "source": [
        "### Regularized linear models (Ridge)\n",
        "- Regularization에서 L2 방법을 쓰는 것\n",
        "- Parameter를 제곱함으로써 정규화시킨다.\n",
        "\n",
        "### 메소드 모음\n",
        "- **linear_model.Ridge ( alpha = 1.0 , fit_intercept = True , normalize = False , copy_X = True , max_iter = None , tol = 0.001 , solver = ’auto ’, random_state = None )**: Ridge\n",
        "  - solver: auto로 하면 데이터를 보고서 fitting을 할 때 어떤 알고리즘을(normal equation, SGD) 알아서 찾아준다."
      ]
    },
    {
      "cell_type": "code",
      "metadata": {
        "id": "ZNGMHaOwlPFG",
        "colab_type": "code",
        "colab": {}
      },
      "source": [
        "# Ridge 예시\n",
        "ridge_reg = Ridge(alpha=1, solver=\"cholesky\", random_state=42)\n",
        "ridge_reg.fit(X, y)\n",
        "ridge_reg.predict([[1.5]])\n",
        "\n",
        "ridge_reg = Ridge(alpha=1, solver=\"sag\", random_state=42)\n",
        "ridge_reg.fit(X, y)\n",
        "ridge_reg.predict([[1.5]])"
      ],
      "execution_count": 0,
      "outputs": []
    },
    {
      "cell_type": "markdown",
      "metadata": {
        "id": "Kyosm9OZw9qZ",
        "colab_type": "text"
      },
      "source": [
        "### Logistic regression\n",
        "- binary 형태로 예측을 하는 regression\n",
        "\n",
        "### 빈용 메소드 모음\n",
        "- **PolynomialFeatures ( degree = )**: polynomial feature 만들어주기. degree가 2이면 제곱항까지 만들어줄 것을 의미\n",
        "- **PolynomialFeatures .fit_transform ( 데이터 )**: polynomial feature로 바꿔주기\n",
        "- statsmodels을 이용할 수도 있음"
      ]
    },
    {
      "cell_type": "code",
      "metadata": {
        "id": "uWb1GnWYmgPP",
        "colab_type": "code",
        "colab": {}
      },
      "source": [
        "# Logistic regression 에시\n",
        "# 먼저 데이터를 반응변인과 예측변인으로 분리하기\n",
        "Y = (df['Status'] == 'Developed').astype(np.int) #'Developed'면 1, 아니면 0으로\n",
        "X = df.drop('Status', axis=1)\n",
        "\n",
        "# 예측변인과 반응변인을 train set과 test set으로 분리해 줍니다.\n",
        "X_train, X_test, y_train, y_test = train_test_split(X, Y, test_size=0.2)\n",
        "\n",
        "from sklearn.linear_model import LogisticRegression\n",
        "\n",
        "# 1. 먼저 모델을 만들어 줍니다.\n",
        "logReg = LogisticRegression()\n",
        "\n",
        "# 2. 모델 적합시킵니다.\n",
        "logReg.fit(X_train, y_train)\n",
        "\n",
        "# 3. 트레이닝셋과 테스트셋에서의 성능을 확인합니다. (이 경우 결정계수 R^2)\n",
        "print('Training R^2:', logReg.score(X_train, y_train))\n",
        "print('Test R^2: ', logReg.score(X_test, y_test))\n",
        "\n",
        "# 모델로부터 반응을 예측하고 accuracy, f1-score, confusion matrix를 구해봅시다.\n",
        "from sklearn.metrics import accuracy_score, f1_score, confusion_matrix\n",
        "y_pred = logReg.predict(X_test)\n",
        "print(\"Accuracy: %.2f\" %accuracy_score(y_test, y_pred))\n",
        "print(\"F1 score: %.2f\" %f1_score(y_test, y_pred))\n",
        "confusion_matrix(y_test, y_pred)"
      ],
      "execution_count": 0,
      "outputs": []
    },
    {
      "cell_type": "code",
      "metadata": {
        "id": "Rlc5Mxl1mgmq",
        "colab_type": "code",
        "colab": {}
      },
      "source": [
        "import statsmodels.api as sm\n",
        "model = sm.Logit(y_train, X_train)\n",
        "results = model.fit()\n",
        "results.summary()"
      ],
      "execution_count": 0,
      "outputs": []
    },
    {
      "cell_type": "markdown",
      "metadata": {
        "id": "AFcp77hOw9uI",
        "colab_type": "text"
      },
      "source": [
        "### Softmax function\n",
        "- Logistic이 binary만 예측이 가능했다면 softmax는 여러 class를 예측할 수 있다."
      ]
    },
    {
      "cell_type": "code",
      "metadata": {
        "id": "0HXIi68GmmLz",
        "colab_type": "code",
        "colab": {}
      },
      "source": [
        "# softmax regression 예시1\n",
        "X = iris[\"data\"][:, (2, 3)]  # petal length, petal width\n",
        "y = iris[\"target\"]\n",
        "\n",
        "softmax_reg = LogisticRegression(multi_class=\"multinomial\",solver=\"lbfgs\", C=10, random_state=42)\n",
        "softmax_reg.fit(X, y)\n",
        "\n",
        "x0, x1 = np.meshgrid(\n",
        "        np.linspace(0, 8, 500).reshape(-1, 1),\n",
        "        np.linspace(0, 3.5, 200).reshape(-1, 1),\n",
        "    )\n",
        "X_new = np.c_[x0.ravel(), x1.ravel()]\n",
        "\n",
        "\n",
        "y_proba = softmax_reg.predict_proba(X_new)\n",
        "y_predict = softmax_reg.predict(X_new)\n",
        "\n",
        "zz1 = y_proba[:, 1].reshape(x0.shape)\n",
        "zz = y_predict.reshape(x0.shape)\n",
        "\n",
        "plt.figure(figsize=(10, 4))\n",
        "plt.plot(X[y==2, 0], X[y==2, 1], \"g^\", label=\"Iris-Virginica\")\n",
        "plt.plot(X[y==1, 0], X[y==1, 1], \"bs\", label=\"Iris-Versicolor\")\n",
        "plt.plot(X[y==0, 0], X[y==0, 1], \"yo\", label=\"Iris-Setosa\")\n",
        "\n",
        "from matplotlib.colors import ListedColormap\n",
        "custom_cmap = ListedColormap(['#fafab0','#9898ff','#a0faa0'])\n",
        "\n",
        "plt.contourf(x0, x1, zz, cmap=custom_cmap)\n",
        "contour = plt.contour(x0, x1, zz1, cmap=plt.cm.brg)\n",
        "plt.clabel(contour, inline=1, fontsize=12)\n",
        "plt.xlabel(\"Petal length\", fontsize=14)\n",
        "plt.ylabel(\"Petal width\", fontsize=14)\n",
        "plt.legend(loc=\"center left\", fontsize=14)\n",
        "plt.axis([0, 7, 0, 3.5])\n",
        "save_fig(\"softmax_regression_contour_plot\")\n",
        "plt.show()\n",
        "\n",
        "# predict\n",
        "softmax_reg.predict([[5, 2]])\n",
        "\n",
        "# predict probability\n",
        "softmax_reg.predict_proba([[5, 2]])"
      ],
      "execution_count": 0,
      "outputs": []
    },
    {
      "cell_type": "markdown",
      "metadata": {
        "id": "G5PI_pRfw91l",
        "colab_type": "text"
      },
      "source": [
        "## 0-2. Classfication"
      ]
    },
    {
      "cell_type": "markdown",
      "metadata": {
        "id": "ziKN21X-nRmi",
        "colab_type": "text"
      },
      "source": [
        "### Classification이란?\n",
        "- Supervised Learning\n",
        "- 기존 집단에 대한 특징을 학습한 뒤, 새로운 데이터가 들어왔을 때 그 데이터의 적합한 집단을 분류해주는 것"
      ]
    },
    {
      "cell_type": "code",
      "metadata": {
        "id": "fUZD9-BvnO3E",
        "colab_type": "code",
        "colab": {}
      },
      "source": [
        "# SGD Classifier\n",
        "from sklearn.linear_model import SGDClassifier\n",
        "\n",
        "sgd_clf=SGDClassifier(random_state=42) \n",
        "'''\n",
        "GDClassifier는 randomness에 기반하기 때문에, \n",
        "고정 값을 정하고 싶다면, random_state parameter를 쓰자.\n",
        "'''\n",
        "sgd_clf.fit(X_train,y_train)\n",
        "\n",
        "sgd_clf.predict(X_test)\n",
        "\n",
        "y_pred = sgd_clf.predict(X_test)\n",
        "\n",
        "f1_score(y_test,y_pred, average='micro')"
      ],
      "execution_count": 0,
      "outputs": []
    },
    {
      "cell_type": "code",
      "metadata": {
        "id": "3z84bRmfnQQG",
        "colab_type": "code",
        "colab": {}
      },
      "source": [
        "# Xgboost Classifier\n",
        "from xgboost import XGBClassifier, plot_importance\n",
        "\n",
        "model = XGBClassifier()\n",
        "model.fit(X_train, y_train)\n",
        "\n",
        "model.predict(X_test)\n",
        "\n",
        "y_pred = model.predict(X_test)\n",
        "\n",
        "from sklearn.metrics import f1_score\n",
        "\n",
        "f1_score(y_test,y_pred, average='weighted')"
      ],
      "execution_count": 0,
      "outputs": []
    },
    {
      "cell_type": "markdown",
      "metadata": {
        "id": "sNDH8gavw941",
        "colab_type": "text"
      },
      "source": [
        "## 0-3. Decision tree"
      ]
    },
    {
      "cell_type": "markdown",
      "metadata": {
        "id": "BXEl20vhntko",
        "colab_type": "text"
      },
      "source": [
        "### Decision tree란?\n",
        "- Decision tree는 데이터를 분석하여 이들 사이에 존재하는 패턴을 예측 가능한 규칙들의 조합으로 나타내며, 그 모양이 ‘나무’와 같다고 해서 decision tree라 불림\n",
        "- 뿌리의 끝마디가 Terminal node, 뿌리의 마디가 Root node, 중간 마디가 Intermediate node!\n",
        "- 의사결정나무는 분류(classification)와 회귀(regression) 모두 가능함  \n",
        "[참조 github blog](https://ratsgo.github.io/machine%20learning/2017/03/26/tree/)  \n",
        "![](http://i.imgur.com/ZKDnzOB.png)\n",
        "\n",
        "> Classification\n",
        " - 새로운 데이터가 특정 terminal node에 속한다는 정보를 확인한 뒤, 해당 terminal node에서 가장 빈도가 높은 범주에 새로운 데이터를 분류하게 됨. \n",
        " - 운동경기 예시에 적용해보면 날씨는 맑은데 습도가 70을 넘는 날은 경기가 열리지 않을 거라고 예측함\n",
        "\n",
        "> Regression\n",
        " - 회귀의 경우 해당 terminal node의 종속변수(y)의 평균을 예측값으로 반환함!\n",
        " - 이 때 예측값의 종류는 terminal node 개수와 일치합니다. \n",
        " - 만약 terminal node 수가 3개뿐이라면 새로운 데이터가 100개, 아니 1000개가 주어진다고 해도 의사결정나무는 딱 3종류의 답만을 출력하게 됨\n",
        "\n",
        "> [DT의 공간 분할 법](http://i.imgur.com/THaJKeR.png)\n",
        "- 이런 식으로 공간을 나누는 것!\n",
        "<br>\n",
        "<br>\n",
        "\n",
        "### 어떤 기준으로 영역을 나누나?\n",
        "- Decision tree는 구분 뒤 각 영역의 순도(homogeneity)가 증가, 불순도(impurity) 혹은 불확실성(uncertainty)이 최대한 감소하도록 하는 방향으로 학습을 진행\n",
        "- 순도가 증가/불확실성이 감소하는 걸 두고 정보이론에서는 정보획득(information gain)이라 함\n",
        "> 순도를 계산하는 3가지 방법\n",
        " - Entropy  \n",
        "  : entropy 감소 = 불확실설 감소 = 순도 증가 = 정보획득\n",
        " - Gini Index  \n",
        "  : $G.I(A)=\\sum _{ i=1 }^{ d }{ { \\left( { R }_{ i }\\left( 1-\\sum _{ k=1 }^{ m }{ { p }_{ ik }^{ 2 } }  \\right)  \\right)  } }$\n",
        " - Misclassification error  \n",
        "  : 미분이 불가능해서 잘 안 쓰임\n",
        "\n",
        "\n",
        "### 어떻게 학습이 되나?\n",
        " - 크게 2가지: 재귀적 분기 & 가지치기 \n",
        " > 재귀적 분기(recursive partitioning)\n",
        "  - 한 변수 기준으로 정렬한다. \n",
        "  - 그 변수에 대해 가능한 모든 분기점에 대해 Entropy/Gini Index를 구해 분기 전과 비교해 정보획득을 조사함\n",
        "  - 이후 분기 지점을 두번째 레코드로 두고 처음 두 개 레코드와 나머지 레코드 간의 entropy를 계산한 뒤 정보획득을 계산\n",
        "  - 이렇게 순차적으로 계산한 뒤, 이번엔 다른 변수을 기준으로 정렬하고 다시 같은 작업을 반복합니다. \n",
        "  - 모든 경우의 수 가운데 정보획득이 가장 큰 변수와 그 지점을 택해 첫번째 분기를 하게 됩니다. \n",
        "  - 이후 또 같은 작업을 반복해 두번째, 세번째… 이렇게 분기를 계속 해 나가는 과정이 바로 의사결정나무의 학습이다!!!\n",
        "\n",
        " > 가지치기(pruning)\n",
        "  - Full tree: 모든 terminal node의 순도가 100%인 상태\n",
        "  - Full tree를 생성한 뒤 적절한 수준에서 terminal node를 결합해주어 overfitting을 방지해주는 방법\n",
        "\n",
        "[Entropy Calculation example](https://towardsdatascience.com/entropy-how-decision-trees-make-decisions-2946b9c18c8)\n",
        "\n",
        "### 비용함수\n",
        "- $CC(T)=Err(T)+\\alpha \\times L(T)$\n",
        " - CC(T)=의사결정나무의 비용 복잡도(=오류가 적으면서 terminal node 수가 적은 단순한 모델일 수록 작은 값)\n",
        " - ERR(T)=검증데이터에 대한 오분류율\n",
        " - L(T)=terminal node의 수(구조의 복잡도)\n",
        " - Alpha=ERR(T)와 L(T)를 결합하는 가중치(사용자에 의해 부여됨, 보통 0.01~0.1의 값을 씀)"
      ]
    },
    {
      "cell_type": "code",
      "metadata": {
        "id": "HuSemgPAnsQC",
        "colab_type": "code",
        "colab": {}
      },
      "source": [
        "## DT 예시 1\n",
        "# 모델 만들어주기\n",
        "from sklearn.tree import DecisionTreeRegressor\n",
        "\n",
        "model = DecisionTreeRegressor(random_state=1, max_depth=50)\n",
        "model\n",
        "\n",
        "# fitting 시키기\n",
        "model.fit(x_train,y_train_re)\n",
        "model.fit(x_train,y_train_ca)\n",
        "model.fit(x_train,y_train)\n",
        "\n",
        "# predict하기\n",
        "model.predict(x_test)"
      ],
      "execution_count": 0,
      "outputs": []
    },
    {
      "cell_type": "code",
      "metadata": {
        "id": "Tcl_Jg_-sKvY",
        "colab_type": "code",
        "outputId": "ebb6ec25-a502-4930-def1-6968578b1ece",
        "colab": {
          "base_uri": "https://localhost:8080/",
          "height": 612
        }
      },
      "source": [
        "## DT 예시 2\n",
        "from sklearn import tree\n",
        "from sklearn import datasets\n",
        "from sklearn.model_selection import train_test_split\n",
        "from sklearn.preprocessing import StandardScaler\n",
        "import numpy as np\n",
        "\n",
        "iris = datasets.load_iris()\n",
        "X = iris.data[:, [2, 3]]\n",
        "y = iris.target\n",
        "\n",
        "# 자동으로 데이터셋을 분리해주는 함수\n",
        "X_train, X_test, y_train, y_test = train_test_split(X, y, test_size=0.3, random_state=0)\n",
        "\n",
        "# 데이터 표준화 작업\n",
        "sc = StandardScaler()\n",
        "sc.fit(X_train)\n",
        "\n",
        "# 표준화된 데이터셋\n",
        "X_train_std = sc.transform(X_train)\n",
        "X_test_std = sc.transform(X_test)\n",
        "\n",
        "iris_tree = tree.DecisionTreeClassifier(criterion='entropy', max_depth=3, random_state=0)\n",
        "iris_tree.fit(X_train, y_train)\n",
        "\n",
        "from sklearn.metrics import accuracy_score\n",
        "\n",
        "y_pred_tr = iris_tree.predict(X_test)\n",
        "print('Accuracy: %.2f' % accuracy_score(y_test, y_pred_tr))\n",
        "\n",
        "from sklearn.tree import export_graphviz\n",
        "import pydotplus\n",
        "from IPython.display import Image\n",
        "\n",
        "dot_data = export_graphviz(iris_tree, out_file=None, feature_names=['petal length', 'petal width'],\n",
        "                          class_names=iris.target_names, filled=True, rounded=True, special_characters=True)\n",
        "graph = pydotplus.graph_from_dot_data(dot_data)\n",
        "Image(graph.create_png())"
      ],
      "execution_count": 0,
      "outputs": [
        {
          "output_type": "stream",
          "text": [
            "Accuracy: 0.98\n"
          ],
          "name": "stdout"
        },
        {
          "output_type": "execute_result",
          "data": {
            "image/png": "[encoded data removed]",
            "text/plain": [
              "<IPython.core.display.Image object>"
            ]
          },
          "metadata": {
            "tags": []
          },
          "execution_count": 2
        }
      ]
    },
    {
      "cell_type": "code",
      "metadata": {
        "id": "N1e4ZTCxFgEb",
        "colab_type": "code",
        "colab": {}
      },
      "source": [
        "### DT 예시 3\n",
        "from sklearn.datasets import load_iris\n",
        "iris = load_iris()\n",
        "\n",
        "# Model (can also use single decision tree)\n",
        "from sklearn.ensemble import RandomForestClassifier\n",
        "model = RandomForestClassifier(n_estimators=10)\n",
        "\n",
        "# Train\n",
        "model.fit(iris.data, iris.target)\n",
        "# Extract single tree\n",
        "estimator = model.estimators_[5]\n",
        "\n",
        "from sklearn.tree import export_graphviz\n",
        "# Export as dot file\n",
        "export_graphviz(estimator, out_file='tree.dot', \n",
        "                feature_names = iris.feature_names,\n",
        "                class_names = iris.target_names,\n",
        "                rounded = True, proportion = False, \n",
        "                precision = 2, filled = True)\n",
        "\n",
        "# Convert to png using system command (requires Graphviz)\n",
        "from subprocess import call\n",
        "call(['dot', '-Tpng', 'tree.dot', '-o', 'tree.png', '-Gdpi=600'])\n",
        "\n",
        "# Display in jupyter notebook\n",
        "from IPython.display import Image\n",
        "Image(filename = 'tree.png')"
      ],
      "execution_count": 0,
      "outputs": []
    },
    {
      "cell_type": "markdown",
      "metadata": {
        "id": "Sw8bfsbHw98e",
        "colab_type": "text"
      },
      "source": [
        "## 0-4. Ensemble"
      ]
    },
    {
      "cell_type": "markdown",
      "metadata": {
        "id": "SwHw2i3oyho5",
        "colab_type": "text"
      },
      "source": [
        "### Random Forest"
      ]
    },
    {
      "cell_type": "markdown",
      "metadata": {
        "id": "-5fqVfqyt4jW",
        "colab_type": "text"
      },
      "source": [
        "#### Random Forest란?\n",
        "- Decision tree를 모아놓은 ensemble 모델\n",
        "- Random forest는 수많은 Decision tree가 모여 만들어진 숲이라고 생각하면 됨!\n",
        "- 많은 decision tree의 의견을 다수결로 최종 결과를 반환\n",
        "\n",
        "### 학습원리 \n",
        " 1. 주어진 train data에서 무작위로 중복을 허용해 n개를 선택\n",
        " 2. 선택한 n개의 data에서 데이터 feature를 중복 허용없이 d개를 선택\n",
        " 3. 이를 바탕으로 decision tree로 학습\n",
        " 4. 1~3을 k번 반복\n",
        " 5. k개의 decision tree로 평균값 or 다수결로 최종 예측값을 결정\n",
        "\n",
        " ### 메소드 모음\n",
        " - **RandomForestClassifier ( n_estimators = 100 , criterion = ' gini ' , max_depth = None , min_samples_split = 2 , min_samples_leaf = 1 , min_weight_fraction_leaf = 0 , max_features = ' auto ' , max_leaf_nodes = None , min_impurity_decrease = 0 , min_impurity_split = None , bootstrap = True, oob_score = False , n_jobs = None, random_state = None , verbose = 0 , warm_start=False, class_weight=None, ccp_alpha=0.0, max_samples=None)** \n",
        "  - n_esitmators: 생성할 Decision Tree 개수\n",
        "  - n_jobs: 학습을 수행하기 위한 병렬적으로 활용할 CPU 코어 개수\n",
        "  - criterion: 정보 순도를 계산하기 위한 방법들. entropy, gini 중에 설정 가능\n",
        "  - oob_score: 예측이 얼마나 정확한지에 대한 추정을 수치로 나타낸 것"
      ]
    },
    {
      "cell_type": "code",
      "metadata": {
        "id": "YqMMN3LqEm9p",
        "colab_type": "code",
        "colab": {}
      },
      "source": [
        "## 예시 1\n",
        "from sklearn.ensemble import RandomForestClassifier\n",
        "from sklearn import metrics    \n",
        "# 학습 진행\n",
        "forest = RandomForestClassifier(n_estimators=100)\n",
        "forest.fit(x_train, y_train)\n",
        " \n",
        "# 예측\n",
        "y_pred = forest.predict(x_test)\n",
        "print(y_pred)\n",
        "print(list(y_test))\n",
        " \n",
        "# 정확도 확인\n",
        "print('정확도 :', metrics.accuracy_score(y_test, y_pred))"
      ],
      "execution_count": 0,
      "outputs": []
    },
    {
      "cell_type": "code",
      "metadata": {
        "id": "WW2Gc5zYE4cP",
        "colab_type": "code",
        "colab": {}
      },
      "source": [
        "## 예시 2\n",
        "from sklearn.ensemble import RandomForestClassifier\n",
        "\n",
        "rf = RandomForestClassifier(n_estimators=100, oob_score=True, random_state=123456)\n",
        "rf.fit(X_train, y_train)\n",
        "\n",
        "from sklearn.metrics import accuracy_score\n",
        "\n",
        "predicted = rf.predict(X_test)\n",
        "accuracy = accuracy_score(y_test, predicted)\n",
        "\n",
        "print(f'Out-of-bag score estimate: {rf.oob_score_:.3}')\n",
        "print(f'Mean accuracy score: {accuracy:.3}')\n",
        "\n",
        "from sklearn.metrics import confusion_matrix\n",
        "\n",
        "cm = pd.DataFrame(confusion_matrix(y_test, predicted), columns=iris.target_names, index=iris.target_names)\n",
        "sns.heatmap(cm, annot=True)"
      ],
      "execution_count": 0,
      "outputs": []
    },
    {
      "cell_type": "markdown",
      "metadata": {
        "id": "kgZbjX5iw-AF",
        "colab_type": "text"
      },
      "source": [
        "### Bagging"
      ]
    },
    {
      "cell_type": "markdown",
      "metadata": {
        "id": "mMPjIuD2GIpI",
        "colab_type": "text"
      },
      "source": [
        "#### Bagging 이란?\n",
        "- Bootstrap Aggregating의 줄임말\n",
        "- 먼저 원래 데이터에 대해서 여러 개의 작은 데이터셋 N개를 샘플링해서 만든 다음, 각각의 데이터를 작은 모델 N개로 학습을 시킨다.\n",
        "- 그 다음 학습된 N개의 모델을 모두 하나로 합쳐서 최종적인 모델로 사용한다.\n",
        "- 병렬적으로 데이터를 나누어 여러 개의 모델을 동시에 학습시킴\n",
        "- 예시) Random Forest"
      ]
    },
    {
      "cell_type": "markdown",
      "metadata": {
        "id": "iqB656qNygjH",
        "colab_type": "text"
      },
      "source": [
        "### Boosting"
      ]
    },
    {
      "cell_type": "markdown",
      "metadata": {
        "id": "-o2Pttc0F22A",
        "colab_type": "text"
      },
      "source": [
        "> #### Boosting이란?  \n",
        "![123123](https://quantdare.com/wp-content/uploads/2016/04/bb3.png)\n",
        "- Bagging은 샘플을 여러 번 뽑아 각 모델을 학습시켜 결과를 집계(Aggregating) 하는 방법이다.\n",
        "- Boosting은 Bagging과 다르게 이전 모델의 오차를 고려하여 학습을 하는 Ensemble 모델이다!\n",
        "- 못 맞춘 데이터에 대해서만 순차적으로 학습시켜서 여러개의 모델을 학습함. 그래서 bagging에 비해서 상대적으로 속도가 많이 느리다. 그 전 모델의 학습이 끝나야 다음 모델학습이 가능하기 때문."
      ]
    },
    {
      "cell_type": "markdown",
      "metadata": {
        "id": "bbK5_CuiZtyx",
        "colab_type": "text"
      },
      "source": [
        "#### Gradient Boosting이란???"
      ]
    },
    {
      "cell_type": "markdown",
      "metadata": {
        "id": "KfhLo9TPZxvU",
        "colab_type": "text"
      },
      "source": [
        "- Gradient Boosting은 residual fitting이다!\n",
        "- Gradient Boosting은 최적의 파라미터 탐색 과정이(Gradient Descent) 함수 공간에서 이루어진다. 그래서 loss function을 파라미터가 현재까지 학습된 모델 함수로 미분한다.\n",
        "- 이때 미분되는 기울기는 Negative gradient인데 pseudo-residual이라고도 불리며, 이것은 어떤 데이터 포인트에서 loss function이 줄어들기 위해 f(x)가 가려고하는 방향이다.\n",
        "- 이 방향에 새로운 모델을 fitting해서 이것을 이전 모델과 결합하면, f(x) 는 loss function이 줄어드는 방향으로 업데이트한다!\n",
        "$$f_{i+1} = f_{i} - \\rho \\frac{\\partial{J}}{\\partial{f_{i}}}$$"
      ]
    },
    {
      "cell_type": "markdown",
      "metadata": {
        "id": "flscTqiHZxgl",
        "colab_type": "text"
      },
      "source": [
        "- ![](https://t1.daumcdn.net/cfile/tistory/99A9FC375C46C0201B)\n",
        "- 위 그림을 보시면 tree 1을 통해 예측하고 남은 잔차를 tree2를 통해 예측하고, 이를 반복함으로서 점점 잔차를 줄여나가는 것을 볼 수 있다. 이 때, 각각의 모델 tree1,2,3 을 weak learner, 이를 결합한 분류기를 strong learner라고 한다.\n",
        "- 보통 약한 분류기로는 간단한 의사결정나무 (decision tree)를 많이 사용합니다. 이를 Gradient boosting tree라고도 한다.\n"
      ]
    },
    {
      "cell_type": "markdown",
      "metadata": {
        "id": "-EK-RY0opSNX",
        "colab_type": "text"
      },
      "source": [
        "#### Hyperparameter Tuning"
      ]
    },
    {
      "cell_type": "markdown",
      "metadata": {
        "id": "uouKdNy2n-8_",
        "colab_type": "text"
      },
      "source": [
        "- 사실 대부분 boosting 모델들이 parameter tuning을 하는 이유는 tree의 다형성과 overfitting 문제를 해결하기 위함이다.\n",
        "- Catboost 는 기본 파라미터가 기본적으로 최적화가 잘 되어있어서 parameter tuning에 크게 신경쓰지 않아도 됨\n",
        "- 반면 Xgboost나 LightGBM은 parameter tuning에 매우 민감하다.\n",
        "- Catboost 는 이를 내부적인 알고리즘으로 해결하고 있어서 parameter tuning을 할 필요가 없는 것이다. 굳이 한다면 learning_rate, random_strength, L2_regulariser 과 같은 parameter tuning인데, 결과는 큰 차이가 없다고 한다.\n",
        "\n"
      ]
    },
    {
      "cell_type": "markdown",
      "metadata": {
        "id": "-EQ8ppMDpvHh",
        "colab_type": "text"
      },
      "source": [
        "\n",
        "- [참고 사이트](http://machinelearningkorea.com/2019/09/29/lightgbm-%ED%8C%8C%EB%9D%BC%EB%AF%B8%ED%84%B0/)\n",
        " <br>\n",
        "- max_depth[default=6]\n",
        " - 트리의 최대 깊이를 정의하는 parameter(DT에서 배웠음)\n",
        "- min_child_weight[default=1]\n",
        " - Overfitting을 컨트롤하는 파라미터로, 값이 높아지면, underfitting되는 경우가 있어 CV를 통해 튜닝되어야 함.\n",
        "- gamma[default=0]\n",
        " - 노드가 split되게 위한 loss function의 값이 감소하는 최소 값을 정의함. 값이 높아질수록 알고리즘은 보수적으로 변하고, loss function의 정의에 따라 적정값이 달라져 **반드시 튜닝되어야 한다**\n",
        "- subsample\n",
        " - 각 트리마다의 관측 데이터 샘플링 비율. 값을 적게 주면 over-fitting을 방지하지만 값을 너무 작게 주면 under-fitting(일반적으로 0.5~1).\n",
        "- colsample_bytree\n",
        " - 각 트리마다의 feature 샘플링 비율.\n"
      ]
    },
    {
      "cell_type": "code",
      "metadata": {
        "id": "mNg2pZuEqOeC",
        "colab_type": "code",
        "colab": {}
      },
      "source": [
        "## best parameter 찾는 예시 (밑에 GridsearchCV에도 같은 코드가 있음)\n",
        "# 우선 부차적인 parameter 찾아주고\n",
        "cb = CatBoostClassifier(\n",
        " learning_rate =0.1,\n",
        " iterations=100 #n-estimator대신 iteration을 사용,\n",
        ")\n",
        "\n",
        "cb_params_1 = {\n",
        "    'depth' : [3,5,7],\n",
        "    'random_strength' : [1,3],\n",
        "    'bagging_temperature' : [0,0.5,1],\n",
        "    'l2_leaf_reg' : [1,3,5,7],\n",
        "}\n",
        "cb_grid_1 = GridSearchCV(cb, param_grid=cb_params_1, scoring=my_scorer, cv=5, verbose=1)\n",
        "cb_grid_1.fit(train[features], train['Survived'])\n",
        "\n",
        "print(\"Best Score : {}\".format(cb_grid_1.best_score_))\n",
        "print(\"Best Params : {}\".format(cb_grid_1.best_params_))\n",
        "best_cb_model = cb_grid_1.best_estimator_\n",
        "\n",
        "# 최적의 core parameter 찾기\n",
        "cb_params_2 = {\n",
        "    'learning_rate' : [0.03, 0.07, 0.1],\n",
        "    'iterations' : [n for n in range(80,130,20)]\n",
        "}\n",
        "cb_grid_2 = GridSearchCV(best_cb_model, param_grid=cb_params_2, scoring=my_scorer, cv=5, verbose=1)\n",
        "cb_grid_2.fit(train[features], train['Survived'])\n",
        "\n",
        "print(\"Best Score : {}\".format(cb_grid_2.best_score_))\n",
        "print(\"Best Params : {}\".format(cb_grid_2.best_params_))\n",
        "best_cb_model = cb_grid_2.best_estimator_"
      ],
      "execution_count": 0,
      "outputs": []
    },
    {
      "cell_type": "markdown",
      "metadata": {
        "id": "tjMcvT33ymnI",
        "colab_type": "text"
      },
      "source": [
        "#### CatBoost\n",
        "- Catboost는 Category와 Boosting을 합쳐서 만들어진 이름이다. \n",
        "- 여기에서 Boost는 Gradient boosting machine learnin algorithm에서 온 말인데 Gradient boosting은 추천 시스템, 예측 등 다양한 분야에서 활용되어지는 강력한 방법.\n",
        "- Deep Learning과 달리 적은 데이터로도 좋은 결과를 얻을 수 있는 효율적인 방법이다.\n",
        "- Catboost에서는 categorical 변수를 사용자가 다른 작업을 하지 않아도 자동으로 이를 변환하여 사용한다. model fitting할 때 지정해야됨!!!\n",
        "- default parameters값으로 더 나은 성능\n",
        "- hyper-parmeter tuning을 하지 않더라도 기본적인 세팅으로도 좋은 결과를 얻을 수 있어 활용성이 뛰어나다. "
      ]
    },
    {
      "cell_type": "code",
      "metadata": {
        "id": "bun_kQGCo9uQ",
        "colab_type": "code",
        "colab": {}
      },
      "source": [
        "# CatBoost Regressor 예시\n",
        "from catboost import CatBoostRegressor\n",
        "train_data = pd.read_csv('train_data.csv', encdoing='euc-kr')\n",
        "test_data = pd.read_csv('test_data.csv', encdoing='euc-kr')\n",
        "cat_features = [0,1,2]\n",
        "train_labels = [10,20,30]\n",
        "\n",
        "model = CatBoostRegressor(iterations=2, learning_rate=1, depth=2)\n",
        "\n",
        "model.fit(train_data, train_labels, cat_features) # cat_features를 꼭 지정해줘야한다."
      ],
      "execution_count": 0,
      "outputs": []
    },
    {
      "cell_type": "code",
      "metadata": {
        "id": "sXRmy-mQo_9C",
        "colab_type": "code",
        "colab": {}
      },
      "source": [
        "# CatBoost Classifier 예시\n",
        "import catboost as cb\n",
        "cat_features_index = [0,1,2,3,4,5,6]\n",
        "\n",
        "def auc(m, train, test): \n",
        "    return (metrics.roc_auc_score(y_train,m.predict_proba(train)[:,1]),\n",
        "                            metrics.roc_auc_score(y_test,m.predict_proba(test)[:,1]))\n",
        "\n",
        "params = {'depth': [4, 7, 10],\n",
        "          'learning_rate' : [0.03, 0.1, 0.15],\n",
        "         'l2_leaf_reg': [1,4,9],\n",
        "         'iterations': [300]}\n",
        "cb = cb.CatBoostClassifier()\n",
        "cb_model = GridSearchCV(cb, params, scoring=\"roc_auc\", cv = 3)\n",
        "cb_model.fit(train, y_train)\n",
        "\n",
        "# With Categorical features\n",
        "clf = cb.CatBoostClassifier(eval_metric=\"AUC\", depth=10, iterations= 500, l2_leaf_reg= 9, learning_rate= 0.15)\n",
        "clf.fit(train,y_train)\n",
        "auc(clf, train, test)\n",
        "\n",
        "# With Categorical features\n",
        "clf = cb.CatBoostClassifier(eval_metric=\"AUC\",one_hot_max_size=31, \\\n",
        "                            depth=10, iterations= 500, l2_leaf_reg= 9, learning_rate= 0.15)\n",
        "clf.fit(train,y_train, cat_features= cat_features_index)\n",
        "auc(clf, train, test)"
      ],
      "execution_count": 0,
      "outputs": []
    },
    {
      "cell_type": "markdown",
      "metadata": {
        "id": "NY5w7x_6yqab",
        "colab_type": "text"
      },
      "source": [
        "#### Xgboost\n",
        "[Xgboost Hyperparameter](https://xgboost.readthedocs.io/en/latest/parameter.html)\n",
        "- XGBoost는 Gradient Boosting tree 알고리즘에서 유명하고 효율적인 오픈 소스 구현\n",
        "- Gradient Boosting은 더욱 단순하고 약한 모델 세트의 추정치의 ensemble을 결합하여 대상 변수를 정확하게 예측하려 시도하는 지도 학습 알고리즘\n",
        "- Null값 있어도 상관없는 모델!\n",
        "- categorical variables는 모두 one-hot encoding을 통해서 바꿔줘야 함!\n",
        "- `tree_method = 'gpu_hist'` hyperparameter에 이거 넣으면 계산속도 빨라짐!!!\n",
        "-  `n_jobs`: Number of parallel threads used to run xgboost."
      ]
    },
    {
      "cell_type": "code",
      "metadata": {
        "id": "MTtYgRztokxX",
        "colab_type": "code",
        "colab": {}
      },
      "source": [
        "## Xgboost Classifier\n",
        "from xgboost import XGBClassifier, plot_importance\n",
        "\n",
        "model = XGBClassifier()\n",
        "model.fit(X_train, y_train)\n",
        "\n",
        "model.predict(X_test)\n",
        "\n",
        "y_pred = model.predict(X_test)\n",
        "\n",
        "from sklearn.metrics import f1_score\n",
        "\n",
        "f1_score(y_test,y_pred, average='weighted')"
      ],
      "execution_count": 0,
      "outputs": []
    },
    {
      "cell_type": "code",
      "metadata": {
        "id": "p5F9hpbeop4V",
        "colab_type": "code",
        "colab": {}
      },
      "source": [
        "## Xgboost Plot importance\n",
        "# 코드1\n",
        "from xgboost import plot_importance\n",
        "\n",
        "model = xgb.XGBClassifier()\n",
        "model.fit(X, y)\n",
        "sorted_idx = np.argsort(model.feature_importances_)[::-1]\n",
        "for index in sorted_idx:\n",
        "    print([X.columns[index], model.feature_importances_[index]])\n",
        "\n",
        "# 코드2\n",
        "from xgboost import XGBClassifier, plot_importance\n",
        "model = XGBClassifier()\n",
        "model.fit(train, label)\n",
        "\n",
        "sorted_idx = np.argsort(model.feature_importances_)[::-1]\n",
        "\n",
        "for index in sorted_idx:\n",
        "    print([train.columns[index], model.feature_importances_[index]]) \n",
        "\n",
        "    plot_importance(model, max_num_features = 15)\n",
        "pyplot.show()"
      ],
      "execution_count": 0,
      "outputs": []
    },
    {
      "cell_type": "markdown",
      "metadata": {
        "id": "OXWSQuGTyqlO",
        "colab_type": "text"
      },
      "source": [
        "#### LightGBM\n",
        "- Tree based learning 알고리즘의 gradient boosting framework!\n",
        "- 작은 데이터셋 규모로 진행했을 때 overfitting될 가능성이 매우 높기 때문에 10,000 row 이상인 데이터셋에 적합하다.\n",
        "- Catboost와 마찬가지로 categorical \n",
        "- 일반적인 GBM 패키지와 다르게 LGBM은 leaf wise방식을 사용한다. 기존의 트리기반 알고리즘은 트리의 깊이를 줄이기 위해 level wise(균형 트리 분할)를 사용한다면 LGBM은 leaf wise(리프 중심 트리 분할)를 이용한다. 앞의 level wise는 트리를 균형적으로 분할하는데 균형작업이 추가로 들어간다고 보면 된다. LGBM은 균형적으로 트리를 분할하지 않는 대신 최대 손실값(max delta loss)을 갖는 트리 노드를 계속 분할한다. 이 때문에 비대칭적으로 어느 트리는 깊이가 아주 깊어지게 된다. 이 방식은 균형 트리 분할보다 오류를 최소화할 수 있다.\n",
        "![](https://user-images.githubusercontent.com/46089347/67144522-3479aa80-f2b2-11e9-9a17-1206005286f6.png)\n",
        "\n",
        "> 주요 hyper parameter\n",
        "- n_estimators : default=100, 반복하려는 트리의 갯수\n",
        "learning)rate : 0~1사이 값 지정. gradient descent에서 얼마나 움직일 것인지 설정한다. 간단히 학습률이라고 생각하면 된다.\n",
        "- max_depth : default=-1, 최대 깊이를 조절\n",
        "- min_child_samples : default=20, leaf node로 분류되기 위한 최소 데이터 수\n",
        "- num_leaves : default=31, one tree가 가잘 수 있는 leaf 갯수\n",
        "- boost : default=gbdt, gbdt는 gradient descent를 의미. rt는 random forest\n",
        "- reg_lambda : L2 규제 적용\n",
        "- leg_alpha : L1 규제\n"
      ]
    },
    {
      "cell_type": "markdown",
      "metadata": {
        "id": "vn-FHxW0qdj1",
        "colab_type": "text"
      },
      "source": [
        "기본적인 lightgbm 쓰는 방법"
      ]
    },
    {
      "cell_type": "code",
      "metadata": {
        "id": "W7QjBAlPqc2V",
        "colab_type": "code",
        "colab": {}
      },
      "source": [
        "import lightgbm as lgb\n",
        "from sklearn import metrics\n",
        "\n",
        "def auc2(m, train, test): \n",
        "    return (metrics.roc_auc_score(y_train,m.predict(train)),\n",
        "                            metrics.roc_auc_score(y_test,m.predict(test)))\n",
        "\n",
        "lg = lgb.LGBMClassifier(silent=False)\n",
        "param_dist = {\"max_depth\": [25,50, 75],\n",
        "              \"learning_rate\" : [0.01,0.05,0.1],\n",
        "              \"num_leaves\": [300,900,1200],\n",
        "              \"n_estimators\": [200]\n",
        "             }\n",
        "grid_search = GridSearchCV(lg, n_jobs=-1, param_grid=param_dist, cv = 3, scoring=\"roc_auc\", verbose=5)\n",
        "grid_search.fit(train,y_train)\n",
        "grid_search.best_estimator_\n",
        "\n",
        "d_train = lgb.Dataset(train, label=y_train)\n",
        "params = {\"max_depth\": 50, \"learning_rate\" : 0.1, \"num_leaves\": 900,  \"n_estimators\": 300}\n",
        "\n",
        "# Without Categorical Features\n",
        "model2 = lgb.train(params, d_train)\n",
        "auc2(model2, train, test)\n",
        "\n",
        "#With Catgeorical Features\n",
        "cate_features_name = [\"MONTH\",\"DAY\",\"DAY_OF_WEEK\",\"AIRLINE\",\"DESTINATION_AIRPORT\",\n",
        "                 \"ORIGIN_AIRPORT\"]\n",
        "model2 = lgb.train(params, d_train, categorical_feature = cate_features_name)\n",
        "auc2(model2, train, test)"
      ],
      "execution_count": 0,
      "outputs": []
    },
    {
      "cell_type": "markdown",
      "metadata": {
        "id": "CrvIqWElqhzM",
        "colab_type": "text"
      },
      "source": [
        "##### Kaggle_card_fraud_detection에서 썼던 코드"
      ]
    },
    {
      "cell_type": "markdown",
      "metadata": {
        "id": "nvetBrzeqwSe",
        "colab_type": "text"
      },
      "source": [
        "Google Drive 마운트"
      ]
    },
    {
      "cell_type": "code",
      "metadata": {
        "id": "ngNYjA_oqlqc",
        "colab_type": "code",
        "colab": {}
      },
      "source": [
        "from google.colab import drive\n",
        "drive.mount('/content/gdrive')"
      ],
      "execution_count": 0,
      "outputs": []
    },
    {
      "cell_type": "code",
      "metadata": {
        "id": "1LNwFrfKqlvB",
        "colab_type": "code",
        "colab": {}
      },
      "source": [
        "cd /content/gdrive/My \\Drive/"
      ],
      "execution_count": 0,
      "outputs": []
    },
    {
      "cell_type": "code",
      "metadata": {
        "id": "7U4B5Aj7qlzJ",
        "colab_type": "code",
        "colab": {}
      },
      "source": [
        "# 사용자에 맞게 바꾸기\n",
        "# cd Colab \\Notebooks/"
      ],
      "execution_count": 0,
      "outputs": []
    },
    {
      "cell_type": "markdown",
      "metadata": {
        "id": "cwz6n8Neql3P",
        "colab_type": "text"
      },
      "source": [
        "Google Colab 사용 시 설치법"
      ]
    },
    {
      "cell_type": "code",
      "metadata": {
        "id": "hg6Dx8llq3Yy",
        "colab_type": "code",
        "colab": {}
      },
      "source": [
        "!git clone --recursive https://github.com/Microsoft/LightGBM"
      ],
      "execution_count": 0,
      "outputs": []
    },
    {
      "cell_type": "code",
      "metadata": {
        "id": "M9Qpoodmq3dX",
        "colab_type": "code",
        "colab": {}
      },
      "source": [
        "%cd LightGBM/"
      ],
      "execution_count": 0,
      "outputs": []
    },
    {
      "cell_type": "code",
      "metadata": {
        "id": "UfRFrlYMq3hk",
        "colab_type": "code",
        "colab": {}
      },
      "source": [
        "!mkdir build"
      ],
      "execution_count": 0,
      "outputs": []
    },
    {
      "cell_type": "code",
      "metadata": {
        "id": "K88iB4L-q3lz",
        "colab_type": "code",
        "colab": {}
      },
      "source": [
        "!cmake -DUSE_GPU=1 #avoid ..\n",
        "!make -j$(nproc)"
      ],
      "execution_count": 0,
      "outputs": []
    },
    {
      "cell_type": "code",
      "metadata": {
        "id": "jbbgrNHBq3qH",
        "colab_type": "code",
        "colab": {}
      },
      "source": [
        "!sudo apt-get -y install python-pip"
      ],
      "execution_count": 0,
      "outputs": []
    },
    {
      "cell_type": "code",
      "metadata": {
        "id": "JqFs4VCwq3ua",
        "colab_type": "code",
        "colab": {}
      },
      "source": [
        "!sudo -H pip install setuptools pandas numpy scipy scikit-learn -U"
      ],
      "execution_count": 0,
      "outputs": []
    },
    {
      "cell_type": "code",
      "metadata": {
        "id": "kky8ZN9rq36g",
        "colab_type": "code",
        "colab": {}
      },
      "source": [
        "%cd python-package/"
      ],
      "execution_count": 0,
      "outputs": []
    },
    {
      "cell_type": "code",
      "metadata": {
        "id": "fpM7se7iq4Dw",
        "colab_type": "code",
        "colab": {}
      },
      "source": [
        "!sudo python setup.py install --precompile"
      ],
      "execution_count": 0,
      "outputs": []
    },
    {
      "cell_type": "code",
      "metadata": {
        "id": "iH-iFODEq4QG",
        "colab_type": "code",
        "colab": {}
      },
      "source": [
        "# lgbm 설치시 pandas에서 오류가 나 재설정한 부분(선택적)\n",
        "!pip install pandas==0.18.1"
      ],
      "execution_count": 0,
      "outputs": []
    },
    {
      "cell_type": "markdown",
      "metadata": {
        "id": "pjeBPFMOq4Zp",
        "colab_type": "text"
      },
      "source": [
        "LGBM 설치된 경로로 추가 설치과정 필요"
      ]
    },
    {
      "cell_type": "code",
      "metadata": {
        "id": "gXn1WmcLq4fZ",
        "colab_type": "code",
        "colab": {}
      },
      "source": [
        "cd /content/gdrive/My \\Drive/"
      ],
      "execution_count": 0,
      "outputs": []
    },
    {
      "cell_type": "code",
      "metadata": {
        "id": "Aspwch-Nq4XN",
        "colab_type": "code",
        "colab": {}
      },
      "source": [
        "# 사용자에 따른 선택적, 개별 드라이브 상황에 따라 경로 설정-> but LightGBM을 설치한 경로에 맞춰야 함\n",
        "cd 경로/"
      ],
      "execution_count": 0,
      "outputs": []
    },
    {
      "cell_type": "code",
      "metadata": {
        "id": "txuqad5Xq4Mj",
        "colab_type": "code",
        "colab": {}
      },
      "source": [
        "cd LightGBM"
      ],
      "execution_count": 0,
      "outputs": []
    },
    {
      "cell_type": "code",
      "metadata": {
        "id": "RIlNMtMVq4Jc",
        "colab_type": "code",
        "colab": {}
      },
      "source": [
        "cd python-package"
      ],
      "execution_count": 0,
      "outputs": []
    },
    {
      "cell_type": "code",
      "metadata": {
        "id": "pBxQZ340q4Au",
        "colab_type": "code",
        "colab": {}
      },
      "source": [
        "!sudo python setup.py install --precompile"
      ],
      "execution_count": 0,
      "outputs": []
    },
    {
      "cell_type": "markdown",
      "metadata": {
        "id": "k4Hvrlwsq33J",
        "colab_type": "text"
      },
      "source": [
        "분석을 위한 경로 재설정"
      ]
    },
    {
      "cell_type": "code",
      "metadata": {
        "id": "Nf1oQbkBrEWD",
        "colab_type": "code",
        "colab": {}
      },
      "source": [
        "from google.colab import drive\n",
        "drive.mount('/content/gdrive')"
      ],
      "execution_count": 0,
      "outputs": []
    },
    {
      "cell_type": "code",
      "metadata": {
        "id": "_lG-l4YirEff",
        "colab_type": "code",
        "colab": {}
      },
      "source": [
        "cd /content/gdrive/My \\Drive/"
      ],
      "execution_count": 0,
      "outputs": []
    },
    {
      "cell_type": "code",
      "metadata": {
        "id": "xOa1oUE0rEkJ",
        "colab_type": "code",
        "colab": {}
      },
      "source": [
        "# 사용자에 따른 선택적, 개별 드라이브 상황에 따라 경로 설정-> but LightGBM을 설치한 경로에 맞춰야 함\n",
        "cd 경로"
      ],
      "execution_count": 0,
      "outputs": []
    },
    {
      "cell_type": "markdown",
      "metadata": {
        "id": "XvDUnDimrEol",
        "colab_type": "text"
      },
      "source": [
        "기본 패키지 및 설정, 데이터 적재"
      ]
    },
    {
      "cell_type": "code",
      "metadata": {
        "id": "i3KSbDCKrEsy",
        "colab_type": "code",
        "colab": {}
      },
      "source": [
        "import pandas as pd\n",
        "import numpy as np\n",
        "from sklearn.model_selection import train_test_split\n",
        "\n",
        "pd.set_option('display.max_columns', None)"
      ],
      "execution_count": 0,
      "outputs": []
    },
    {
      "cell_type": "code",
      "metadata": {
        "id": "PSJXHLktrExZ",
        "colab_type": "code",
        "colab": {}
      },
      "source": [
        "train = pd.read_csv('final_train_merged.csv')    # 맞는 데이터 적재하기\n",
        "test = pd.read_csv('final_test_merged.csv')    # 맞는 데이터 적재하기"
      ],
      "execution_count": 0,
      "outputs": []
    },
    {
      "cell_type": "code",
      "metadata": {
        "id": "WErXw01frE1l",
        "colab_type": "code",
        "colab": {}
      },
      "source": [
        "# test에 고객 아이디가 없어서 아이디 있는 파일 중 아무거나 가져옴. \n",
        "# test용 고객 아이디 있는 데이터면 수정해도 무방\n",
        "tt = pd.read_csv('pca_test_all_c_fraud.csv')"
      ],
      "execution_count": 0,
      "outputs": []
    },
    {
      "cell_type": "code",
      "metadata": {
        "id": "Hvi4MMEyq3z8",
        "colab_type": "code",
        "colab": {}
      },
      "source": [
        "del train['addr1_na']\n",
        "del test['addr1_na']\n",
        "\n",
        "del train['Unnamed: 0']\n",
        "del test['Unnamed: 0']"
      ],
      "execution_count": 0,
      "outputs": []
    },
    {
      "cell_type": "code",
      "metadata": {
        "id": "nhiGTioHrMU4",
        "colab_type": "code",
        "colab": {}
      },
      "source": [
        "X = train.iloc[:, 1:].values\n",
        "y = train.iloc[:, 0].values\n",
        "\n",
        "X_test = test.values"
      ],
      "execution_count": 0,
      "outputs": []
    },
    {
      "cell_type": "code",
      "metadata": {
        "id": "OTdamFplrMbv",
        "colab_type": "code",
        "colab": {}
      },
      "source": [
        "print(X.shape, y.shape)"
      ],
      "execution_count": 0,
      "outputs": []
    },
    {
      "cell_type": "code",
      "metadata": {
        "id": "79ZZmRQ_rMj2",
        "colab_type": "code",
        "colab": {}
      },
      "source": [
        "X_train, X_valid, y_train, y_valid = train_test_split(X, y, test_size=0.25)"
      ],
      "execution_count": 0,
      "outputs": []
    },
    {
      "cell_type": "markdown",
      "metadata": {
        "id": "m6B1M9RvrMoK",
        "colab_type": "text"
      },
      "source": [
        "LGBM 모델 사용"
      ]
    },
    {
      "cell_type": "code",
      "metadata": {
        "id": "RXJ3aQfcrMrx",
        "colab_type": "code",
        "colab": {}
      },
      "source": [
        "import lightgbm as lgb\n",
        "import matplotlib.pyplot as plt\n",
        "from sklearn.model_selection import PredefinedSplit\n",
        "from sklearn.model_selection import GridSearchCV, ParameterGrid\n",
        "from sklearn.metrics import (roc_curve, auc, accuracy_score)\n",
        "from sklearn.metrics import roc_auc_score"
      ],
      "execution_count": 0,
      "outputs": []
    },
    {
      "cell_type": "code",
      "metadata": {
        "id": "GBiuqzdDrMwE",
        "colab_type": "code",
        "colab": {}
      },
      "source": [
        "params = {\n",
        "    'task': 'train',\n",
        "    'boosting_type': 'gbdt',\n",
        "    'objective': 'binary',\n",
        "    'metric': {'binary_logloss', 'auc'},\n",
        "    'metric_freq': 1,\n",
        "    'is_training_metric': True,\n",
        "    'max_bin': 255,\n",
        "    'learning_rate': 0.01,\n",
        "    'num_leaves': 63,\n",
        "    'tree_learner': 'serial',\n",
        "    'feature_fraction': 0.8,\n",
        "    'bagging_fraction': 0.8,\n",
        "    'bagging_freq': 5,\n",
        "    'min_data_in_leaf': 50,\n",
        "    'min_sum_hessian_in_leaf': 5,\n",
        "    'is_enable_sparse': True,\n",
        "    'use_two_round_loading': False,\n",
        "    'is_save_binary_file': False,\n",
        "    'output_model': 'LightGBM_model.txt',\n",
        "    'num_machines': 1,\n",
        "    'local_listen_port': 12400,\n",
        "    'machine_list_file': 'mlist.txt',\n",
        "    'verbose': 0,\n",
        "    'subsample_for_bin': 200000,\n",
        "    'min_child_samples': 20,\n",
        "    'min_child_weight': 0.001,\n",
        "    'min_split_gain': 0.0,\n",
        "    'colsample_bytree': 1.0,\n",
        "    'reg_alpha': 0.0,\n",
        "    'reg_lambda': 0.0\n",
        "}"
      ],
      "execution_count": 0,
      "outputs": []
    },
    {
      "cell_type": "code",
      "metadata": {
        "id": "F4ajsl13rM0H",
        "colab_type": "code",
        "colab": {}
      },
      "source": [
        "lgb_train = lgb.Dataset(X_train, y_train)\n",
        "lgb_eval = lgb.Dataset(X_valid, y_valid, reference=lgb_train)"
      ],
      "execution_count": 0,
      "outputs": []
    },
    {
      "cell_type": "code",
      "metadata": {
        "id": "mgqIB8ZFrM5T",
        "colab_type": "code",
        "colab": {}
      },
      "source": [
        "model = lgb.train(params, lgb_train, 2500, lgb_eval, verbose_eval=10,  early_stopping_rounds=100)"
      ],
      "execution_count": 0,
      "outputs": []
    },
    {
      "cell_type": "code",
      "metadata": {
        "id": "TzxObaWgrM84",
        "colab_type": "code",
        "colab": {}
      },
      "source": [
        "y_valid_pred = model.predict(X_valid)\n",
        "roc_auc_score(y_valid, y_valid_pred)"
      ],
      "execution_count": 0,
      "outputs": []
    },
    {
      "cell_type": "code",
      "metadata": {
        "id": "p7kMm2crrMhl",
        "colab_type": "code",
        "colab": {}
      },
      "source": [
        "prediction = model.predict(X_test)"
      ],
      "execution_count": 0,
      "outputs": []
    },
    {
      "cell_type": "markdown",
      "metadata": {
        "id": "dVmXelhErTme",
        "colab_type": "text"
      },
      "source": [
        "제출용 csv 만들기"
      ]
    },
    {
      "cell_type": "code",
      "metadata": {
        "id": "CA5-ZDj-rTsC",
        "colab_type": "code",
        "colab": {}
      },
      "source": [
        "tt['isFraud'] = prediction"
      ],
      "execution_count": 0,
      "outputs": []
    },
    {
      "cell_type": "code",
      "metadata": {
        "id": "JeRyCvCErTwW",
        "colab_type": "code",
        "colab": {}
      },
      "source": [
        "tt2 = tt[['TransactionID', 'isFraud']]"
      ],
      "execution_count": 0,
      "outputs": []
    },
    {
      "cell_type": "code",
      "metadata": {
        "id": "9RQwYkT2rT0k",
        "colab_type": "code",
        "colab": {}
      },
      "source": [
        "tt2.to_csv('lgbm_git_.csv', index=False)"
      ],
      "execution_count": 0,
      "outputs": []
    },
    {
      "cell_type": "markdown",
      "metadata": {
        "id": "5Kt66CjqyzCz",
        "colab_type": "text"
      },
      "source": [
        "# 4. Unsupervised Learning"
      ]
    },
    {
      "cell_type": "markdown",
      "metadata": {
        "id": "Bb4x7qwly1BF",
        "colab_type": "text"
      },
      "source": [
        "## Dimensionality reduction"
      ]
    },
    {
      "cell_type": "markdown",
      "metadata": {
        "id": "wKJA1Xz6hsW1",
        "colab_type": "text"
      },
      "source": [
        "### Dimensinality Reduction이란....?\n",
        "- 차원의 저주를 해결하기 위해 feature를 줄여주는 과정.\n",
        "- 차원 축소는 지도 학습의 준비단계라고 할 수 있다. \n",
        "- Feature를 줄이면 속도는 빨라지지만, 정보가 줄어들기 때문에 약간의 성능 저하가 있을 수 있어서 차원 축소를 하기 전에 먼저 Original data를 training 시켜보는 것을 추천!\n",
        "- 모델을 학습시키기 전에 train data의 차원을 감소시키면 학습 속도는 빨라지지만 모델의 성능은 항상 더 낫거나 간단한 모델이 되는 것은 아니다. 이것은 데이터셋이 어떠한 모양을 하고 있느냐에 따라 달라진다.\n",
        "- 사람들은 2차원까지만 생각할 수 있기 때문에 데이터 시각화에도 유용하다.\n",
        "- 차원 축소는 대표적으로 ```PCA```와 ```LLE```가 있다.\n",
        "\n",
        "### Curse of Dimensionality<br>\n",
        "- 차원이 커지면 커질수록 데이터 간의 거리가 멀어진다. 그래서 그래프 상으로 보게 되면 엄청 떨어져 있는 모습을 볼 수 있다. \n",
        "- 이 상태로 모델을 돌리면 overfitting 될 가능성이 크다. \n",
        "- Overfitting을 해결하는 첫번째 방법은 feature만큼 row를 늘려줘서 density를 올려주는 방법이 있는데, 이는 row가 너무 많아질 가능성이 있기 때문에 좋은 방법은 아니다. 그래서 가장 많이 사용하는 방법은 Projection과 Manifold 방식이다. \n",
        "\n",
        "![123123](https://img1.daumcdn.net/thumb/R1280x0/?scode=mtistory2&fname=http%3A%2F%2Fcfile1.uf.tistory.com%2Fimage%2F99FF9F335B8A484A31820B)\n"
      ]
    },
    {
      "cell_type": "markdown",
      "metadata": {
        "id": "cUv7EQZOhveI",
        "colab_type": "text"
      },
      "source": [
        "\n",
        "### PCA란?\n",
        "- PCA(Principal Component Analysis)는 주성분 분석이라고도 하며 고차원 데이터 집합이 주어졌을 때 원래의 고차원 데이터와 가장 비슷하면서 더 낮은 차원 데이터를 찾아내는 방법\n",
        "- 차원축소 방법이다. 최적의 초평면을 찾고, 그 다음에 data를 그 초평면에 projection 시켜주는 방식이다. \n",
        "\n",
        "\n",
        "### 분산보존\n",
        "- 최적의 lower-dimension hyperplane을 찾는 기준 중 하나는 분산보존이다. \n",
        "- PCA는 데이터의 분산이 최대가 되는 축을 찾는다. \n",
        "- 즉, 원본 데이터셋과 투영된 데이터셋 간의 평균제곱거리를 최소화 하는 축을 찾는 것이다. \n",
        "- 밑에 그림을 보면 C1을 축으로 한 데이터의 분산이 가장 잘 보존되어 있는걸 볼 수 있다.\n",
        "![123123](https://img1.daumcdn.net/thumb/R1280x0/?scode=mtistory2&fname=http%3A%2F%2Fcfile28.uf.tistory.com%2Fimage%2F99AC093E5B8A4904213CC3)\n",
        "\n",
        "\n",
        "## PCA 단계\n",
        "PCA는 다음과 같은 단계로 이루어진다. \n",
        "1. 학습 데이터셋에서 분산이 최대인 축(axis)을 찾는다. \n",
        "2. 이렇게 찾은 첫번째 축과 직교(orthogonal)하면서 분산이 최대인 두 번째 축을 찾는다.\n",
        "3. 첫 번째 축과 두 번째 축에 직교하고 분산을 최대한 보존하는 세 번째 축을 찾는다.\n",
        "4. 1~3과 같은 방법으로 데이터셋의 차원(특성 수)만큼의 축을 찾는다.\n",
        "PC의 방향은 항상 일정하지 않다. train set을 살짝 조정해서 PCA를 실행시키면, 새로운 PC가 원래의 PC랑 반대에 있을 가능성이 있다. 그러나 축이나 평면은 같다.\n",
        "![123123](https://img1.daumcdn.net/thumb/R1280x0/?scode=mtistory2&fname=http%3A%2F%2Fcfile6.uf.tistory.com%2Fimage%2F996F65335B8A493207D19B)\n",
        "- PC를 찾을 때 Singular Value Decomposition(SVD)를 사용해서 원래의 training set matrix를 3개의 matrices로 분해시켜준다.\n",
        "<br>\n",
        "- PCA는 dataset이 origin 주변으로 center 되어있다고 가정한다.\n",
        "- Scikit-learn에서는 이 부분을 자동으로 만들어주지만, 아닐 경우 이 부분에 대해 고려해주어야 한다!\n",
        "\n",
        "### PCA for compression\n",
        "- PCA를 통해 없어진 변수는 다시 살릴 수 있다. \n",
        "- 그러나 원래 데이터와 완전 똑같이 복원할 순 없다!ㅠ.ㅠ\n",
        "- Original과 Recover 된 데이터 사이의 mean square distance를 reconstruction error라고 부른다.\n",
        "<br>\n",
        "<br>\n",
        "\n",
        "## PCA 종류\n",
        "### Randomized PCA\n",
        "- Stochastic algorithm을 사용하는 PCA 방법\n",
        "- scikit_learn에서 hyperparameter 중에서 svd_solver를 'randomzied'로 설정하면 된다.\n",
        "- Randomized PCA를 사용하면 처음 d개의 주성분을 대략적으로 찾을 수 있다. \n",
        "- d가 n개보다 훨씬 적게 되면 매우 빠른 성능을 볼 수 있다. 이 함수에 'auto'로 설정하면 n 값이 500개 이상이고 d 값이 n 값의 80%보다 적으면 자동으로 randomized로 진행되고, 그 외에는 full svd가 진행된다. \n",
        "\n",
        "### Incremental PCA (IPCA)\n",
        "- IPCA는 train data를 mini-batch로 나눈 뒤 IPCA 알고리즘에 하나의 mini-batch를 input으로 넣어준다.\n",
        "- 모든 train data를 memory에 fit 시켜줘야한다는 PCA의 문제를 해결해줌!\n",
        "- IPCA는 학습 데이터셋이 클때 유용하다.\n",
        "\n",
        "### Kernel PCA (KPCA)\n",
        "- non-linear 투영을 사용해서 차원을 축소하는 방법\n",
        "- SVM에서 데이터를 저차원에서 선형 고차원으로 mapping 시켜 비선형 데이터셋에 SVM을 적용시키는 방식이라 생각하면 됨!\n",
        "- 이 방식은 projection 후 데이터들의 cluster를 유지시키는데 좋고, unrolling dataset에도 사용 가능하다. (twisted manifold와 매우 비슷) \n",
        "- KPCA는 unsupervised learning이기 때문에 어떤 hyperparameter와 어떤 kernel이 best인지 명확하게 알 수 없지만 GridSearch를 이용할 수 있다!\n",
        "- KernelPCA에서도 inverse로 원래 데이터 형태로 돌릴 수 있다. \n",
        "\n",
        "<br>\n",
        "\n",
        "## 메소드 모음\n",
        "- **PCA ( n_components = 정수 )** : 기본 사용방법\n",
        "- **.fit_transform()**: 특정행렬을 낮은 차원의 근사행렬로 변환\n",
        "- **.inverse_transform()**: 변환된 근사행렬을 원래의 차원으로 복귀\n",
        "- **.mean_**: 데이터의 평균값을 반환\n",
        "- **.components_**: 단위기저벡터를 반환\n",
        "- **.explained_variance_ratio**: 각 주성분 축에 몇 %의 분산이 보존되어있는지 보여줌\n",
        "- **.inverse_transform()**: 압축했던 data를 다시 예전 차원으로 복원\n"
      ]
    },
    {
      "cell_type": "code",
      "metadata": {
        "id": "w_3jYnJqkF08",
        "colab_type": "code",
        "colab": {}
      },
      "source": [
        "## 분산으로도 적절한 차원의 수를 구할 수 있음\n",
        "from tensorflow.keras.datasets import mnist\n",
        "​\n",
        "# MNIST load\n",
        "(train_x, train_y), (test_x, test_y) = mnist.load_data()\n",
        "​\n",
        "# reshape\n",
        "train_x = train_x.reshape(-1, 28*28) \n",
        "​\n",
        "pca = PCA(n_components=0.95)\n",
        "X_reduced = pca.fit_transform(train_x)  # PCA 계산 후 투영\n",
        "\n",
        "print('선택한 차원(픽셀) 수 :', pca.n_components_)\n",
        "\n",
        "pca = PCA(n_components=0.95)\n",
        "X_reduced = pca.fit_transform(train_x)\n",
        "print('선택한 차원(픽셀) 수 :', pca.n_components_)"
      ],
      "execution_count": 0,
      "outputs": []
    },
    {
      "cell_type": "code",
      "metadata": {
        "id": "Jw3oLq-ckGY2",
        "colab_type": "code",
        "colab": {}
      },
      "source": [
        "## Scikit learn으로 간단하게 구하기\n",
        "# 적절한 차원의 개수 구하기\n",
        "from sklearn.decomposition import PCA\n",
        "pca = PCA(n_components=3)\n",
        "pca.fit(X)\n",
        "\n",
        "print('singular value :', pca.singular_values_)\n",
        "print('singular vector :\\n', pca.components_.T)\n",
        "\n",
        "print('eigen_value :', pca.explained_variance_)\n",
        "print('explained variance ratio :', pca.explained_variance_ratio_)\n",
        "\n",
        "cumsum = np.cumsum(pca.explained_variance_ratio_)\n",
        "d = np.argmax(cumsum >= 0.95) + 1\n",
        "print('선택할 차원 수 :', d)"
      ],
      "execution_count": 0,
      "outputs": []
    },
    {
      "cell_type": "code",
      "metadata": {
        "id": "DPgBWpc4kGfY",
        "colab_type": "code",
        "colab": {}
      },
      "source": [
        "## 다양한 차원축소법들 예제\n",
        "# KPCA 예제\n",
        "from sklearn.datasets import make_swiss_roll\n",
        "X, t = make_swiss_roll(n_samples=1000, noise=0.2, random_state=42) \n",
        "\n",
        "# KernelPCA 예제\n",
        "from sklearn.decomposition import KernelPCA\n",
        "rbf_pca = KernelPCA(n_components = 2, kernel=\"rbf\", gamma=0.04)\n",
        "X_reduced = rbf_pca.fit_transform(X)\n",
        "\n",
        "# MDS 예제\n",
        "from sklearn.manifold import MDS\n",
        "mds = MDS(n_components=2, random_state=42)\n",
        "X_reduced_mds = mds.fit_transform(X)\n",
        "\n",
        "# Isomap 예제\n",
        "from sklearn.manifold import Isomap\n",
        "isomap = Isomap(n_components=2)\n",
        "X_reduced_isomap = isomap.fit_transform(X)\n",
        "\n",
        "# TSNE 예제\n",
        "from sklearn.manifold import TSNE\n",
        "tsne = TSNE(n_components=2, random_state=42)\n",
        "X_reduced_tsne = tsne.fit_transform(X)"
      ],
      "execution_count": 0,
      "outputs": []
    },
    {
      "cell_type": "markdown",
      "metadata": {
        "id": "b_0h1642y2nI",
        "colab_type": "text"
      },
      "source": [
        "## Clustering"
      ]
    },
    {
      "cell_type": "markdown",
      "metadata": {
        "id": "PZdmhewVhldP",
        "colab_type": "text"
      },
      "source": [
        "### Clustering이란....?\n",
        "\n",
        "- 대표적인 비지도학습. 집단이 주어지지 않은 데이터에 군집을 부여해주는 것\n",
        "- 군집 내의 분산을 최소화하고 군집 간의 분산을 최대한 유사한 개체로 묶어주는 것!\n",
        "- 방법은 크게 5개  \n",
        "`K-means clustering /Hierarchical clustering/ DBSCAN / Gaussian Muxture model (GMM) / KNN clustering`"
      ]
    },
    {
      "cell_type": "markdown",
      "metadata": {
        "id": "wGGUGYR9y4LI",
        "colab_type": "text"
      },
      "source": [
        "### K-means clustering"
      ]
    },
    {
      "cell_type": "markdown",
      "metadata": {
        "id": "I-0IYbgCg2-m",
        "colab_type": "text"
      },
      "source": [
        "- Centroid 방식을 활용하여 주어진 갯수에 맞게 군집을 나눠준다.\n",
        "- 각 cluster와의 유클리디안 거리 차이들을 구하고 그 값들의 분산을 최소화하는 방식\n",
        "- K-means의 한계\n",
        " 1. sub-optimal solution을 피하기 위해 여러번 시행해야 함\n",
        " 2. Cluster 갯수를 직접 지정해야 하며, Outlier에 취약하다 (유클리디안 거리여서)\n",
        " 3. Varying sizes, Different densities, Non-spherical shapes의 경우에 성능이 좋지 않다.\n",
        "\n",
        "> K-Means Algorithm \n",
        "1. 데이터 집합의 Objects 중에서 설정한 Cluster의 개수인 k개의 Centroid를 임으로 선택한다.  \n",
        "2. 집합 속의 모든 Objects와 앞서 선택한 Centroid와의 거리를 각각 구하고, 가장 가까운 Centroid가 속하는 Cluster에 Objects를 할당한다.  \n",
        "3. 같은 Cluster로 할당된 Objects들의 중심점을 찾고, 그 점을 새로운 Centroid로 설정한다.  \n",
        "4. Centroid의 변화가 없을 때까지 2-3 과정을 반복한다.\n",
        "\n",
        "> K-means++ Algorithm   \n",
        "1. 첫 initial point c1을 임의로 선택한다.  \n",
        "2. 이후의 initial point ct는 이전에 선택한 ct-1과의 거리인 d(ct-1, ct)가 큰 점이 높은 확률로 선택되도록 샘플링 확률 분포를 다음과 같이 조절하고, 이 분포에 따라 하나의 점을 선택한다.\n",
        "3. k 개의 initial points를 선택할 때까지 step 2를 반복한다.\n",
        "샘플링 확률 분포를 사용함에 따라 ct는 이전에 선택한 점 ct-1과 거리가 먼 점일 가능성이 높다. 한 가지 단점이 있다면, ct-1과 ct+1이 비슷할 수도 있다. (※Ball cut이라는 방법으로 해결 가능.)\n",
        "\n",
        "> 성능평가\n",
        " - K-means는 inertia 값으로 성능을 평가한다.\n",
        " - inertia는 K-Means Clustering으로 계산된 SSE 값\n",
        " - kmeans.inertia_ 을 통해 값을 구할 수 있으며, 작을수록 좋다.\n",
        " - kmeans.score(X) 를 통해서도 성능 파악이 가능한데, 이 값은 inertia의 음의 값이다. (일반적으로 클수록 좋다는 **\"greater is better\"** rule 때문에 사용된다.)\n",
        "\n",
        " > k개의 적절한 군집 수 찾는 방법\n",
        " 1. Rule of thumb </b>  \n",
        "가장 간단한 방법으로, 데이터의 수가 n이라고 할 때, 필요한 Cluster의 수는 다음과 같이 계산할 수 있다.  \n",
        "$$k ≈ \\sqrt{n / 2}$$\n",
        " 2. Elbow method <br>\n",
        "Cluster의 수를 순차적으로 늘려가면서 결과를 모니터링 한다. 만약 하나의 클러스터를 추가했을 때, 이전보다 훨씬 더 나은 결과를 나타내지 않는다면, 이전의 클러스터의 수를 구하고자 하는 클러스터의 수로 결정한다.  <br>\n",
        " <br>\n",
        " 3. Silhouette Method  \n",
        "  - Clustering의 품질을 정량적으로 계산해주는 방법이다. i번째 데이터 x(i)에 대한 실루엣 계수 s(i) 값은 아래의 식으로 정의 <br>\n",
        " ![silhouette formula](https://static.packt-cdn.com/products/9781788996402/graphics/739fcde8-e95d-4ab2-a2f2-f3fc804a8872.png) <br>\n",
        "  - a(i)는 Cluster 내부의 데이터 응집도(cohesion)를 나타내는 값으로, x(i)와 동일한 Cluster 내의 나머지 데이터들과의 평균거리이다.\n",
        "  - b(i)는 Cluster 간의 분리도(separation)를 나타내는 값으로, 데이터 x(i)와 가장 가까운 클러스터 내의 모든 데이터들과의 평균거리이다.\n",
        "  - 실루엣 계수 값은 1에 가까울 수록 최적화된 Clustering이다.\n"
      ]
    },
    {
      "cell_type": "code",
      "metadata": {
        "id": "StUbiWNhg-Zs",
        "colab_type": "code",
        "colab": {}
      },
      "source": [
        "# K-means in image segmentation 예시\n",
        "img = plt.imread('./img/img_seg_1.jpg')\n",
        "\n",
        "X = img.reshape(-1,3)\n",
        "\n",
        "segmented_imgs = []\n",
        "n_colors = (20, 15, 10, 5, 3)\n",
        "for n_clusters in n_colors:\n",
        "    kmeans = KMeans(n_clusters=n_clusters, random_state=42).fit(X)\n",
        "    segmented_img = kmeans.cluster_centers_[kmeans.labels_]\n",
        "    segmented_imgs.append(segmented_img.reshape(img.shape))\n",
        "    \n",
        "    \n",
        "plt.figure(figsize=(10,8))\n",
        "plt.subplots_adjust(wspace=0.05, hspace=0.1)\n",
        "\n",
        "plt.subplot(231)\n",
        "plt.imshow(img)\n",
        "plt.title(\"Original image\")\n",
        "plt.axis('off')\n",
        "\n",
        "for idx, n_clusters in enumerate(n_colors):\n",
        "    plt.subplot(232 + idx)\n",
        "    plt.imshow(segmented_imgs[idx])\n",
        "    plt.title(\"{} colors\".format(n_clusters))\n",
        "    plt.axis('off')\n",
        "    \n",
        "plt.show()"
      ],
      "execution_count": 0,
      "outputs": []
    },
    {
      "cell_type": "code",
      "metadata": {
        "id": "v86PdPAdg-kR",
        "colab_type": "code",
        "colab": {}
      },
      "source": [
        "# Silhouette 분석 예시\n",
        "from __future__ import print_function\n",
        "\n",
        "from sklearn.datasets import make_blobs\n",
        "from sklearn.cluster import KMeans\n",
        "from sklearn.metrics import silhouette_samples, silhouette_score\n",
        "\n",
        "import matplotlib.pyplot as plt\n",
        "import matplotlib.cm as cm\n",
        "import numpy as np\n",
        "\n",
        "X, y = make_blobs(n_samples = 500, n_features = 2, centers = 4, cluster_std = 1.0,\n",
        "                  center_box = (-10.0, 10.0), shuffle = True, random_state = 1)\n",
        "\n",
        "range_n_clusters = [2, 3, 4, 5, 6]\n",
        "\n",
        "for n_clusters in range_n_clusters:\n",
        "    fig, (ax1, ax2) = plt. subplots(1, 2)\n",
        "    fig.set_size_inches(18, 7)\n",
        "    \n",
        "    ax1.set_xlim([-0.1, 1]) # 실루엣 계수 범위 지정\n",
        "    ax1.set_ylim([0, len(X) + (n_clusters+1) * 10]) # 실루엣 클러스터 사이의 공간 만들기\n",
        "    \n",
        "    kmeans__ = KMeans(n_clusters = n_clusters, random_state = 10)\n",
        "    kmeans__labels = kmeans__.fit_predict(X)\n",
        "    \n",
        "    silhouette_avg = silhouette_score(X, kmeans__labels)\n",
        "    print(\"For n_clusters =\", n_clusters, \"The average silhouette_score is :\", silhouette_avg)\n",
        "    \n",
        "    sample_silhouette_values = silhouette_samples(X, kmeans__labels)\n",
        "    \n",
        "    y_lower = 10\n",
        "    \n",
        "    for i in range(n_clusters):\n",
        "        ith_cluster_silhouette_values = \\\n",
        "            sample_silhouette_values[kmeans__labels == i]\n",
        "            \n",
        "        ith_cluster_silhouette_values.sort()\n",
        "            \n",
        "        size_cluster_i = ith_cluster_silhouette_values.shape[0]\n",
        "        y_upper = y_lower + size_cluster_i\n",
        "            \n",
        "        color = cm.nipy_spectral(float(i) / n_clusters)\n",
        "        ax1.fill_betweenx(np.arange(y_lower, y_upper),\n",
        "                          0, ith_cluster_silhouette_values,\n",
        "                          facecolor=color, edgecolor=color, alpha=0.7)\n",
        "\n",
        "        ax1.text(-0.05, y_lower + 0.5 * size_cluster_i, str(i)) # silhouette plots 각각 label 붙이기\n",
        "\n",
        "        y_lower = y_upper + 10  # 다음 plot을 그리기위해 y_lower 새로 갱신\n",
        "        \n",
        "    ax1.set_title(\"The silhouette plot for the various clusters.\")\n",
        "    ax1.set_xlabel(\"The silhouette coefficient values\")\n",
        "    ax1.set_ylabel(\"Cluster label\")\n",
        "    \n",
        "    ax1.axvline(x = silhouette_avg, color = \"r\", linestyle=\"--\") # silhouette score 평균값 그리기\n",
        "    \n",
        "\n",
        "    # Cluster 보여주기 (2nd plot)\n",
        "    colors = cm.nipy_spectral(kmeans__labels.astype(float) / n_clusters)\n",
        "    ax2.scatter(X[:, 0], X[:, 1], marker='.', s=30, lw=0, alpha=0.7,\n",
        "                c=colors, edgecolor='k')\n",
        "\n",
        "    kmeans__centers = kmeans__.cluster_centers_ # cluster labeling\n",
        "    ax2.scatter(kmeans__centers[:, 0], kmeans__centers[:, 1], marker='o',\n",
        "                c=\"white\", alpha=1, s=200, edgecolor='k') # centroid circle design\n",
        "\n",
        "    for i, c in enumerate(kmeans__centers):\n",
        "        ax2.scatter(c[0], c[1], marker='$%d$' % i, alpha=1,\n",
        "                    s=50, edgecolor='k')\n",
        "\n",
        "    ax2.set_title(\"The visualization of the clustered data.\")\n",
        "    ax2.set_xlabel(\"Feature space for the 1st feature\")\n",
        "    ax2.set_ylabel(\"Feature space for the 2nd feature\")\n",
        "\n",
        "    plt.suptitle((\"Silhouette analysis for KMeans clustering on sample data \"\n",
        "                  \"with n_clusters = %d\" % n_clusters),\n",
        "                 fontsize=14, fontweight='bold')\n",
        "\n",
        "    plt.show()\n",
        "    "
      ],
      "execution_count": 0,
      "outputs": []
    },
    {
      "cell_type": "code",
      "metadata": {
        "id": "l5R9OHf1g-3B",
        "colab_type": "code",
        "colab": {}
      },
      "source": [
        "# Elbow 예시\n",
        "X, y = make_blobs(n_samples = 150, n_features = 2, centers = 3, cluster_std= 0.50, shuffle = True, random_state=0)\n",
        "\n",
        "def elbow(X):\n",
        "    sse = []\n",
        "    for i in range(1,11):\n",
        "        kmeans_elbow = KMeans(n_clusters = i, init = 'k-means++', random_state = 0)\n",
        "        kmeans_elbow.fit(X)\n",
        "        sse.append(kmeans_elbow.inertia_)\n",
        "        \n",
        "    plt.plot(range(1,11), sse, 'o-')\n",
        "    plt.xlabel('Number of Clusters')\n",
        "    plt.ylabel('SSE(inertia)')\n",
        "    plt.xticks(np.arange(11))\n",
        "    \n",
        "    plt.show()\n",
        "\n",
        "elbow(X)"
      ],
      "execution_count": 0,
      "outputs": []
    },
    {
      "cell_type": "code",
      "metadata": {
        "id": "qsQJZOzVg-8E",
        "colab_type": "code",
        "colab": {}
      },
      "source": [
        "# Kmeans 예시 (random, k-means ++)\n",
        "from sklearn.cluster import KMeans\n",
        "\n",
        "X, y = make_blobs(n_samples = 1000, centers = 4, cluster_std= 0.60, random_state=0)\n",
        "\n",
        "k = 6\n",
        "kmeans_random = KMeans(n_clusters = k, init = 'random', max_iter = 3)\n",
        "kmeans_plus = KMeans(n_clusters = k, init = 'k-means++', max_iter = 3)\n",
        "kmeans_random.fit(X)\n",
        "kmeans_plus.fit(X)"
      ],
      "execution_count": 0,
      "outputs": []
    },
    {
      "cell_type": "code",
      "metadata": {
        "id": "RIc5Usg-g-_-",
        "colab_type": "code",
        "colab": {}
      },
      "source": [
        "# 성능평가 예시\n",
        "print(\"inertia = {:5.2f}, score = {:5.2f}\".format(kmeans.inertia_, kmeans.score(X)))"
      ],
      "execution_count": 0,
      "outputs": []
    },
    {
      "cell_type": "code",
      "metadata": {
        "id": "BrGlJVzrg_Di",
        "colab_type": "code",
        "colab": {}
      },
      "source": [
        "# Kmeans 예시1\n",
        "from sklearn.cluster import KMeans\n",
        "import numpy as np\n",
        "X = np.array([[1, 2], [1, 4], [1, 0],\n",
        "               [10, 2], [10, 4], [10, 0]])\n",
        "\n",
        "kmeans = KMeans(n_clusters=2, random_state=0).fit(X)  # 2개의 cluster로 나눠라\n",
        "\n",
        "kmeans.labels_    # 각 데이터에 대한 클러스터 결과물\n",
        "# array([1, 1, 1, 0, 0, 0], dtype=int32)\n",
        "\n",
        "kmeans.predict([[0, 0], [12, 3]])\n",
        "# array([1, 0], dtype=int32)\n",
        "\n",
        "kmeans.cluster_centers_\n",
        "#array([[10.,  2.], [ 1.,  2.]])"
      ],
      "execution_count": 0,
      "outputs": []
    },
    {
      "cell_type": "code",
      "metadata": {
        "id": "zwYBaKX5hMGs",
        "colab_type": "code",
        "colab": {}
      },
      "source": [
        "# Kmeans 예시2\n",
        "import pandas as pd\n",
        "from sklearn.cluster import KMeans\n",
        "\n",
        "df = pd.DataFrame([\n",
        "        [2, 1],\n",
        "        [3, 2],\n",
        "        [3, 4],\n",
        "        [5, 5],\n",
        "        [7, 5],\n",
        "        [2, 5],\n",
        "        [8, 9],\n",
        "        [9, 10],\n",
        "        [6, 12]\n",
        "    ], columns=['hour', 'attendance'])\n",
        "\n",
        "model = KMeans(n_clusters=3)\n",
        "\n",
        "model.fit(df)\n",
        "\n",
        "y_predict = model.fit_predict(df)\n",
        "print(y_predict) \n",
        "#[0 0 0 2 2 0 1 1 1]\n",
        "\n",
        "df['cluster'] = y_predict\n",
        "print(df)\n",
        "'''\n",
        "   hour  attendance  cluster\n",
        "0     2           1        0\n",
        "1     3           2        0\n",
        "2     3           4        0\n",
        "3     5           5        2\n",
        "4     7           5        2\n",
        "5     2           5        0\n",
        "6     8           9        1\n",
        "7     9          10        1\n",
        "8     6          12        1\n",
        "'''"
      ],
      "execution_count": 0,
      "outputs": []
    },
    {
      "cell_type": "markdown",
      "metadata": {
        "id": "SAAHvcqYy4PZ",
        "colab_type": "text"
      },
      "source": [
        "### Hierarchical clustering"
      ]
    },
    {
      "cell_type": "markdown",
      "metadata": {
        "id": "Qhk0YecehMLv",
        "colab_type": "text"
      },
      "source": [
        "- Connectivity method를 활용하여 Bottom-Up 방식으로 덴드로그램을 그려주고 거기서 주관에 의해서 적절한 군집 갯수를 찾는 방식. 큰 데이터에는 적용하기 힘들다.\n",
        "- [거리측정 방식](https://datascienceschool.net/view-notebook/094bcb7b86574711a2e8d81f26bce2f5/)"
      ]
    },
    {
      "cell_type": "code",
      "metadata": {
        "id": "WCNTHwbxhMQS",
        "colab_type": "code",
        "colab": {}
      },
      "source": [
        "# Hierarchical clustering 예시1 (by.sklearn)\n",
        "from sklearn.cluster import AgglomerativeClustering\n",
        "\n",
        "cluster = AgglomerativeClustering(n_clusters=2, affinity='euclidean', linkage='ward')\n",
        "cluster.fit_predict(X)\n",
        "\n",
        "print(cluster.labels_)"
      ],
      "execution_count": 0,
      "outputs": []
    },
    {
      "cell_type": "code",
      "metadata": {
        "id": "bdj_3hPvhMTn",
        "colab_type": "code",
        "colab": {}
      },
      "source": [
        "# Hierarchical clustering 예시2 (실제 data로 응용하는 법)\n",
        "import scipy.cluster.hierarchy as shc\n",
        "data = customer_data.iloc[:, 3:5].values    # iloc 의미, 전체 row와 3~4번째 column의 값을 nparray 형식으로 반환\n",
        "\n",
        "plt.figure(figsize=(10, 7))\n",
        "plt.title(\"Customer Dendograms\")\n",
        "dend = shc.dendrogram(shc.linkage(data, method='ward'))    # dendrogram에서 적정 군집 수를 파악하고\n",
        "\n",
        "from sklearn.cluster import AgglomerativeClustering\n",
        "cluster = AgglomerativeClustering(n_clusters=5, affinity='euclidean', linkage='ward')    # 그 군집 수를 적용시켜줌\n",
        "cluster.fit_predict(data)\n",
        "\n",
        "print(cluster.labels_)\n",
        "\n",
        "# scatter plot 그리기\n",
        "plt.figure(figsize=(10, 7))\n",
        "plt.scatter(data[:,0], data[:,1], c=cluster.labels_, cmap='rainbow')"
      ],
      "execution_count": 0,
      "outputs": []
    },
    {
      "cell_type": "code",
      "metadata": {
        "id": "gQ97q4hWhVf0",
        "colab_type": "code",
        "colab": {}
      },
      "source": [
        "# Hierarchical clustering 예시3\n",
        "linked = linkage(X, 'single')\n",
        "\n",
        "labelList = range(1, 11)\n",
        "\n",
        "plt.figure(figsize=(10, 7))\n",
        "dendrogram(linked,\n",
        "            orientation='top',\n",
        "            labels=labelList,\n",
        "            distance_sort='descending',\n",
        "            show_leaf_counts=True)\n",
        "plt.show()"
      ],
      "execution_count": 0,
      "outputs": []
    },
    {
      "cell_type": "markdown",
      "metadata": {
        "id": "DvZ5Q-fky4TV",
        "colab_type": "text"
      },
      "source": [
        "### DBSCAN"
      ]
    },
    {
      "cell_type": "markdown",
      "metadata": {
        "id": "C9Qq6IrzhXTe",
        "colab_type": "text"
      },
      "source": [
        "- Density-Based Spatial Clustering of Applications with Noise  \n",
        ": 밀도 기반의 클러스터링으로 점이 세밀하게 몰려 있는 것을 기준으로 Clustering을 하는 방법  \n",
        ": 어느 한 점을 기준으로 일정 반경 이내의 점들을 하나의 Cluster로 인식한다.\n",
        ": perdict() 기능이 없어서 예측을 위해서는 `KNeightborsClassifier`를 사용\n",
        "\n",
        "> DBSCAN Algorithm\n",
        "1. 한 점 P를 기준으로 ε(eps) 반경 내에 점이 지정한 개수(minPts) 이상이 있으면 해당 점 P를 Core Point라고 한다.\n",
        "2. 앞의 점 P를 Core Point로 하는 Cluster에 속하는 P'중에서 ε(eps) 반경 내에 점이 지정한 개수(minPts)보다 작으면 Border Point라고 한다.\n",
        "3. 이 외에 ε(eps) 반경을 만족하는 범위에 어떠한 점도 포함하지 않는 점 P\"을 Noise Point라고 한다.\n",
        "4. Core Point와 Border Point와 같이 ε(eps) 반경 내에 서로의 군집에 Points가 속하는 경우에 하나의 Cluster로 할당한다.\n",
        "\n",
        "> DBSCAN의 장점\n",
        "1. Cluster 개수를 지정하지 않아도 적절한 Cluster를 찾아준다.\n",
        "2. 불특정한 모양 분포를 Clustering 할 수 있다. (Density-based)\n",
        "3. Outlier를 Noise Point로 분류하여 Clustering 성능을 좋게 한다.\n",
        "\n",
        "> DBSCAN의 단점\n",
        "1. 입력하는 parameter 값에 따라, 다른 Clustering 결과를 보인다. \n",
        "2. 데이터 특성을 모를 경우에 hyper-parameter를 설정하기 어렵다. \n",
        "3. Computational Complexity가 Linearithmic Time( O(m log m) )을 따르는데, eps 값이 커짐에 따라 Quadratic Time( O(m2) )을 따르게 되어 복잡도가 증가한다.\n",
        "\n",
        "> DBSCAN in `python`\n",
        "- scikit-learn의 cluster 서브 패키지는 DBSCAN Clustering을 위한 DBSCAN Class를 제공한다.\n",
        "``` python\n",
        "DBSCAN (eps=0.5, min_samples=5, metric=’euclidean’, metric_params=None, algorithm=’auto’, leaf_size=30, p=None, n_jobs=None)\n",
        "```\n",
        "주요 parameter\n",
        " 1. eps: ε(epsilon)으로 samples 사이의 maximum distance로 Core Point를 지정하기 위한 최대 반경. \n",
        " 2. min_samples: Core Point를 기준으로 eps 반경 안에 속하는 samples의 개수.\n",
        "\n",
        "> 주요 메소드\n",
        " 1. .labels_ : sample이 지정된 Cluster를 확인. (labeling 이 '-1'로 된 것은 알고리즘에서 anomaly로 지정된 것이다.) \n",
        " 2. .core_sample_indices_ : core point로 지정된 것들의 index를 확인. (len()으로 core points 총 개수 확인 가능) \n",
        " 3. .components_ : core point의 좌표 확인."
      ]
    },
    {
      "cell_type": "code",
      "metadata": {
        "id": "Ohr5DwKohXdN",
        "colab_type": "code",
        "colab": {}
      },
      "source": [
        "# DBSCAN 예시\n",
        "from sklearn.datasets import make_moons\n",
        "\n",
        "X, y = make_moons(n_samples = 1000, noise = .05, random_state = 0)\n",
        "\n",
        "from sklearn.cluster import DBSCAN\n",
        "\n",
        "dbscan = DBSCAN(eps = 0.08, min_samples = 5)\n",
        "dbscan.fit(X)\n",
        "\n",
        "np.unique(dbscan.labels_)\n",
        "```\n",
        "# array([-1,  0,  1], dtype=int64)\n",
        "```\n",
        "\n",
        "dbscan.core_sample_indices_[:10]\n",
        "```\n",
        "# array([0, 1, 2, 3, 4, 5, 6, 7, 8, 9], dtype=int64)\n",
        "```\n",
        "\n",
        "dbscan.components_[:10]\n",
        "```\n",
        "# array([[ 2.02100097,  0.49017924],\n",
        "        [ 1.6782009 , -0.20198687],\n",
        "        [-0.28224484,  0.85878484],\n",
        "        [-0.02143996,  0.17628146],\n",
        "        [ 0.50484202, -0.3910431 ],\n",
        "        [ 1.96953895,  0.36005521],\n",
        "        [ 0.95659588,  0.2536649 ],\n",
        "        [ 0.0948788 ,  0.98337847],\n",
        "        [-0.4416603 ,  0.87203428],\n",
        "        [ 0.70751638, -0.5126737 ]])\n",
        "````\n",
        "\n",
        "## Classifier 예시\n",
        "from sklearn.neighbors import KNeighborsClassifier\n",
        "\n",
        "knn = KNeighborsClassifier(n_neighbors = 50)\n",
        "knn.fit(dbscan.components_, dbscan.labels_[dbscan.core_sample_indices_])\n",
        "\n",
        "# 새로운 데이터 샘플을 임의로 설정\n",
        "X_new = np.array([[-0.5,0], [0,0.5], [1, -0.1], [2,1]])\n",
        "knn.predict(X_new)\n",
        "\n",
        "knn.predict_proba(X_new)\n",
        "```\n",
        "# array([[0.2 , 0.8 ],\n",
        "        [1.  , 0.  ],\n",
        "        [0.18, 0.82],\n",
        "        [1.  , 0.  ]])\n",
        "```\n",
        "\n",
        "core_mask = np.zeros_like(dbscan.labels_, dtype = bool)\n",
        "core_mask[dbscan.core_sample_indices_] = True\n",
        "noise_mask = dbscan.labels_ == -1\n",
        "border_mask = ~(core_mask | noise_mask)\n",
        "\n",
        "cores = dbscan.components_\n",
        "noise = X[noise_mask]\n",
        "border = X[border_mask]\n",
        "\n",
        "plt.scatter(cores[:,0], cores[:,1], s = 10, c = dbscan.labels_[core_mask])\n",
        "plt.scatter(noise[:,0], noise[:,1], c = 'r', marker = 'x', s= 30)\n",
        "plt.scatter(border[:,0], border[:,1], c = 'b', marker = '*', s = 30)\n",
        "\n",
        "plt.title(\"eps = 0.08, min_samples = 5\")\n",
        "\n",
        "# 새로 생성한 데이터를 추가\n",
        "plt.scatter(X_new[:,0], X_new[:,1], c= \"k\", marker = \"+\", s = 400, zorder = 999)\n",
        "\n",
        "y_dist, y_pred_idx = knn.kneighbors(X_new, n_neighbors=1)\n",
        "y_pred = dbscan.labels_[dbscan.core_sample_indices_][y_pred_idx]\n",
        "y_pred[y_dist > 0.2] = -1\n",
        "y_pred.ravel()"
      ],
      "execution_count": 0,
      "outputs": []
    },
    {
      "cell_type": "code",
      "metadata": {
        "id": "8uM2bgz0hbD-",
        "colab_type": "code",
        "colab": {}
      },
      "source": [
        "# DBSCAN을 적용한 scatter plot\n",
        "core_mask = np.zeros_like(dbscan.labels_, dtype = bool)\n",
        "core_mask[dbscan.core_sample_indices_] = True\n",
        "noise_mask = dbscan.labels_ == -1\n",
        "border_mask = ~(core_mask | noise_mask)\n",
        "\n",
        "cores = dbscan.components_\n",
        "noise = X[noise_mask]\n",
        "border = X[border_mask]\n",
        "\n",
        "plt.scatter(cores[:,0], cores[:,1], s = 10, c = dbscan.labels_[core_mask])\n",
        "plt.scatter(noise[:,0], noise[:,1], c = 'r', marker = 'x', s= 30)\n",
        "plt.scatter(border[:,0], border[:,1], c = 'b', marker = '*', s = 30)\n",
        "\n",
        "plt.title(\"eps = 0.08, min_samples = 5\")"
      ],
      "execution_count": 0,
      "outputs": []
    },
    {
      "cell_type": "markdown",
      "metadata": {
        "id": "3p0Lc8RFy4XJ",
        "colab_type": "text"
      },
      "source": [
        "### Gaussian Mixture model (GMM)"
      ]
    },
    {
      "cell_type": "markdown",
      "metadata": {
        "id": "SlQ8kqj4hchX",
        "colab_type": "text"
      },
      "source": [
        "- Mixture Model이란, 전체 분포에서 하위 분포가 존재한다고 가정하는 모델이다.\n",
        "- 데이터가 모수를 가지는 여러 개의 분포로부터 합쳐진 형태라는 것이다.\n",
        "- 즉, Gaussian Mixture Model은 합쳐진 여러 개의 분포가 Gaussian Distribution의 형태인 것을 말한다."
      ]
    },
    {
      "cell_type": "code",
      "metadata": {
        "id": "PfrtHrMahclu",
        "colab_type": "code",
        "colab": {}
      },
      "source": [
        "## GMM 예시\n",
        "# 분포 만들어주기\n",
        "import pandas as pd\n",
        "import numpy as np\n",
        "import matplotlib.pyplot as plt\n",
        "\n",
        "%matplotlib inline\n",
        "\n",
        "dist1 = np.random.normal(-0.5, 0.2, 2000)\n",
        "dist2 = np.random.normal(-0.1, 0.07, 5000)\n",
        "dist3 = np.random.normal(0.2, 0.13, 10000)\n",
        "\n",
        "df1 = pd.DataFrame(dist1)\n",
        "df2 = pd.DataFrame(dist2)\n",
        "df3 = pd.DataFrame(dist3)\n",
        "df_merged = pd.concat([df1, df2, df3], ignore_index = True)\n",
        "\n",
        "df_merged_weights = np.ones_like(df_merged.values)\n",
        "\n",
        "plt.hist(df_merged.values, bins = 80, weights = df_merged_weights, color = 'tomato')\n",
        "\n",
        "plt.xlim(-1.3, 1.0)\n",
        "plt.ylabel('counts')\n",
        "plt.legend(['Merged Distribution'], loc = \"upper left\")\n",
        "plt.show()\n",
        "\n",
        "# GMM 쓰기\n",
        "from sklearn.mixture import GaussianMixture\n",
        "gmm = GaussianMixture(n_components = 3, n_init = 10)\n",
        "gmm.fit(df_merged)\n",
        "\n",
        "gmm.weights_\n",
        "\n",
        "gmm.means_\n",
        "\n",
        "gmm.covariances_\n",
        "\n",
        "gmm.converged_\n",
        "\n",
        "gmm.n_iter_\n",
        "\n",
        "gmm.predict(df_merged)\n",
        "\n",
        "# GMM 적용 후 결과 plot으로 나타내기\n",
        "import scipy.stats as stats\n",
        "\n",
        "weights = gmm.weights_\n",
        "means = gmm.means_\n",
        "covars = gmm.covariances_\n",
        "\n",
        "# df_merged를 dataframe에서 array로 변환\n",
        "arr_merged = df_merged.values.flatten()\n",
        "\n",
        "# 데이터 범위 및 개수\n",
        "xx = np.linspace(min(arr_merged),max(arr_merged),17000)\n",
        "\n",
        "pdf_1 = stats.norm(loc = means[0], scale = np.sqrt(covars[0]))\n",
        "pdf_2 = stats.norm(loc = means[1], scale = np.sqrt(covars[1]))\n",
        "pdf_3 = stats.norm(loc = means[2], scale = np.sqrt(covars[2]))\n",
        "\n",
        "n, bins, patches = plt.hist(df_merged.values, bins = 50, normed=True, facecolor='tomato', alpha = .4)\n",
        "plt.plot(xx,weights[0]*pdf_1.pdf(xx)[0], c='green')\n",
        "plt.plot(xx,weights[1]*pdf_2.pdf(xx)[0], c='royalblue')\n",
        "plt.plot(xx,weights[2]*pdf_3.pdf(xx)[0], c='orange')\n",
        "\n",
        "plt.show()"
      ],
      "execution_count": 0,
      "outputs": []
    },
    {
      "cell_type": "markdown",
      "metadata": {
        "id": "Q4GE559ly4Zw",
        "colab_type": "text"
      },
      "source": [
        "### KNN clustering"
      ]
    },
    {
      "cell_type": "markdown",
      "metadata": {
        "id": "bf8mqYXLhfeo",
        "colab_type": "text"
      },
      "source": [
        "- 패턴 인식에서 분류나 회귀에 사용되는 비모수 방식이다. \n",
        "- 데이터의 지역 구조에 민감하다. 쉽게 구현이 되나 계산량이 많다.\n",
        "- 매우 일관성 있는 결과를 도출해낸다."
      ]
    },
    {
      "cell_type": "markdown",
      "metadata": {
        "id": "pozkZiGgzD8i",
        "colab_type": "text"
      },
      "source": [
        "# 5. 기타 ML에 필요한 기법들"
      ]
    },
    {
      "cell_type": "markdown",
      "metadata": {
        "id": "5ynxIB0azGk2",
        "colab_type": "text"
      },
      "source": [
        "## Sampling"
      ]
    },
    {
      "cell_type": "markdown",
      "metadata": {
        "id": "8bSyHQoRf7E7",
        "colab_type": "text"
      },
      "source": [
        "### Oversampling\n",
        " - RandomOverSampler: 소수 클래스의 데이터를 반복해서 넣는 방법\n",
        "``` python\n",
        "X_samp, y_samp = RandomOverSampler(random_state=0).fit_sample(X_imb, y_imb)\n",
        "```\n",
        " - ADASYN: 소수 클래스 데이터와 그 데이터에서 가장 가까운 k개의 소수 클래스 데이터 중 무작위로 선택된 데이터 사이의 직선상에 가상의 소수 클래스 데이터를 만드는 방법\n",
        "```python\n",
        "X_samp, y_samp = ADASYN(random_state=0).fit_sample(X_imb, y_imb)\n",
        "```\n",
        " - SMOTE: ADASYN 방법처럼 데이터를 생성하지만 생성된 데이터를 무조건 소수 클래스라고 하지 않고 분류 모형에 따라 분류한다.\n",
        "```python\n",
        "X_samp, y_samp = SMOTE(random_state=4).fit_sample(X_imb, y_imb)\n",
        "```\n",
        " - SMOTENC: SMOTE와 유사하나 categorical 변수도 sampling 시킬 수 있는 방법\n",
        "```python\n",
        "X_res, y_res = SMOTENC(random_state=42, categorical_features=[18, 19]).fit_resample(X, y)\n",
        "```\n",
        "\n",
        "\n",
        "\n",
        "\n",
        "### Undersampling\n",
        " - **RandomUnderSampler**: 무작위로 데이터를 없애는 단순 샘플링\n",
        "```python\n",
        "  X_samp, y_samp = RandomUnderSampler(random_state=0).fit_sample(X_imb, y_imb)\n",
        "```\n",
        " - **TomekLinks**: 토멕링크(클래스가 다른 두 데이터 중 아주 가까이 붙어있는 데이터)를 찾아서 그 중 다수 클래스에 속한 데이터를 제외하는 방법\n",
        "```python\n",
        "X_samp, y_samp = TomekLinks(random_state=0).fit_sample(X_imb, y_imb)\n",
        "```\n",
        " - **CondensedNearestNeighbour**: 1-NN 모형으로 분류되지 않는 데이터만 남기는 방법\n",
        "```python\n",
        "X_samp, y_samp = CondensedNearestNeighbour(random_state=0).fit_sample(X_imb, y_imb)\n",
        "```\n",
        " - **OneSidedSelection**: 토맥링크 중 다수 클래스를 제외하고 나머지 데이터 중에서도 서로 붙어있는 다수 클래스 데이터는 1-NN 방법으로 제외한다.\n",
        "```python\n",
        "X_samp, y_samp = OneSidedSelection(random_state=0).fit_sample(X_imb, y_imb)\n",
        "```\n",
        " - **EditedNearestNeighbours**: 다수 클래스 데이터 중 가장 가까운 k(n_neighbors)개의 데이터가 모두(kind_sel=\"all\") 또는 다수(kind_sel=\"mode\") 다수 클래스가 아니면 삭제하는 방법이다. 소수 클래스 주변의 다수 클래스 데이터는 사라진다.\n",
        "```python\n",
        "X_samp, y_samp = EditedNearestNeighbours(kind_sel=\"all\", n_neighbors=5, random_state=0).fit_sample(X_imb, y_imb)\n",
        "```\n",
        " - **NeighbourhoodCleaningRule**: CNN(Condensed Nearest Neighbour) 방법과 ENN(Edited Nearest Neighbours) 방법을 섞은 것이다.\n",
        "```python\n",
        "X_samp, y_samp = NeighbourhoodCleaningRule(kind_sel=\"all\", n_neighbors=5, random_state=0).fit_sample(X_imb, y_imb)\n",
        "```\n",
        "\n",
        "### 복합샘플링\n",
        " - SMOTEENN: SMOTE + ENN\n",
        "```python\n",
        "X_samp, y_samp = SMOTEENN(random_state=0).fit_sample(X_imb, y_imb)\n",
        "```\n",
        " - SMOTETomek: SMOTE + Tomek\n",
        "```python\n",
        "X_samp, y_samp = SMOTETomek(random_state=4).fit_sample(X_imb, y_imb)\n",
        "```\n",
        "\n"
      ]
    },
    {
      "cell_type": "code",
      "metadata": {
        "id": "GRlia5MwgC0M",
        "colab_type": "code",
        "colab": {}
      },
      "source": [
        "# SMOTE 코드\n",
        "from imblearn.over_sampling import SMOTE\n",
        "from sklearn.model_selection import train_test_split\n",
        "\n",
        "X_train, X_test, y_train, y_test = train_test_split(X, y, test_size=0.3, random_state=0)\n",
        "\n",
        "print(\"Number transactions X_train dataset: \", X_train.shape)\n",
        "print(\"Number transactions y_train dataset: \", y_train.shape)\n",
        "print(\"Number transactions X_test dataset: \", X_test.shape)\n",
        "print(\"Number transactions y_test dataset: \", y_test.shape)\n",
        "\n",
        "print(\"Before OverSampling, counts of label '1': {}\".format(sum(y_train==1)))\n",
        "print(\"Before OverSampling, counts of label '0': {} \\n\".format(sum(y_train==0)))\n",
        "\n",
        "sm = SMOTE(random_state=2)\n",
        "X_train_res, y_train_res = sm.fit_sample(X_train, y_train.ravel())\n",
        "\n",
        "print('After OverSampling, the shape of train_X: {}'.format(X_train_res.shape))\n",
        "print('After OverSampling, the shape of train_y: {} \\n'.format(y_train_res.shape))\n",
        "\n",
        "print(\"After OverSampling, counts of label '1': {}\".format(sum(y_train_res==1)))\n",
        "print(\"After OverSampling, counts of label '0': {}\".format(sum(y_train_res==0)))"
      ],
      "execution_count": 0,
      "outputs": []
    },
    {
      "cell_type": "code",
      "metadata": {
        "id": "0QcOhPSGgPBQ",
        "colab_type": "code",
        "colab": {}
      },
      "source": [
        "from imblearn.under_sampling"
      ],
      "execution_count": 0,
      "outputs": []
    },
    {
      "cell_type": "code",
      "metadata": {
        "id": "t6p0sjrwgQYT",
        "colab_type": "code",
        "colab": {}
      },
      "source": [
        "# sampling 코드 모음\n",
        "X_samp, y_samp = RandomOverSampler(random_state=0).fit_sample(X_imb, y_imb)\n",
        "X_samp, y_samp = ADASYN(random_state=0).fit_sample(X_imb, y_imb)\n",
        "X_samp, y_samp = SMOTE(random_state=4).fit_sample(X_imb, y_imb)\n",
        "X_samp, y_samp = SMOTENC(random_state=42, categorical_features=[18, 19]).fit_resample(X_imb, y_imb)\n",
        "X_samp, y_samp = RandomUnderSampler(random_state=0).fit_sample(X_imb, y_imb)\n",
        "X_samp, y_samp = TomekLinks(random_state=0).fit_sample(X_imb, y_imb)\n",
        "X_samp, y_samp = CondensedNearestNeighbour(random_state=0).fit_sample(X_imb, y_imb)\n",
        "X_samp, y_samp = OneSidedSelection(random_state=0).fit_sample(X_imb, y_imb)\n",
        "X_samp, y_samp = EditedNearestNeighbours(kind_sel=\"all\", n_neighbors=5, random_state=0).fit_sample(X_imb, y_imb)\n",
        "X_samp, y_samp = NeighbourhoodCleaningRule(kind_sel=\"all\", n_neighbors=5, random_state=0).fit_sample(X_imb, y_imb)\n",
        "X_samp, y_samp = SMOTEENN(random_state=0).fit_sample(X_imb, y_imb)\n",
        "X_samp, y_samp = SMOTETomek(random_state=4).fit_sample(X_imb, y_imb)"
      ],
      "execution_count": 0,
      "outputs": []
    },
    {
      "cell_type": "markdown",
      "metadata": {
        "id": "eWamjn8MzGqU",
        "colab_type": "text"
      },
      "source": [
        "## Scaling"
      ]
    },
    {
      "cell_type": "markdown",
      "metadata": {
        "id": "b8NsWiCbgnMs",
        "colab_type": "text"
      },
      "source": [
        "### Scaling이란.....\n",
        "- scaling을 통해서 다차원의 값들을 분석하기 쉽게 만들어주고 자료의 overflow, underflow를 방지할 수 있다! \n",
        "- 또한 최적화 과정에서의 안정성 및 수렴속도를 향상!\n",
        "- k-means 등 거리 기반의 모델에서는 scaling이 매우 중요하다\n",
        "\n",
        "### 종류\n",
        "- StandardScaler: 기본 스케일, 평균과 표준편차 사용\n",
        "- MinMaxScaler: 최대/최소값이 각각 1, 0이 되도록 하는 scaling\n",
        "- MaxAbsScaler: 최대절대값과 0이 각각 1, 0이 되도록 하는 scaling\n",
        "- RobustScaler: median과 IQR(interquartile range) 사용, outlier의 영향을 최소화한다."
      ]
    },
    {
      "cell_type": "code",
      "metadata": {
        "id": "Z79326mUgpi4",
        "colab_type": "code",
        "colab": {}
      },
      "source": [
        "# StandardScaler\n",
        "## 예제1\n",
        "from sklearn.preprocessing import StandardScaler\n",
        "standardScaler = StandardScaler()\n",
        "print(standardScaler.fit(train_data))\n",
        "train_data_standardScaled = standardScaler.transform(train_data)"
      ],
      "execution_count": 0,
      "outputs": []
    },
    {
      "cell_type": "code",
      "metadata": {
        "id": "ZVb8LBmggpuL",
        "colab_type": "code",
        "colab": {}
      },
      "source": [
        "# MinMaxscaler\n",
        "## 예제1\n",
        "from sklearn.preprocessing import MinMaxScaler\n",
        "minMaxScaler = MinMaxScaler()\n",
        "print(minMaxScaler.fit(train_data))\n",
        "train_data_minMaxScaled = minMaxScaler.transform(train_data)\n",
        "\n",
        "## 예시2\n",
        "minmax = MinMaxScaler()\n",
        "train_X_mm = minmax.fit_transform(train_X_nu)\n",
        "train_X_mm_df = pd.DataFrame(train_X_mm, columns=train_X_nu.columns, index=train_X_nu.index)\n",
        "train_X_fin = pd.concat([train_X_mm_df, train_X_ca], axis=1)\n",
        "train_X_fin.index = range(len(train_X))"
      ],
      "execution_count": 0,
      "outputs": []
    },
    {
      "cell_type": "code",
      "metadata": {
        "id": "eGffrhotgpxq",
        "colab_type": "code",
        "colab": {}
      },
      "source": [
        "# MaxAbsScaler\n",
        "from sklearn.preprocessing import MaxAbsScaler\n",
        "maxAbsScaler = MaxAbsScaler()\n",
        "print(maxAbsScaler.fit(train_data))\n",
        "train_data_maxAbsScaled = maxAbsScaler.transform(train_data)"
      ],
      "execution_count": 0,
      "outputs": []
    },
    {
      "cell_type": "code",
      "metadata": {
        "id": "K2bOyymRgp1m",
        "colab_type": "code",
        "colab": {}
      },
      "source": [
        "# RobustScaler\n",
        "from sklearn.preprocessing import RobustScaler\n",
        "robustScaler = RobustScaler()\n",
        "print(robustScaler.fit(train_data))\n",
        "train_data_robustScaled = robustScaler.transform(train_data)"
      ],
      "execution_count": 0,
      "outputs": []
    },
    {
      "cell_type": "markdown",
      "metadata": {
        "id": "WuuADgPUzGz6",
        "colab_type": "text"
      },
      "source": [
        "## GridsearchCV"
      ]
    },
    {
      "cell_type": "markdown",
      "metadata": {
        "id": "PXk9ZEWwfn-q",
        "colab_type": "text"
      },
      "source": [
        "### GridSearch란?\n",
        "- 모델의 hyperparameter를 찾는 것을 도와주는 친구\n",
        "\n",
        "### 메소드 모음\n",
        "- **GridSearchCV ( estimator = , param_grid = , scoring = , cv = , n_jobs = , verbose = )** : grid search 하기\n",
        "- **.best_scores_**: 최적의 score 점수를 보여줌\n",
        "- **.best_estimator_**: 최적의 parameter로 설정된 모델을 생성\n",
        "- **.best_params_**: 최적의 parameter를 반환\n",
        "- **.cv_results_**: 전체적인 결과값들을 보여줌"
      ]
    },
    {
      "cell_type": "code",
      "metadata": {
        "id": "CCyyEIHbfzEM",
        "colab_type": "code",
        "colab": {}
      },
      "source": [
        "## Catboost best parameter 찾는 과정\n",
        "# 우선 부차적인 parameter 찾아주고\n",
        "cb = CatBoostClassifier(\n",
        " learning_rate =0.1,\n",
        " iterations=100 #n-estimator대신 iteration을 사용,\n",
        ")\n",
        "\n",
        "cb_params_1 = {\n",
        "    'depth' : [3,5,7],\n",
        "    'random_strength' : [1,3],\n",
        "    'bagging_temperature' : [0,0.5,1],\n",
        "    'l2_leaf_reg' : [1,3,5,7],\n",
        "}\n",
        "cb_grid_1 = GridSearchCV(cb, param_grid=cb_params_1, scoring=my_scorer, cv=5, verbose=1)\n",
        "cb_grid_1.fit(train[features], train['Survived'])\n",
        "\n",
        "print(\"Best Score : {}\".format(cb_grid_1.best_score_))\n",
        "print(\"Best Params : {}\".format(cb_grid_1.best_params_))\n",
        "best_cb_model = cb_grid_1.best_estimator_\n",
        "\n",
        "# 최적의 core parameter 찾기\n",
        "cb_params_2 = {\n",
        "    'learning_rate' : [0.03, 0.07, 0.1],\n",
        "    'iterations' : [n for n in range(80,130,20)]\n",
        "}\n",
        "cb_grid_2 = GridSearchCV(best_cb_model, param_grid=cb_params_2, scoring=my_scorer, cv=5, verbose=1)\n",
        "cb_grid_2.fit(train[features], train['Survived'])\n",
        "\n",
        "print(\"Best Score : {}\".format(cb_grid_2.best_score_))\n",
        "print(\"Best Params : {}\".format(cb_grid_2.best_params_))\n",
        "best_cb_model = cb_grid_2.best_estimator_"
      ],
      "execution_count": 0,
      "outputs": []
    },
    {
      "cell_type": "code",
      "metadata": {
        "id": "e8b9wqkNqICy",
        "colab_type": "code",
        "colab": {}
      },
      "source": [
        "### Xgboost best parameter 찾기\n",
        "## 처음에는 부차적인 parameter를 tuning하기\n",
        "# GridSearchCV에 들어갈 param_grid, estimator, scoring 만들어주기\n",
        "from sklearn.metrics import make_scorer\n",
        "from sklearn.model_selection import GridSearchCV\n",
        "from sklearn.metrics import auc, f1_score, accuracy_score\n",
        "my_scorer = make_scorer(accuracy_score, greater_is_better = True)\n",
        "\n",
        "xgb1 = XGBClassifier(\n",
        " learning_rate =0.1,\n",
        " n_estimators=100,\n",
        ")\n",
        "\n",
        "xgb_params_1 = {\n",
        "    'max_depth' : [3,5,7],\n",
        "    'min_child_weight' : [0.5, 1],\n",
        "    'gamma' : [0, 0.1],\n",
        "    'subsample' : [0.5, 0.7, 0.9],\n",
        "    'colsample_bytree' : [0.5, 0.7, 0.9],\n",
        "} #3x2x2x3x3=108가지 경우의 수\n",
        "\n",
        "# GridSearchCV 돌리기\n",
        "xgb_grid_1 = GridSearchCV(estimator=xgb1, param_grid=xgb_params_1, \n",
        "                          scoring=my_scorer, cv=5, n_jobs=1, verbose=1)\n",
        "xgb_grid_1.fit(train[features], train['Survived']) # Titanic data\n",
        "\n",
        "# 제일 좋은 모델 뽑기\n",
        "print(\"Best Score : {}\".format(xgb_grid_1.best_score_))\n",
        "print(\"Best Params : {}\".format(xgb_grid_1.best_params_))\n",
        "\n",
        "# 표로 한 번 뽑아보고\n",
        "results = pd.DataFrame(xgb_grid_1.cv_results_)\n",
        "results = results.sort_values(by='mean_test_score', ascending=False)\n",
        "results.head()\n",
        "\n",
        "# 다시 Core parameter 설정!\n",
        "best_xgb_model = xgb_grid_1.best_estimator_\n",
        "xgb_params_2 = {\n",
        "    'learning_rate' : [0.01, 0.05, 0.07, 0.1, 0.2],\n",
        "    'n_estimators' : [n for n in range(100,200,20)]\n",
        "}\n",
        "xgb_grid_2 = GridSearchCV(best_xgb_model, param_grid=xgb_params_2, scoring=my_scorer, cv=5, verbose=1)\n",
        "xgb_grid_2.fit(train[features], train['Survived'])\n",
        "\n",
        "# 제일 좋은 모델 뽑기\n",
        "print(\"Best Score : {}\".format(xgb_grid_2.best_score_))\n",
        "print(\"Best Params : {}\".format(xgb_grid_2.best_params_))\n",
        "best_xgb_model = xgb_grid_2.best_estimator_"
      ],
      "execution_count": 0,
      "outputs": []
    },
    {
      "cell_type": "code",
      "metadata": {
        "id": "zxgJuSoFmJYg",
        "colab_type": "code",
        "outputId": "25740d42-32a8-4bf3-e55b-b07838b95f79",
        "colab": {
          "base_uri": "https://localhost:8080/",
          "height": 1000
        }
      },
      "source": [
        "# Linear regression, Ridge, Lasso 3개 중에서 10~49까지.\n",
        "\n",
        "def rmse(predictions, targets):\n",
        "    return np.sqrt(((predictions - targets) ** 2).mean())\n",
        "\n",
        "poly_range = list(range(10, 50))\n",
        "rmse_lr_list = []\n",
        "rmse_lasso_list = []\n",
        "rmse_ridge_list = []\n",
        "\n",
        "from sklearn.linear_model import Lasso\n",
        "from sklearn.linear_model import Ridge\n",
        "\n",
        "for poly_value in poly_range:\n",
        "    poly_features = PolynomialFeatures(degree=poly_value)\n",
        "    X_poly = poly_features.fit_transform(X)\n",
        "\n",
        "    lr = LinearRegression(fit_intercept=False)\n",
        "    lr.fit(X_poly,y)\n",
        "    rmse_lr_list.append(rmse(lr.predict(X_poly), y))\n",
        "\n",
        "    lasso = Lasso(fit_intercept=False)\n",
        "    lasso.fit(X_poly,y)\n",
        "    rmse_lasso_list.append(rmse(lasso.predict(X_poly), y))\n",
        "    \n",
        "    ridge = Ridge(fit_intercept=False)\n",
        "    ridge.fit(X_poly,y)\n",
        "    rmse_ridge_list.append(rmse(ridge.predict(X_poly), y))\n",
        "    \n",
        "import pandas as pd\n",
        "from pandas import DataFrame\n",
        "data = {\"poly_range\":poly_range, \"lr_rmse\":rmse_lr_list, \n",
        "        \"lasso_rmse\":rmse_lasso_list,\"ridge_rmse\":rmse_ridge_list}\n",
        "df = DataFrame(data).set_index(\"poly_range\")\n",
        "df"
      ],
      "execution_count": 0,
      "outputs": [
        {
          "output_type": "stream",
          "text": [
            "/usr/local/lib/python3.6/dist-packages/sklearn/linear_model/coordinate_descent.py:475: ConvergenceWarning: Objective did not converge. You might want to increase the number of iterations. Duality gap: 2434.0457508985533, tolerance: 0.5525671213541011\n",
            "  positive)\n",
            "/usr/local/lib/python3.6/dist-packages/sklearn/linear_model/coordinate_descent.py:475: ConvergenceWarning: Objective did not converge. You might want to increase the number of iterations. Duality gap: 2438.905066476105, tolerance: 0.5525671213541011\n",
            "  positive)\n",
            "/usr/local/lib/python3.6/dist-packages/sklearn/linear_model/ridge.py:147: LinAlgWarning: Ill-conditioned matrix (rcond=4.85543e-18): result may not be accurate.\n",
            "  overwrite_a=True).T\n",
            "/usr/local/lib/python3.6/dist-packages/sklearn/linear_model/coordinate_descent.py:475: ConvergenceWarning: Objective did not converge. You might want to increase the number of iterations. Duality gap: 2435.357638648013, tolerance: 0.5525671213541011\n",
            "  positive)\n",
            "/usr/local/lib/python3.6/dist-packages/sklearn/linear_model/ridge.py:147: LinAlgWarning: Ill-conditioned matrix (rcond=2.07148e-19): result may not be accurate.\n",
            "  overwrite_a=True).T\n",
            "/usr/local/lib/python3.6/dist-packages/sklearn/linear_model/coordinate_descent.py:475: ConvergenceWarning: Objective did not converge. You might want to increase the number of iterations. Duality gap: 2430.008120602205, tolerance: 0.5525671213541011\n",
            "  positive)\n",
            "/usr/local/lib/python3.6/dist-packages/sklearn/linear_model/ridge.py:147: LinAlgWarning: Ill-conditioned matrix (rcond=9.22947e-21): result may not be accurate.\n",
            "  overwrite_a=True).T\n",
            "/usr/local/lib/python3.6/dist-packages/sklearn/linear_model/coordinate_descent.py:475: ConvergenceWarning: Objective did not converge. You might want to increase the number of iterations. Duality gap: 2424.391012922622, tolerance: 0.5525671213541011\n",
            "  positive)\n",
            "/usr/local/lib/python3.6/dist-packages/sklearn/linear_model/ridge.py:147: LinAlgWarning: Ill-conditioned matrix (rcond=2.15421e-22): result may not be accurate.\n",
            "  overwrite_a=True).T\n",
            "/usr/local/lib/python3.6/dist-packages/sklearn/linear_model/coordinate_descent.py:475: ConvergenceWarning: Objective did not converge. You might want to increase the number of iterations. Duality gap: 2419.3100406483613, tolerance: 0.5525671213541011\n",
            "  positive)\n",
            "/usr/local/lib/python3.6/dist-packages/sklearn/linear_model/coordinate_descent.py:475: ConvergenceWarning: Objective did not converge. You might want to increase the number of iterations. Duality gap: 2415.1898412816104, tolerance: 0.5525671213541011\n",
            "  positive)\n",
            "/usr/local/lib/python3.6/dist-packages/sklearn/linear_model/coordinate_descent.py:475: ConvergenceWarning: Objective did not converge. You might want to increase the number of iterations. Duality gap: 2412.131485025354, tolerance: 0.5525671213541011\n",
            "  positive)\n",
            "/usr/local/lib/python3.6/dist-packages/sklearn/linear_model/coordinate_descent.py:475: ConvergenceWarning: Objective did not converge. You might want to increase the number of iterations. Duality gap: 2410.0600893188866, tolerance: 0.5525671213541011\n",
            "  positive)\n",
            "/usr/local/lib/python3.6/dist-packages/sklearn/linear_model/coordinate_descent.py:475: ConvergenceWarning: Objective did not converge. You might want to increase the number of iterations. Duality gap: 2408.7943908954753, tolerance: 0.5525671213541011\n",
            "  positive)\n",
            "/usr/local/lib/python3.6/dist-packages/sklearn/linear_model/coordinate_descent.py:475: ConvergenceWarning: Objective did not converge. You might want to increase the number of iterations. Duality gap: 2408.1200880225597, tolerance: 0.5525671213541011\n",
            "  positive)\n",
            "/usr/local/lib/python3.6/dist-packages/sklearn/linear_model/coordinate_descent.py:475: ConvergenceWarning: Objective did not converge. You might want to increase the number of iterations. Duality gap: 2407.8571343078593, tolerance: 0.5525671213541011\n",
            "  positive)\n",
            "/usr/local/lib/python3.6/dist-packages/sklearn/linear_model/coordinate_descent.py:475: ConvergenceWarning: Objective did not converge. You might want to increase the number of iterations. Duality gap: 2407.836263268413, tolerance: 0.5525671213541011\n",
            "  positive)\n",
            "/usr/local/lib/python3.6/dist-packages/sklearn/linear_model/coordinate_descent.py:475: ConvergenceWarning: Objective did not converge. You might want to increase the number of iterations. Duality gap: 2407.8980901398795, tolerance: 0.5525671213541011\n",
            "  positive)\n",
            "/usr/local/lib/python3.6/dist-packages/sklearn/linear_model/coordinate_descent.py:475: ConvergenceWarning: Objective did not converge. You might want to increase the number of iterations. Duality gap: 2407.8673822006986, tolerance: 0.5525671213541011\n",
            "  positive)\n",
            "/usr/local/lib/python3.6/dist-packages/sklearn/linear_model/coordinate_descent.py:475: ConvergenceWarning: Objective did not converge. You might want to increase the number of iterations. Duality gap: 2407.5737203388944, tolerance: 0.5525671213541011\n",
            "  positive)\n",
            "/usr/local/lib/python3.6/dist-packages/sklearn/linear_model/coordinate_descent.py:475: ConvergenceWarning: Objective did not converge. You might want to increase the number of iterations. Duality gap: 2406.84728833416, tolerance: 0.5525671213541011\n",
            "  positive)\n",
            "/usr/local/lib/python3.6/dist-packages/sklearn/linear_model/coordinate_descent.py:475: ConvergenceWarning: Objective did not converge. You might want to increase the number of iterations. Duality gap: 2405.534053942979, tolerance: 0.5525671213541011\n",
            "  positive)\n",
            "/usr/local/lib/python3.6/dist-packages/sklearn/linear_model/coordinate_descent.py:475: ConvergenceWarning: Objective did not converge. You might want to increase the number of iterations. Duality gap: 2403.508384561651, tolerance: 0.5525671213541011\n",
            "  positive)\n",
            "/usr/local/lib/python3.6/dist-packages/sklearn/linear_model/coordinate_descent.py:475: ConvergenceWarning: Objective did not converge. You might want to increase the number of iterations. Duality gap: 2400.677328258669, tolerance: 0.5525671213541011\n",
            "  positive)\n",
            "/usr/local/lib/python3.6/dist-packages/sklearn/linear_model/coordinate_descent.py:475: ConvergenceWarning: Objective did not converge. You might want to increase the number of iterations. Duality gap: 2396.990439576614, tolerance: 0.5525671213541011\n",
            "  positive)\n",
            "/usr/local/lib/python3.6/dist-packages/sklearn/linear_model/coordinate_descent.py:475: ConvergenceWarning: Objective did not converge. You might want to increase the number of iterations. Duality gap: 2392.442588599907, tolerance: 0.5525671213541011\n",
            "  positive)\n",
            "/usr/local/lib/python3.6/dist-packages/sklearn/linear_model/coordinate_descent.py:475: ConvergenceWarning: Objective did not converge. You might want to increase the number of iterations. Duality gap: 2387.0736670858655, tolerance: 0.5525671213541011\n",
            "  positive)\n",
            "/usr/local/lib/python3.6/dist-packages/sklearn/linear_model/coordinate_descent.py:475: ConvergenceWarning: Objective did not converge. You might want to increase the number of iterations. Duality gap: 2380.9531266980553, tolerance: 0.5525671213541011\n",
            "  positive)\n",
            "/usr/local/lib/python3.6/dist-packages/sklearn/linear_model/coordinate_descent.py:475: ConvergenceWarning: Objective did not converge. You might want to increase the number of iterations. Duality gap: 2374.167335970987, tolerance: 0.5525671213541011\n",
            "  positive)\n",
            "/usr/local/lib/python3.6/dist-packages/sklearn/linear_model/coordinate_descent.py:475: ConvergenceWarning: Objective did not converge. You might want to increase the number of iterations. Duality gap: 2366.8230013069647, tolerance: 0.5525671213541011\n",
            "  positive)\n",
            "/usr/local/lib/python3.6/dist-packages/sklearn/linear_model/coordinate_descent.py:475: ConvergenceWarning: Objective did not converge. You might want to increase the number of iterations. Duality gap: 2359.0401181497823, tolerance: 0.5525671213541011\n",
            "  positive)\n",
            "/usr/local/lib/python3.6/dist-packages/sklearn/linear_model/coordinate_descent.py:475: ConvergenceWarning: Objective did not converge. You might want to increase the number of iterations. Duality gap: 2350.9440706394716, tolerance: 0.5525671213541011\n",
            "  positive)\n",
            "/usr/local/lib/python3.6/dist-packages/sklearn/linear_model/coordinate_descent.py:475: ConvergenceWarning: Objective did not converge. You might want to increase the number of iterations. Duality gap: 2342.6586006310154, tolerance: 0.5525671213541011\n",
            "  positive)\n",
            "/usr/local/lib/python3.6/dist-packages/sklearn/linear_model/coordinate_descent.py:475: ConvergenceWarning: Objective did not converge. You might want to increase the number of iterations. Duality gap: 2334.296133608245, tolerance: 0.5525671213541011\n",
            "  positive)\n",
            "/usr/local/lib/python3.6/dist-packages/sklearn/linear_model/coordinate_descent.py:475: ConvergenceWarning: Objective did not converge. You might want to increase the number of iterations. Duality gap: 2325.946817469901, tolerance: 0.5525671213541011\n",
            "  positive)\n",
            "/usr/local/lib/python3.6/dist-packages/sklearn/linear_model/coordinate_descent.py:475: ConvergenceWarning: Objective did not converge. You might want to increase the number of iterations. Duality gap: 2317.6841379931393, tolerance: 0.5525671213541011\n",
            "  positive)\n",
            "/usr/local/lib/python3.6/dist-packages/sklearn/linear_model/coordinate_descent.py:475: ConvergenceWarning: Objective did not converge. You might want to increase the number of iterations. Duality gap: 2309.5866908609905, tolerance: 0.5525671213541011\n",
            "  positive)\n",
            "/usr/local/lib/python3.6/dist-packages/sklearn/linear_model/coordinate_descent.py:475: ConvergenceWarning: Objective did not converge. You might want to increase the number of iterations. Duality gap: 2301.716388535115, tolerance: 0.5525671213541011\n",
            "  positive)\n",
            "/usr/local/lib/python3.6/dist-packages/sklearn/linear_model/coordinate_descent.py:475: ConvergenceWarning: Objective did not converge. You might want to increase the number of iterations. Duality gap: 2294.132336698558, tolerance: 0.5525671213541011\n",
            "  positive)\n",
            "/usr/local/lib/python3.6/dist-packages/sklearn/linear_model/coordinate_descent.py:475: ConvergenceWarning: Objective did not converge. You might want to increase the number of iterations. Duality gap: 2286.881536085086, tolerance: 0.5525671213541011\n",
            "  positive)\n",
            "/usr/local/lib/python3.6/dist-packages/sklearn/linear_model/coordinate_descent.py:475: ConvergenceWarning: Objective did not converge. You might want to increase the number of iterations. Duality gap: 2279.9818315098896, tolerance: 0.5525671213541011\n",
            "  positive)\n",
            "/usr/local/lib/python3.6/dist-packages/sklearn/linear_model/coordinate_descent.py:475: ConvergenceWarning: Objective did not converge. You might want to increase the number of iterations. Duality gap: 2273.457084825518, tolerance: 0.5525671213541011\n",
            "  positive)\n",
            "/usr/local/lib/python3.6/dist-packages/sklearn/linear_model/coordinate_descent.py:475: ConvergenceWarning: Objective did not converge. You might want to increase the number of iterations. Duality gap: 2267.321238606658, tolerance: 0.5525671213541011\n",
            "  positive)\n",
            "/usr/local/lib/python3.6/dist-packages/sklearn/linear_model/coordinate_descent.py:475: ConvergenceWarning: Objective did not converge. You might want to increase the number of iterations. Duality gap: 2261.579472670413, tolerance: 0.5525671213541011\n",
            "  positive)\n"
          ],
          "name": "stderr"
        },
        {
          "output_type": "execute_result",
          "data": {
            "text/html": [
              "<div>\n",
              "<style scoped>\n",
              "    .dataframe tbody tr th:only-of-type {\n",
              "        vertical-align: middle;\n",
              "    }\n",
              "\n",
              "    .dataframe tbody tr th {\n",
              "        vertical-align: top;\n",
              "    }\n",
              "\n",
              "    .dataframe thead th {\n",
              "        text-align: right;\n",
              "    }\n",
              "</style>\n",
              "<table border=\"1\" class=\"dataframe\">\n",
              "  <thead>\n",
              "    <tr style=\"text-align: right;\">\n",
              "      <th></th>\n",
              "      <th>lr_rmse</th>\n",
              "      <th>lasso_rmse</th>\n",
              "      <th>ridge_rmse</th>\n",
              "    </tr>\n",
              "    <tr>\n",
              "      <th>poly_range</th>\n",
              "      <th></th>\n",
              "      <th></th>\n",
              "      <th></th>\n",
              "    </tr>\n",
              "  </thead>\n",
              "  <tbody>\n",
              "    <tr>\n",
              "      <th>10</th>\n",
              "      <td>1.926541</td>\n",
              "      <td>2.320398</td>\n",
              "      <td>1.950333</td>\n",
              "    </tr>\n",
              "    <tr>\n",
              "      <th>11</th>\n",
              "      <td>1.920644</td>\n",
              "      <td>2.322260</td>\n",
              "      <td>1.933155</td>\n",
              "    </tr>\n",
              "    <tr>\n",
              "      <th>12</th>\n",
              "      <td>1.657890</td>\n",
              "      <td>2.322672</td>\n",
              "      <td>1.932618</td>\n",
              "    </tr>\n",
              "    <tr>\n",
              "      <th>13</th>\n",
              "      <td>1.377976</td>\n",
              "      <td>2.322120</td>\n",
              "      <td>1.906485</td>\n",
              "    </tr>\n",
              "    <tr>\n",
              "      <th>14</th>\n",
              "      <td>1.357432</td>\n",
              "      <td>2.321007</td>\n",
              "      <td>1.649491</td>\n",
              "    </tr>\n",
              "    <tr>\n",
              "      <th>15</th>\n",
              "      <td>0.950690</td>\n",
              "      <td>2.319717</td>\n",
              "      <td>1.516091</td>\n",
              "    </tr>\n",
              "    <tr>\n",
              "      <th>16</th>\n",
              "      <td>0.740613</td>\n",
              "      <td>2.318500</td>\n",
              "      <td>1.525275</td>\n",
              "    </tr>\n",
              "    <tr>\n",
              "      <th>17</th>\n",
              "      <td>0.698616</td>\n",
              "      <td>2.317491</td>\n",
              "      <td>1.321306</td>\n",
              "    </tr>\n",
              "    <tr>\n",
              "      <th>18</th>\n",
              "      <td>0.721070</td>\n",
              "      <td>2.316728</td>\n",
              "      <td>0.897234</td>\n",
              "    </tr>\n",
              "    <tr>\n",
              "      <th>19</th>\n",
              "      <td>0.737762</td>\n",
              "      <td>2.316204</td>\n",
              "      <td>0.772189</td>\n",
              "    </tr>\n",
              "    <tr>\n",
              "      <th>20</th>\n",
              "      <td>0.662764</td>\n",
              "      <td>2.315904</td>\n",
              "      <td>0.762286</td>\n",
              "    </tr>\n",
              "    <tr>\n",
              "      <th>21</th>\n",
              "      <td>0.637865</td>\n",
              "      <td>2.315805</td>\n",
              "      <td>0.624743</td>\n",
              "    </tr>\n",
              "    <tr>\n",
              "      <th>22</th>\n",
              "      <td>0.575616</td>\n",
              "      <td>2.315901</td>\n",
              "      <td>0.534591</td>\n",
              "    </tr>\n",
              "    <tr>\n",
              "      <th>23</th>\n",
              "      <td>0.610584</td>\n",
              "      <td>2.316177</td>\n",
              "      <td>0.545164</td>\n",
              "    </tr>\n",
              "    <tr>\n",
              "      <th>24</th>\n",
              "      <td>0.961801</td>\n",
              "      <td>2.316623</td>\n",
              "      <td>0.527321</td>\n",
              "    </tr>\n",
              "    <tr>\n",
              "      <th>25</th>\n",
              "      <td>1.129367</td>\n",
              "      <td>2.317226</td>\n",
              "      <td>1.325784</td>\n",
              "    </tr>\n",
              "    <tr>\n",
              "      <th>26</th>\n",
              "      <td>1.212833</td>\n",
              "      <td>2.317975</td>\n",
              "      <td>1.911076</td>\n",
              "    </tr>\n",
              "    <tr>\n",
              "      <th>27</th>\n",
              "      <td>1.260335</td>\n",
              "      <td>2.318859</td>\n",
              "      <td>1.893928</td>\n",
              "    </tr>\n",
              "    <tr>\n",
              "      <th>28</th>\n",
              "      <td>1.311367</td>\n",
              "      <td>2.319868</td>\n",
              "      <td>1.795284</td>\n",
              "    </tr>\n",
              "    <tr>\n",
              "      <th>29</th>\n",
              "      <td>1.328180</td>\n",
              "      <td>2.321002</td>\n",
              "      <td>1.672852</td>\n",
              "    </tr>\n",
              "    <tr>\n",
              "      <th>30</th>\n",
              "      <td>1.307206</td>\n",
              "      <td>2.322265</td>\n",
              "      <td>1.472459</td>\n",
              "    </tr>\n",
              "    <tr>\n",
              "      <th>31</th>\n",
              "      <td>1.268892</td>\n",
              "      <td>2.323664</td>\n",
              "      <td>1.437853</td>\n",
              "    </tr>\n",
              "    <tr>\n",
              "      <th>32</th>\n",
              "      <td>1.587275</td>\n",
              "      <td>2.325211</td>\n",
              "      <td>1.876634</td>\n",
              "    </tr>\n",
              "    <tr>\n",
              "      <th>33</th>\n",
              "      <td>1.651721</td>\n",
              "      <td>2.326916</td>\n",
              "      <td>1.357674</td>\n",
              "    </tr>\n",
              "    <tr>\n",
              "      <th>34</th>\n",
              "      <td>1.687820</td>\n",
              "      <td>2.328795</td>\n",
              "      <td>1.600639</td>\n",
              "    </tr>\n",
              "    <tr>\n",
              "      <th>35</th>\n",
              "      <td>1.698153</td>\n",
              "      <td>2.330856</td>\n",
              "      <td>2.057498</td>\n",
              "    </tr>\n",
              "    <tr>\n",
              "      <th>36</th>\n",
              "      <td>1.689844</td>\n",
              "      <td>2.333104</td>\n",
              "      <td>2.035456</td>\n",
              "    </tr>\n",
              "    <tr>\n",
              "      <th>37</th>\n",
              "      <td>1.672428</td>\n",
              "      <td>2.335536</td>\n",
              "      <td>1.953587</td>\n",
              "    </tr>\n",
              "    <tr>\n",
              "      <th>38</th>\n",
              "      <td>1.653713</td>\n",
              "      <td>2.338143</td>\n",
              "      <td>1.862148</td>\n",
              "    </tr>\n",
              "    <tr>\n",
              "      <th>39</th>\n",
              "      <td>1.640796</td>\n",
              "      <td>2.340909</td>\n",
              "      <td>2.006777</td>\n",
              "    </tr>\n",
              "    <tr>\n",
              "      <th>40</th>\n",
              "      <td>1.635403</td>\n",
              "      <td>2.343815</td>\n",
              "      <td>1.825182</td>\n",
              "    </tr>\n",
              "    <tr>\n",
              "      <th>41</th>\n",
              "      <td>1.639687</td>\n",
              "      <td>2.346837</td>\n",
              "      <td>1.759111</td>\n",
              "    </tr>\n",
              "    <tr>\n",
              "      <th>42</th>\n",
              "      <td>1.737310</td>\n",
              "      <td>2.349935</td>\n",
              "      <td>1.869628</td>\n",
              "    </tr>\n",
              "    <tr>\n",
              "      <th>43</th>\n",
              "      <td>1.726214</td>\n",
              "      <td>2.353071</td>\n",
              "      <td>1.840047</td>\n",
              "    </tr>\n",
              "    <tr>\n",
              "      <th>44</th>\n",
              "      <td>1.714748</td>\n",
              "      <td>2.356206</td>\n",
              "      <td>1.768150</td>\n",
              "    </tr>\n",
              "    <tr>\n",
              "      <th>45</th>\n",
              "      <td>1.705265</td>\n",
              "      <td>2.359304</td>\n",
              "      <td>1.929834</td>\n",
              "    </tr>\n",
              "    <tr>\n",
              "      <th>46</th>\n",
              "      <td>1.699707</td>\n",
              "      <td>2.362331</td>\n",
              "      <td>1.909029</td>\n",
              "    </tr>\n",
              "    <tr>\n",
              "      <th>47</th>\n",
              "      <td>1.699390</td>\n",
              "      <td>2.365256</td>\n",
              "      <td>1.900798</td>\n",
              "    </tr>\n",
              "    <tr>\n",
              "      <th>48</th>\n",
              "      <td>1.704903</td>\n",
              "      <td>2.368054</td>\n",
              "      <td>1.808059</td>\n",
              "    </tr>\n",
              "    <tr>\n",
              "      <th>49</th>\n",
              "      <td>1.716069</td>\n",
              "      <td>2.370700</td>\n",
              "      <td>1.796133</td>\n",
              "    </tr>\n",
              "  </tbody>\n",
              "</table>\n",
              "</div>"
            ],
            "text/plain": [
              "             lr_rmse  lasso_rmse  ridge_rmse\n",
              "poly_range                                  \n",
              "10          1.926541    2.320398    1.950333\n",
              "11          1.920644    2.322260    1.933155\n",
              "12          1.657890    2.322672    1.932618\n",
              "13          1.377976    2.322120    1.906485\n",
              "14          1.357432    2.321007    1.649491\n",
              "15          0.950690    2.319717    1.516091\n",
              "16          0.740613    2.318500    1.525275\n",
              "17          0.698616    2.317491    1.321306\n",
              "18          0.721070    2.316728    0.897234\n",
              "19          0.737762    2.316204    0.772189\n",
              "20          0.662764    2.315904    0.762286\n",
              "21          0.637865    2.315805    0.624743\n",
              "22          0.575616    2.315901    0.534591\n",
              "23          0.610584    2.316177    0.545164\n",
              "24          0.961801    2.316623    0.527321\n",
              "25          1.129367    2.317226    1.325784\n",
              "26          1.212833    2.317975    1.911076\n",
              "27          1.260335    2.318859    1.893928\n",
              "28          1.311367    2.319868    1.795284\n",
              "29          1.328180    2.321002    1.672852\n",
              "30          1.307206    2.322265    1.472459\n",
              "31          1.268892    2.323664    1.437853\n",
              "32          1.587275    2.325211    1.876634\n",
              "33          1.651721    2.326916    1.357674\n",
              "34          1.687820    2.328795    1.600639\n",
              "35          1.698153    2.330856    2.057498\n",
              "36          1.689844    2.333104    2.035456\n",
              "37          1.672428    2.335536    1.953587\n",
              "38          1.653713    2.338143    1.862148\n",
              "39          1.640796    2.340909    2.006777\n",
              "40          1.635403    2.343815    1.825182\n",
              "41          1.639687    2.346837    1.759111\n",
              "42          1.737310    2.349935    1.869628\n",
              "43          1.726214    2.353071    1.840047\n",
              "44          1.714748    2.356206    1.768150\n",
              "45          1.705265    2.359304    1.929834\n",
              "46          1.699707    2.362331    1.909029\n",
              "47          1.699390    2.365256    1.900798\n",
              "48          1.704903    2.368054    1.808059\n",
              "49          1.716069    2.370700    1.796133"
            ]
          },
          "metadata": {
            "tags": []
          },
          "execution_count": 5
        }
      ]
    },
    {
      "cell_type": "code",
      "metadata": {
        "id": "drFnOo4rmKHv",
        "colab_type": "code",
        "outputId": "f49f8c76-c7d3-40ff-fe7e-5062f5ae3289",
        "colab": {
          "base_uri": "https://localhost:8080/",
          "height": 212
        }
      },
      "source": [
        "print(df.min())\n",
        "df[\"ridge_rmse\"].sort_values().head()"
      ],
      "execution_count": 0,
      "outputs": [
        {
          "output_type": "stream",
          "text": [
            "lr_rmse       0.575616\n",
            "lasso_rmse    2.315805\n",
            "ridge_rmse    0.527321\n",
            "dtype: float64\n"
          ],
          "name": "stdout"
        },
        {
          "output_type": "execute_result",
          "data": {
            "text/plain": [
              "poly_range\n",
              "24    0.527321\n",
              "22    0.534591\n",
              "23    0.545164\n",
              "21    0.624743\n",
              "20    0.762286\n",
              "Name: ridge_rmse, dtype: float64"
            ]
          },
          "metadata": {
            "tags": []
          },
          "execution_count": 6
        }
      ]
    },
    {
      "cell_type": "code",
      "metadata": {
        "id": "bEB8zpZlmOfH",
        "colab_type": "code",
        "outputId": "e358b725-35a0-4814-bd8d-d7dd61429e06",
        "colab": {
          "base_uri": "https://localhost:8080/",
          "height": 264
        }
      },
      "source": [
        "poly_features = PolynomialFeatures(degree=22)\n",
        "X_poly = poly_features.fit_transform(X)\n",
        "ridge = Ridge(fit_intercept=False)\n",
        "ridge.fit(X_poly,y)\n",
        "\n",
        "f_x, f_y = f(1000)\n",
        "plt.plot(f_x, f_y)\n",
        "plt.scatter(X.flatten(), y.flatten(), s=3, c=\"black\")\n",
        "plt.plot(X.flatten(), ridge.predict(X_poly).flatten())\n",
        "plt.show()"
      ],
      "execution_count": 0,
      "outputs": [
        {
          "output_type": "display_data",
          "data": {
            "image/png": "[encoded data removed]",
            "text/plain": [
              "<Figure size 432x288 with 1 Axes>"
            ]
          },
          "metadata": {
            "tags": []
          }
        }
      ]
    }
  ]
}