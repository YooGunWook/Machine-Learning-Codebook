{
  "nbformat": 4,
  "nbformat_minor": 0,
  "metadata": {
    "colab": {
      "name": "(원본) 혀누를 위한 Maching Learning",
      "provenance": [],
      "collapsed_sections": [
        "aFbtD4uKrv3W",
        "t88oG-qc-16q",
        "Op92KnINZHHl",
        "E-zlueslZ7fe",
        "xKvXhJJYZ7nq",
        "bJWmUSDlAyOK",
        "OEBuuhlkwIMu",
        "i5tMtzvTKJhu",
        "a6csp-C1x8HQ",
        "6PdHdvEww3aD",
        "6zK5cpuckTJ3",
        "Y1XBnMuCw9l6",
        "G5PI_pRfw91l",
        "sNDH8gavw941",
        "Sw8bfsbHw98e",
        "5Kt66CjqyzCz",
        "It1Q4tYG3yEJ",
        "DvZ5Q-fky4TV",
        "Q4GE559ly4Zw"
      ]
    },
    "kernelspec": {
      "name": "python3",
      "display_name": "Python 3"
    },
    "accelerator": "GPU"
  },
  "cells": [
    {
      "cell_type": "markdown",
      "metadata": {
        "id": "ENYso35hnbpA",
        "colab_type": "text"
      },
      "source": [
        "---\n",
        "# ┗(•̀へ •́ )ﾉ Hyun's Machine Learning\n",
        "---\n",
        "자 Machine Learning을 공부해봅시다 (´∇｀)  \n",
        "## Authored by. Hyun\n",
        "![미니언즈!](https://post-phinf.pstatic.net/MjAxNzA3MTBfMjIg/MDAxNDk5NjcxOTY1NDQw.Kz07JXiZg6AT6Y4PAZY7ubUNAr7rbDinLwFGuS0OOxcg.WVhpo8yfybUh0qImMGNAo1ucSUPuNOvQyzlO_vKlAlkg.JPEG/%EC%98%81%EC%A7%84%EC%9C%845.jpg?type=w1200)\n",
        "각종 인강, 책, 사이트를 참조하여 한 곳에 모았습니다!"
      ]
    },
    {
      "cell_type": "markdown",
      "metadata": {
        "id": "aFbtD4uKrv3W",
        "colab_type": "text"
      },
      "source": [
        "# ┗(•̀へ •́  )ﾉ **이것만 돌리면 다 돌아간다~~~**"
      ]
    },
    {
      "cell_type": "code",
      "metadata": {
        "id": "gRO8gtPDrySn",
        "colab_type": "code",
        "colab": {}
      },
      "source": [
        "# # 기본\n",
        "# import numpy as np\n",
        "# from numpy.linalg import inv\n",
        "# from numpy.linalg import solve\n",
        "# import random\n",
        "\n",
        "# import pandas as pd\n",
        "# from pandas import Series, DataFrame\n",
        "# import pandas_profiling\n",
        "# import openpyxl\n",
        "\n",
        "# import matplotlib.pyplot as plt\n",
        "# import urllib\n",
        "# import matplotlib.dates as mdates\n",
        "# from matplotlib.dates import bytespdate2num\n",
        "# import matplotlib.ticker as ticker\n",
        "# from matplotlib import font_manager, rc\n",
        "# from matplotlib import style\n",
        "# import seaborn as sns\n",
        "\n",
        "# import time\n",
        "\n",
        "# import itertools\n",
        "# import re\n",
        "# import warnings\n",
        "# warnings.filterwarnings(\"ignore\")\n",
        "\n",
        "# # 시계열 데이터 처리\n",
        "# import calendar\n",
        "# import dateutil\n",
        "# from dateutil.parser import parse\n",
        "# import datetime\n",
        "\n",
        "# # Network 분석\n",
        "# import networkx as nx\n",
        "\n",
        "# # 지도시각화\n",
        "# import folium\n",
        "# from folium import plugins\n",
        "# import html\n",
        "# import json\n",
        "# import geopy\n",
        "# from geopy.geocoders import Nominatim\n",
        "# import os\n",
        "# import requests\n",
        "# import ipywidgets\n",
        "# from IPython.display import Image\n",
        "# from ipywidgets import interact\n",
        "\n",
        "# # Clustering\n",
        "# from sklearn.cluster import KMeans\n",
        "# from scipy.cluster.hierarchy import linkage, dendrogram\n",
        "\n",
        "# # Factor analysis\n",
        "# from factor_analyzer import FactorAnalyzer\n",
        "\n",
        "# # Machine learning 용도\n",
        "# from sklearn.preprocessing import StandardScaler, MinMaxScaler\n",
        "# from sklearn.linear_model import LinearRegression\n",
        "# from sklearn.model_selection import train_test_split\n",
        "# from sklearn.metrics import r2_score\n",
        "#from sklearn.metrics import classification_report\n",
        "# from sklearn.model_selection import PredefinedSplit\n",
        "# from sklearn.model_selection import GridSearchCV, ParameterGrid\n",
        "# from sklearn.metrics import (roc_curve, auc, accuracy_score, roc_auc_score)\n",
        "# from sklearn.cluster import KMeans\n",
        "# from sklearn.decomposition import PCA\n",
        "# from sklearn.metrics import silhouette_samples, silhouette_score\n",
        "# from sklearn.preprocessing import OneHotEncoder,LabelEncoder\n",
        "# from sklearn.preprocessing import StandardScaler\n",
        "# from sklearn.preprocessing import MinMaxScaler\n",
        "# from sklearn.preprocessing import RobustScaler\n",
        "# from sklearn.datasets import make_blobs\n",
        "# import scipy.cluster.hierarchy as shc\n",
        "# from sklearn.cluster import AgglomerativeClustering\n",
        "# from xgboost import XGBRegressor\n",
        "# from catboost import CatBoostRegressor\n",
        "# from sklearn.ensemble import AdaBoostRegressor, GradientBoostingRegressor\n",
        "# from lightgbm import LGBMClassifier, LGBMRegressor\n",
        "# import lightgbm as lgb\n",
        "# from sklearn.ensemble import RandomForestClassifier\n",
        "# from sklearn import metrics\n",
        "#from sklearn.base import clone\n",
        "\n",
        "# # Deep learning 용도\n",
        "# import torch\n",
        "# import torchvision.datasets as dsets\n",
        "# import torchvision.transforms as transforms\n",
        "# import random\n",
        "# import torch\n",
        "# import torch.nn as nn\n",
        "# import torch.nn.functional as F\n",
        "# import torch.optim as optim\n",
        "\n",
        "# # Wordcloud\n",
        "# import konlpy\n",
        "# from konlpy.tag import Okt\n",
        "# import collections\n",
        "# from collections import Counter\n",
        "# from wordcloud import WordCloud, STOPWORDS as stopwords\n",
        "# from PIL import Image, ImageFilter\n",
        "# from wordcloud import ImageColorGenerator\n",
        "# import pickle\n",
        "\n",
        "# # 한글 사용하기\n",
        "# import matplotlib.font_manager as fm\n",
        "# from matplotlib import rc\n",
        "# font_name = fm.FontProperties(fname=\"c:/Windows/Fonts/malgun.ttf\").get_name()\n",
        "# rc('font', family=font_name)\n",
        "\n",
        "\n",
        "# # 크롤링\n",
        "#  from selenium import webdriver\n",
        "# import requests\n",
        "# from bs4 import BeautifulSoup\n",
        "\n",
        "# # 기타\n",
        "# from urllib.request import urlopen\n",
        "# from tqdm import tqdm\n",
        "# import time\n",
        "# from zeep import Client\n",
        "# from collections import namedtuple\n",
        "# import sqlite3\n",
        "\n",
        "# # 한 번에 matplotlib 그림 띄우기\n",
        "# %matplotlib inline    \n",
        "# %config InlineBackend.figure_format = 'retina'  #%matplotlib 뒤에 써주면 그래프를 더 높은 해상도로 보여줌\n",
        "\n",
        "# # 설정 관련\n",
        "# pd.set_option('display.max_columns', 200)\n",
        "# pd.set_option('display.max_rows', 200)"
      ],
      "execution_count": 0,
      "outputs": []
    },
    {
      "cell_type": "markdown",
      "metadata": {
        "id": "t88oG-qc-16q",
        "colab_type": "text"
      },
      "source": [
        "# 목차"
      ]
    },
    {
      "cell_type": "markdown",
      "metadata": {
        "id": "PhANASX2-28p",
        "colab_type": "text"
      },
      "source": [
        "## 1. Machine Learning이란?\n",
        "## 2. Machine Learning 종류\n",
        "## 3. Machine Learning 프로젝트 프로세스\n",
        "## 4. Supervised Learning 관련 메소드 모음\n",
        "## 5. Supervised Learning\n",
        "## 6. Unsupervised Learning"
      ]
    },
    {
      "cell_type": "markdown",
      "metadata": {
        "colab_type": "text",
        "id": "Op92KnINZHHl"
      },
      "source": [
        "# 1. Machine Learning이란?"
      ]
    },
    {
      "cell_type": "markdown",
      "metadata": {
        "colab_type": "text",
        "id": "NpmsSftm2QQq"
      },
      "source": [
        "![](https://lh3.googleusercontent.com/HK5QOxzeXCF0CMWSTae2OkxXmxETt0lNlyTYrYhVTiNrGxFr33lLgCnjfGiSSQgVVmJhjlkx4gM8eo71BBV6HW_IAo1b-kzqJL4ZLcqeiUhXIYin0vjeTjxrJOQWRmNSve6TX-er2RQ)"
      ]
    },
    {
      "cell_type": "markdown",
      "metadata": {
        "colab_type": "text",
        "id": "E2wWk6km_CWp"
      },
      "source": [
        "## 도대체 머신러닝이 무엇이냐?\n",
        "- 머신러닝은 간단하게 말해서 데이터로부터 학습할 수 있는 시스템을 만드는 것\n",
        "- 학습이란? 어떤 작업에서 주어진 성능 지표가 더 나아지는 것을 의미함!\n",
        "\n",
        "> 간단하게\n",
        "- 기존 데이터로 기계가 학습!\n"
      ]
    },
    {
      "cell_type": "markdown",
      "metadata": {
        "colab_type": "text",
        "id": "h0khMcrtaHwH"
      },
      "source": [
        "## 1.1 Machine Learning 관련 개념정리"
      ]
    },
    {
      "cell_type": "markdown",
      "metadata": {
        "colab_type": "text",
        "id": "zNswN79X-4XH"
      },
      "source": [
        "### Bias와 Variance"
      ]
    },
    {
      "cell_type": "markdown",
      "metadata": {
        "colab_type": "text",
        "id": "nr8EG5Vb-4XI"
      },
      "source": [
        "\n",
        "\n",
        "![bias](https://img1.daumcdn.net/thumb/R1280x0/?scode=mtistory2&fname=http%3A%2F%2Fcfile9.uf.tistory.com%2Fimage%2F99CDCC33599AC28F075E3C)\n",
        "\n",
        "> Bias란?\n",
        " - Bias는 실제 값에서 멀어진 척도 \n",
        "\n",
        "> Variance란?\n",
        " - Variance는 예측된 값들이 서로 얼마나 멀리 떨어져 있는지에 대한 척도\n",
        "\n",
        "> Machine Learning Model의 목표\n",
        " - 왼쪽 위의 그림처럼 Bias도 낮고, Variance도 낮게, 즉 모두 정확하게 예측하는 것!"
      ]
    },
    {
      "cell_type": "markdown",
      "metadata": {
        "colab_type": "text",
        "id": "0hZLHHGP-4XI"
      },
      "source": [
        "### Cost function, Loss function\n"
      ]
    },
    {
      "cell_type": "markdown",
      "metadata": {
        "colab_type": "text",
        "id": "4wjWMlkN-4XI"
      },
      "source": [
        "> Loss function\n",
        "- Loss function은 data point에서의 오차\n",
        "- Single data set에서의 오차를 구하는 것\n",
        "순간순간의 loss를 판단할 땐 loss function  \n",
        "  학습이 완료된 후에는 cost function!\n",
        "\n",
        "\n",
        "> Cost function\n",
        "- Cost function은 loss function의 합이다. \n",
        "- 즉 entire data set에서 loss funciton을 계산한 합이다.\n",
        "- 순간순간의 loss를 판단할 땐 loss function, 학습이 완료된 후에는 cost function!\n"
      ]
    },
    {
      "cell_type": "markdown",
      "metadata": {
        "colab_type": "text",
        "id": "Eu9wklSp-4XJ"
      },
      "source": [
        "### Overfitting, Underfitting"
      ]
    },
    {
      "cell_type": "markdown",
      "metadata": {
        "colab_type": "text",
        "id": "YyLAT0EN-4XJ"
      },
      "source": [
        "![datasets](https://t1.daumcdn.net/cfile/tistory/9951E5445AAE1BE025)\n",
        "<br>\n",
        "\n",
        "![123123](https://mblogthumb-phinf.pstatic.net/MjAxODA3MzBfMjMy/MDAxNTMyODkwNjUxMjY4.H_ocFIRFaG8MWrBsv8BWrTCaAMGLMKZZUh_Rd1krRLog.HAZRdDtrQMvVGKiEWfGls8bm0EhTyRKf7XzoSY1Cibsg.JPEG.qbxlvnf11/maxresdefault.jpg?type=w800)\n",
        "\n",
        "> **과대적합(Overfitting)**이란?\n",
        " - 모델이 Train Dataset에 너무 잘 맞아서 일반성이 떨어지게 되는 문제\n",
        " - 즉 Train Dataset을 너무 과하게 학습해 학습되지 않은 데이터가 들어오면 분류하지 못하게 되는 것\n",
        " - 위 그림의 오른쪽 그림들이 과대적합의 예시\n",
        " - 보시다시피 Train Set을 거의 다 거치거나 분류해내며 굉장히 높은 성능을 보여주고 있지만, 새로운 변수에 대응하기 어려움\n",
        " - 그림의 가운데 모델이 적합한 모델이라고 할 수 있음!\n",
        "\n",
        "> **과소적합(Underfitting)**이란?\n",
        " - Overfitting과 반대 개념\n",
        " - 모델이 너무 단순해서 데이터의 내재된 구조를 학습하지 못하는 것\n",
        " - 위 그림의 왼쪽 그림이 underfitting.\n",
        "<br>"
      ]
    },
    {
      "cell_type": "markdown",
      "metadata": {
        "colab_type": "text",
        "id": "mMvaT_ZRiXGA"
      },
      "source": [
        "\n",
        "\n",
        "> Machine Learning에서 **Overfitting을 방지하는 방법**\n",
        " - 더 많은 데이터로 학습하기\n",
        " - Parameter가 적은 모델을 선택\n",
        " - Feature 개수 줄이기\n",
        " - 정규화(Regularization) 시키기 (e.g. L1, L2)  \n",
        "   ```1.2 Machine Learning 관련 용어모음``` 확인\n",
        " - Early stopping: 어느 정도 loss가 줄어들지 않으면 학습 멈추기"
      ]
    },
    {
      "cell_type": "markdown",
      "metadata": {
        "colab_type": "text",
        "id": "Ji66dr3tiqQj"
      },
      "source": [
        "> Bias, Variance and fitting\n",
        "1. Overfitting 모델\n",
        " - High Variace 모델(오른쪽 위)\n",
        " - Train Data의 지엽적인 특성까지 반영되어 학습된 것은 잘 예측하지만, 학습되지 않은 데이터에 대해서는 예측력이 떨어지게 됨\n",
        "2. Underfitting 모델\n",
        " - High Bias 모델(왼쪽 아래)\n",
        " - 너무 적은 특성만을 반영하여, 예측의 범위가 좁고 정확도가 떨어지게 됨\n",
        "\n",
        "- 다시 말하면, Bias 에러가 높아지는 것은 많은 데이터를 고려하지 않아(=모델이 너무 단순해) 정확한 예측을 하지 못하는 경우를 말하고, Variance(분산) 에러는 노이즈까지 전부 학습해(=모델이 너무 복잡해) 약간의 input에도 예측 Y 값이 크게 흔들리는 것을 말함. \n",
        "- 이 두가지 에러가 **Trade-off** 관계에 있어서 이 둘을 모두 잡는 것은 불가능 한 딜레마가 생김\n",
        " ![graph](https://img1.daumcdn.net/thumb/R1280x0/?scode=mtistory2&fname=http%3A%2F%2Fcfile9.uf.tistory.com%2Fimage%2F996DB433599AC34225B9BD)\n",
        "- Total Error가 최소인 지점을 찾기 위한 가장 효과적인 방법은 **Validation Set을 만드는 것**이다.  \n",
        "(밑에서 Validation Set 부가설명)"
      ]
    },
    {
      "cell_type": "markdown",
      "metadata": {
        "colab_type": "text",
        "id": "eG8NJqwv-4XK"
      },
      "source": [
        "## 1.2 Machine Learning 관련 용어모음"
      ]
    },
    {
      "cell_type": "markdown",
      "metadata": {
        "colab_type": "text",
        "id": "hlGi0qnH-4XM"
      },
      "source": [
        "> ### Accuracy (정확도)\n",
        "- 정확도(accuracy)란 전체 샘플 중 맞게 예측한 샘플 수의 비율\n",
        "- 높을수록 좋은 모형이고 일반적으로 학습에서 최적화 목적함수로 사용됨!!\n",
        "- 정확도(Accuracy)의 가장 큰 문제점은 **클래스의 분포가 같을 때만 이용 가능하다는 점**\n",
        "- 이러한 **단점을 보완**하는 지표가 정밀도(Precision)와 재현율(Recall), ROC 곡선과 AUC입니다.\n",
        "- $$accuracy=\\frac{TP+TN}{TP+TN+FP+FN}$$<br>\n",
        "``` python\n",
        "from sklearn.metrics import accuracy_score\n",
        "y_true = [0, 0, 0, 1, 1, 1, 1, 1, 1, 1]\n",
        "y_pred = [0, 0, 1, 0, 0, 1, 1, 1, 1, 1]\n",
        "accuracy_score(y_true, y_pred)\n",
        "```\n",
        "\n",
        "> ### Attribute (속성)\n",
        "- 데이터 타입을 의미\n",
        "- Feature(특성)은 attribute + 값. 허나 보통 많은 사람이 feature와 attribute를 구분하지 않고 사용\n",
        "\n",
        "> ### AUC\n",
        "- AUC란 ROC 곡선 아래 부분의 면적이다. 1에 가까울수록 성능이 좋음!\n",
        "\n",
        "> ### Batch Learning <-> Online learning\n",
        "- 배치 학습!\n",
        "- 가용한 데이터를 모두 사용해 훈련시켜야 함\n",
        "- 시간과 자원을 많이 소모\n",
        "- 보통 오프라인에서 수행\n",
        "- 시스템이 훈련되고 적용되면 더 이상의 학습없이 실행된다.\n",
        "\n",
        "> ### Batch size\n",
        "- Batch size: data를 나누는 것\n",
        "\n",
        "> ### Bagging\n",
        "- Bagging은 샘플을 여러 번 뽑아 각 모델을 학습시켜 결과를 집계(Aggregating) 하는 방법이다.\n",
        "\n",
        "> ### Bias\n",
        " - Bias는 실제 값에서 멀어진 척도 \n",
        "\n",
        "> ### Bootstrapping\n",
        " - 통계학에서 가설을 test하거나 metric을 계산하지 전에 '중복을 허용한' random sampling을 적용하는 방법\n",
        " - Machine learning에서 bootstrapping이란 random sampling을 통해 train data를 늘리는 방법이다!\n",
        " - Overfitting을 줄이는 데 도움이 된다.\n",
        "\n",
        "> ### Cross validation\n",
        "- Cross validation은 validation set을 뗄 만큼 data가 크지 않을 때 사용\n",
        "- Training Set을 여러 Subset으로 나누고 각 모델을 이 Subset의 조합으로 훈련시키고 나머지 부분으로 검증하는 방법이다.\n",
        "\n",
        "> ### Cost function\n",
        "- Cost function은 loss function의 합이다. \n",
        "- 모델이 얼마나 나쁜지 측정하는 함수 <-> 효용함수\n",
        "- 즉 entire data set에서 loss funciton을 계산한 합이다.\n",
        "- 순간순간의 loss를 판단할 땐 loss function, 학습이 완료된 후에는 cost function!\n",
        "- A loss function is a part of a cost function which is a type of an objective function!!!\n",
        "\n",
        "> ### Entropy\n",
        "- 불확실성에 대한 척도.\n",
        "- Entropy 함수  \n",
        "  $H_p(X) = \\mathbb{E}\\big[I(X)\\big] = \\mathbb{E} \\big[ \\log (\\frac{1}{p(X)}) \\big] = -\\sum_{i=1}^{n} p(x_i)\\log(p(x_i))$  \n",
        "  C는 범주의 갯수, q는 사건의 확률질량함수(probability mass function)\n",
        "- 예측이 어려울수록 정보의 양은 더 많아지고 엔트로피는 커진다.\n",
        "- 확률적으로 발생하는 사건에 대한 **정보량의 평균**. 놀람의 정도를 나타낸다고 볼 수 있다.\n",
        "\n",
        "> ### Estimator (추정기)\n",
        "- dataset을 기반으로 일련의 모델 parameter를 추정하는 객체\n",
        "- 추정은 fit( ) 메서드에 의해 수행되고 하나의 매개변수로 하나의 dataset만 전달\n",
        "\n",
        "> ### Epoch\n",
        "- one epoch: 모든 training example을 도는 것!\n",
        "\n",
        "> ### Feature\n",
        "- attribute(속성)와 값이 합쳐진 형태\n",
        "- e.g 주행거리 = 15,000\n",
        "\n",
        "> ### Gini Index\n",
        "- $G.I(A)=\\sum _{ i=1 }^{ d }{ { \\left( { R }_{ i }\\left( 1-\\sum _{ k=1 }^{ m }{ { p }_{ ik }^{ 2 } }  \\right)  \\right)  } }$\n",
        "- 정보의 순도를 측정할 때 사용하는 지표 중 하나\n",
        "\n",
        "> ### Gradient\n",
        "- Parameter들의 편미분계수, 기울기\n",
        "\n",
        "> ### Hold-out Validation\n",
        "- Validation set을 만드는 방법 중 하나\n",
        "- 데이터를 무작위로 train set과 validation set, test set으로 구분한 뒤, train set과 validation set을 이용해 분석 모형을 구축하고, test set을 이용하여 분석 모형의 성능을 평가하는 방법 \n",
        "- step.1\n",
        " - Original Set을 무작위로 train set과 validation set, test set으로 구분!\n",
        "- step.2\n",
        "  - hyperparameter를 다르게 해 여러가지 세팅을 만들어본 뒤, 학습 알고리즘을 사용해 Train set에 모델을 학습시키뮤\n",
        "- step.3\n",
        "  - Validation Set로 모델의 성능을 평가해 가장 좋은 성능의 hyperparameter 세팅을 선택함\n",
        "- step.4\n",
        "  - Train Set은 보통 클수록 좋음. 그러므로 모델 선택 후에 Train Set와 Validation Set을 합쳐 더 큰 데이터셋으로 step.3에서 선택한 최선의 hyperparameter 세팅을 사용한 모델을 학습하기!\n",
        "- step.5 \n",
        "  - 이제 Test Set을 사용해 모델의 성능을 평가~\n",
        "- Cross Validation과의 차이점: Hold-out Validation에서 Test Set의 경우 모형에는 영향을 주지 않고, 모델의 성능 측정 만을 위해 사용된다는 점! \n",
        "\n",
        "> ### Hyperparameter\n",
        "- 학습의 대상이 아니라 학습 이전에 정해놓은 변수, 학습 알고리즘의 parameter\n",
        "- Parameter는 학습의 대상이 되는 변수\n",
        "\n",
        "> ### Iteration\n",
        "- batch를 몇 번 학습에 사용했냐?\n",
        "- e.g. 1000개의 training set이 있고, batch size는 500이다. 그러므로 1 epoch 도는 동안 2 iteration이다.\n",
        "\n",
        "> ### Learning rate\n",
        "- 계산한 기울기에 비례하여 parameter를 얼마만큼 업데이트할지 결정하는 수치\n",
        "- 배우는 속도. 데이터와 모델에 따라서 최적값은 모두 다르다.\n",
        "- 보통 실무에서는 초기에 비교적 높은 lr로 시작하여 점차 낮추는 전략을 취함. 단 오히려 batch size를 늘리는 게 더 좋다는 연구도 있음\n",
        "- Learning rate가 너무 크면?? \n",
        "  - 발산해버리게 된다. Cost가 무진장 늘어난다.\n",
        "  - 데이터에 빨리 적응하지만 이전 데이터를 금방 까먹음\n",
        "- Learning rate가 너무 작으면? \n",
        "  - cost 값이 변함이 없는 것을 알 수 있다.\n",
        "  - 관성이 커져서 느리게 학습됨\n",
        "\n",
        "> ### Learning rate schedule\n",
        "- 매 iteration에서 learning rate을 바꿔주는 함수\n",
        "\n",
        "> ### Logit\n",
        "![](https://upload.wikimedia.org/wikipedia/commons/thumb/c/c8/Logit.svg/350px-Logit.svg.png)\n",
        "- [Logit, Sigmoid, Softmax의 관계](https://opentutorials.org/module/3653/22995)\n",
        "\n",
        "> ### Loss function  \n",
        "- Loss function은 data point에서의 오차. Single data set에서의 오차를 구하는 것\n",
        "순간순간의 loss를 판단할 땐 loss function, 학습이 완료된 후에는 cost function!\n",
        "- A loss function is a part of a cost function which is a type of an objective function!!!\n",
        "\n",
        "> ### MAE (Mean Absolute Error)\n",
        "```python\n",
        "from sklearn.metrics import mean_absolute_error\n",
        "mean_absolute_error(y_test, y_predict)\n",
        "```\n",
        "\n",
        "> ### MAPE (Mean Asolute Percentage Error)\n",
        "- Scale Dependent Error의 단점을 보완하기 위한 방법이다.\n",
        "- 하지만 MAPE 역시 실제 예측 값이 1보다 작을 경우 분모가 작아져 무한대에 가까워질 수 있다는 단점이 있다.\n",
        "``` python\n",
        "from sklearn.utils import check_arrays\n",
        "def mean_absolute_percentage_error(y_true, y_pred): \n",
        "    y_true, y_pred = check_arrays(y_true, y_pred)\n",
        "    return np.mean(np.abs((y_true - y_pred) / y_true)) * 100\n",
        "```\n",
        "\n",
        "> ### MSE(Mean Squared Error)\n",
        "```python\n",
        "from sklearn.metrics import mean_squared_error\n",
        "mean_squared_error(y_test, y_predict)\n",
        "```\n",
        "\n",
        "> ### Objective function\n",
        "- The most general term for any function that you optimize during training.\n",
        "- For example, a probability of generating training set in maximum likelihood approach is a well defined objective function, but it is not a loss function nor cost function (however you could define an equivalent cost function). For example:\n",
        "\n",
        "> ### Online learning <-> Batch learning\n",
        "- 데이터를 순차적으로 한 개씩 또는 mini-batch 단위로 주입해서 시스템을 훈련시킴\n",
        "- 새로운 데이터가 도착하는 대로 즉시 학습할 수 있다.\n",
        "\n",
        "\n",
        "> ### Overfitting\n",
        " - 모델이 Train Dataset에 너무 잘 맞아서 일반성이 떨어지게 되는 문제\n",
        " - 즉 Train Dataset을 너무 과하게 학습해 학습되지 않은 데이터가 들어오면 분류하지 못하게 되는 것\n",
        " - 위 그림의 오른쪽 그림들이 과대적합의 예시\n",
        " - 보시다시피 Train Set을 거의 다 거치거나 분류해내며 굉장히 높은 성능을 보여주고 있지만, 새로운 변수에 대응하기 어려움\n",
        " - 그림의 가운데 모델이 적합한 모델이라고 할 수 있음!\n",
        "\n",
        "> ### OvA 전략\n",
        "- label 개수만큼 분류기를 만드는 방법\n",
        "\n",
        "> ### OvO 전략\n",
        "- label combination 2만큼의 조합마다 만들 수 있는 분류기를 다 만드는 방법\n",
        "\n",
        "> ### Partial Derivative\n",
        "- 편도함수\n",
        "- 모델 parameter에 대해 비용 함수 gradient를 계산하는 것!\n",
        "- 즉, parameter가 조금 변경될 때 cost function이 얼마나 바뀐지 계산하는 함수\n",
        "\n",
        "> ### Precision (정밀도)\n",
        "- 정밀도(precision)란 positive 클래스에 속한다고 분류한 샘플 중 실제로 positive 클래스에 속하는 샘플 수의 비율\n",
        "- 높을수록 좋은 모형!!!\n",
        "$$precision=\\frac{TP}{TP+FP}$$\n",
        "``` python\n",
        "from sklearn.metrics import precision_score\n",
        "y_true = [0, 0, 0, 1, 1, 1, 1, 1, 1, 1]\n",
        "y_pred = [0, 0, 1, 0, 0, 1, 1, 1, 1, 1]\n",
        "precision_score(y_true, y_pred)\n",
        "```\n",
        "\n",
        "> ### Recall (재현율)\n",
        "- 재현율(recall)이란 실제 positive 클래스에 속한 표본 중에 positive 클래스에 속한다고 출력한 표본의 수의 비율\n",
        "- 높을수록 좋은 모형!!\n",
        "- TPR(true positive rate) 또는 민감도(sensitivity)라고도 합니다.\n",
        "$$recall=\\frac{TP}{TP+FN}$$\n",
        "``` python\n",
        "from sklearn.metrics import recall_score\n",
        "y_true = [0, 0, 0, 1, 1, 1, 1, 1, 1, 1]\n",
        "y_pred = [0, 0, 1, 0, 0, 1, 1, 1, 1, 1]\n",
        "recall_score(y_true, y_pred)\n",
        "```\n",
        "\n",
        "> ### ROC\n",
        "- ROC이란 TPR과 FPR은 어떤 기준을 연속적으로 바꾸며 측정해야 하는데 이를 한눈에 볼 수 있게 한 것\n",
        "- ![ROC_curve](https://t1.daumcdn.net/cfile/tistory/262E8E3F544837AD27)<br>\n",
        "- 위 그림처럼 ROC 곡선은 TPR과 FPR이 둘다 [0,1]의 범위이며 (0,0)에서 (1,1)을 잇는 곡선이다. \n",
        "\n",
        "> ### Sampling Noise\n",
        "- 샘플이 작을 때 우연에 의한 대표성이 없는 데이터가 생겼음을 의미\n",
        "\n",
        "> ### Sigmoid function\n",
        "- $S(x) = \\frac{1}{1 + e^{-x}}$\n",
        "\n",
        "> ### Transformer(변환기)\n",
        "- dataset을 변환하는 estimator를 transformer라고 함\n",
        "\n",
        "> ### Underfitting\n",
        " - Overfitting과 반대 개념\n",
        " - 모델이 너무 단순해서 데이터의 내재된 구조를 학습하지 못하는 것\n",
        " - 위 그림의 왼쪽 그림이 underfitting.\n",
        "\n",
        "> ### Variance\n",
        " - Variance는 예측된 값들이 서로 얼마나 멀리 떨어져 있는지에 대한 척도"
      ]
    },
    {
      "cell_type": "markdown",
      "metadata": {
        "colab_type": "text",
        "id": "E-zlueslZ7fe"
      },
      "source": [
        "# 2. Machine Learning 종류"
      ]
    },
    {
      "cell_type": "markdown",
      "metadata": {
        "colab_type": "text",
        "id": "IknJz98B6eFD"
      },
      "source": [
        "![123123](https://wordstream-files-prod.s3.amazonaws.com/s3fs-public/styles/simple_image/public/images/machine-learning1.png?SnePeroHk5B9yZaLY7peFkULrfW8Gtaf&itok=yjEJbEKD)"
      ]
    },
    {
      "cell_type": "markdown",
      "metadata": {
        "colab_type": "text",
        "id": "0goZ-1yFjQ6l"
      },
      "source": [
        "- Machine Learning에는 크게 지도학습(Supervised Learning), 비지도학습(Unsupervised Learning)으로 나뉜다.\n"
      ]
    },
    {
      "cell_type": "markdown",
      "metadata": {
        "colab_type": "text",
        "id": "AJ7DZyJVcHzi"
      },
      "source": [
        "\n",
        "> 지도학습\n",
        "- 답이 이미 있는 데이터를 기계가 학습한 뒤, 새로운 데이터가 들어왔을 때 답을 예측하는 방법\n",
        "- Regression, Classification이 이에 해당\n",
        "\n",
        "> 비지도학습\n",
        " - 답이 없는 데이터의 특징들을 기계가 스스로 학습한 뒤 이를 바탕으로 답을 내주는 방법\n",
        " - Clustering, Dimensionality Reduction, Visualization, 연관규칙학습이 이에 해당"
      ]
    },
    {
      "cell_type": "markdown",
      "metadata": {
        "colab_type": "text",
        "id": "xKvXhJJYZ7nq"
      },
      "source": [
        "# 3. Machine Learning 프로젝트 프로세스"
      ]
    },
    {
      "cell_type": "markdown",
      "metadata": {
        "colab_type": "text",
        "id": "DSRYORPDZ7uv"
      },
      "source": [
        "## 3.1 큰 그림 보기!"
      ]
    },
    {
      "cell_type": "markdown",
      "metadata": {
        "colab_type": "text",
        "id": "-5sW7b_7ah0T"
      },
      "source": [
        "### 3.1.1 목표/문제 정의\n",
        "- 우리가 해결하고자 하는 문제가 뭔지?\n",
        "- Machine Learning 모델을 통해서 해결하고자 하는 문제를 설정!\n",
        "- 예시\n",
        " - 매출 회복을 위해 고객별 STP 전략을 활용한 타겟 마케팅 전략 수립\n",
        " - 사기거래의 비중이 높아지는데 사기거래를 예측을 통한 비용 감소\n",
        " - 고객들이 주문할 상품량을 예측을 통한 물류 시스템 효율성 증진\n",
        " - 어린아이에게 안전한 동영상을 걸러내주는 모델 만들기\n",
        " - CCTV로 좀도둑을 잡는 모델 만들기"
      ]
    },
    {
      "cell_type": "markdown",
      "metadata": {
        "colab_type": "text",
        "id": "6aGwgB_wbCrO"
      },
      "source": [
        "### 3.1.2 성능 측정 지표 선택"
      ]
    },
    {
      "cell_type": "markdown",
      "metadata": {
        "colab_type": "text",
        "id": "s61epZtz_JRI"
      },
      "source": [
        "#### Model Evaluation (Regression)"
      ]
    },
    {
      "cell_type": "markdown",
      "metadata": {
        "colab_type": "text",
        "id": "khIL1lzv_JRJ"
      },
      "source": [
        "- Regression은 평가할 때 **실제 답과 예측값**이 얼마나 떨어져있는지로 평가!"
      ]
    },
    {
      "cell_type": "markdown",
      "metadata": {
        "colab_type": "text",
        "id": "7TEuHGJ5_JRJ"
      },
      "source": [
        "- MAE, MSE, RMSE 모두 vector와 target vector 사이의 거리를 재는 방법\n"
      ]
    },
    {
      "cell_type": "markdown",
      "metadata": {
        "colab_type": "text",
        "id": "gSNzu-U9_JRJ"
      },
      "source": [
        "##### MAE(Mean Absolute Error)"
      ]
    },
    {
      "cell_type": "markdown",
      "metadata": {
        "colab_type": "text",
        "id": "sc2ixDk9_JRK"
      },
      "source": [
        "$MAE = \\frac{1}{N}\\sum_{(i=1)}^N\\left\\lvert{f_i-y_i}\\right\\rvert$"
      ]
    },
    {
      "cell_type": "code",
      "metadata": {
        "colab_type": "code",
        "id": "0k3TZ7M8_JRK",
        "colab": {}
      },
      "source": [
        "from sklearn.metrics import mean_absolute_error\n",
        "\n",
        "mean_absolute_error(y_test, y_predict)"
      ],
      "execution_count": 0,
      "outputs": []
    },
    {
      "cell_type": "markdown",
      "metadata": {
        "colab_type": "text",
        "id": "N-ohcAF__JRN"
      },
      "source": [
        "##### MSE(Mean Squared Error)"
      ]
    },
    {
      "cell_type": "markdown",
      "metadata": {
        "colab_type": "text",
        "id": "sCmm9Fcn_JRN"
      },
      "source": [
        "$MSE = \\frac{1}{N}\\sum_{(i=1)}^N(f_i-y_i)^2$"
      ]
    },
    {
      "cell_type": "code",
      "metadata": {
        "colab_type": "code",
        "id": "lOv4hxGV_JRN",
        "colab": {}
      },
      "source": [
        "from sklearn.metrics import mean_squared_error\n",
        "\n",
        "mean_squared_error(y_test, y_predict)"
      ],
      "execution_count": 0,
      "outputs": []
    },
    {
      "cell_type": "markdown",
      "metadata": {
        "colab_type": "text",
        "id": "8ECanUSo_JRP"
      },
      "source": [
        "##### RMSE(Root Mean Squared Error)"
      ]
    },
    {
      "cell_type": "markdown",
      "metadata": {
        "colab_type": "text",
        "id": "LpBlzRcG_JRP"
      },
      "source": [
        "$RMSE = \\sqrt{\\frac{1}{N}\\sum_{(i=1)}^N(f_i-y_i)^2}$\n",
        "\n",
        "- RMSE가 MAE보다 조금 더 outlier에 민감함"
      ]
    },
    {
      "cell_type": "code",
      "metadata": {
        "colab_type": "code",
        "id": "NCJg2FZP_JRQ",
        "colab": {}
      },
      "source": [
        "from sklearn.metrics import mean_squared_error\n",
        "\n",
        "housing_predictions = lin_reg.predict(housing_prepared)\n",
        "lin_mse = mean_squared_error(housing_labels, housing_predictions)\n",
        "lin_rmse = np.sqrt(lin_mse)\n",
        "lin_rmse"
      ],
      "execution_count": 0,
      "outputs": []
    },
    {
      "cell_type": "markdown",
      "metadata": {
        "colab_type": "text",
        "id": "vp5f2N3R_JRS"
      },
      "source": [
        "##### MAPE"
      ]
    },
    {
      "cell_type": "markdown",
      "metadata": {
        "colab_type": "text",
        "id": "xvbS1Pqw_JRS"
      },
      "source": [
        "$MAPE = \\frac{1}{n}\\sum_{t=1}^n |\\frac{y_i-f_i}{y_i}|$\n",
        "- Scale Dependent Error의 단점을 보완하기 위한 방법이다.\n",
        "- 하지만 MAPE 역시 실제 예측 값이 1보다 작을 경우 분모가 작아져 무한대에 가까워질 수 있다는 단점이 있다."
      ]
    },
    {
      "cell_type": "code",
      "metadata": {
        "colab_type": "code",
        "id": "20cezBFE_JRS",
        "colab": {}
      },
      "source": [
        "from sklearn.utils import check_arrays\n",
        "def mean_absolute_percentage_error(y_true, y_pred): \n",
        "    y_true, y_pred = check_arrays(y_true, y_pred)\n",
        "\n",
        "    #if _is_1d(y_true): \n",
        "    #    y_true, y_pred = _check_1d_array(y_true, y_pred)\n",
        "\n",
        "    return np.mean(np.abs((y_true - y_pred) / y_true)) * 100"
      ],
      "execution_count": 0,
      "outputs": []
    },
    {
      "cell_type": "markdown",
      "metadata": {
        "colab_type": "text",
        "id": "11nm8K92_JRV"
      },
      "source": [
        "#### Model Evaluation (Classification)"
      ]
    },
    {
      "cell_type": "markdown",
      "metadata": {
        "colab_type": "text",
        "id": "o7zE1spi_JRW"
      },
      "source": [
        "[참조 사이트](https://frhyme.github.io/machine-learning/clf_%ED%8F%89%EA%B0%80%ED%95%98%EA%B8%B0/)  \n",
        "\n",
        "<img src=\"https://t1.daumcdn.net/cfile/tistory/99DC064C5BE056CE10\" alt=\"Drawing\" style=\"width: 500px;\"/>  \n",
        "- True Positive(TP) : 실제 True인 정답을 True라고 예측 (정답)\n",
        "- False Positive(FP) : 실제 False인 정답을 True라고 예측 (오답)\n",
        "- False Negative(FN) : 실제 True인 정답을 False라고 예측 (오답)\n",
        "- True Negative(TN) : 실제 False인 정답을 False라고 예측 (정답)<br>"
      ]
    },
    {
      "cell_type": "markdown",
      "metadata": {
        "colab_type": "text",
        "id": "OLzHRm1K_JRW"
      },
      "source": [
        "##### 정확도(accuracy)"
      ]
    },
    {
      "cell_type": "markdown",
      "metadata": {
        "colab_type": "text",
        "id": "DeEzfRK3_JRW"
      },
      "source": [
        "- 정확도(accuracy)란 전체 샘플 중 맞게 예측한 샘플 수의 비율\n",
        "- 높을수록 좋은 모형이고 일반적으로 학습에서 최적화 목적함수로 사용됨!!\n",
        "- 정확도(Accuracy)의 가장 큰 문제점은 **클래스의 분포가 같을 때만 이용 가능하다는 점**\n",
        "- 이러한 **단점을 보완**하는 지표가 정밀도(Precision)와 재현율(Recall), ROC 곡선과 AUC입니다.\n",
        "\n",
        "$$accuracy=\\frac{TP+TN}{TP+TN+FP+FN}$$<br>\n",
        "``` python\n",
        "from sklearn.metrics import accuracy_score\n",
        "y_true = [0, 0, 0, 1, 1, 1, 1, 1, 1, 1]\n",
        "y_pred = [0, 0, 1, 0, 0, 1, 1, 1, 1, 1]\n",
        "\n",
        "accuracy_score(y_true, y_pred)\n",
        "```\n",
        "\n",
        "\n"
      ]
    },
    {
      "cell_type": "markdown",
      "metadata": {
        "colab_type": "text",
        "id": "GHx_U2KT_JRX"
      },
      "source": [
        "##### 정밀도(precision)"
      ]
    },
    {
      "cell_type": "markdown",
      "metadata": {
        "colab_type": "text",
        "id": "1_0MN98g_JRX"
      },
      "source": [
        "- 정밀도(precision)란 positive 클래스에 속한다고 분류한 샘플 중 실제로 positive 클래스에 속하는 샘플 수의 비율\n",
        "- 높이려면 진짜진짜 아주아주 확실한 것 하나만 제대로 예측하면 완벽한 정밀도를 얻음!\n",
        "- 높을수록 좋은 모형!!!\n",
        "\n",
        "$$precision=\\frac{TP}{TP+FP}$$\n",
        "\n",
        "``` python\n",
        "from sklearn.metrics import precision_score\n",
        "y_true = [0, 0, 0, 1, 1, 1, 1, 1, 1, 1]\n",
        "y_pred = [0, 0, 1, 0, 0, 1, 1, 1, 1, 1]\n",
        "\n",
        "precision_score(y_true, y_pred)\n",
        "```"
      ]
    },
    {
      "cell_type": "markdown",
      "metadata": {
        "colab_type": "text",
        "id": "uokHKNvk_JRX"
      },
      "source": [
        "##### 재현율(recall)"
      ]
    },
    {
      "cell_type": "markdown",
      "metadata": {
        "colab_type": "text",
        "id": "vLsU5a9u_JRY"
      },
      "source": [
        "- 재현율(recall)이란 실제 positive 클래스에 속한 표본 중에 positive 클래스에 속한다고 출력한 표본의 수의 비율\n",
        "- 높을수록 좋은 모형!!\n",
        "- TPR(true positive rate) 또는 민감도(sensitivity)라고도 합니다.\n",
        "\n",
        "$$recall=\\frac{TP}{TP+FN}$$\n",
        "\n",
        "``` python\n",
        "from sklearn.metrics import recall_score\n",
        "y_true = [0, 0, 0, 1, 1, 1, 1, 1, 1, 1]\n",
        "y_pred = [0, 0, 1, 0, 0, 1, 1, 1, 1, 1]\n",
        "\n",
        "recall_score(y_true, y_pred)\n",
        "```"
      ]
    },
    {
      "cell_type": "markdown",
      "metadata": {
        "colab_type": "text",
        "id": "knuXZ0-x_JRY"
      },
      "source": [
        "##### F Score, F1 score"
      ]
    },
    {
      "cell_type": "markdown",
      "metadata": {
        "colab_type": "text",
        "id": "Oxu--vla_JRa"
      },
      "source": [
        "- F Score는 precision과 recall의 **가중조화평균**\n",
        "- 베타($\\beta$)는 정밀도에 주어지는 가중치\n",
        "\n",
        "$$F_β=\\frac{(1+β^2)(precision*recall)}{β^2precision+recall}$$  \n",
        " \n",
        "- 베타가 1인 경우가 F1 Score!\n",
        "$$F_1=\\frac{2⋅precision⋅recall}{precision+recall}$$\n",
        "\n",
        "``` python\n",
        "from sklearn.metrics import f1_score\n",
        "y_true = [0, 0, 0, 1, 1, 1, 1, 1, 1, 1]\n",
        "y_pred = [0, 0, 1, 0, 0, 1, 1, 1, 1, 1]\n",
        "\n",
        "f1_score(y_true, y_pred)\n",
        "```"
      ]
    },
    {
      "cell_type": "markdown",
      "metadata": {
        "colab_type": "text",
        "id": "owvJiCHQ_JRa"
      },
      "source": [
        "##### Precision vs Recall vs F1 score"
      ]
    },
    {
      "cell_type": "markdown",
      "metadata": {
        "colab_type": "text",
        "id": "pbmfUst0_JRa"
      },
      "source": [
        "- 무조건 F1 score만 보는 것은 잘못 됨!\n",
        "- 맨 처음 큰 그림을 볼 때 목표/문제 정의에 따라 봐야되는 성능지표가 달라진다!\n",
        "- 유해동영상을 어린아이에게 걸러내는 분류기를 훈련시킨다면 좋은 동영상이 많이 제외되더라도(낮은 재현율) 안전한 것들만 노출시키는(높은 정밀도) 모델이 좋음!\n",
        "- 좀도둑을 잡는 분류기라면 경비원이 잘못된 호출로 고생하셔도(정확도가 30%라서) 재현율이 99%라면 모든 좀도둑을 잡은 것이기 때문에 좋은 모델! "
      ]
    },
    {
      "cell_type": "markdown",
      "metadata": {
        "colab_type": "text",
        "id": "-Vvcglha_JRb"
      },
      "source": [
        "- 분류기에서 predict( ) 메서드 대신 decision_function( ) 메서드를 쓰면 [샘플의 점수]를 얻을 수 있다.\n",
        "- 이 점수를 기반으로 threshold를 정해 예측을 만들 수 있다.\n",
        "- precision_recall_cureve( ) 함수를 이용해서 모든 threshold에 대해 recall과 precision을 계산가능\n",
        "\n",
        "```python\n",
        "from sklearn.metrics import precision_recall_curve\n",
        "\n",
        "precisions, recalls, thresholds = precision_recall_curve(y_train_5, y_scores)\n",
        "```\n",
        "그래프 그리기\n",
        "```python\n",
        "def plot_precision_recall_vs_threshold(precisions, recalls, thresholds):\n",
        "    plt.plot(thresholds, precisions[:-1], \"b--\", label=\"정밀도\", linewidth=2)\n",
        "    plt.plot(thresholds, recalls[:-1], \"g-\", label=\"재현율\", linewidth=2)\n",
        "    plt.xlabel(\"임계값\", fontsize=16)\n",
        "    plt.legend(loc=\"upper left\", fontsize=16)\n",
        "    plt.ylim([0, 1])\n",
        "\n",
        "plt.figure(figsize=(8, 4))\n",
        "plot_precision_recall_vs_threshold(precisions, recalls, thresholds)\n",
        "plt.xlim([-700000, 700000])\n",
        "save_fig(\"precision_recall_vs_threshold_plot\")\n",
        "plt.show()\n",
        "```\n",
        "![](data:image/png;base64,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)\n",
        "\n",
        "- 작업에 맞는 최선의 threshold를 선택하면 됨"
      ]
    },
    {
      "cell_type": "markdown",
      "metadata": {
        "colab_type": "text",
        "id": "Nzpq7v3j_JRb"
      },
      "source": [
        "##### Classification_report"
      ]
    },
    {
      "cell_type": "markdown",
      "metadata": {
        "colab_type": "text",
        "id": "ogE6ii_K_JRc"
      },
      "source": [
        "- Classification report는 sklearn 패키지의 metrics 패키지에서 precision, recall , F1 score를 구할 때 쓰는 메소드\n",
        "- Classification report는 각각의 클래스를 양성(positive) 클래스로 보았을 때의  precision, recall , F1 score를 각각 구하고 그 평균값으로 전체 모형의 성능을 평가함!!\n",
        "\n",
        "``` python\n",
        "from sklearn.metrics import classification_report\n",
        "\n",
        "y_true = [0, 0, 0, 1, 1, 1, 1, 1, 1, 1]\n",
        "y_pred = [0, 0, 1, 0, 0, 1, 1, 1, 1, 1]\n",
        "\n",
        "print(classification_report(y_true, y_pred, target_names=['class 0', 'class 1']))\n",
        "```"
      ]
    },
    {
      "cell_type": "markdown",
      "metadata": {
        "colab_type": "text",
        "id": "mjHuw2DA_JRc"
      },
      "source": [
        "##### ROC, AUC"
      ]
    },
    {
      "cell_type": "markdown",
      "metadata": {
        "colab_type": "text",
        "id": "a7tK5yr1_JRc"
      },
      "source": [
        "> ROC, AUC\n",
        "- ROC이란 TPR과 FPR은 어떤 기준을 연속적으로 바꾸며 측정해야 하는데 이를 한눈에 볼 수 있게 한 것\n",
        "- AUC란 ROC 곡선 아래 부분의 면적이다. 1에 가까울수록 성능이 좋음!\n",
        "- ![ROC_curve](https://t1.daumcdn.net/cfile/tistory/262E8E3F544837AD27)<br>\n",
        "- 위 그림처럼 ROC 곡선은 TPR과 FPR이 둘다 [0,1]의 범위이며 (0,0)에서 (1,1)을 잇는 곡선이다. \n",
        "\n",
        "- TRP(True Positive Rate) = recall\n",
        "$$TPR=\\frac{TP}{TP+FN}$$<br>\n",
        "- FPR(False Positive Rate)\n",
        "$$FPR=\\frac{FP}{FP+TN}$$<br>\n",
        "- TPR과 FPR은 반비례 관계에 있음\n",
        "  - 예시) 3인지 아닌지 판단할 때, 조금만 3처럼 보여도 모두 3이라고 분류할 경우, 이 때의 TPR은 1에 가까워지지만 반대로 FPR은 매우 낮아진다. 반대로 조금만 비슷하지 않아도 모두 3이 아니라고 분류할 경우 TPR은 급격히 낮아져 0에 가까워지겠지만, FPR은 반대로 급격히 높아져 1에 가까워진다.(3이라고 분류 자체를 안하므로, 잘못 분류하는 경우가 없는 것). 이처럼 TPR과 FPR은 어떤 기준(언제 3이라고 예측할까?)을 연속적으로 바꾸며 측정해야 하는데 이를 한눈에 볼 수 있게 한 것이 바로 **ROC 곡선**입니다.  \n"
      ]
    },
    {
      "cell_type": "code",
      "metadata": {
        "colab_type": "code",
        "id": "SdnGTJLw_JRd",
        "colab": {}
      },
      "source": [
        "from sklearn.metrics import roc_auc_score\n",
        "y_true = np.array([0, 0, 0, 1, 1, 1, 1, 1, 1, 1])\n",
        "y_scores = np.array([0.1, 0.4, 0.35, 0.8])\n",
        "roc_auc_score(y_true, y_scores)"
      ],
      "execution_count": 0,
      "outputs": []
    },
    {
      "cell_type": "markdown",
      "metadata": {
        "colab_type": "text",
        "id": "pg7qcAhD_JRe"
      },
      "source": [
        "시각화"
      ]
    },
    {
      "cell_type": "code",
      "metadata": {
        "colab_type": "code",
        "id": "dKF-alP0_JRe",
        "colab": {}
      },
      "source": [
        "import matplotlib.pyplot as plt \n",
        "\n",
        "from sklearn.metrics import accuracy_score, precision_score, precision_recall_curve\n",
        "from sklearn.metrics import classification_report, confusion_matrix\n",
        "from sklearn.metrics import roc_curve, roc_auc_score\n",
        "\n",
        "from sklearn.linear_model import LogisticRegression\n",
        "\n",
        "def learn_and_eval_clf(x, y_true):\n",
        "    clf = LogisticRegression(random_state=42)\n",
        "    clf.fit(x, y_true)\n",
        "\n",
        "    y_pred = clf.predict(x)\n",
        "    print(\"accuracy_score: {}\".format( accuracy_score(y_true, y_pred)))\n",
        "    print(\"precision_score: {}\".format( precision_score(y_true, y_pred)))\n",
        "    #print(\"AUC: Area Under Curve: {}\".format(roc_auc_score(y_true, y_pred_proba[:, 1])))\n",
        "    #print(\"Classificcation Report: \\n{}\".format(classification_report(y_true, y_pred)))\n",
        "    #print(\"Confusition matrix: \\n{}\".format(confusion_matrix(y_true, y_pred)))\n",
        "\n",
        "    y_score = clf.decision_function(x)\n",
        "    precision, recall, _ = precision_recall_curve(y_true, y_score)\n",
        "    fpr, tpr, _ = roc_curve(y_true, y_score)\n",
        "\n",
        "    f, axes = plt.subplots(1, 2, sharex=True, sharey=True)\n",
        "    f.set_size_inches((8, 4)) \n",
        "    axes[0].fill_between(recall, precision, step='post', alpha=0.2, color='b')\n",
        "    axes[0].set_title('Recall-Precision Curve')\n",
        "\n",
        "    axes[1].plot(fpr, tpr)\n",
        "    axes[1].plot([0, 1], [0, 1], linestyle='--')\n",
        "    axes[1].set_title('ROC curve')\n",
        "    #plt.save\n",
        "    return f\n",
        "\n",
        "## - 임의로 각각 평균이 0.0, 0.25인, 큰 차이가 나지 않는 샘플들을 뽑아서, 분류해본다. \n",
        "\n",
        "sample_size = 100\n",
        "x = np.vstack(\n",
        "    [np.random.normal(0, 1, sample_size*2).reshape(sample_size, 2), \n",
        "     np.random.normal(0.25, 1, sample_size*2).reshape(sample_size, 2), \n",
        "    ]\n",
        ")\n",
        "y_true = np.array([0 for i in range(0, sample_size)]+[1 for i in range(0, sample_size)])\n",
        "\n",
        "\n",
        "try1 = learn_and_eval_clf(x, y_true)\n",
        "\n",
        "### 임의로 각각 평균이 0.0, 2인, 큰 차이가 나지 않는 샘플들을 뽑아서, 분류해본다. \n",
        "\n",
        "sample_size = 100\n",
        "x = np.vstack(\n",
        "    [np.random.normal(0, 1, sample_size*2).reshape(sample_size, 2), \n",
        "     np.random.normal(2, 1, sample_size*2).reshape(sample_size, 2), \n",
        "    ]\n",
        ")\n",
        "y_true = np.array([0 for i in range(0, sample_size)]+[1 for i in range(0, sample_size)])\n",
        "try2 = learn_and_eval_clf(x, y_true)"
      ],
      "execution_count": 0,
      "outputs": []
    },
    {
      "cell_type": "markdown",
      "metadata": {
        "colab_type": "text",
        "id": "7vivdCBl_JRh"
      },
      "source": [
        "> 언제 ROC를 쓰고 언제 PR 곡선을 쓸까?\n",
        "- PR곡선: 일반적으로는 양성 클래스가 드물거나 FN보다 FP가 더 중요할 때\n",
        "  - e.g 5와 5가 아닌 숫자 구분 분류기\n",
        "- ROC곡선: 나머지"
      ]
    },
    {
      "cell_type": "markdown",
      "metadata": {
        "colab_type": "text",
        "id": "8k9BR8ri_JRh"
      },
      "source": [
        "##### Confusion matrix (에러 종류 분석)"
      ]
    },
    {
      "cell_type": "markdown",
      "metadata": {
        "colab_type": "text",
        "id": "O-C0Of5j_JRh"
      },
      "source": [
        "> Confusion Matrix\n",
        "- 모델의 성능을 향상시키는 방법 중 하나로 에러의 종류를 분석하는 방법!\n",
        "- 가운데 대각선이 올바르게 분류된 것이고 나머지가 잘못 분류된 것들이다!\n",
        "- 오차행렬을 분석하면 classifier의 성능 향상 방안에 대한 통찰을 얻을 수 있다.\n",
        "\n",
        "![](https://www.harrisgeospatial.com/docs/html/images/Classification/ConfusionMatrix.gif)"
      ]
    },
    {
      "cell_type": "code",
      "metadata": {
        "colab_type": "code",
        "id": "06IXn9_e_JRh",
        "colab": {}
      },
      "source": [
        "# confusion matrix 가장 기본적인 형태\n",
        "from sklearn.metrics import confusion_matrix\n",
        "\n",
        "confusion_matrix(y_train_5, y_train_pred)"
      ],
      "execution_count": 0,
      "outputs": []
    },
    {
      "cell_type": "code",
      "metadata": {
        "colab_type": "code",
        "id": "9pbeVEc7_JRk",
        "colab": {}
      },
      "source": [
        "# confusion matrix 그려보기\n",
        "from sklearn.metrics import confusion_matrix\n",
        "y_train_pred = cross_val_predict(sgd_clf, X_train_scaled, y_train, cv=3)\n",
        "conf_mx = confusion_matrix(y_train, y_train_pred)\n",
        "conf_mx\n",
        "plt.matshow(conf_mx, cmap=plt.cm.gray)"
      ],
      "execution_count": 0,
      "outputs": []
    },
    {
      "cell_type": "code",
      "metadata": {
        "colab_type": "code",
        "id": "gjC41zn4_JRl",
        "colab": {}
      },
      "source": [
        "# color confusion matrix 그리는 방법\n",
        "def plot_confusion_matrix(matrix):\n",
        "    \"\"\"컬러 오차 행렬을 원할 경우\"\"\"\n",
        "    fig = plt.figure(figsize=(8,8))\n",
        "    ax = fig.add_subplot(111)\n",
        "    cax = ax.matshow(matrix)\n",
        "    fig.colorbar(cax)"
      ],
      "execution_count": 0,
      "outputs": []
    },
    {
      "cell_type": "code",
      "metadata": {
        "colab_type": "code",
        "id": "AFum2L4p_JRm",
        "colab": {}
      },
      "source": [
        "# 에러 비율을 비교하는 법! -> 개수로 비교하면 이미지가 많은 클래스가 상대적으로 나쁘게 보임\n",
        "row_sums = conf_mx.sum(axis=1, keepdims=True)\n",
        "norm_conf_mx = conf_mx / row_sums\n",
        "\n",
        "np.fill_diagonal(norm_conf_mx, 0)\n",
        "plt.matshow(norm_conf_mx, cmap=plt.cm.gray)\n",
        "save_fig(\"confusion_matrix_errors_plot\", tight_layout=False)\n",
        "plt.show()"
      ],
      "execution_count": 0,
      "outputs": []
    },
    {
      "cell_type": "markdown",
      "metadata": {
        "colab_type": "text",
        "id": "-jJm24oFbDyo"
      },
      "source": [
        "### 3.1.3 가정 검사\n"
      ]
    },
    {
      "cell_type": "markdown",
      "metadata": {
        "colab_type": "text",
        "id": "Hay_yV-gwMSP"
      },
      "source": [
        "- 해결하고자 하는 문제가 분류인지 회귀인지 점검"
      ]
    },
    {
      "cell_type": "markdown",
      "metadata": {
        "colab_type": "text",
        "id": "bM_DC19NbFQ9"
      },
      "source": [
        "## 3.2 데이터 가져오기"
      ]
    },
    {
      "cell_type": "markdown",
      "metadata": {
        "colab_type": "text",
        "id": "QO4CTWK6bFWC"
      },
      "source": [
        "### 3.2.1 작업환경 만들기"
      ]
    },
    {
      "cell_type": "markdown",
      "metadata": {
        "colab_type": "text",
        "id": "NThPMlSVwYoD"
      },
      "source": [
        "#### step.1 pip 설치하기\n",
        "- python이 저장된 경로\\Scripts에 pip.exe이 있다.\n",
        "- 이 pip을 가져와서 pip을 설치하자!\n",
        "```\n",
        "pip3 install --upgrade pip\n",
        "```\n",
        "으로 최신버전 pip 업데이트!  \n"
      ]
    },
    {
      "cell_type": "markdown",
      "metadata": {
        "colab_type": "text",
        "id": "y7Tq-7j--iX0"
      },
      "source": [
        "#### step.2 필요한 패키지 깔기\n",
        "- \n",
        "```\n",
        "pip3 install --upgrade jupyter matplotlib numpy pandas scipy scikit-learn\n",
        "```\n",
        "- \n",
        "```\n",
        "python3 -c \"import jupyter matplotlib numpy pandas scipy scikit-learn\"\n",
        "```\n",
        "- [Mac 유저 개발환경 구축](https://subicura.com/2017/11/22/mac-os-development-environment-setup.html)  \n",
        "이 명령을 실행했을 때 어떤 에러, 메세지도 출력되지 않으면 성공!"
      ]
    },
    {
      "cell_type": "markdown",
      "metadata": {
        "colab_type": "text",
        "id": "Iywps9zRbGlz"
      },
      "source": [
        "### 3.2.2 데이터 구하기"
      ]
    },
    {
      "cell_type": "markdown",
      "metadata": {
        "colab_type": "text",
        "id": "vNqo__Q-pksC"
      },
      "source": [
        "\n",
        "- External data, Internal data, Primary data, Secondary data\n",
        " - Internal data: Base Data(Application, warranty card), Channel data\n",
        " - External data: Survey, Consulting data, Alliance Data\n",
        " - Primary data: 현존하지 않고 만드는 데이터\n",
        " - Secondary data: 이미 내가 가지고 있거나 남이 가지고 있는 데이터\n",
        "- 크롤링, 공공포털 등에서 가져와도 되구~\n"
      ]
    },
    {
      "cell_type": "markdown",
      "metadata": {
        "colab_type": "text",
        "id": "XdTwmwdvbGua"
      },
      "source": [
        "### 3.2.3 테스트 세트 만들기 \n"
      ]
    },
    {
      "cell_type": "markdown",
      "metadata": {
        "colab_type": "text",
        "id": "J6pj3xjW_JRq"
      },
      "source": [
        "#### Data 나누기 \n",
        "(Train data, Test data)\n"
      ]
    },
    {
      "cell_type": "markdown",
      "metadata": {
        "colab_type": "text",
        "id": "tYBsG-8Z_JRr"
      },
      "source": [
        "![datasets](https://t1.daumcdn.net/cfile/tistory/9951E5445AAE1BE025)\n",
        "\n",
        "\n",
        "\n"
      ]
    },
    {
      "cell_type": "markdown",
      "metadata": {
        "colab_type": "text",
        "id": "_mP90bGFxSRu"
      },
      "source": [
        "> train_test_split \n",
        "- test_size를 지정해주기만 하면 알아서 train과 test를 split함!\n",
        "```python\n",
        "from sklearn.model_selection import train_test_split\n",
        "```  \n",
        "numpy로 train, test 찢기\n",
        "```python\n",
        "import numpy as np\n",
        "shuffle_index = np.random.permutation(60000)\n",
        "X_train, y_train = X_train[shuffle_index], y_train[shuffle_index]\n",
        "```"
      ]
    },
    {
      "cell_type": "markdown",
      "metadata": {
        "colab_type": "text",
        "id": "zcwqmbYAxSVW"
      },
      "source": [
        "> StratifiedShuffleSplit\n",
        "- 그냥 train_test_split을 하면 label당 데이터가 고르게 섞이지 않을 수가 있다.\n",
        "- 그것을 피해 고르게 분배하기 위함~\n",
        "```python\n",
        "from sklearn.model_selection import StratifiedShuffleSplit\n",
        "split = StratifiedShuffleSplit(n_splits=1, test_size=0.2, random_state=42)\n",
        "for train_index, test_index in split.split(housing, housing[\"income_cat\"]):\n",
        "    strat_train_set = housing.loc[train_index]\n",
        "    strat_test_set = housing.loc[test_index]\n",
        "```\n"
      ]
    },
    {
      "cell_type": "markdown",
      "metadata": {
        "colab_type": "text",
        "id": "kkchB18abGyc"
      },
      "source": [
        "## 3.3 데이터로부터 insight를 얻기 위한 탐색과 시각화 (EDA)\n"
      ]
    },
    {
      "cell_type": "markdown",
      "metadata": {
        "colab_type": "text",
        "id": "o6AJm-kdbGqV"
      },
      "source": [
        "\n",
        "- 이 과정이 EDA (Exploratory Data Analysis)\n",
        "- 데이터 분포는 어떤지, 상관관계는 어떤지, Outlier가 있는지, 데이터가 골고루 분포했는지 결측치가 많은지 등등\n"
      ]
    },
    {
      "cell_type": "markdown",
      "metadata": {
        "colab_type": "text",
        "id": "uHVla3OfbG2m"
      },
      "source": [
        "## 3.4 머신러닝 알고리즘을 위한 데이터 준비 (FE)\n"
      ]
    },
    {
      "cell_type": "markdown",
      "metadata": {
        "colab_type": "text",
        "id": "f9i6TESYbG6e"
      },
      "source": [
        "\n",
        "### 3.4.1 데이터 정제 \n"
      ]
    },
    {
      "cell_type": "markdown",
      "metadata": {
        "colab_type": "text",
        "id": "k8xrnSacyOfN"
      },
      "source": [
        "- 이 과정이 FE (Feature Engineering)\n",
        "- FE는 굉장히 높은 전문성과 경험이 필요한 분야\n",
        "- FE에 대해서 자세하게 배우고 싶으면 2020-1 디자인팀 구글드라이브에 '[16기] 디자인팀 회칙 및 커리큘럼.docx'에 있는 Udemy FE강의를 참조할 것!"
      ]
    },
    {
      "cell_type": "markdown",
      "metadata": {
        "colab_type": "text",
        "id": "jiAATuLcbG-b"
      },
      "source": [
        "### 3.4.2 텍스트와 범주형 특성 다루기\n"
      ]
    },
    {
      "cell_type": "markdown",
      "metadata": {
        "colab_type": "text",
        "id": "5QA1AESgyyOu"
      },
      "source": [
        "> 범주형 특성을 다루는 방법은 크게 2가지\n",
        "\n",
        "1. Label encoding\n",
        "\n",
        "2. one-hot encoding"
      ]
    },
    {
      "cell_type": "markdown",
      "metadata": {
        "colab_type": "text",
        "id": "r20GVBEr0An0"
      },
      "source": [
        "#### 1. Label encoding\n",
        "- 카테고리 변수를 다른 정숫값으로 매핑해주는 방법\n",
        "- ['17학번','15학번', '17학번', '16학번', '19학번']을  \n",
        "  [0, 1, 0, 2, 3]으로 매핑하는 것\n",
        "- Pandas의 factorize( ) 메서드를 사용하면 됨.\n",
        "\n",
        "```python\n",
        "housing_cat_encoded, housing_categories = housing_cat.factorize()\n",
        "housing_cat_encoded[:10]\n",
        "```"
      ]
    },
    {
      "cell_type": "markdown",
      "metadata": {
        "colab_type": "text",
        "id": "mA3DV0a10Ary"
      },
      "source": [
        "#### 2. One-hot encoding\n",
        "- Label encoding의 단점? 컴퓨터가 못 알아먹음. 컴퓨터 입장에서는 Continuous Variable로 인식\n",
        "- 컴퓨터가 알아먹을 수 있게 하는 것이 One-hot encoding!\n",
        "- 컴퓨터가 이해할 수 있게 0, 1로만 표현하는 것  \n",
        "<br>\n",
        "\n",
        "![](https://img1.daumcdn.net/thumb/R720x0.q80/?scode=mtistory2&fname=http%3A%2F%2Fcfile27.uf.tistory.com%2Fimage%2F999790455B7D3327107DBD)\n",
        "- Pandas의 get_dummies( ) 메서드를 사용하면 됨.\n",
        "\n",
        "``` python\n",
        "# get_dummies() 예시\n",
        "df_dum = pd.get_dummies(df['pclass'])\n",
        "\n",
        "df_train = pd.get_dummies(df_train, prefix = ['Cabin'], columns=['Cabin'])\n",
        "\n",
        "df_dum = pd.get_dummies(df)\n",
        "\n",
        "temp = pd.get_dummies(temp, columns = ['Age_cut'])\n",
        "```"
      ]
    },
    {
      "cell_type": "markdown",
      "metadata": {
        "colab_type": "text",
        "id": "61q0ZkG2bHJx"
      },
      "source": [
        "### 3.4.3 특성 Scaling & Sampling & Pipeline\n"
      ]
    },
    {
      "cell_type": "markdown",
      "metadata": {
        "colab_type": "text",
        "id": "ehYbPA7B_JRu"
      },
      "source": [
        "####  Scaling"
      ]
    },
    {
      "cell_type": "markdown",
      "metadata": {
        "colab_type": "text",
        "id": "JX0iUQnYdMA-"
      },
      "source": [
        "> Scaling이란.....\n",
        " - scaling을 통해서 다차원의 값들을 분석하기 쉽게 만들어주고 자료의 overflow, underflow를 방지할 수 있다! \n",
        " - 또한 최적화 과정에서의 안정성 및 수렴속도를 향상!\n",
        " - k-means, Gradient Descent 등 거리 기반의 모델에서는 scaling이 매우 중요하다\n",
        " - Regression(Normal Equation), Tree based model은 Scaling이 중요하지 않다.\n",
        "<br>\n",
        "<br>\n",
        "\n",
        "> 종류\n",
        " - StandardScaler: 기본 스케일, 평균과 표준편차 사용\n",
        " - MinMaxScaler: 최대/최소값이 각각 1, 0이 되도록 하는 scaling\n",
        " - MaxAbsScaler: 최대절대값과 0이 각각 1, 0이 되도록 하는 scaling\n",
        " - RobustScaler: median과 IQR(interquartile range) 사용, outlier의 영향을 최소화한다."
      ]
    },
    {
      "cell_type": "code",
      "metadata": {
        "colab_type": "code",
        "id": "4mcFkUKN_JRv",
        "colab": {}
      },
      "source": [
        "# StandardScaler\n",
        "## 예제1\n",
        "from sklearn.preprocessing import StandardScaler\n",
        "standardScaler = StandardScaler()\n",
        "print(standardScaler.fit(train_data))\n",
        "train_data_standardScaled = standardScaler.transform(train_data)"
      ],
      "execution_count": 0,
      "outputs": []
    },
    {
      "cell_type": "code",
      "metadata": {
        "colab_type": "code",
        "id": "YXlr3ZWv_JRw",
        "colab": {}
      },
      "source": [
        "# MinMaxscaler\n",
        "## 예제1\n",
        "from sklearn.preprocessing import MinMaxScaler\n",
        "minMaxScaler = MinMaxScaler()\n",
        "print(minMaxScaler.fit(train_data))\n",
        "train_data_minMaxScaled = minMaxScaler.transform(train_data)\n",
        "\n",
        "## 예시2\n",
        "minmax = MinMaxScaler()\n",
        "train_X_mm = minmax.fit_transform(train_X_nu)\n",
        "train_X_mm_df = pd.DataFrame(train_X_mm, columns=train_X_nu.columns, index=train_X_nu.index)\n",
        "train_X_fin = pd.concat([train_X_mm_df, train_X_ca], axis=1)\n",
        "train_X_fin.index = range(len(train_X))"
      ],
      "execution_count": 0,
      "outputs": []
    },
    {
      "cell_type": "code",
      "metadata": {
        "colab_type": "code",
        "id": "Hr3_GEa2_JRx",
        "colab": {}
      },
      "source": [
        "# MaxAbsScaler\n",
        "from sklearn.preprocessing import MaxAbsScaler\n",
        "maxAbsScaler = MaxAbsScaler()\n",
        "print(maxAbsScaler.fit(train_data))\n",
        "train_data_maxAbsScaled = maxAbsScaler.transform(train_data)"
      ],
      "execution_count": 0,
      "outputs": []
    },
    {
      "cell_type": "code",
      "metadata": {
        "colab_type": "code",
        "id": "MFKt_Vhi_JRz",
        "colab": {}
      },
      "source": [
        "# RobustScaler 예시1\n",
        "from sklearn.preprocessing import RobustScaler\n",
        "robustScaler = RobustScaler()\n",
        "print(robustScaler.fit(train_data))\n",
        "train_data_robustScaled = robustScaler.transform(train_data)\n",
        "\n",
        "# RobustScaler 예시2_pandas에 적용하기\n",
        "from sklearn.preprocessing import RobustScaler\n",
        "scaler = RobustScaler()\n",
        "temp[['psfMag_u', 'psfMag_g']] = scaler.fit_transform(temp[['psfMag_u', 'psfMag_g']])\n",
        "temp"
      ],
      "execution_count": 0,
      "outputs": []
    },
    {
      "cell_type": "markdown",
      "metadata": {
        "colab_type": "text",
        "id": "1ZjaSFsa_JR1"
      },
      "source": [
        "#### Sampling"
      ]
    },
    {
      "cell_type": "markdown",
      "metadata": {
        "colab_type": "text",
        "id": "dBQYOfXHc_NH"
      },
      "source": [
        "> Oversampling\n",
        " - RandomOverSampler: 소수 클래스의 데이터를 반복해서 넣는 방법\n",
        "``` python\n",
        "X_samp, y_samp = RandomOverSampler(random_state=0).fit_sample(X_imb, y_imb)\n",
        "```\n",
        " - ADASYN: 소수 클래스 데이터와 그 데이터에서 가장 가까운 k개의 소수 클래스 데이터 중 무작위로 선택된 데이터 사이의 직선상에 가상의 소수 클래스 데이터를 만드는 방법\n",
        "```python\n",
        "X_samp, y_samp = ADASYN(random_state=0).fit_sample(X_imb, y_imb)\n",
        "```\n",
        " - SMOTE: ADASYN 방법처럼 데이터를 생성하지만 생성된 데이터를 무조건 소수 클래스라고 하지 않고 분류 모형에 따라 분류한다.\n",
        "```python\n",
        "X_samp, y_samp = SMOTE(random_state=4).fit_sample(X_imb, y_imb)\n",
        "```\n",
        " - SMOTENC: SMOTE와 유사하나 categorical 변수도 sampling 시킬 수 있는 방법\n",
        "```python\n",
        "X_res, y_res = SMOTENC(random_state=42, categorical_features=[18, 19]).fit_resample(X, y)\n",
        "```\n",
        "<br>\n",
        "<br>\n",
        "\n",
        "\n",
        "\n",
        "> Undersampling\n",
        " - **RandomUnderSampler**: 무작위로 데이터를 없애는 단순 샘플링\n",
        "```python\n",
        "  X_samp, y_samp = RandomUnderSampler(random_state=0).fit_sample(X_imb, y_imb)\n",
        "```\n",
        " - **TomekLinks**: 토멕링크(클래스가 다른 두 데이터 중 아주 가까이 붙어있는 데이터)를 찾아서 그 중 다수 클래스에 속한 데이터를 제외하는 방법\n",
        "```python\n",
        "X_samp, y_samp = TomekLinks(random_state=0).fit_sample(X_imb, y_imb)\n",
        "```\n",
        " - **CondensedNearestNeighbour**: 1-NN 모형으로 분류되지 않는 데이터만 남기는 방법\n",
        "```python\n",
        "X_samp, y_samp = CondensedNearestNeighbour(random_state=0).fit_sample(X_imb, y_imb)\n",
        "```\n",
        " - **OneSidedSelection**: 토맥링크 중 다수 클래스를 제외하고 나머지 데이터 중에서도 서로 붙어있는 다수 클래스 데이터는 1-NN 방법으로 제외한다.\n",
        "```python\n",
        "X_samp, y_samp = OneSidedSelection(random_state=0).fit_sample(X_imb, y_imb)\n",
        "```\n",
        " - **EditedNearestNeighbours**: 다수 클래스 데이터 중 가장 가까운 k(n_neighbors)개의 데이터가 모두(kind_sel=\"all\") 또는 다수(kind_sel=\"mode\") 다수 클래스가 아니면 삭제하는 방법이다. 소수 클래스 주변의 다수 클래스 데이터는 사라진다.\n",
        "```python\n",
        "X_samp, y_samp = EditedNearestNeighbours(kind_sel=\"all\", n_neighbors=5, random_state=0).fit_sample(X_imb, y_imb)\n",
        "```\n",
        " - **NeighbourhoodCleaningRule**: CNN(Condensed Nearest Neighbour) 방법과 ENN(Edited Nearest Neighbours) 방법을 섞은 것이다.\n",
        "```python\n",
        "X_samp, y_samp = NeighbourhoodCleaningRule(kind_sel=\"all\", n_neighbors=5, random_state=0).fit_sample(X_imb, y_imb)\n",
        "```\n",
        "<br>\n",
        "<br>\n",
        "\n",
        "> 복합샘플링\n",
        " - SMOTEENN: SMOTE + ENN\n",
        "```python\n",
        "X_samp, y_samp = SMOTEENN(random_state=0).fit_sample(X_imb, y_imb)\n",
        "```\n",
        " - SMOTETomek: SMOTE + Tomek\n",
        "```python\n",
        "X_samp, y_samp = SMOTETomek(random_state=4).fit_sample(X_imb, y_imb)\n",
        "```\n",
        "\n"
      ]
    },
    {
      "cell_type": "code",
      "metadata": {
        "colab_type": "code",
        "id": "uv9Uojbv_JR1",
        "colab": {}
      },
      "source": [
        "# SMOTE 코드\n",
        "from imblearn.over_sampling import SMOTE\n",
        "from sklearn.model_selection import train_test_split\n",
        "\n",
        "X_train, X_test, y_train, y_test = train_test_split(X, y, test_size=0.3, random_state=0)\n",
        "\n",
        "print(\"Number transactions X_train dataset: \", X_train.shape)\n",
        "print(\"Number transactions y_train dataset: \", y_train.shape)\n",
        "print(\"Number transactions X_test dataset: \", X_test.shape)\n",
        "print(\"Number transactions y_test dataset: \", y_test.shape)\n",
        "\n",
        "print(\"Before OverSampling, counts of label '1': {}\".format(sum(y_train==1)))\n",
        "print(\"Before OverSampling, counts of label '0': {} \\n\".format(sum(y_train==0)))\n",
        "\n",
        "sm = SMOTE(random_state=2)\n",
        "X_train_res, y_train_res = sm.fit_sample(X_train, y_train.ravel())\n",
        "\n",
        "print('After OverSampling, the shape of train_X: {}'.format(X_train_res.shape))\n",
        "print('After OverSampling, the shape of train_y: {} \\n'.format(y_train_res.shape))\n",
        "\n",
        "print(\"After OverSampling, counts of label '1': {}\".format(sum(y_train_res==1)))\n",
        "print(\"After OverSampling, counts of label '0': {}\".format(sum(y_train_res==0)))"
      ],
      "execution_count": 0,
      "outputs": []
    },
    {
      "cell_type": "code",
      "metadata": {
        "colab_type": "code",
        "id": "ORd8tC4n_JR2",
        "colab": {}
      },
      "source": [
        "from imblearn.under_sampling"
      ],
      "execution_count": 0,
      "outputs": []
    },
    {
      "cell_type": "code",
      "metadata": {
        "colab_type": "code",
        "id": "CXEVSVj4_JR3",
        "colab": {}
      },
      "source": [
        "# sampling 코드 모음\n",
        "X_samp, y_samp = RandomOverSampler(random_state=0).fit_sample(X_imb, y_imb)\n",
        "X_samp, y_samp = ADASYN(random_state=0).fit_sample(X_imb, y_imb)\n",
        "X_samp, y_samp = SMOTE(random_state=4).fit_sample(X_imb, y_imb)\n",
        "X_samp, y_samp = SMOTENC(random_state=42, categorical_features=[18, 19]).fit_resample(X_imb, y_imb)\n",
        "X_samp, y_samp = RandomUnderSampler(random_state=0).fit_sample(X_imb, y_imb)\n",
        "X_samp, y_samp = TomekLinks(random_state=0).fit_sample(X_imb, y_imb)\n",
        "X_samp, y_samp = CondensedNearestNeighbour(random_state=0).fit_sample(X_imb, y_imb)\n",
        "X_samp, y_samp = OneSidedSelection(random_state=0).fit_sample(X_imb, y_imb)\n",
        "X_samp, y_samp = EditedNearestNeighbours(kind_sel=\"all\", n_neighbors=5, random_state=0).fit_sample(X_imb, y_imb)\n",
        "X_samp, y_samp = NeighbourhoodCleaningRule(kind_sel=\"all\", n_neighbors=5, random_state=0).fit_sample(X_imb, y_imb)\n",
        "X_samp, y_samp = SMOTEENN(random_state=0).fit_sample(X_imb, y_imb)\n",
        "X_samp, y_samp = SMOTETomek(random_state=4).fit_sample(X_imb, y_imb)"
      ],
      "execution_count": 0,
      "outputs": []
    },
    {
      "cell_type": "markdown",
      "metadata": {
        "colab_type": "text",
        "id": "6p7t4qscbHNl"
      },
      "source": [
        "### 3.4.4 변환 파이프라인\n"
      ]
    },
    {
      "cell_type": "markdown",
      "metadata": {
        "colab_type": "text",
        "id": "JG20iu6t_JR5"
      },
      "source": [
        "#### Pipeline, FeatureUnion 이용하기\n"
      ]
    },
    {
      "cell_type": "markdown",
      "metadata": {
        "colab_type": "text",
        "id": "Aka-FTuMc4jg"
      },
      "source": [
        "pipline이란?\n",
        "- 연속된 변환을 순서대로 처리할수 있도록 도와주는 클래스임!\n",
        "- 연속된 단계를 나타내는 이름/estimator 쌍의 목록을 input으로 받음\n",
        "- 마지막 단계에는 estimator, transformer 모두 사용가능하며 그 외에는 모두 estimator  \n",
        "<br>  \n",
        "\n",
        "ColumnTransformer란?\n",
        "- 두 pipeline을 하나의 pipeline으로 합치기"
      ]
    },
    {
      "cell_type": "code",
      "metadata": {
        "colab_type": "code",
        "id": "guM-pJBr_JR5",
        "colab": {}
      },
      "source": [
        "# pipeline 예시\n",
        "from sklearn.pipeline import Pipeline\n",
        "from sklearn.preprocessing import StandardScaler\n",
        "\n",
        "num_pipeline = Pipeline([\n",
        "        ('imputer', SimpleImputer(strategy=\"median\")),\n",
        "        ('attribs_adder', CombinedAttributesAdder()),\n",
        "        ('std_scaler', StandardScaler()),\n",
        "    ])\n",
        "\n",
        "housing_num_tr = num_pipeline.fit_transform(housing_num)"
      ],
      "execution_count": 0,
      "outputs": []
    },
    {
      "cell_type": "code",
      "metadata": {
        "colab_type": "code",
        "id": "N4DWvipV_JR7",
        "colab": {}
      },
      "source": [
        "# ColumnTransformer 예시\n",
        "full_pipeline = ColumnTransformer([\n",
        "        (\"num_pipeline\", num_pipeline, num_attribs),\n",
        "        (\"cat_encoder\", OneHotEncoder(categories='auto'), cat_attribs),\n",
        "    ])"
      ],
      "execution_count": 0,
      "outputs": []
    },
    {
      "cell_type": "markdown",
      "metadata": {
        "colab_type": "text",
        "id": "lL1W4FCFbND6"
      },
      "source": [
        "## 3.5 모델 선택과 훈련"
      ]
    },
    {
      "cell_type": "markdown",
      "metadata": {
        "colab_type": "text",
        "id": "iWRKCTwXbNHk"
      },
      "source": [
        "### 3.5.1 훈련 세트에서 훈련하고 평가하기\n"
      ]
    },
    {
      "cell_type": "markdown",
      "metadata": {
        "colab_type": "text",
        "id": "4Ii82vIIh1El"
      },
      "source": [
        "- Train data로 훈련을 한 다음에 Test data로 평가를 하면 된다!\n",
        "- 평가 지표는 위에서 나온 지표 중에서 프로젝트에 제일 적합한 지표를 사용하면 된다."
      ]
    },
    {
      "cell_type": "markdown",
      "metadata": {
        "colab_type": "text",
        "id": "5U0ZrMfpbNLo"
      },
      "source": [
        "### 3.5.2 교차 검증을 사용한 평가\n"
      ]
    },
    {
      "cell_type": "markdown",
      "metadata": {
        "colab_type": "text",
        "id": "McV1bTkWxfr2"
      },
      "source": [
        "![datasets](https://t1.daumcdn.net/cfile/tistory/9951E5445AAE1BE025)\n",
        "\n",
        "\n",
        "\n"
      ]
    },
    {
      "cell_type": "markdown",
      "metadata": {
        "colab_type": "text",
        "id": "ziYQkn1ExSNj"
      },
      "source": [
        "> Validation Set이 왜 필요할까?\n",
        " - Validation Set을 통해 우리는 모델의 성능을 대략적으로 파악할 수 있음\n",
        " - Train Set의 일부를 떼어낸 후, 남은 부분을 학습한 뒤, 모델을 통해 떼어낸 부분에 대한 예측 진행!\n",
        " - 우리는 떼어낸 부분의 실제 값을 알고 있기 때문에 예측치와 비교하여 성능을 평가하는 여러 측정 공식을 통해 모델의 성능을 측정함\n",
        " -  그러니 Validation Set은 모의고사 문제인 셈이쥬.  \n",
        " <br>\n",
        " "
      ]
    },
    {
      "cell_type": "markdown",
      "metadata": {
        "colab_type": "text",
        "id": "Tt43DS3HdqRx"
      },
      "source": [
        "#### Cross Validation\n",
        "- Cross validation은 validation set을 뗄 만큼 data가 크지 않을 때 사용\n",
        "- Training Set을 여러 Subset으로 나누고 각 모델을 이 Subset의 조합으로 훈련시키고 나머지 부분으로 검증하는 방법이다.  \n",
        "![validation](https://t1.daumcdn.net/cfile/tistory/990DD2465B72F1491E)\n"
      ]
    },
    {
      "cell_type": "code",
      "metadata": {
        "colab_type": "code",
        "id": "C2C7OG7O_JR_",
        "colab": {}
      },
      "source": [
        "# Cross validation code\n",
        "from sklearn.model_selection import KFold\n",
        "from sklearn import metrics\n",
        "X = np.arange(16).reshape((8,-1)) ## 8개의 row, 2개의 column\n",
        "y = np.arange(8).reshape((-1,1))\n",
        "kf = KFold(n_splits=4) # 8개의 row를 각각 2줄짜리 4개의 set으로 분리합니다\n",
        "for train_index, test_index in kf.split(X):\n",
        "    print(\"TRAIN:\", train_index, \"TEST:\", test_index)\n",
        "    X_train, X_test = X[train_index], X[test_index] \n",
        "    y_train, y_test = y[train_index], y[test_index]\n",
        "\n",
        "# 각각의 iteration을 print합니다. 첫 줄의 의미는 2~7번째 row를 학습하고 0,1번째 row를 validation set으로 하여 검증한다는 것입니다."
      ],
      "execution_count": 0,
      "outputs": []
    },
    {
      "cell_type": "code",
      "metadata": {
        "colab_type": "code",
        "id": "rWVeBDgx_JSB",
        "colab": {}
      },
      "source": [
        "# Kfold 예시1\n",
        "from sklearn.linear_model import Lasso, Ridge\n",
        "from sklearn.metrics import mean_squared_error\n",
        "from sklearn.model_selection import KFold\n",
        "kf = KFold(n_splits=10)\n",
        "lasso_regressor = Lasso()\n",
        "ridge_regressor = Ridge()\n",
        "\n",
        "lasso_mse = []\n",
        "ridge_mse = []\n",
        "\n",
        "for train_index, test_index in kf.split(X):\n",
        "    lasso_regressor.fit(X[train_index], y[train_index])\n",
        "    ridge_regressor.fit(X[train_index], y[train_index])\n",
        "    \n",
        "    lasso_mse.append(mean_squared_error(y[test_index], lasso_regressor.predict(X[test_index])))\n",
        "    ridge_mse.append(mean_squared_error(y[test_index], ridge_regressor.predict(X[test_index])))\n",
        "    \n",
        "sum(lasso_mse) / 10, sum(ridge_mse) / 10\n",
        "\n",
        "################################################################################################################\n",
        "\n",
        "# Kfold 예시2\n",
        "from sklearn.model_selection import cross_val_score\n",
        "import numpy as np \n",
        "\n",
        "lasso_regressor = Lasso(warm_start=False)\n",
        "ridge_regressor = Ridge()\n",
        "\n",
        "lasso_scores = cross_val_score(lasso_regressor, X, y, cv=10, \n",
        "                               scoring='neg_mean_squared_error')\n",
        "ridge_scores= cross_val_score(ridge_regressor, X, y, cv=10, \n",
        "                              scoring='neg_mean_squared_error')\n",
        "# cv: 몇 번 돌릴 것이냐. cross-validation, scoring: 점수를 측정하는 기준\n",
        "np.mean(lasso_scores), np.mean(ridge_scores)"
      ],
      "execution_count": 0,
      "outputs": []
    },
    {
      "cell_type": "markdown",
      "metadata": {
        "colab_type": "text",
        "id": "47ggGGOObNPQ"
      },
      "source": [
        "## 3.6 모델 세부 튜닝\n"
      ]
    },
    {
      "cell_type": "markdown",
      "metadata": {
        "colab_type": "text",
        "id": "tUN69aHajLbb"
      },
      "source": [
        "- 모델이 복잡해지면 복잡해질수록 수많은 hyperparameter들이 있다.\n",
        "- Sklearn의 LinearRegression( )은 4개의 hyperparameter가 있는 반면 Xgboost는 40여개의 hyperparameter들이 있다.\n",
        "- 해결하려는 문제에 맞는 모델을 만들기 위해서는 Hyperparameter를 잘 조정해주면 된다!\n",
        "- Hyperparameter를 찾는 방법은 크게 2가지가 있다.\n",
        "  - GridSearchCV\n",
        "  - RandomizedSearchCV"
      ]
    },
    {
      "cell_type": "markdown",
      "metadata": {
        "colab_type": "text",
        "id": "dXxqASE8bNTj"
      },
      "source": [
        "### 3.6.1 그리드 탐색 (GridSearchCV)\n"
      ]
    },
    {
      "cell_type": "markdown",
      "metadata": {
        "colab_type": "text",
        "id": "UR3nDm1P_JSE"
      },
      "source": [
        "#### GridSearchCV란?\n",
        "- 모델의 hyperparameter를 찾는 것을 도와주는 친구\n",
        "<br>\n",
        "\n",
        "### 메소드 모음\n",
        "- **GridSearchCV ( estimator = , param_grid = , scoring = , cv = , n_jobs = , verbose = )** : grid search 하기\n",
        "- **.best_scores_**: 최적의 score 점수를 보여줌\n",
        "- **.best_estimator_**: 최적의 parameter로 설정된 모델을 생성\n",
        "- **.best_params_**: 최적의 parameter를 반환\n",
        "- **.cv_results_**: 전체적인 결과값들을 보여줌"
      ]
    },
    {
      "cell_type": "code",
      "metadata": {
        "colab_type": "code",
        "id": "-ovVFOM-_JSF",
        "colab": {}
      },
      "source": [
        "## Catboost best parameter 찾는 과정\n",
        "# 우선 부차적인 parameter 찾아주고\n",
        "cb = CatBoostClassifier(\n",
        " learning_rate =0.1,\n",
        " iterations=100 #n-estimator대신 iteration을 사용,\n",
        ")\n",
        "\n",
        "cb_params_1 = {\n",
        "    'depth' : [3,5,7],\n",
        "    'random_strength' : [1,3],\n",
        "    'bagging_temperature' : [0,0.5,1],\n",
        "    'l2_leaf_reg' : [1,3,5,7],\n",
        "}\n",
        "cb_grid_1 = GridSearchCV(cb, param_grid=cb_params_1, scoring=my_scorer, cv=5, verbose=1)\n",
        "cb_grid_1.fit(train[features], train['Survived'])\n",
        "\n",
        "print(\"Best Score : {}\".format(cb_grid_1.best_score_))\n",
        "print(\"Best Params : {}\".format(cb_grid_1.best_params_))\n",
        "best_cb_model = cb_grid_1.best_estimator_\n",
        "\n",
        "# 최적의 core parameter 찾기\n",
        "cb_params_2 = {\n",
        "    'learning_rate' : [0.03, 0.07, 0.1],\n",
        "    'iterations' : [n for n in range(80,130,20)]\n",
        "}\n",
        "cb_grid_2 = GridSearchCV(best_cb_model, param_grid=cb_params_2, scoring=my_scorer, cv=5, verbose=1)\n",
        "cb_grid_2.fit(train[features], train['Survived'])\n",
        "\n",
        "print(\"Best Score : {}\".format(cb_grid_2.best_score_))\n",
        "print(\"Best Params : {}\".format(cb_grid_2.best_params_))\n",
        "best_cb_model = cb_grid_2.best_estimator_"
      ],
      "execution_count": 0,
      "outputs": []
    },
    {
      "cell_type": "code",
      "metadata": {
        "colab_type": "code",
        "id": "_ItofVWa_JSG",
        "colab": {}
      },
      "source": [
        "### Xgboost best parameter 찾기\n",
        "## 처음에는 부차적인 parameter를 tuning하기\n",
        "# GridSearchCV에 들어갈 param_grid, estimator, scoring 만들어주기\n",
        "from sklearn.metrics import make_scorer\n",
        "from sklearn.model_selection import GridSearchCV\n",
        "from sklearn.metrics import auc, f1_score, accuracy_score\n",
        "my_scorer = make_scorer(accuracy_score, greater_is_better = True)\n",
        "\n",
        "xgb1 = XGBClassifier(\n",
        " learning_rate =0.1,\n",
        " n_estimators=100,\n",
        ")\n",
        "\n",
        "xgb_params_1 = {\n",
        "    'max_depth' : [3,5,7],\n",
        "    'min_child_weight' : [0.5, 1],\n",
        "    'gamma' : [0, 0.1],\n",
        "    'subsample' : [0.5, 0.7, 0.9],\n",
        "    'colsample_bytree' : [0.5, 0.7, 0.9],\n",
        "} #3x2x2x3x3=108가지 경우의 수\n",
        "\n",
        "# GridSearchCV 돌리기\n",
        "xgb_grid_1 = GridSearchCV(estimator=xgb1, param_grid=xgb_params_1, \n",
        "                          scoring=my_scorer, cv=5, n_jobs=1, verbose=1)\n",
        "xgb_grid_1.fit(train[features], train['Survived']) # Titanic data\n",
        "\n",
        "# 제일 좋은 모델 뽑기\n",
        "print(\"Best Score : {}\".format(xgb_grid_1.best_score_))\n",
        "print(\"Best Params : {}\".format(xgb_grid_1.best_params_))\n",
        "\n",
        "# 표로 한 번 뽑아보고\n",
        "results = pd.DataFrame(xgb_grid_1.cv_results_)\n",
        "results = results.sort_values(by='mean_test_score', ascending=False)\n",
        "results.head()\n",
        "\n",
        "# 다시 Core parameter 설정!\n",
        "best_xgb_model = xgb_grid_1.best_estimator_\n",
        "xgb_params_2 = {\n",
        "    'learning_rate' : [0.01, 0.05, 0.07, 0.1, 0.2],\n",
        "    'n_estimators' : [n for n in range(100,200,20)]\n",
        "}\n",
        "xgb_grid_2 = GridSearchCV(best_xgb_model, param_grid=xgb_params_2, scoring=my_scorer, cv=5, verbose=1)\n",
        "xgb_grid_2.fit(train[features], train['Survived'])\n",
        "\n",
        "# 제일 좋은 모델 뽑기\n",
        "print(\"Best Score : {}\".format(xgb_grid_2.best_score_))\n",
        "print(\"Best Params : {}\".format(xgb_grid_2.best_params_))\n",
        "best_xgb_model = xgb_grid_2.best_estimator_"
      ],
      "execution_count": 0,
      "outputs": []
    },
    {
      "cell_type": "markdown",
      "metadata": {
        "colab_type": "text",
        "id": "8ghfBIcdbNXn"
      },
      "source": [
        "### 3.6.2 랜덤 탐색 (RandomizedSearchCV)\n"
      ]
    },
    {
      "cell_type": "markdown",
      "metadata": {
        "colab_type": "text",
        "id": "j419E81O_JSJ"
      },
      "source": [
        "#### RandomizedSearchCV\n",
        "- GridSearchCV는 비교적 적은 수의 조합을 탐구할 때 괜찮음\n",
        "- 단 hyperparameter 탐색 공간이 커질 때는 RandomizedSearchCV가 더 유용\n",
        "- 장점\n",
        "  - 탐색 1000회 -> 서로 다른 hyperparameter 조합 1000개 값 탐색\n",
        "  - 단순히 반복 횟수 조절하는 것으로도 컴퓨팅 자원 제어가능"
      ]
    },
    {
      "cell_type": "code",
      "metadata": {
        "colab_type": "code",
        "id": "euVR9L3D_JSJ",
        "colab": {}
      },
      "source": [
        "### RandomizedSearchCV 예시 1\n",
        "# specify param\\eters and distributions to sample from\n",
        "param_dist = {'average': [True, False],\n",
        "              'l1_ratio': stats.uniform(0, 1),\n",
        "              'alpha': loguniform(1e-4, 1e0)}\n",
        "\n",
        "# run randomized search\n",
        "n_iter_search = 20\n",
        "random_search = RandomizedSearchCV(clf, param_distributions=param_dist,\n",
        "                                   n_iter=n_iter_search)\n",
        "random_search.fit(X, y)\n",
        "print(\"RandomizedSearchCV took %.2f seconds for %d candidates\"\n",
        "      \" parameter settings.\" % ((time() - start), n_iter_search))\n",
        "report(random_search.cv_results_)"
      ],
      "execution_count": 0,
      "outputs": []
    },
    {
      "cell_type": "code",
      "metadata": {
        "colab_type": "code",
        "id": "TpietYbT_JSK",
        "colab": {}
      },
      "source": [
        "### RandomizedSearchCV 예시 2\n",
        "clf = BayesianRidge()\n",
        "clf = SVR(kernel='rbf', C=1e3, gamma=0.1)\n",
        "#clf = RandomForestRegressor()\n",
        "if classifier:\n",
        "  clf = classifier\n",
        "  to_tune = False\n",
        "if to_tune:\n",
        "  # Grid search: find optimal classifier parameters.\n",
        "  param_grid = {'alpha_1': sp_rand(), 'alpha_2': sp_rand()}\n",
        "  param_grid = {'C': sp_rand(), 'gamma': sp_rand()}\n",
        "  rsearch = RandomizedSearchCV(estimator=clf, \n",
        "  param_distributions=param_grid, n_iter=5000)\n",
        "  rsearch.fit(X_train, y_train)\n",
        "  # Use tuned classifier.\n",
        "  clf = rsearch.best_estimator_"
      ],
      "execution_count": 0,
      "outputs": []
    },
    {
      "cell_type": "code",
      "metadata": {
        "colab_type": "code",
        "id": "3D2RtFha_JSM",
        "colab": {}
      },
      "source": [
        "### RandomizedSearchCV 예시 3\n",
        "n_estimators = [100, 200, 300, 400, 500]\n",
        "max_features = ['auto', 'sqrt']\n",
        "max_depth = [5, 10, 20, 30, 40, 50]\n",
        "min_samples_split = [2, 5, 10]\n",
        "min_samples_leaf = [1, 2, 4]\n",
        "bootstrap = [True, False]\n",
        "\n",
        "random_grid = {'n_estimators': n_estimators,\n",
        "               'max_features': max_features,\n",
        "               'max_depth': max_depth,\n",
        "               'min_samples_split': min_samples_split,\n",
        "               'min_samples_leaf': min_samples_leaf,\n",
        "               'bootstrap': bootstrap}\n",
        "\n",
        " model_tuned = RandomizedSearchCV(estimator = baseModel, \n",
        "                                  param_distributions = random_grid, \n",
        "                                  n_iter = 2, cv = 2, verbose=0, \n",
        "                                  random_state=42 , n_jobs = -1)"
      ],
      "execution_count": 0,
      "outputs": []
    },
    {
      "cell_type": "markdown",
      "metadata": {
        "colab_type": "text",
        "id": "fVJukgb2bNbQ"
      },
      "source": [
        "### 3.6.3 앙상블 방법\n"
      ]
    },
    {
      "cell_type": "markdown",
      "metadata": {
        "colab_type": "text",
        "id": "JcVpF-pzms4N"
      },
      "source": [
        "- \"약한 모델을 여러 개 합치면 강한 모델 1개보다 성능이 좋다!\"\n",
        "- 이게 앙상블의 아이디어!\n",
        "- 5월에 배우게 될 거예요!"
      ]
    },
    {
      "cell_type": "markdown",
      "metadata": {
        "colab_type": "text",
        "id": "dYSuxKNWbNfE"
      },
      "source": [
        "### 3.6.4 최상의 모델과 오차 분석\n"
      ]
    },
    {
      "cell_type": "markdown",
      "metadata": {
        "colab_type": "text",
        "id": "gPSEN3UOnDVq"
      },
      "source": [
        "- 가장 적합한 모델을 분석하면 문제에 대한 좋은 insight들을 많이 얻기도 한다.\n",
        "- 예) Feature_importances_를 사용하면 어떤 feature가 모델에 영향을 많이 미치는지 알려준다! 즉 해결하고자 하는 문제에서 어떤 특성들이 중요한지 상대적 중요도를 알려준다."
      ]
    },
    {
      "cell_type": "code",
      "metadata": {
        "colab_type": "code",
        "id": "oCdGnJyUnalB",
        "colab": {}
      },
      "source": [
        "## Random Forest Feature importance\n",
        "from sklearn.datasets import load_iris\n",
        "iris = load_iris()\n",
        "rnd_clf = RandomForestClassifier(n_estimators=500, n_jobs=-1, random_state=42)\n",
        "rnd_clf.fit(iris[\"data\"], iris[\"target\"])\n",
        "for name, score in zip(iris[\"feature_names\"], rnd_clf.feature_importances_):\n",
        "    print(name, score)"
      ],
      "execution_count": 0,
      "outputs": []
    },
    {
      "cell_type": "code",
      "metadata": {
        "colab_type": "code",
        "id": "49rmjjecnaUn",
        "colab": {}
      },
      "source": [
        "## Xgboost Plot importance\n",
        "# 코드1\n",
        "from xgboost import plot_importance\n",
        "\n",
        "model = xgb.XGBClassifier()\n",
        "model.fit(X, y)\n",
        "sorted_idx = np.argsort(model.feature_importances_)[::-1]\n",
        "for index in sorted_idx:\n",
        "    print([X.columns[index], model.feature_importances_[index]])\n",
        "\n",
        "# 코드2\n",
        "from xgboost import XGBClassifier, plot_importance\n",
        "model = XGBClassifier()\n",
        "model.fit(train, label)\n",
        "\n",
        "sorted_idx = np.argsort(model.feature_importances_)[::-1]\n",
        "\n",
        "for index in sorted_idx:\n",
        "    print([train.columns[index], model.feature_importances_[index]]) \n",
        "\n",
        "    plot_importance(model, max_num_features = 15)\n",
        "pyplot.show()"
      ],
      "execution_count": 0,
      "outputs": []
    },
    {
      "cell_type": "markdown",
      "metadata": {
        "colab_type": "text",
        "id": "zEzSnmlTbNjN"
      },
      "source": [
        "### 3.6.5 테스트 세트로 시스템 평가하기\n"
      ]
    },
    {
      "cell_type": "markdown",
      "metadata": {
        "colab_type": "text",
        "id": "kiUxy8_jn5Nw"
      },
      "source": [
        "- Train set과 Validation set으로 훈련시킨 모델을 이제 Test set에 적용해서 score를 보면 된다!"
      ]
    },
    {
      "cell_type": "markdown",
      "metadata": {
        "colab_type": "text",
        "id": "aBQ_pbhmbTXV"
      },
      "source": [
        "## 3.7 론칭, 모니터링, 그리고 시스템 유지 보수"
      ]
    },
    {
      "cell_type": "markdown",
      "metadata": {
        "colab_type": "text",
        "id": "mAL0mzN7oE4V"
      },
      "source": [
        "- 이제 해당 모델을 적용시켜서 문제 해결에 적극 활용하면 된다!"
      ]
    },
    {
      "cell_type": "markdown",
      "metadata": {
        "id": "bJWmUSDlAyOK",
        "colab_type": "text"
      },
      "source": [
        "# 4. Machine Learning 관련 메소드 모음"
      ]
    },
    {
      "cell_type": "markdown",
      "metadata": {
        "id": "OEBuuhlkwIMu",
        "colab_type": "text"
      },
      "source": [
        "## Machine learning 용어 모음\n",
        "---"
      ]
    },
    {
      "cell_type": "markdown",
      "metadata": {
        "id": "epC3tuHrwRmF",
        "colab_type": "text"
      },
      "source": [
        "`A, B, C, D, E, F, G, H, I, J, K, L, M, N, O, P, Q, R, S, T, U, V, W, X, Y, Z`"
      ]
    },
    {
      "cell_type": "markdown",
      "metadata": {
        "id": "y-agd97XdIq4",
        "colab_type": "text"
      },
      "source": [
        "> ### Accuracy (정확도)\n",
        "- 정확도(accuracy)란 전체 샘플 중 맞게 예측한 샘플 수의 비율\n",
        "- 높을수록 좋은 모형이고 일반적으로 학습에서 최적화 목적함수로 사용됨!!\n",
        "- 정확도(Accuracy)의 가장 큰 문제점은 **클래스의 분포가 같을 때만 이용 가능하다는 점**\n",
        "- 이러한 **단점을 보완**하는 지표가 정밀도(Precision)와 재현율(Recall), ROC 곡선과 AUC입니다.\n",
        "- $$accuracy=\\frac{TP+TN}{TP+TN+FP+FN}$$<br>\n",
        "``` python\n",
        "from sklearn.metrics import accuracy_score\n",
        "y_true = [0, 0, 0, 1, 1, 1, 1, 1, 1, 1]\n",
        "y_pred = [0, 0, 1, 0, 0, 1, 1, 1, 1, 1]\n",
        "accuracy_score(y_true, y_pred)\n",
        "```\n",
        "\n",
        "> ### Attribute (속성)\n",
        "- 데이터 타입을 의미\n",
        "- Feature(특성)은 attribute + 값. 허나 보통 많은 사람이 feature와 attribute를 구분하지 않고 사용\n",
        "\n",
        "> ### AUC\n",
        "- AUC란 ROC 곡선 아래 부분의 면적이다. 1에 가까울수록 성능이 좋음!\n",
        "\n",
        "> ### Batch Learning <-> Online learning\n",
        "- 배치 학습!\n",
        "- 가용한 데이터를 모두 사용해 훈련시켜야 함\n",
        "- 시간과 자원을 많이 소모\n",
        "- 보통 오프라인에서 수행\n",
        "- 시스템이 훈련되고 적용되면 더 이상의 학습없이 실행된다.\n",
        "\n",
        "> ### Batch size\n",
        "- Batch size: data를 나누는 것\n",
        "\n",
        "> ### Bagging\n",
        "- Bagging은 샘플을 여러 번 뽑아 각 모델을 학습시켜 결과를 집계(Aggregating) 하는 방법이다.\n",
        "\n",
        "> ### Bias\n",
        " - Bias는 실제 값에서 멀어진 척도 \n",
        "\n",
        "> ### Bootstrapping\n",
        " - 통계학에서 가설을 test하거나 metric을 계산하지 전에 '중복을 허용한' random sampling을 적용하는 방법\n",
        " - Machine learning에서 bootstrapping이란 random sampling을 통해 train data를 늘리는 방법이다!\n",
        " - Overfitting을 줄이는 데 도움이 된다.\n",
        "\n",
        "> ### Cross validation\n",
        "- Cross validation은 validation set을 뗄 만큼 data가 크지 않을 때 사용\n",
        "- Training Set을 여러 Subset으로 나누고 각 모델을 이 Subset의 조합으로 훈련시키고 나머지 부분으로 검증하는 방법이다.\n",
        "\n",
        "> ### Cost function\n",
        "- Cost function은 loss function의 합이다. \n",
        "- 모델이 얼마나 나쁜지 측정하는 함수 <-> 효용함수\n",
        "- 즉 entire data set에서 loss funciton을 계산한 합이다.\n",
        "- 순간순간의 loss를 판단할 땐 loss function, 학습이 완료된 후에는 cost function!\n",
        "- A loss function is a part of a cost function which is a type of an objective function!!!\n",
        "\n",
        "> ### Entropy\n",
        "- 불확실성에 대한 척도.\n",
        "- Entropy 함수  \n",
        "  $H_p(X) = \\mathbb{E}\\big[I(X)\\big] = \\mathbb{E} \\big[ \\log (\\frac{1}{p(X)}) \\big] = -\\sum_{i=1}^{n} p(x_i)\\log(p(x_i))$  \n",
        "  C는 범주의 갯수, q는 사건의 확률질량함수(probability mass function)\n",
        "- 예측이 어려울수록 정보의 양은 더 많아지고 엔트로피는 커진다.\n",
        "- 확률적으로 발생하는 사건에 대한 **정보량의 평균**. 놀람의 정도를 나타낸다고 볼 수 있다.\n",
        "\n",
        "> ### Estimator (추정기)\n",
        "- dataset을 기반으로 일련의 모델 parameter를 추정하는 객체\n",
        "- 추정은 fit( ) 메서드에 의해 수행되고 하나의 매개변수로 하나의 dataset만 전달\n",
        "\n",
        "> ### Epoch\n",
        "- one epoch: 모든 training example을 도는 것!\n",
        "\n",
        "> ### Feature\n",
        "- attribute(속성)와 값이 합쳐진 형태\n",
        "- e.g 주행거리 = 15,000\n",
        "\n",
        "> ### Gini Index\n",
        "- $G.I(A)=\\sum _{ i=1 }^{ d }{ { \\left( { R }_{ i }\\left( 1-\\sum _{ k=1 }^{ m }{ { p }_{ ik }^{ 2 } }  \\right)  \\right)  } }$\n",
        "- 정보의 순도를 측정할 때 사용하는 지표 중 하나\n",
        "\n",
        "> ### Gradient\n",
        "- Parameter들의 편미분계수, 기울기\n",
        "\n",
        "> ### Hold-out Validation\n",
        "- Validation set을 만드는 방법 중 하나\n",
        "- 데이터를 무작위로 train set과 validation set, test set으로 구분한 뒤, train set과 validation set을 이용해 분석 모형을 구축하고, test set을 이용하여 분석 모형의 성능을 평가하는 방법 \n",
        "- step.1\n",
        " - Original Set을 무작위로 train set과 validation set, test set으로 구분!\n",
        "- step.2\n",
        "  - hyperparameter를 다르게 해 여러가지 세팅을 만들어본 뒤, 학습 알고리즘을 사용해 Train set에 모델을 학습시키뮤\n",
        "- step.3\n",
        "  - Validation Set로 모델의 성능을 평가해 가장 좋은 성능의 hyperparameter 세팅을 선택함\n",
        "- step.4\n",
        "  - Train Set은 보통 클수록 좋음. 그러므로 모델 선택 후에 Train Set와 Validation Set을 합쳐 더 큰 데이터셋으로 step.3에서 선택한 최선의 hyperparameter 세팅을 사용한 모델을 학습하기!\n",
        "- step.5 \n",
        "  - 이제 Test Set을 사용해 모델의 성능을 평가~\n",
        "- Cross Validation과의 차이점: Hold-out Validation에서 Test Set의 경우 모형에는 영향을 주지 않고, 모델의 성능 측정 만을 위해 사용된다는 점! \n",
        "\n",
        "> ### Hyperparameter\n",
        "- 학습의 대상이 아니라 학습 이전에 정해놓은 변수, 학습 알고리즘의 parameter\n",
        "- Parameter는 학습의 대상이 되는 변수\n",
        "\n",
        "> ### Iteration\n",
        "- batch를 몇 번 학습에 사용했냐?\n",
        "- e.g. 1000개의 training set이 있고, batch size는 500이다. 그러므로 1 epoch 도는 동안 2 iteration이다.\n",
        "\n",
        "> ### Learning rate\n",
        "- 계산한 기울기에 비례하여 parameter를 얼마만큼 업데이트할지 결정하는 수치\n",
        "- 배우는 속도. 데이터와 모델에 따라서 최적값은 모두 다르다.\n",
        "- 보통 실무에서는 초기에 비교적 높은 lr로 시작하여 점차 낮추는 전략을 취함. 단 오히려 batch size를 늘리는 게 더 좋다는 연구도 있음\n",
        "- Learning rate가 너무 크면?? \n",
        "  - 발산해버리게 된다. Cost가 무진장 늘어난다.\n",
        "  - 데이터에 빨리 적응하지만 이전 데이터를 금방 까먹음\n",
        "- Learning rate가 너무 작으면? \n",
        "  - cost 값이 변함이 없는 것을 알 수 있다.\n",
        "  - 관성이 커져서 느리게 학습됨\n",
        "\n",
        "> ### Learning rate schedule\n",
        "- 매 iteration에서 learning rate을 바꿔주는 함수\n",
        "\n",
        "> ### Logit\n",
        "![](https://upload.wikimedia.org/wikipedia/commons/thumb/c/c8/Logit.svg/350px-Logit.svg.png)\n",
        "- [Logit, Sigmoid, Softmax의 관계](https://opentutorials.org/module/3653/22995)\n",
        "\n",
        "> ### Loss function  \n",
        "- Loss function은 data point에서의 오차. Single data set에서의 오차를 구하는 것\n",
        "순간순간의 loss를 판단할 땐 loss function, 학습이 완료된 후에는 cost function!\n",
        "- A loss function is a part of a cost function which is a type of an objective function!!!\n",
        "\n",
        "> ### MAE (Mean Absolute Error)\n",
        "```python\n",
        "from sklearn.metrics import mean_absolute_error\n",
        "mean_absolute_error(y_test, y_predict)\n",
        "```\n",
        "\n",
        "> ### MAPE (Mean Asolute Percentage Error)\n",
        "- Scale Dependent Error의 단점을 보완하기 위한 방법이다.\n",
        "- 하지만 MAPE 역시 실제 예측 값이 1보다 작을 경우 분모가 작아져 무한대에 가까워질 수 있다는 단점이 있다.\n",
        "``` python\n",
        "from sklearn.utils import check_arrays\n",
        "def mean_absolute_percentage_error(y_true, y_pred): \n",
        "    y_true, y_pred = check_arrays(y_true, y_pred)\n",
        "    return np.mean(np.abs((y_true - y_pred) / y_true)) * 100\n",
        "```\n",
        "\n",
        "> ### MSE(Mean Squared Error)\n",
        "```python\n",
        "from sklearn.metrics import mean_squared_error\n",
        "mean_squared_error(y_test, y_predict)\n",
        "```\n",
        "\n",
        "> ### Objective function\n",
        "- The most general term for any function that you optimize during training.\n",
        "- For example, a probability of generating training set in maximum likelihood approach is a well defined objective function, but it is not a loss function nor cost function (however you could define an equivalent cost function). For example:\n",
        "\n",
        "> ### Online learning <-> Batch learning\n",
        "- 데이터를 순차적으로 한 개씩 또는 mini-batch 단위로 주입해서 시스템을 훈련시킴\n",
        "- 새로운 데이터가 도착하는 대로 즉시 학습할 수 있다.\n",
        "\n",
        "\n",
        "> ### Overfitting\n",
        " - 모델이 Train Dataset에 너무 잘 맞아서 일반성이 떨어지게 되는 문제\n",
        " - 즉 Train Dataset을 너무 과하게 학습해 학습되지 않은 데이터가 들어오면 분류하지 못하게 되는 것\n",
        " - 위 그림의 오른쪽 그림들이 과대적합의 예시\n",
        " - 보시다시피 Train Set을 거의 다 거치거나 분류해내며 굉장히 높은 성능을 보여주고 있지만, 새로운 변수에 대응하기 어려움\n",
        " - 그림의 가운데 모델이 적합한 모델이라고 할 수 있음!\n",
        "\n",
        "> ### OvA 전략\n",
        "- label 개수만큼 분류기를 만드는 방법\n",
        "\n",
        "> ### OvO 전략\n",
        "- label combination 2만큼의 조합마다 만들 수 있는 분류기를 다 만드는 방법\n",
        "\n",
        "> ### Partial Derivative\n",
        "- 편도함수\n",
        "- 모델 parameter에 대해 비용 함수 gradient를 계산하는 것!\n",
        "- 즉, parameter가 조금 변경될 때 cost function이 얼마나 바뀐지 계산하는 함수\n",
        "\n",
        "> ### Precision (정밀도)\n",
        "- 정밀도(precision)란 positive 클래스에 속한다고 분류한 샘플 중 실제로 positive 클래스에 속하는 샘플 수의 비율\n",
        "- 높을수록 좋은 모형!!!\n",
        "$$precision=\\frac{TP}{TP+FP}$$\n",
        "``` python\n",
        "from sklearn.metrics import precision_score\n",
        "y_true = [0, 0, 0, 1, 1, 1, 1, 1, 1, 1]\n",
        "y_pred = [0, 0, 1, 0, 0, 1, 1, 1, 1, 1]\n",
        "precision_score(y_true, y_pred)\n",
        "```\n",
        "\n",
        "> ### Recall (재현율)\n",
        "- 재현율(recall)이란 실제 positive 클래스에 속한 표본 중에 positive 클래스에 속한다고 출력한 표본의 수의 비율\n",
        "- 높을수록 좋은 모형!!\n",
        "- TPR(true positive rate) 또는 민감도(sensitivity)라고도 합니다.\n",
        "$$recall=\\frac{TP}{TP+FN}$$\n",
        "``` python\n",
        "from sklearn.metrics import recall_score\n",
        "y_true = [0, 0, 0, 1, 1, 1, 1, 1, 1, 1]\n",
        "y_pred = [0, 0, 1, 0, 0, 1, 1, 1, 1, 1]\n",
        "recall_score(y_true, y_pred)\n",
        "```\n",
        "\n",
        "> ### ROC\n",
        "- ROC이란 TPR과 FPR은 어떤 기준을 연속적으로 바꾸며 측정해야 하는데 이를 한눈에 볼 수 있게 한 것\n",
        "- ![ROC_curve](https://t1.daumcdn.net/cfile/tistory/262E8E3F544837AD27)<br>\n",
        "- 위 그림처럼 ROC 곡선은 TPR과 FPR이 둘다 [0,1]의 범위이며 (0,0)에서 (1,1)을 잇는 곡선이다. \n",
        "\n",
        "> ### Sampling Noise\n",
        "- 샘플이 작을 때 우연에 의한 대표성이 없는 데이터가 생겼음을 의미\n",
        "\n",
        "> ### Sigmoid function\n",
        "- $S(x) = \\frac{1}{1 + e^{-x}}$\n",
        "\n",
        "> ### Transformer(변환기)\n",
        "- dataset을 변환하는 estimator를 transformer라고 함\n",
        "\n",
        "> ### Underfitting\n",
        " - Overfitting과 반대 개념\n",
        " - 모델이 너무 단순해서 데이터의 내재된 구조를 학습하지 못하는 것\n",
        " - 위 그림의 왼쪽 그림이 underfitting.\n",
        "\n",
        "> ### Variance\n",
        " - Variance는 예측된 값들이 서로 얼마나 멀리 떨어져 있는지에 대한 척도"
      ]
    },
    {
      "cell_type": "markdown",
      "metadata": {
        "id": "ygOPUNxI2uaa",
        "colab_type": "text"
      },
      "source": [
        "## Machine learning 관련 메소드 모음\n",
        "밑에 나오지 않은 기타 메소드들\n",
        "\n",
        "---"
      ]
    },
    {
      "cell_type": "markdown",
      "metadata": {
        "id": "ZjjuHB0rwULR",
        "colab_type": "text"
      },
      "source": [
        "### 학습한 모델 저장하는 법"
      ]
    },
    {
      "cell_type": "markdown",
      "metadata": {
        "id": "f_W-Sdk6w8vO",
        "colab_type": "text"
      },
      "source": [
        "joblib 활용"
      ]
    },
    {
      "cell_type": "code",
      "metadata": {
        "id": "qlqZIRBCwWwI",
        "colab_type": "code",
        "colab": {}
      },
      "source": [
        "## 저장할 때\n",
        "from sklearn.externals import joblib \n",
        "# 객체를 pickled binary file 형태로 저장한다 \n",
        "file_name = 'object_01.pkl' \n",
        "joblib.dump(obj, file_name) \n",
        "\n",
        "## 읽을 때\n",
        "from sklearn.externals import joblib \n",
        "# pickled binary file 형태로 저장된 객체를 로딩한다 \n",
        "file_name = 'object_01.pkl' \n",
        "obj = joblib.load(file_name) "
      ],
      "execution_count": 0,
      "outputs": []
    },
    {
      "cell_type": "markdown",
      "metadata": {
        "id": "s_CciL_ew_OG",
        "colab_type": "text"
      },
      "source": [
        "pickle 활용"
      ]
    },
    {
      "cell_type": "code",
      "metadata": {
        "id": "gvMC4llKwA2_",
        "colab_type": "code",
        "colab": {}
      },
      "source": [
        "# Save Model Using Pickle\n",
        "import pandas\n",
        "from sklearn import model_selection\n",
        "from sklearn.linear_model import LogisticRegression\n",
        "import pickle\n",
        "url = \"https://raw.githubusercontent.com/jbrownlee/Datasets/master/pima-indians-diabetes.data.csv\"\n",
        "names = ['preg', 'plas', 'pres', 'skin', 'test', 'mass', 'pedi', 'age', 'class']\n",
        "\n",
        "dataframe = pandas.read_csv(url, names=names)\n",
        "array = dataframe.values\n",
        "X = array[:,0:8]\n",
        "Y = array[:,8]\n",
        "test_size = 0.33\n",
        "seed = 7\n",
        "X_train, X_test, Y_train, Y_test = model_selection.train_test_split(X, Y, test_size=test_size, random_state=seed)\n",
        "\n",
        "# Fit the model on training set\n",
        "model = LogisticRegression()\n",
        "model.fit(X_train, Y_train)\n",
        "\n",
        "# save the model to disk\n",
        "filename = 'finalized_model.sav'\n",
        "pickle.dump(model, open(filename, 'wb'))\n",
        " \n",
        "# some time later...\n",
        " \n",
        "# load the model from disk\n",
        "loaded_model = pickle.load(open(filename, 'rb'))\n",
        "result = loaded_model.score(X_test, Y_test)\n",
        "print(result)"
      ],
      "execution_count": 0,
      "outputs": []
    },
    {
      "cell_type": "markdown",
      "metadata": {
        "id": "i5tMtzvTKJhu",
        "colab_type": "text"
      },
      "source": [
        "### Pipeline, FeatureUnion 이용하기"
      ]
    },
    {
      "cell_type": "markdown",
      "metadata": {
        "id": "wUmHGGmBKet0",
        "colab_type": "text"
      },
      "source": [
        "pipline이란?\n",
        "- 연속된 변환을 순서대로 처리할수 있도록 도와주는 클래스임!\n",
        "- 연속된 단계를 나타내는 이름/estimator 쌍의 목록을 input으로 받음\n",
        "- 마지막 단계에는 estimator, transformer 모두 사용가능하며 그 외에는 모두 estimator\n",
        "\n",
        "ColumnTransformer란?\n",
        "- 두 pipeline을 하나의 pipeline으로 합치기"
      ]
    },
    {
      "cell_type": "code",
      "metadata": {
        "id": "cz0-JnL1KLI3",
        "colab_type": "code",
        "colab": {}
      },
      "source": [
        "# pipeline 예시\n",
        "from sklearn.pipeline import Pipeline\n",
        "from sklearn.preprocessing import StandardScaler\n",
        "\n",
        "num_pipeline = Pipeline([\n",
        "        ('imputer', SimpleImputer(strategy=\"median\")),\n",
        "        ('attribs_adder', CombinedAttributesAdder()),\n",
        "        ('std_scaler', StandardScaler()),\n",
        "    ])\n",
        "\n",
        "housing_num_tr = num_pipeline.fit_transform(housing_num)"
      ],
      "execution_count": 0,
      "outputs": []
    },
    {
      "cell_type": "code",
      "metadata": {
        "id": "f_feivrBKLOt",
        "colab_type": "code",
        "colab": {}
      },
      "source": [
        "# ColumnTransformer 예시\n",
        "full_pipeline = ColumnTransformer([\n",
        "        (\"num_pipeline\", num_pipeline, num_attribs),\n",
        "        (\"cat_encoder\", OneHotEncoder(categories='auto'), cat_attribs),\n",
        "    ])"
      ],
      "execution_count": 0,
      "outputs": []
    },
    {
      "cell_type": "code",
      "metadata": {
        "id": "3EdNYoN6KLT2",
        "colab_type": "code",
        "colab": {}
      },
      "source": [
        ""
      ],
      "execution_count": 0,
      "outputs": []
    },
    {
      "cell_type": "code",
      "metadata": {
        "id": "TnA_Rb5AKLYh",
        "colab_type": "code",
        "colab": {}
      },
      "source": [
        ""
      ],
      "execution_count": 0,
      "outputs": []
    },
    {
      "cell_type": "markdown",
      "metadata": {
        "id": "a6csp-C1x8HQ",
        "colab_type": "text"
      },
      "source": [
        "# 5. Supervised Learning"
      ]
    },
    {
      "cell_type": "markdown",
      "metadata": {
        "id": "6PdHdvEww3aD",
        "colab_type": "text"
      },
      "source": [
        "## 5-1. Regression"
      ]
    },
    {
      "cell_type": "markdown",
      "metadata": {
        "id": "XiDidYG-jsQy",
        "colab_type": "text"
      },
      "source": [
        "### Linear Regression\n",
        "- 선형회귀!\n",
        "- 가장 basic!\n",
        "- train data로 모델을 만들고, test data로 성능을 평가\n",
        "- Normal Equation으로 최적의 parameter를 계산한다!  \n",
        "$\\hat\\theta = (X^T*X)^{-1}*X^T*y$\n",
        "- $\\hat\\theta$: 비용 함수를 최소화하는 $\\theta$ 값\n",
        "- y는 $y^{(1)}$부터 $y^{(m)}$까지 포함하는 타깃 벡터\n",
        "\n",
        "### 빈용 메소드 모음\n",
        "- **linear_model .LinearRegression ( fit_intercept = True , normalisze = True , copy_X = True , n_jobs = )**: 모델 만들어주기 \n",
        "  - fit_intercept: 상수항을 넣을지 말지\n",
        "  - normalize: 앞에서 scaling 해줬으면 굳이 또 안해줘도 됨\n",
        "  - n_jobs: CPU를 몇 개 쓸건지 지정할 수 있다\n",
        " - **linear_model .LinearRegression . fit ( X_train , y_train )**: fit 시켜주기\n",
        "   \n",
        "   **.coef_**: 계수를 반환   \n",
        "\n",
        "   **.intercept_**: y 절편을 반환\n",
        "   \n",
        "   **.predict ( X_test )**: : 예측하기\n",
        "- **mean_squared_error ( y_true , y_pred )**: MSE 추출하기\n",
        "- statsmodels를 이용해서 regression을 할 수도 있음"
      ]
    },
    {
      "cell_type": "code",
      "metadata": {
        "id": "3DA-zNYni3M1",
        "colab_type": "code",
        "colab": {}
      },
      "source": [
        "from sklearn import linear_model\n",
        "from sklearn.metrics import mean_squared_error"
      ],
      "execution_count": 0,
      "outputs": []
    },
    {
      "cell_type": "code",
      "metadata": {
        "id": "2Yn-2GYBj1Nz",
        "colab_type": "code",
        "colab": {}
      },
      "source": [
        "# statsmodels를 이용한 regression\n",
        "import statsmodels.api as sm\n",
        "model = sm.OLS(y_train, X_train)\n",
        "results = model.fit()\n",
        "results.summary()"
      ],
      "execution_count": 0,
      "outputs": []
    },
    {
      "cell_type": "code",
      "metadata": {
        "id": "CNNiy75Xj2Fm",
        "colab_type": "code",
        "colab": {}
      },
      "source": [
        "# Normal equation 예시1\n",
        "from sklearn.linear_model import LinearRegression\n",
        "lr_ne = LinearRegression(fit_intercept = True)\n",
        "\n",
        "from sklearn.model_selection import train_test_split\n",
        "X_train, X_test, y_train, y_test = train_test_split(X, y, test_size = 0.33, random_state=42)\n",
        "\n",
        "lr_ne.fit(X_train, y_train)\n",
        "\n",
        "y_hat = lr_ne.predict(X_test)\n",
        "y_true = y_test\n",
        "\n",
        "mse = sklearn.metris.mean_squared_error(y_hat, y_true)"
      ],
      "execution_count": 0,
      "outputs": []
    },
    {
      "cell_type": "code",
      "metadata": {
        "id": "DpKmw0xnAtcb",
        "colab_type": "code",
        "outputId": "4408df6d-a1c0-41b9-81cf-f8544997017e",
        "colab": {
          "base_uri": "https://localhost:8080/",
          "height": 52
        }
      },
      "source": [
        "import numpy as np\n",
        "theta = np.random.randn(2,1)\n",
        "print(theta)"
      ],
      "execution_count": 0,
      "outputs": [
        {
          "output_type": "stream",
          "text": [
            "[[0.27860707]\n",
            " [2.09108475]]\n"
          ],
          "name": "stdout"
        }
      ]
    },
    {
      "cell_type": "markdown",
      "metadata": {
        "id": "vGDuirxpw9Z6",
        "colab_type": "text"
      },
      "source": [
        "### Gradient Descent (Batch Gradient Descent) \n",
        "- 한 점에서 내려가면서 기존 값에서 계속 업데이트 해주면서 새로운 값을 적용해 최소값을 찾아내는 것\n",
        "- Gradient descent를 활용할 때는 반드시 Scaling을 해야 함. 안 그러면 수렴하는 데 오래 걸린다.\n",
        "- feature 개수에 민감하지 않아 많은 feature가 있을 때는 linear regression보다 gradient descent가 더 빠르다.\n",
        "- 랜덤으로 주어진 gradient에 대해서 비용함수(보통 MSE)의 gradient vector를 구하고!  <br>\n",
        "<br>\n",
        " $MSE = \\frac{1}{N}\\sum_{(i=1)}^N(\\theta^T*x^{(i)}-y_i)^2$ <br>\n",
        " <br>\n",
        " cost function의 편도함수 : $\\frac{\\sigma}{\\sigma\\theta_j}MSE(\\theta) = \\frac{2}{m}\\sum_{i=1}^{m}(\\theta^T*x^{(i)}-y^{(i)})x^{(i)}_j$ <br>\n",
        " <br>\n",
        " cost function의 gradient vector : $\\Delta_\\theta MSE(\\theta) = \\frac{2}{m}(\\theta*X-y)*X^T$<br>\n",
        " <br>\n",
        "- Learning rate를 적용하여 gradient를 계속 업데이트 해주면서 최적의 parameter를 찾는다! <br>\n",
        " <br>\n",
        " $\\theta^{(next..step)} = \\theta - \\eta*\\Delta_\\theta MSE(\\theta)$\n",
        "- 단점: 매 step에서 전체 train set을 사용해 gradient를 계산함. train set이 커지면 매우 느려짐\n",
        "\n",
        "\n",
        "### 메소드 모음\n",
        "- **linear_model .LinearRegressionGD ( eta0 = , epochs = , batch-size = , shuffle = )**: gradient descent 만들기\n",
        "  - eta0: learning rate\n",
        "- 예시)\n",
        "\n",
        "  **linear_model .LinearRegressionGD ( eta0 = 0.001 , epochs = 10000 , batch-size = 1 , shuffle = False)**: Gradient descent\n",
        "  \n",
        "  **linear_model .LinearRegressionGD ( eta0 = 0.001 , epochs = 10000 , batch-size = len(X) , shuffle = False)**: Batch gradient descent\n",
        "  \n",
        "  **linear_model .LinearRegressionGD ( eta0 = 0.001 , epochs = 10000 , batch-size = 1 , shuffle = True)**: Stochasic gradient descent\n",
        "  \n",
        "  **linear_model .LinearRegressionGD ( eta0 = 0.001 , epochs = 10000 , batch-size = 100 , shuffle = True)**: Mini-batch stochasic gradient descent"
      ]
    },
    {
      "cell_type": "code",
      "metadata": {
        "id": "dccK1PNniwnP",
        "colab_type": "code",
        "colab": {}
      },
      "source": [
        "# Gradient Descent를 이용한 Linear Regression\n",
        "eta = 0.1\n",
        "n_iterations = 1000\n",
        "m = 100\n",
        "\n",
        "theta = np.random.randn(2,1)\n",
        "\n",
        "for iteration in range(n_iterations):\n",
        "    gradients = 2/m * X_b.T.dot(X_b.dot(theta) - y)   # 해당 parameter에서의 gradient vector를 구한다.\n",
        "    theta = theta - eta * gradients"
      ],
      "execution_count": 0,
      "outputs": []
    },
    {
      "cell_type": "markdown",
      "metadata": {
        "id": "NXUWwMTJw9dq",
        "colab_type": "text"
      },
      "source": [
        "### Stochastic Gradient Descent\n",
        "- Gradient descent와는 다르게 매 step에서 딱 한 개의 sample을 무작위로 선택해 gradient를 계산 -> 훨씬 빠르다\n",
        "- 단점\n",
        " 1. 무작위이기 때문에 Gradient descent보다 훨씬 불안정적. 어떤 샘플은 한 epoch에서 여러 번 선택되고 어떤 샘플은 전혀 선택되지 못할 수도\n",
        "   - 해결: 모든 샘플 사용하려면 train set를 shuffle하고 차례대로 하나씩 선택 후 다음 epoch에서 다시 섞는 식을 사용 -> Scki-learn SGD에서 사용하는 방법!\n",
        " 2. 즉, cost function이 최솟값에 매우 근접하지만 안착하지는 못한다.  \n",
        "   - 해결: learning rate를 점진적으로 감소하면 된다.\n",
        "- 장점: cost function이 매끈하지 않고 불규칙할 경우 지역 최솟값을 건너뛸 수 있도록 도와줘서 전역 최솟값을 찾을 가능성이 높아진다.\n",
        "- 전체 데이터가 1억건, 10억건 되는 상황에서 전체를 고려해서 한 번씩 weight를 수정하는 것은 시간이 오래 걸림! 이러한 상황에서 1억건의 데이터를 1천만 건씩 나눠서 학습을 진행하자는 것이 Stochastic gradient descent.\n",
        "- 기존보다 더 빠르게 학습함. \n",
        "- Stochastic gradient descent는 x의 값을 돌아가면서 gradient를 구해서 지역 최적화에 빠지는 것을 최소화 한다.\n",
        "\n",
        "### 메소드모음\n",
        "- **linear_model .SGDRegressor ( n_iter = , loss = ’squared_loss ’, penalty = ’l2 ’,  alpha = 0.0001 , l1_ratio = 0.15 , fit_intercept = True , max_iter = 1000 , tol = 0.001 , shuffle = True , verbose = 0 , epsilon = 0.1 , random_state = None , learning_rate = ’optimal ’ , eta0 = 0.01 , power_t = 0.25 , early_stopping = False , validation_fraction = 0.1 , n_iter_no_change = 5 , warm_start = False , average = False )**: Stochastic gradient descent\n",
        "  - loss function: squared loss를 기본적으로 사용하면 된다.\n",
        "  - penalty: regularization 방법. L1, L2, elastic net\n",
        "  - alpha: L2 앞에 람다 값을 얼마로 설정해줄까. 이 값이 크면 클수록 regularization이 많이 되기 때문에 학습 데이터 값이 줄어든다.\n",
        "  - max_iter: number of epoch. epoch을 몇 번 돌껀가\n",
        "  - tol: 멈추는 기준\n",
        "  - shutffle: SGD이기 때문에 섞는다. False로 하면 Batch gradient descent가 되는 것\n",
        "  - learning_rate: 돌아갈 때마다 일정량 줄어들게 되는 것. 줄어드는 전략은 3개의 전략! constant, optimal, invscaling\n",
        "  - eta0: learning rate을 지정. 학습속도를 빠르게 하려면 eta를 올려주면 됨. \n",
        "  - warm_start: 잘 안 쓰기는 하는데 weight의 초기값을 지정해줄 수 있다. 초기값을 기반으로 예측!\n",
        "  - penalty: 규제방식을 설정. \"l2\"로 주면 비용 함수에 가중치 벡터의 $\\iota_2$ norm의 제곱을 2로 나눈 규제항을 추가, 즉 Ridge가 된다. \"l1\"하면 Lasso가 됨"
      ]
    },
    {
      "cell_type": "code",
      "metadata": {
        "id": "QuoapiakmtNn",
        "colab_type": "code",
        "colab": {}
      },
      "source": [
        "# numpy, pandas, matplotlib으로 구현한 SGD\n",
        "n_epochs = 50\n",
        "t0, t1 = 5, 50  # 학습 스케줄 하이퍼파라미터 learning schedule hyperparameters\n",
        "\n",
        "def learning_schedule(t):\n",
        "    return t0 / (t + t1)\n",
        "\n",
        "theta = np.random.randn(2,1)  # 무작위 초기화\n",
        "\n",
        "for epoch in range(n_epochs):\n",
        "    for i in range(m):\n",
        "        if epoch == 0 and i < 20:                    # 책에는 빠짐\n",
        "            y_predict = X_new_b.dot(theta)           # 책에는 빠짐\n",
        "            style = \"b-\" if i > 0 else \"r--\"         # 책에는 빠짐\n",
        "            plt.plot(X_new, y_predict, style)        # 책에는 빠짐\n",
        "        random_index = np.random.randint(m)\n",
        "        xi = X_b[random_index:random_index+1]\n",
        "        yi = y[random_index:random_index+1]\n",
        "        gradients = 2 * xi.T.dot(xi.dot(theta) - yi)\n",
        "        eta = learning_schedule(epoch * m + i)\n",
        "        theta = theta - eta * gradients\n",
        "        theta_path_sgd.append(theta)                 # 책에는 빠짐\n",
        "\n",
        "plt.plot(X, y, \"b.\")                                 # 책에는 빠짐\n",
        "plt.xlabel(\"$x_1$\", fontsize=18)                     # 책에는 빠짐\n",
        "plt.ylabel(\"$y$\", rotation=0, fontsize=18)           # 책에는 빠짐\n",
        "plt.axis([0, 2, 0, 15])                              # 책에는 빠짐\n",
        "save_fig(\"sgd_plot\")                                 # 책에는 빠짐\n",
        "plt.show()                                           # 책에는 빠짐"
      ],
      "execution_count": 0,
      "outputs": []
    },
    {
      "cell_type": "code",
      "metadata": {
        "id": "8Om0Rxv3lXaq",
        "colab_type": "code",
        "colab": {}
      },
      "source": [
        "# Stochastic gradient descent 예시1\n",
        "from sklearn.linear_model import SGDRegressor\n",
        "lr_SGD = SGDRegressor()\n",
        "\n",
        "from sklearn.preprocessing import StandardScaler\n",
        "std_scaler = StandardScaler()\n",
        "std_scaler.fit(X)\n",
        "X_scaled = std_scaler.transform(X)\n",
        "\n",
        "from sklearn.mode_selection import train_test_split\n",
        "X_train, X_test, y_train, y_test = train_test_split(X, y, test_size = 0.33, random_state=42)\n",
        "\n",
        "lr_SGD.fit(X_train, y_train)\n",
        "\n",
        "y_hat = lr_SGD.predict(X_test)\n",
        "y_true = y_test\n",
        "\n",
        "mse = sklearn.metrics.mean_squared_error(y_hat, y_true)\n",
        "rmse = np.sqrt((((y_hat - y_true)**2).sum() / len(y_true)))\n",
        "\n",
        "'''\n",
        "rmse값이 엄청나게 커졌다는 것은 학습이 잘 안 되었다는 뜻!\n",
        "learning rate이 너무 크다거나 충분히 돌지 못했을 때 발생\n",
        "'''\n",
        "\n",
        "# scaled된 data로 돌리면\n",
        "X_train, X_test, y_train, y_test = train_test_split(X_scaled, y, test_size = 0.33, random_state=42)\n",
        "\n",
        "lr_SGD.fit(X_train, y_train)\n",
        "\n",
        "y_hat = lr_SGD.predict(X_test)\n",
        "y_true = y_test\n",
        "\n",
        "mse = sklearn.metrics.mean_squared_error(y_hat, y_true)\n",
        "rmse = np.sqrt((((y_hat - y_true)**2).sum() / len(y_true)))\n",
        "# rmse값이 안정적으로 나오게 된다. 즉 SGD regression을 할 때는 반드시 scaling을 해야 한다!"
      ],
      "execution_count": 0,
      "outputs": []
    },
    {
      "cell_type": "markdown",
      "metadata": {
        "id": "q8eFmg1SrQwL",
        "colab_type": "text"
      },
      "source": [
        "### Mini-batch Gradient Descent\n",
        "- 전체 훈련 세트 x, 하나의 샘플 x\n",
        "- Mini-batch라 부르는 임의의 작은 샘플 세트에 대해 Gradient를 계산\n",
        "- 장점\n",
        "  - GPU를 사용해 성능을 향상시킬 수 있음\n",
        "  - SGD보다 덜 불규칙하게 움직임"
      ]
    },
    {
      "cell_type": "markdown",
      "metadata": {
        "id": "yRVOZgSX73Yz",
        "colab_type": "text"
      },
      "source": [
        "### Linear Regression을 사용한 Algorithm 비교\n",
        "| 알고리즘  |  Sample 多 |  Feature 多  |  Hyperparameter | 스케일 조정필요 | Sciki-learn |\n",
        "|---|---|---|---|---|---|\n",
        "| Normal equation | 빠름  | 느림 |  0 | No  | LinearRegression  |\n",
        "| GD | 느림  |  빠름  |  2 |  Yes |  n/a |\n",
        "| SGD  | 빠름  |  빠름  | >=2  |  Yes | SGDRegressor  |\n",
        "| Mini-batch GD  | 빠름  | 빠름    |  >=2  |  Yes | n/a  |"
      ]
    },
    {
      "cell_type": "markdown",
      "metadata": {
        "id": "qvOxz3SYw9h8",
        "colab_type": "text"
      },
      "source": [
        "### Polynomial Regression\n",
        "- 1차식이 아닌 다항식! 비선형 관계 예측에 용이!\n",
        "\n",
        "### 빈용 메소드 모음\n",
        "- **PolynomialFeatures ( degree = , include_bias=False, interaction_only = False)**: polynomial feature 만들어주기. degree가 2이면 제곱항까지 만들어줄 것을 의미\n",
        "  - interaction_only: False로 지정하면 거듭제곱이 포함된 항은 모두 제외됨. 즉 a, b, ab만 남음\n",
        "- **PolynomialFeatures .fit_transform ( 데이터 )**: polynomial feature로 바꿔주기\n",
        "- **PolonomialFeatures .get_feature_names ( )**: 만들어진 특성의 차수를 쉽게 확인가능"
      ]
    },
    {
      "cell_type": "code",
      "metadata": {
        "id": "gYLPd1Y0lgfc",
        "colab_type": "code",
        "outputId": "6f0c393f-5954-45d9-f90b-47ece3840f7f",
        "colab": {
          "base_uri": "https://localhost:8080/",
          "height": 264
        }
      },
      "source": [
        "# 예시1 \n",
        "import numpy as np\n",
        "import matplotlib.pyplot as plt\n",
        "\n",
        "def f(size):\n",
        "    x = np.linspace(0, 5, size)\n",
        "    y = x * np.sin(x ** 2) + 1\n",
        "    return (x,y)\n",
        "\n",
        "def sample(size):\n",
        "    x = np.linspace(0, 5, size)\n",
        "    y = x * np.sin(x ** 2) + 1 + np.random.randn(x.size)*0.5\n",
        "    return (x,y)\n",
        "  \n",
        "  \n",
        "\n",
        "f_x, f_y = f(1000)\n",
        "plt.plot(f_x, f_y)\n",
        "X, y = sample(1000)\n",
        "plt.scatter(X, y, s=3, c=\"black\")\n",
        "plt.show()"
      ],
      "execution_count": 0,
      "outputs": [
        {
          "output_type": "display_data",
          "data": {
            "image/png": "[encoded data removed]",
            "text/plain": [
              "<Figure size 432x288 with 1 Axes>"
            ]
          },
          "metadata": {
            "tags": []
          }
        }
      ]
    },
    {
      "cell_type": "code",
      "metadata": {
        "id": "VtqHeJTQlifD",
        "colab_type": "code",
        "outputId": "655dc6dc-2d83-4d40-8cc7-8ad0e2bd15dd",
        "colab": {
          "base_uri": "https://localhost:8080/",
          "height": 264
        }
      },
      "source": [
        "# 예시1 \n",
        "X = X.reshape(-1,1)\n",
        "y = y.reshape(-1,1)\n",
        "X.shape, y.shape\n",
        "\n",
        "from sklearn.linear_model import LinearRegression\n",
        "\n",
        "lr = LinearRegression()\n",
        "lr.fit(X,y)\n",
        "\n",
        "f_x, f_y = f(1000)\n",
        "plt.plot(f_x, f_y)\n",
        "plt.scatter(X.flatten(), y.flatten(), s=3, c=\"black\")\n",
        "plt.plot(X.flatten(), lr.predict(X).flatten())\n",
        "plt.show()"
      ],
      "execution_count": 0,
      "outputs": [
        {
          "output_type": "display_data",
          "data": {
            "image/png": "[encoded data removed]",
            "text/plain": [
              "<Figure size 432x288 with 1 Axes>"
            ]
          },
          "metadata": {
            "tags": []
          }
        }
      ]
    },
    {
      "cell_type": "code",
      "metadata": {
        "id": "VuV7QqZolimO",
        "colab_type": "code",
        "outputId": "62c9c5a1-7934-4cc2-eb25-97883b209bc8",
        "colab": {
          "base_uri": "https://localhost:8080/",
          "height": 264
        }
      },
      "source": [
        "# 예시1 \n",
        "from sklearn.preprocessing import PolynomialFeatures\n",
        "\n",
        "poly_features = PolynomialFeatures(degree=2)\n",
        "X_poly = poly_features.fit_transform(X)\n",
        "X_poly[:10]\n",
        "\n",
        "lr = LinearRegression(fit_intercept=False)\n",
        "lr.fit(X_poly,y)\n",
        "\n",
        "f_x, f_y = f(1000)\n",
        "plt.plot(f_x, f_y)\n",
        "plt.scatter(X.flatten(), y.flatten(), s=3, c=\"black\")\n",
        "plt.plot(X.flatten(), lr.predict(X_poly).flatten())\n",
        "plt.show()"
      ],
      "execution_count": 0,
      "outputs": [
        {
          "output_type": "display_data",
          "data": {
            "image/png": "[encoded data removed]",
            "text/plain": [
              "<Figure size 432x288 with 1 Axes>"
            ]
          },
          "metadata": {
            "tags": []
          }
        }
      ]
    },
    {
      "cell_type": "code",
      "metadata": {
        "id": "mbWplI6vlisR",
        "colab_type": "code",
        "outputId": "5340b079-a3dc-49e5-a1b2-ee263c2a1d13",
        "colab": {
          "base_uri": "https://localhost:8080/",
          "height": 264
        }
      },
      "source": [
        "# 예시1 \n",
        "poly_features = PolynomialFeatures(degree=16)\n",
        "X_poly = poly_features.fit_transform(X)\n",
        "X_poly[:3]\n",
        "\n",
        "lr = LinearRegression(fit_intercept=False)\n",
        "lr.fit(X_poly,y)\n",
        "f_x, f_y = f(1000)\n",
        "plt.plot(f_x, f_y)\n",
        "plt.scatter(X.flatten(), y.flatten(), s=3, c=\"black\")\n",
        "plt.plot(X.flatten(), lr.predict(X_poly).flatten())\n",
        "plt.show()"
      ],
      "execution_count": 0,
      "outputs": [
        {
          "output_type": "display_data",
          "data": {
            "image/png": "[encoded data removed]",
            "text/plain": [
              "<Figure size 432x288 with 1 Axes>"
            ]
          },
          "metadata": {
            "tags": []
          }
        }
      ]
    },
    {
      "cell_type": "code",
      "metadata": {
        "id": "5SVpmKFE-fPY",
        "colab_type": "code",
        "colab": {}
      },
      "source": [
        "# 예시 2\n",
        "from sklearn.preprocessing import PolynomialFeatures\n",
        "poly_features = PolynomialFeatures(degree=2, include_bias=False)\n",
        "X_poly = poly_features.fit_transform(X)\n",
        "\n",
        "X[0]    # 원래 값 1개만 반환\n",
        "X_poly[0]    # 원래 값 & degree가 적용된 값을 반환\n",
        "\n",
        "lin_reg = LinearRegression()      # 변환을 해주면 LinearRegression()에 적용할 수 있다.\n",
        "lin_reg.fit(X_poly, y)\n",
        "lin_reg.intercept_, lin_reg.coef_"
      ],
      "execution_count": 0,
      "outputs": []
    },
    {
      "cell_type": "markdown",
      "metadata": {
        "id": "6zK5cpuckTJ3",
        "colab_type": "text"
      },
      "source": [
        "### Regularized linear models (Lasso)\n",
        "- Regularization에서 L1 방법을 쓰는 것\n",
        "- Parameter에 절대값을 취함으로써 정규화시킨다.\n",
        "- Lasso의 중요한 특징: 덜 중요한 feature의 가중치를 완전히 제거하려고 함  \n",
        "  자동으로 feature selection을 진행하고 희소 모델(sparse model)을 만든다.\n",
        "- Lasso를 쓰면 feature selection이 가능하다.<br>\n",
        "- Lasso의 cost function<br>\n",
        "  <br>$J(\\theta) = MSE(\\theta) + \\alpha\\sum_{(i=1)}^n|\\theta_i|$\n",
        "\n",
        "### 메소드 모음\n",
        "- **linear_model .Lasso ( alpha = 1.0, fit_intercept = True , normalize = False , precompute = False , copy_X = True , max_iter = 1000 , tol = 0.0001 , warm_start = False , positive = False , random_state = None , selection = ’cyclic ’)**: Lasso"
      ]
    },
    {
      "cell_type": "code",
      "metadata": {
        "id": "5IB3kqrTlNla",
        "colab_type": "code",
        "colab": {}
      },
      "source": [
        "# Lasso 예시\n",
        "ridge_reg = Ridge(alpha=1, solver=\"sag\", random_state=42)\n",
        "ridge_reg.fit(X, y)\n",
        "ridge_reg.predict([[1.5]])\n",
        "\n",
        "from sklearn.linear_model import ElasticNet\n",
        "elastic_net = ElasticNet(alpha=0.1, l1_ratio=0.5, random_state=42)\n",
        "elastic_net.fit(X, y)\n",
        "elastic_net.predict([[1.5]])"
      ],
      "execution_count": 0,
      "outputs": []
    },
    {
      "cell_type": "markdown",
      "metadata": {
        "id": "Y1XBnMuCw9l6",
        "colab_type": "text"
      },
      "source": [
        "### Regularized linear models (Ridge)\n",
        "- Regularization에서 L2 방법을 쓰는 것\n",
        "- 규제 있는 모델을 데이터를 Scale에 민감하기에 Scaling이 중요하다.\n",
        "- 규제항에  $\\alpha\\sum_(i=1)^n\\theta_i^2$을 추가\n",
        "- 규제항은 훈련하는 동안에만 cost function에 추가하고 훈련이 끝나면 규제 없는 성능 지표로 평가\n",
        "> Cost function<br><br>\n",
        " - $J(\\theta) = MSE(\\theta) + \\alpha\\frac{1}{2}\\sum_{(i=1)}^n\\theta_i^2$ <br>\n",
        " <br>\n",
        " - $\\alpha$는 모델을 얼마나 규제할지 조절!\n",
        " - $\\alpha$가 0이면 선형 회귀, $\\alpha$가 너무 크면 모든 가중치가 0에 가까워지고 수평선이 된다.\n",
        "\n",
        "<br>\n",
        "\n",
        "### 메소드 모음\n",
        "- **linear_model.Ridge ( alpha = 1.0 , fit_intercept = True , normalize = False , copy_X = True , max_iter = None , tol = 0.001 , solver = ’auto ’, random_state = None )**: Ridge\n",
        "  - solver: auto로 하면 데이터를 보고서 fitting을 할 때 어떤 알고리즘을(normal equation, SGD) 알아서 찾아준다."
      ]
    },
    {
      "cell_type": "code",
      "metadata": {
        "id": "ZNGMHaOwlPFG",
        "colab_type": "code",
        "colab": {}
      },
      "source": [
        "# Ridge 예시\n",
        "ridge_reg = Ridge(alpha=1, solver=\"cholesky\", random_state=42)\n",
        "ridge_reg.fit(X, y)\n",
        "ridge_reg.predict([[1.5]])\n",
        "\n",
        "ridge_reg = Ridge(alpha=1, solver=\"sag\", random_state=42)\n",
        "ridge_reg.fit(X, y)\n",
        "ridge_reg.predict([[1.5]])"
      ],
      "execution_count": 0,
      "outputs": []
    },
    {
      "cell_type": "markdown",
      "metadata": {
        "id": "LA2YZvdYVwVW",
        "colab_type": "text"
      },
      "source": [
        "### Elastic Net\n",
        "- Ridge와 Lasso 규제항을 더해서 절충한 모델\n",
        "- 혼합 비율 r = 0이면 Ridge, r = 1이면 Lasso이다.\n",
        "- Elastic Net의 cost function<br>\n",
        "<br>$J(\\theta) = MSE(\\theta) + ra\\sum_{(i=1)}^n|\\theta_i|+\\frac{1-r}{2}\\alpha\\sum_{(i=1)}^n\\theta_i^2$\n",
        "\n",
        "> 그럼 언제 각 모델을 사용할까?\n",
        "- 일반적으로 일반 Linear regression은 피하자\n",
        "- Ridge가 기본\n",
        "- 실제로 쓰이는 특성이 몇 개밖에 없으면 **Lasso, Elastic Net**\n",
        "- Feature > row, Feature 몇 개가 강하게 연관되어 있으면 **Elastic Net**\n",
        "<br>\n",
        "#### 빈용 메소드 모음\n",
        "- **ElasticNet ( alpha = , l1_ratio = )** : 기본적인 Elastic Net"
      ]
    },
    {
      "cell_type": "code",
      "metadata": {
        "id": "PLyIMnVLWkt7",
        "colab_type": "code",
        "colab": {}
      },
      "source": [
        "from sklearn.linear_model import ElasticNEt\n",
        "elastic_net = ElasticNet(alpha=0.1, l1_ratio = 0.5)\n",
        "elastic_net.fit(X,y)\n",
        "elastic_net.predict([[1.5]])"
      ],
      "execution_count": 0,
      "outputs": []
    },
    {
      "cell_type": "markdown",
      "metadata": {
        "id": "Kyosm9OZw9qZ",
        "colab_type": "text"
      },
      "source": [
        "### Logistic Regression\n",
        "- Sample이 특정 class에 속할 확률을 추정하는 데 사용하는 Regression\n",
        "- 선형 회귀와 같이 input에 대한 parameter를 계산한 뒤, 결괏값의 Logistic을 출력\n",
        "- Logistic Regression의 확률 추정 <br>\n",
        "<br> $\\hat{p} = h_\\theta(x) = \\sigma(\\theta^T*x)$ <br>\n",
        "- [Logistic Regression numpy 구현](https://towardsdatascience.com/logistic-regression-from-scratch-with-numpy-da4cc3121ece)\n",
        "\n",
        "- Logistic function은 $\\sigma(t) = \\frac{1}{1+exp(-t)}$\n",
        "<br>\n",
        "\n",
        "#### Logistic function의 cost function (log loss)  \n",
        "- $J(\\theta) = -\\frac{1}{m}\\sum_{(i=1)}^m[y^{(i)}log(\\hat{p}^{(i)})+(1-y^{(i)})log(1-\\hat{p}^{(i)})]$ <br>\n",
        "  <br>이 비용 함수의 최솟값을 계산하는 해는 없음.  \n",
        "  GD를 사용해서 전역 최솟값을 찾아야 함<br>\n",
        "<br>\n",
        "\n",
        "#### Logistic function cost function의 편도함수 <br>\n",
        "- $\\frac{\\sigma}{\\sigma\\theta_j}J(\\theta) = \\frac{1}{m}\\sum_{(i=1)}^m(\\sigma(\\theta^T*x^{(i)})-y^{(i)})x_j^{(i)}$\n",
        "<br>\n",
        "- Logistic Regression의 cost function은 볼록함수여서 GD를 써도 지역 최솟값에 갇히지 않는다.\n",
        "<br>"
      ]
    },
    {
      "cell_type": "code",
      "metadata": {
        "id": "uWb1GnWYmgPP",
        "colab_type": "code",
        "colab": {}
      },
      "source": [
        "  # Logistic regression 에시\n",
        "# 먼저 데이터를 반응변인과 예측변인으로 분리하기\n",
        "Y = (df['Status'] == 'Developed').astype(np.int) #'Developed'면 1, 아니면 0으로\n",
        "X = df.drop('Status', axis=1)\n",
        "\n",
        "# 예측변인과 반응변인을 train set과 test set으로 분리해 줍니다.\n",
        "X_train, X_test, y_train, y_test = train_test_split(X, Y, test_size=0.2)\n",
        "\n",
        "from sklearn.linear_model import LogisticRegression\n",
        "\n",
        "# 1. 먼저 모델을 만들어 줍니다.\n",
        "logReg = LogisticRegression()\n",
        "\n",
        "# 2. 모델 적합시킵니다.\n",
        "logReg.fit(X_train, y_train)\n",
        "\n",
        "# 3. 트레이닝셋과 테스트셋에서의 성능을 확인합니다. (이 경우 결정계수 R^2)\n",
        "print('Training R^2:', logReg.score(X_train, y_train))\n",
        "print('Test R^2: ', logReg.score(X_test, y_test))\n",
        "\n",
        "# 모델로부터 반응을 예측하고 accuracy, f1-score, confusion matrix를 구해봅시다.\n",
        "from sklearn.metrics import accuracy_score, f1_score, confusion_matrix\n",
        "y_pred = logReg.predict(X_test)\n",
        "print(\"Accuracy: %.2f\" %accuracy_score(y_test, y_pred))\n",
        "print(\"F1 score: %.2f\" %f1_score(y_test, y_pred))\n",
        "confusion_matrix(y_test, y_pred)"
      ],
      "execution_count": 0,
      "outputs": []
    },
    {
      "cell_type": "code",
      "metadata": {
        "id": "Rlc5Mxl1mgmq",
        "colab_type": "code",
        "colab": {}
      },
      "source": [
        "import statsmodels.api as sm\n",
        "model = sm.Logit(y_train, X_train)\n",
        "results = model.fit()\n",
        "results.summary()"
      ],
      "execution_count": 0,
      "outputs": []
    },
    {
      "cell_type": "markdown",
      "metadata": {
        "id": "AFcp77hOw9uI",
        "colab_type": "text"
      },
      "source": [
        "### Softmax Regression (Multinomial Logistic Regression)\n",
        "- Logistic이 binary만 예측이 가능했다면 softmax는 여러 class를 예측할 수 있다.\n",
        "- LogisticRegrssion(multi_class = \"multinomial\")로 설정하면 softmax regression 사용 가능\n",
        "\n",
        "\n",
        "- 클래스 k에 대한 Softmax 점수<br>\n",
        "<br> $s_k(x)=(\\theta^{(k)})^T*x$   \n",
        "<br> $\\theta^{(k)}$: 클래스 만의 parameter vector\n",
        "<br>\n",
        "\n",
        "- 각 샘플 x에 대해 클래스 점수가 계산되면 softmax 함수에 통과시켜 클래스 k에 속할 확률을 추정 <br>\n",
        "<br>$\\hat{p_k} = \\sigma(s(x))_K = \\frac{exp(s_k(x))}{\\sum_{j=1}^kexp(s_j(x))}$\n",
        "<br> k: 클래스의 수\n",
        "<br> s(x): 샘플 x에 대한 클래스 점수를 담고 있는 vector\n",
        "<br> $\\sigma(s(x))_k$: 샘플 x에 대한 클래스 점수에 대한 클래스 k에 속할 추정 확률\n",
        "<br>\n",
        "\n",
        "- Softmax regression 분류기의 예측 <br>\n",
        "<br> $\\hat{y} = argmax_k\\sigma(s(x))_k = argmax_ks_k(x) = argmax_k((\\sigma^{(k)})^T*x)$\n",
        "<br>\n",
        "<br>\n",
        "- Cost function<br>\n",
        "$J(\\mathbf{\\Theta}) =\n",
        "- \\dfrac{1}{m}\\sum\\limits_{i=1}^{m}\\sum\\limits_{k=1}^{K}{y_k^{(i)}\\log\\left(\\hat{p}_k^{(i)}\\right)}$\n",
        "<br>\n",
        "<br>\n",
        "- Gradient 공식<br>\n",
        "$\\nabla_{\\mathbf{\\theta}^{(k)}} \\, J(\\mathbf{\\Theta}) = \\dfrac{1}{m} \\sum\\limits_{i=1}^{m}{ \\left ( \\hat{p}^{(i)}_k - y_k^{(i)} \\right ) \\mathbf{x}^{(i)}}$\n",
        "<br>\n",
        "<br>\n",
        "- $\\hat{p}_k^{(i)} = 0$이면 $\\log\\left(\\hat{p}_k^{(i)}\\right)$를 계산할 수 없습니다. `nan` 값을 피하기 위해 $\\log\\left(\\hat{p}_k^{(i)}\\right)$에 아주 작은 값 $\\epsilon$을 추가하겠습니다."
      ]
    },
    {
      "cell_type": "code",
      "metadata": {
        "id": "0HXIi68GmmLz",
        "colab_type": "code",
        "colab": {}
      },
      "source": [
        "# softmax regression 예시1\n",
        "X = iris[\"data\"][:, (2, 3)]  # petal length, petal width\n",
        "y = iris[\"target\"]\n",
        "\n",
        "softmax_reg = LogisticRegression(multi_class=\"multinomial\",solver=\"lbfgs\", C=10, random_state=42)\n",
        "softmax_reg.fit(X, y)\n",
        "\n",
        "x0, x1 = np.meshgrid(\n",
        "        np.linspace(0, 8, 500).reshape(-1, 1),\n",
        "        np.linspace(0, 3.5, 200).reshape(-1, 1),\n",
        "    )\n",
        "X_new = np.c_[x0.ravel(), x1.ravel()]\n",
        "\n",
        "\n",
        "y_proba = softmax_reg.predict_proba(X_new)\n",
        "y_predict = softmax_reg.predict(X_new)\n",
        "\n",
        "zz1 = y_proba[:, 1].reshape(x0.shape)\n",
        "zz = y_predict.reshape(x0.shape)\n",
        "\n",
        "plt.figure(figsize=(10, 4))\n",
        "plt.plot(X[y==2, 0], X[y==2, 1], \"g^\", label=\"Iris-Virginica\")\n",
        "plt.plot(X[y==1, 0], X[y==1, 1], \"bs\", label=\"Iris-Versicolor\")\n",
        "plt.plot(X[y==0, 0], X[y==0, 1], \"yo\", label=\"Iris-Setosa\")\n",
        "\n",
        "from matplotlib.colors import ListedColormap\n",
        "custom_cmap = ListedColormap(['#fafab0','#9898ff','#a0faa0'])\n",
        "\n",
        "plt.contourf(x0, x1, zz, cmap=custom_cmap)\n",
        "contour = plt.contour(x0, x1, zz1, cmap=plt.cm.brg)\n",
        "plt.clabel(contour, inline=1, fontsize=12)\n",
        "plt.xlabel(\"Petal length\", fontsize=14)\n",
        "plt.ylabel(\"Petal width\", fontsize=14)\n",
        "plt.legend(loc=\"center left\", fontsize=14)\n",
        "plt.axis([0, 7, 0, 3.5])\n",
        "save_fig(\"softmax_regression_contour_plot\")\n",
        "plt.show()\n",
        "\n",
        "# predict\n",
        "softmax_reg.predict([[5, 2]])\n",
        "\n",
        "# predict probability\n",
        "softmax_reg.predict_proba([[5, 2]])"
      ],
      "execution_count": 0,
      "outputs": []
    },
    {
      "cell_type": "markdown",
      "metadata": {
        "id": "uD5fBAjpjglX",
        "colab_type": "text"
      },
      "source": [
        "#### 조기 종료를 사용한 배치 경사 하강법으로 소프트맥스 회귀 구현하기 (사이킷런을 사용하지 않고)\n"
      ]
    },
    {
      "cell_type": "markdown",
      "metadata": {
        "id": "P9EQsaJ9jjkQ",
        "colab_type": "text"
      },
      "source": [
        "data load하고 편항 추가"
      ]
    },
    {
      "cell_type": "code",
      "metadata": {
        "id": "5u-OMCw2jjvI",
        "colab_type": "code",
        "colab": {}
      },
      "source": [
        "X = iris[\"data\"][:, (2, 3)]  # 꽃잎 길이, 꽃잎 넓이\n",
        "y = iris[\"target\"]\n",
        "X_with_bias = np.c_[np.ones([len(X), 1]), X]"
      ],
      "execution_count": 0,
      "outputs": []
    },
    {
      "cell_type": "markdown",
      "metadata": {
        "id": "3QHEiG-fjj-R",
        "colab_type": "text"
      },
      "source": [
        "train test split"
      ]
    },
    {
      "cell_type": "code",
      "metadata": {
        "id": "RJVUGLStjj_3",
        "colab_type": "code",
        "colab": {}
      },
      "source": [
        "test_ratio = 0.2\n",
        "validation_ratio = 0.2\n",
        "total_size = len(X_with_bias)\n",
        "\n",
        "test_size = int(total_size * test_ratio)\n",
        "validation_size = int(total_size * validation_ratio)\n",
        "train_size = total_size - test_size - validation_size\n",
        "\n",
        "rnd_indices = np.random.permutation(total_size)\n",
        "\n",
        "X_train = X_with_bias[rnd_indices[:train_size]]\n",
        "y_train = y[rnd_indices[:train_size]]\n",
        "X_valid = X_with_bias[rnd_indices[train_size:-test_size]]\n",
        "y_valid = y[rnd_indices[train_size:-test_size]]\n",
        "X_test = X_with_bias[rnd_indices[-test_size:]]\n",
        "y_test = y[rnd_indices[-test_size:]]"
      ],
      "execution_count": 0,
      "outputs": []
    },
    {
      "cell_type": "markdown",
      "metadata": {
        "id": "ZyaNgJhyjkB7",
        "colab_type": "text"
      },
      "source": [
        "one-hot encoding"
      ]
    },
    {
      "cell_type": "code",
      "metadata": {
        "id": "qQNgaIlajkLK",
        "colab_type": "code",
        "colab": {}
      },
      "source": [
        "def to_one_hot(y):\n",
        "    n_classes = y.max() + 1\n",
        "    m = len(y)\n",
        "    Y_one_hot = np.zeros((m, n_classes))\n",
        "    Y_one_hot[np.arange(m), y] = 1\n",
        "    return Y_one_hot"
      ],
      "execution_count": 0,
      "outputs": []
    },
    {
      "cell_type": "code",
      "metadata": {
        "id": "dEbQSc-ljkOE",
        "colab_type": "code",
        "colab": {}
      },
      "source": [
        "Y_train_one_hot = to_one_hot(y_train)\n",
        "Y_valid_one_hot = to_one_hot(y_valid)\n",
        "Y_test_one_hot = to_one_hot(y_test)"
      ],
      "execution_count": 0,
      "outputs": []
    },
    {
      "cell_type": "markdown",
      "metadata": {
        "id": "kLkjdMj9jkdx",
        "colab_type": "text"
      },
      "source": [
        "softmax function  \n",
        "$\\sigma\\left(\\mathbf{s}(\\mathbf{x})\\right)_k = \\dfrac{\\exp\\left(s_k(\\mathbf{x})\\right)}{\\sum\\limits_{j=1}^{K}{\\exp\\left(s_j(\\mathbf{x})\\right)}}$"
      ]
    },
    {
      "cell_type": "code",
      "metadata": {
        "id": "T8JYC32mjjwx",
        "colab_type": "code",
        "colab": {}
      },
      "source": [
        "def softmax(logits):\n",
        "    exps = np.exp(logits)\n",
        "    exp_sums = np.sum(exps, axis=1, keepdims=True)\n",
        "    return exps / exp_sums"
      ],
      "execution_count": 0,
      "outputs": []
    },
    {
      "cell_type": "markdown",
      "metadata": {
        "id": "cAXPNf2SjjPF",
        "colab_type": "text"
      },
      "source": [
        "input, output 개수 정의"
      ]
    },
    {
      "cell_type": "code",
      "metadata": {
        "id": "zByRC7Dkk3uI",
        "colab_type": "code",
        "colab": {}
      },
      "source": [
        "n_inputs = X_train.shape[1] # == 3 (특성 2와 편향)\n",
        "n_outputs = len(np.unique(y_train))   # == 3 (3개의 붓꽃 클래스)"
      ],
      "execution_count": 0,
      "outputs": []
    },
    {
      "cell_type": "markdown",
      "metadata": {
        "id": "Or280stYk4cg",
        "colab_type": "text"
      },
      "source": [
        "train"
      ]
    },
    {
      "cell_type": "code",
      "metadata": {
        "id": "K00N9Q-vk4Zr",
        "colab_type": "code",
        "colab": {}
      },
      "source": [
        "eta = 0.01\n",
        "n_iterations = 5001\n",
        "m = len(X_train)\n",
        "epsilon = 1e-7\n",
        "\n",
        "Theta = np.random.randn(n_inputs, n_outputs)\n",
        "\n",
        "for iteration in range(n_iterations):\n",
        "    logits = X_train.dot(Theta)\n",
        "    Y_proba = softmax(logits)\n",
        "    loss = -np.mean(np.sum(Y_train_one_hot * np.log(Y_proba + epsilon), axis=1))\n",
        "    error = Y_proba - Y_train_one_hot\n",
        "    if iteration % 500 == 0:\n",
        "        print(iteration, loss)\n",
        "    gradients = 1/m * X_train.T.dot(error)\n",
        "    Theta = Theta - eta * gradients"
      ],
      "execution_count": 0,
      "outputs": []
    },
    {
      "cell_type": "markdown",
      "metadata": {
        "id": "-LaNMkDtk4Ym",
        "colab_type": "text"
      },
      "source": [
        "parameter 확인"
      ]
    },
    {
      "cell_type": "code",
      "metadata": {
        "id": "VWYiShXDl3Do",
        "colab_type": "code",
        "colab": {}
      },
      "source": [
        "Theta"
      ],
      "execution_count": 0,
      "outputs": []
    },
    {
      "cell_type": "markdown",
      "metadata": {
        "id": "ihB-NPpll3CV",
        "colab_type": "text"
      },
      "source": [
        "예측과 정확도 확인"
      ]
    },
    {
      "cell_type": "code",
      "metadata": {
        "id": "DvMQzONil2zb",
        "colab_type": "code",
        "colab": {}
      },
      "source": [
        "logits = X_valid.dot(Theta)\n",
        "Y_proba = softmax(logits)\n",
        "y_predict = np.argmax(Y_proba, axis=1)\n",
        "\n",
        "accuracy_score = np.mean(y_predict == y_valid)\n",
        "accuracy_score"
      ],
      "execution_count": 0,
      "outputs": []
    },
    {
      "cell_type": "markdown",
      "metadata": {
        "id": "fyURGQ1Hk4W_",
        "colab_type": "text"
      },
      "source": [
        "L2 규제 추가해서 훈련"
      ]
    },
    {
      "cell_type": "code",
      "metadata": {
        "id": "DNw1uu4kl_iE",
        "colab_type": "code",
        "colab": {}
      },
      "source": [
        "eta = 0.1\n",
        "n_iterations = 5001\n",
        "m = len(X_train)\n",
        "epsilon = 1e-7\n",
        "alpha = 0.1  # 규제 하이퍼파라미터\n",
        "\n",
        "Theta = np.random.randn(n_inputs, n_outputs)\n",
        "\n",
        "for iteration in range(n_iterations):\n",
        "    logits = X_train.dot(Theta)\n",
        "    Y_proba = softmax(logits)\n",
        "    xentropy_loss = -np.mean(np.sum(Y_train_one_hot * np.log(Y_proba + epsilon), axis=1))\n",
        "    l2_loss = 1/2 * np.sum(np.square(Theta[1:]))\n",
        "    loss = xentropy_loss + alpha * l2_loss\n",
        "    error = Y_proba - Y_train_one_hot\n",
        "    if iteration % 500 == 0:\n",
        "        print(iteration, loss)\n",
        "    gradients = 1/m * X_train.T.dot(error) + np.r_[np.zeros([1, n_outputs]), alpha * Theta[1:]]\n",
        "    Theta = Theta - eta * gradients"
      ],
      "execution_count": 0,
      "outputs": []
    },
    {
      "cell_type": "markdown",
      "metadata": {
        "id": "xBngju7rjBE1",
        "colab_type": "text"
      },
      "source": [
        "Early stopping 추가"
      ]
    },
    {
      "cell_type": "code",
      "metadata": {
        "id": "fK5ghVKamsyw",
        "colab_type": "code",
        "colab": {}
      },
      "source": [
        "eta = 0.1 \n",
        "n_iterations = 5001\n",
        "m = len(X_train)\n",
        "epsilon = 1e-7\n",
        "alpha = 0.1  # 규제 하이퍼파라미터\n",
        "best_loss = np.infty\n",
        "\n",
        "Theta = np.random.randn(n_inputs, n_outputs)\n",
        "\n",
        "for iteration in range(n_iterations):\n",
        "    logits = X_train.dot(Theta)\n",
        "    Y_proba = softmax(logits)\n",
        "    xentropy_loss = -np.mean(np.sum(Y_train_one_hot * np.log(Y_proba + epsilon), axis=1))\n",
        "    l2_loss = 1/2 * np.sum(np.square(Theta[1:]))\n",
        "    loss = xentropy_loss + alpha * l2_loss\n",
        "    error = Y_proba - Y_train_one_hot\n",
        "    gradients = 1/m * X_train.T.dot(error) + np.r_[np.zeros([1, n_outputs]), alpha * Theta[1:]]\n",
        "    Theta = Theta - eta * gradients\n",
        "\n",
        "    logits = X_valid.dot(Theta)\n",
        "    Y_proba = softmax(logits)\n",
        "    xentropy_loss = -np.mean(np.sum(Y_valid_one_hot * np.log(Y_proba + epsilon), axis=1))\n",
        "    l2_loss = 1/2 * np.sum(np.square(Theta[1:]))\n",
        "    loss = xentropy_loss + alpha * l2_loss\n",
        "    if iteration % 500 == 0:\n",
        "        print(iteration, loss)\n",
        "    if loss < best_loss:\n",
        "        best_loss = loss\n",
        "    else:\n",
        "        print(iteration - 1, best_loss)\n",
        "        print(iteration, loss, \"early stopping!\")\n",
        "        break"
      ],
      "execution_count": 0,
      "outputs": []
    },
    {
      "cell_type": "markdown",
      "metadata": {
        "id": "Bgklks1mmzA7",
        "colab_type": "text"
      },
      "source": [
        "모델의 예측을 그래프로 나타내기"
      ]
    },
    {
      "cell_type": "code",
      "metadata": {
        "id": "mbmG_Ak0m6_y",
        "colab_type": "code",
        "colab": {}
      },
      "source": [
        "x0, x1 = np.meshgrid(\n",
        "        np.linspace(0, 8, 500).reshape(-1, 1),\n",
        "        np.linspace(0, 3.5, 200).reshape(-1, 1),\n",
        "    )\n",
        "X_new = np.c_[x0.ravel(), x1.ravel()]\n",
        "X_new_with_bias = np.c_[np.ones([len(X_new), 1]), X_new]\n",
        "\n",
        "logits = X_new_with_bias.dot(Theta)\n",
        "Y_proba = softmax(logits)\n",
        "y_predict = np.argmax(Y_proba, axis=1)\n",
        "\n",
        "zz1 = Y_proba[:, 1].reshape(x0.shape)\n",
        "zz = y_predict.reshape(x0.shape)\n",
        "\n",
        "plt.figure(figsize=(10, 4))\n",
        "plt.plot(X[y==2, 0], X[y==2, 1], \"g^\", label=\"Iris-Virginica\")\n",
        "plt.plot(X[y==1, 0], X[y==1, 1], \"bs\", label=\"Iris-Versicolor\")\n",
        "plt.plot(X[y==0, 0], X[y==0, 1], \"yo\", label=\"Iris-Setosa\")\n",
        "\n",
        "from matplotlib.colors import ListedColormap\n",
        "custom_cmap = ListedColormap(['#fafab0','#9898ff','#a0faa0'])\n",
        "\n",
        "plt.contourf(x0, x1, zz, cmap=custom_cmap)\n",
        "contour = plt.contour(x0, x1, zz1, cmap=plt.cm.brg)\n",
        "plt.clabel(contour, inline=1, fontsize=12)\n",
        "plt.xlabel(\"꽃잎 길이\", fontsize=14)\n",
        "plt.ylabel(\"꽃잎 폭\", fontsize=14)\n",
        "plt.legend(loc=\"upper left\", fontsize=14)\n",
        "plt.axis([0, 7, 0, 3.5])\n",
        "plt.show()"
      ],
      "execution_count": 0,
      "outputs": []
    },
    {
      "cell_type": "markdown",
      "metadata": {
        "id": "FwlWFoQym-Z7",
        "colab_type": "text"
      },
      "source": [
        "최종 정확도 측정"
      ]
    },
    {
      "cell_type": "code",
      "metadata": {
        "id": "MpfPauzSnB2v",
        "colab_type": "code",
        "colab": {}
      },
      "source": [
        "logits = X_test.dot(Theta)\n",
        "Y_proba = softmax(logits)\n",
        "y_predict = np.argmax(Y_proba, axis=1)\n",
        "\n",
        "accuracy_score = np.mean(y_predict == y_test)\n",
        "accuracy_score"
      ],
      "execution_count": 0,
      "outputs": []
    },
    {
      "cell_type": "markdown",
      "metadata": {
        "id": "YiZjySta-Wuu",
        "colab_type": "text"
      },
      "source": [
        "### SVM Regressor\n",
        "- 제한된 마진 오류 안에서 도로 안에 가능한 한 많은 샘플이 들어가도록 학습하는 것.\n",
        "\n",
        "\n",
        "#### 빈용 메소드 모음\n",
        "- **LinearSVR (max_iter = , random_state = )**: 기본 LinearSVR 모델"
      ]
    },
    {
      "cell_type": "code",
      "metadata": {
        "id": "i_VMIWdhBA3P",
        "colab_type": "code",
        "colab": {}
      },
      "source": [
        "from sklearn.svm import LinearSVR\n",
        "\n",
        "lin_svr = LinearSVR(max_iter=10000, random_state=42)\n",
        "lin_svr.fit(X_train_scaled, y_train)"
      ],
      "execution_count": 0,
      "outputs": []
    },
    {
      "cell_type": "markdown",
      "metadata": {
        "id": "fxyDPWIUXt-c",
        "colab_type": "text"
      },
      "source": [
        "### Early Stopping\n",
        "- 반복적인 학습 알고리즘(e.g GD)를 규제하는 방식\n",
        "- Validation Error가 최솟값에 도달하면 바로 훈련을 중지시키는 것이 Early Stopping\n",
        "- warm_start = True로 지정하면 fit ( ) 메소드가 호출될 때 이전 모델 parameter에서 훈련을 이어감"
      ]
    },
    {
      "cell_type": "code",
      "metadata": {
        "id": "mGLEPlJQYLVN",
        "colab_type": "code",
        "colab": {}
      },
      "source": [
        "from sklearn.base import clone\n",
        "sgd_reg = SGDRegressor(max_iter=1, warm_start=True, penalty=None,\n",
        "                       learning_rate=\"constant\", eta0=0.0005, random_state=42)\n",
        "\n",
        "minimum_val_error = float(\"inf\")\n",
        "best_epoch = None\n",
        "best_model = None\n",
        "for epoch in range(1000):\n",
        "    sgd_reg.fit(X_train_poly_scaled, y_train)  # 이어서 학습합니다\n",
        "    y_val_predict = sgd_reg.predict(X_val_poly_scaled)\n",
        "    val_error = mean_squared_error(y_val, y_val_predict)\n",
        "    if val_error < minimum_val_error:\n",
        "        minimum_val_error = val_error\n",
        "        best_epoch = epoch\n",
        "        best_model = clone(sgd_reg)"
      ],
      "execution_count": 0,
      "outputs": []
    },
    {
      "cell_type": "markdown",
      "metadata": {
        "id": "xY1SPijm_9yv",
        "colab_type": "text"
      },
      "source": [
        "### Learning Curve\n",
        "- 학습곡선을 그려보면 얼마나 복잡한 모델을 사용할지 결정할 수 있다.\n",
        "- Overfitting과 Underfitting을 알 수 있다.\n",
        "- Training set의 RMSE: 초반에는 0에서 시작해서 점점 상승\n",
        "  Validation set의 RMSE: 초반에는 높다가 점점 하락\n",
        "1. Underfitting 판단\n",
        "  - 꽤 높은 오차에서 두 곡선(Train set Error, Validation set Error)이 수평한 구간을 만든다.\n",
        "  - 해결: 더 복잡한 모델을 사용 or 더 나은 Feature를 선택\n",
        "2. Overfitting 판단\n",
        "  - 두 곡선(Train set Error, Validation set Error) 사이에 공간이 크다."
      ]
    },
    {
      "cell_type": "code",
      "metadata": {
        "id": "UPYF2sE2AIJk",
        "colab_type": "code",
        "colab": {}
      },
      "source": [
        "# Learning curve visualization\n",
        "from sklearn.metrics import mean_squared_error\n",
        "from sklearn.model_selection import train_test_split\n",
        "\n",
        "# function\n",
        "def plot_learning_curves(model, X, y):\n",
        "    X_train, X_val, y_train, y_val = train_test_split(X, y, test_size=0.2, random_state=10)\n",
        "    train_errors, val_errors = [], []\n",
        "    for m in range(1, len(X_train)):\n",
        "        model.fit(X_train[:m], y_train[:m])\n",
        "        y_train_predict = model.predict(X_train[:m])\n",
        "        y_val_predict = model.predict(X_val)\n",
        "        train_errors.append(mean_squared_error(y_train[:m], y_train_predict))\n",
        "        val_errors.append(mean_squared_error(y_val, y_val_predict))\n",
        "\n",
        "    plt.plot(np.sqrt(train_errors), \"r-+\", linewidth=2, label=\"훈련\")\n",
        "    plt.plot(np.sqrt(val_errors), \"b-\", linewidth=3, label=\"검증\")\n",
        "    plt.legend(loc=\"upper right\", fontsize=14)   # 책에는 빠짐\n",
        "    plt.xlabel(\"훈련 세트 크기\", fontsize=14)       # 책에는 빠짐\n",
        "    plt.ylabel(\"RMSE\", fontsize=14)              # 책에는 빠짐\n",
        "\n",
        "# Application\n",
        "lin_reg = LinearRegression()\n",
        "plot_learning_curves(lin_reg, X, y)\n",
        "plt.axis([0, 80, 0, 3])                         # 책에는 빠짐\n",
        "save_fig(\"underfitting_learning_curves_plot\")   # 책에는 빠짐\n",
        "plt.show()                                      # 책에는 빠짐"
      ],
      "execution_count": 0,
      "outputs": []
    },
    {
      "cell_type": "markdown",
      "metadata": {
        "id": "G5PI_pRfw91l",
        "colab_type": "text"
      },
      "source": [
        "## 5-2. Classfication"
      ]
    },
    {
      "cell_type": "markdown",
      "metadata": {
        "id": "ziKN21X-nRmi",
        "colab_type": "text"
      },
      "source": [
        "### Classification이란?\n",
        "- Supervised Learning\n",
        "- 기존 집단에 대한 특징을 학습한 뒤, 새로운 데이터가 들어왔을 때 그 데이터의 적합한 집단을 분류해주는 것"
      ]
    },
    {
      "cell_type": "code",
      "metadata": {
        "id": "fUZD9-BvnO3E",
        "colab_type": "code",
        "colab": {}
      },
      "source": [
        "# SGD Classifier\n",
        "from sklearn.linear_model import SGDClassifier\n",
        "\n",
        "sgd_clf=SGDClassifier(random_state=42) \n",
        "'''\n",
        "GDClassifier는 randomness에 기반하기 때문에, \n",
        "고정 값을 정하고 싶다면, random_state parameter를 쓰자.\n",
        "'''\n",
        "sgd_clf.fit(X_train,y_train)\n",
        "\n",
        "sgd_clf.predict(X_test)\n",
        "\n",
        "y_pred = sgd_clf.predict(X_test)\n",
        "\n",
        "f1_score(y_test,y_pred, average='micro')"
      ],
      "execution_count": 0,
      "outputs": []
    },
    {
      "cell_type": "code",
      "metadata": {
        "id": "3z84bRmfnQQG",
        "colab_type": "code",
        "colab": {}
      },
      "source": [
        "# Xgboost Classifier\n",
        "from xgboost import XGBClassifier, plot_importance\n",
        "\n",
        "model = XGBClassifier()\n",
        "model.fit(X_train, y_train)\n",
        "\n",
        "model.predict(X_test)\n",
        "\n",
        "y_pred = model.predict(X_test)\n",
        "\n",
        "from sklearn.metrics import f1_score\n",
        "\n",
        "f1_score(y_test,y_pred, average='weighted')"
      ],
      "execution_count": 0,
      "outputs": []
    },
    {
      "cell_type": "markdown",
      "metadata": {
        "id": "s0uA9qcpf_pY",
        "colab_type": "text"
      },
      "source": [
        "### Linear Support Vector Model\n",
        "- SVM는 클래스 사이에 폭이 가장 넓은 도로를 찾는 것이다! 그래야 새로운 샘플에 대해서도 잘 작동!\n",
        "- Large Margin Classification이라고도 부른다.\n",
        "> ```python\n",
        "from sklearn.svm import SVC\n",
        "```\n",
        " - SVC는 기본값에서 클래스 확률을 제공하지 않음. 그렇기에 probability 매개변수를 True로 지정해줘야 함!\n",
        " - 그러면 cross-validation을 쓰기 때문에 느려지지만 predict_proba() 메소드 사용 가능  <br>\n",
        " \n",
        "- SVM은 특성의 scale에 민감\n",
        "\n",
        "> Hard margin Classification\n",
        "- 문제\n",
        "  1. 데이터가 선형적으로 구분되어야 잘 작동\n",
        "  2. 이상치에 민감\n",
        "\n",
        "> Soft Margin Classification\n",
        "- 도로의 폭은 가능한 넓게 하는 것 & 마진 오류 사이에 균형을 잡은 모델\n",
        "- SVM 모델의 C hyperparameter로 균형을 조절 가능하다!  \n",
        "  C가 낮을 수록 더 일반화된 모델을 만들 수 있다. (p.203)\n",
        "\n",
        "\n",
        "\n",
        "#### 빈용 메소드 모음\n",
        "- **LinearSVC( C=1, loss='hinge')**: 기본 learner SVC 모델"
      ]
    },
    {
      "cell_type": "code",
      "metadata": {
        "id": "UfLegX505h-4",
        "colab_type": "code",
        "colab": {}
      },
      "source": [
        "from sklearn.svm import LinearSVC\n",
        "\n",
        "model = LinearSVC(C=1, loss='hinge')"
      ],
      "execution_count": 0,
      "outputs": []
    },
    {
      "cell_type": "markdown",
      "metadata": {
        "colab_type": "text",
        "id": "HN7vsBr66CMs"
      },
      "source": [
        "### Non-linear Support Vector Model\n",
        "- 비선형 데이터셋을 다루는 한 가지 방법은 다항 특성 등을 추가하는 것\n",
        "- 아니면 커널 트릭으로 훈련가능. 커널 트릭은 실제로는 특성을 추가하지 않으면서 다항식 특성을 많이 추가한 것과 같은 결과를 얻을 수 있음\n",
        "- 혹은 유사도 함수로 계산한 특성을 추가할 수도 있다. 훈련 세트가 너무 크지 않다면 가우시안 RBF 커널을 시도해도 좋다.\n",
        "\n",
        "#### 빈용 메소드 모음\n",
        "- **LinearSVC( C = 1, kernel = \"linear\", loss = 'hinge' )**: 기본 learner SVC 모델\n",
        "- **LinearSVC( C = 5, kernel = \"poly\", degree = 3, coef0 = 1 )**: 다항 kernel이 추가된 SVM 모델\n",
        "  - kernel: poly로 설정하면 다항식 커널을 사용해 SVM 분류기를 훈련시킴\n",
        "  - coef0: 모델이 높은 차수와 낮은 차수에 얼마나 영향을 받을지 조절함\n",
        "- **LinearSVC( C = 0.001, kernel = \"rbf\", gamma = 5 )**: 기본 learner SVC 모델\n",
        "  - gamma: gamma를 증가시키면 종 모양 그래프가 커져 각 샘플의 영향 범위가 작아짐. 규제 역할을 함. Overfitting이면 감소시키고 Underfitting이면 증가시켜야 함"
      ]
    },
    {
      "cell_type": "code",
      "metadata": {
        "id": "btAzJ_Ja7gaS",
        "colab_type": "code",
        "colab": {}
      },
      "source": [
        "from sklearn.datasets import make_moons\n",
        "from sklearn.pipeline import Pipeline\n",
        "from sklearn.preprocessing import PolynomialFeatures\n",
        "\n",
        "polynomial_svm_clf = Pipeline([\n",
        "        (\"poly_features\", PolynomialFeatures(degree=3)),\n",
        "        (\"scaler\", StandardScaler()),\n",
        "        (\"svm_clf\", LinearSVC(C=10, loss=\"hinge\", max_iter=2000, random_state=42))\n",
        "    ])\n",
        "\n",
        "polynomial_svm_clf.fit(X, y)"
      ],
      "execution_count": 0,
      "outputs": []
    },
    {
      "cell_type": "code",
      "metadata": {
        "id": "Iv8Lzj608B-g",
        "colab_type": "code",
        "colab": {}
      },
      "source": [
        "# 그림으로 확인하기\n",
        "def plot_predictions(clf, axes):\n",
        "    x0s = np.linspace(axes[0], axes[1], 100)\n",
        "    x1s = np.linspace(axes[2], axes[3], 100)\n",
        "    x0, x1 = np.meshgrid(x0s, x1s)\n",
        "    X = np.c_[x0.ravel(), x1.ravel()]\n",
        "    y_pred = clf.predict(X).reshape(x0.shape)\n",
        "    y_decision = clf.decision_function(X).reshape(x0.shape)\n",
        "    plt.contourf(x0, x1, y_pred, cmap=plt.cm.brg, alpha=0.2)\n",
        "    plt.contourf(x0, x1, y_decision, cmap=plt.cm.brg, alpha=0.1)\n",
        "\n",
        "plot_predictions(polynomial_svm_clf, [-1.5, 2.5, -1, 1.5])\n",
        "plot_dataset(X, y, [-1.5, 2.5, -1, 1.5])\n",
        "\n",
        "save_fig(\"moons_polynomial_svc_plot\")\n",
        "plt.show()"
      ],
      "execution_count": 0,
      "outputs": []
    },
    {
      "cell_type": "markdown",
      "metadata": {
        "id": "sNDH8gavw941",
        "colab_type": "text"
      },
      "source": [
        "## 5-3. Decision tree"
      ]
    },
    {
      "cell_type": "markdown",
      "metadata": {
        "id": "BXEl20vhntko",
        "colab_type": "text"
      },
      "source": [
        "### Decision tree란?\n",
        "- Decision tree는 데이터를 분석하여 이들 사이에 존재하는 패턴을 예측 가능한 규칙들의 조합으로 나타내며, 그 모양이 ‘나무’와 같다고 해서 decision tree라 불림\n",
        "- 뿌리의 끝마디가 Terminal node, 뿌리의 마디가 Root node, 중간 마디가 Intermediate node!, 끝 마디는 leaf node\n",
        "- 의사결정나무는 분류(classification)와 회귀(regression) 모두 가능함  \n",
        "- 데이터 전처리가 거의 필요하지 않다. Scaling 불필요\n",
        "- 이해하고 해석하기 쉬우며, 사용하기 편하고 여러 용도로 사용가능하며, 성능도 우수!\n",
        "- 대신 이상치에 민감\n",
        "[참조 github blog](https://ratsgo.github.io/machine%20learning/2017/03/26/tree/)  \n",
        "![](http://i.imgur.com/ZKDnzOB.png)\n",
        "\n",
        "> Classification\n",
        " - 새로운 데이터가 특정 terminal node에 속한다는 정보를 확인한 뒤, 해당 terminal node에서 가장 빈도가 높은 범주에 새로운 데이터를 분류하게 됨. \n",
        " - 운동경기 예시에 적용해보면 날씨는 맑은데 습도가 70을 넘는 날은 경기가 열리지 않을 거라고 예측함\n",
        "\n",
        "> Regression\n",
        " - 회귀의 경우 해당 terminal node의 종속변수(y)의 평균을 예측값으로 반환함!\n",
        " - 이 때 예측값의 종류는 terminal node 개수와 일치합니다. \n",
        " - 만약 terminal node 수가 3개뿐이라면 새로운 데이터가 100개, 아니 1000개가 주어진다고 해도 의사결정나무는 딱 3종류의 답만을 출력하게 됨\n",
        "\n",
        "> [DT의 공간 분할 법](http://i.imgur.com/THaJKeR.png)\n",
        "- 이런 식으로 공간을 나누는 것!\n",
        "<br>\n",
        "<br>\n",
        "\n",
        "### 어떤 기준으로 영역을 나누나?\n",
        "- Decision tree는 구분 뒤 각 영역의 순도(homogeneity)가 증가, 불순도(impurity) 혹은 불확실성(uncertainty)이 최대한 감소하도록 하는 방향으로 학습을 진행\n",
        "- 순도가 증가/불확실성이 감소하는 걸 두고 정보이론에서는 정보획득(information gain)이라 함\n",
        "- 순도를 계산하는 3가지 방법\n",
        " > Entropy  \n",
        "  : entropy 감소 = 불확실설 감소 = 순도 증가 = 정보획득  \n",
        "  : $H_i = -\\sum_{k=1}^nP_{i,k}log_2(P_{i,k})$  \n",
        "\n",
        " > Gini Index  \n",
        "  : $G_i = 1-\\sum_{k=1}^np_{i,k}^2$  \n",
        "    $p_{i,k}$는 i번째 노드에 있는 훈련 샘플 중 클래스 k에 속한 샘플의 비율  \n",
        "\n",
        " > Misclassification error  \n",
        "  : 미분이 불가능해서 잘 안 쓰임\n",
        "- Gini Index vs Entropy?\n",
        "  - 실제로 큰 차이 없다.\n",
        "  - Gini index가 계산이 좀 더 빨라서 기본값으로 좋음\n",
        "  - Gini index보다 entropy가 조금 더 균형 잡힌 트리 생성\n",
        "\n",
        "\n",
        "### 어떻게 학습이 되나?\n",
        " - 크게 2가지: 재귀적 분기 & 가지치기 \n",
        " > 재귀적 분기(recursive partitioning)\n",
        "  - 한 변수 기준으로 정렬한다. \n",
        "  - 그 변수에 대해 가능한 모든 분기점에 대해 Entropy/Gini Index를 구해 분기 전과 비교해 정보획득을 조사함\n",
        "  - 이후 분기 지점을 두번째 레코드로 두고 처음 두 개 레코드와 나머지 레코드 간의 entropy를 계산한 뒤 정보획득을 계산\n",
        "  - 이렇게 순차적으로 계산한 뒤, 이번엔 다른 변수을 기준으로 정렬하고 다시 같은 작업을 반복합니다. \n",
        "  - 모든 경우의 수 가운데 정보획득이 가장 큰 변수와 그 지점을 택해 첫번째 분기를 하게 됩니다. \n",
        "  - 이후 또 같은 작업을 반복해 두번째, 세번째… 이렇게 분기를 계속 해 나가는 과정이 바로 의사결정나무의 학습이다!!!\n",
        "\n",
        " > 가지치기(pruning)\n",
        "  - Full tree: 모든 terminal node의 순도가 100%인 상태\n",
        "  - Full tree를 생성한 뒤 적절한 수준에서 terminal node를 결합해주어 overfitting을 방지해주는 방법\n",
        "  - cho-squared 검정 등을 사용하여 순도가 올라간 게 우연히 향상된 것인지 추정한다.\n",
        "  - p-값이 임곗값보다 높으면 순도 향상이 우연에 의한 것일 수 있다고 본다.\n",
        "\n",
        "[Entropy Calculation example](https://towardsdatascience.com/entropy-how-decision-trees-make-decisions-2946b9c18c8)\n",
        "\n",
        "### 비용함수 (CART)\n",
        "> Classification\n",
        "- $J(K,t_k) = \\frac{m_{left}}{m}G_{left} + \\frac{m_{right}}{m}G_{right}$\n",
        " - $G_{left/right}$는 왼쪽/오른쪽 서브셋의 불순도\n",
        " - $m_{left/right}$는 왼쪽/오른쪽 서브셋의 샘플 수\n",
        "\n",
        "> Regression  \n",
        "- $J(k,t_k) = \\frac{m_{left}}{m}MSE_{left} + \\frac{m_{right}}{m}MSE_{right}$\n",
        "  - $MSE_{node} = \\sum_{i \\in node}y^{(i)}$\n",
        "  - $\\hat{y}_{node} = \\frac{1}{m_{node}}\\sum_{i \\in node}y^{(i)}$\n",
        "\n",
        "### 빈용메소드모음\n",
        "- **DecisionTreeClassifier( )** : 기본 DT 모델\n",
        "  - max_depth: 최대 깊이\n",
        "  - min_samples_split: 분할되기 위해 node가 가질 최소 샘플 수\n",
        "  - min_samples_leaf: leaf node가 가질 최소 샘플 수\n",
        "  - min_weight_fraction_leaf: min_samples_leaf와 같지만 가중치가 부여된 전체 샘플 수에서의 비율\n",
        "  - max_leaf_nodes: leaf node의 최대 수\n",
        "  - max_features: 분할에 사용할 특성의 최대 수"
      ]
    },
    {
      "cell_type": "code",
      "metadata": {
        "id": "HuSemgPAnsQC",
        "colab_type": "code",
        "colab": {}
      },
      "source": [
        "## DT 예시 1\n",
        "# 모델 만들어주기\n",
        "from sklearn.tree import DecisionTreeRegressor\n",
        "\n",
        "model = DecisionTreeRegressor(random_state=1, max_depth=50)\n",
        "model\n",
        "\n",
        "# fitting 시키기\n",
        "model.fit(x_train,y_train_re)\n",
        "model.fit(x_train,y_train_ca)\n",
        "model.fit(x_train,y_train)\n",
        "\n",
        "# predict하기\n",
        "model.predict(x_test)"
      ],
      "execution_count": 0,
      "outputs": []
    },
    {
      "cell_type": "code",
      "metadata": {
        "id": "Tcl_Jg_-sKvY",
        "colab_type": "code",
        "outputId": "ebb6ec25-a502-4930-def1-6968578b1ece",
        "colab": {
          "base_uri": "https://localhost:8080/",
          "height": 612
        }
      },
      "source": [
        "## DT 예시 2\n",
        "from sklearn import tree\n",
        "from sklearn import datasets\n",
        "from sklearn.model_selection import train_test_split\n",
        "from sklearn.preprocessing import StandardScaler\n",
        "import numpy as np\n",
        "\n",
        "iris = datasets.load_iris()\n",
        "X = iris.data[:, [2, 3]]\n",
        "y = iris.target\n",
        "\n",
        "# 자동으로 데이터셋을 분리해주는 함수\n",
        "X_train, X_test, y_train, y_test = train_test_split(X, y, test_size=0.3, random_state=0)\n",
        "\n",
        "# 데이터 표준화 작업\n",
        "sc = StandardScaler()\n",
        "sc.fit(X_train)\n",
        "\n",
        "# 표준화된 데이터셋\n",
        "X_train_std = sc.transform(X_train)\n",
        "X_test_std = sc.transform(X_test)\n",
        "\n",
        "iris_tree = tree.DecisionTreeClassifier(criterion='entropy', max_depth=3, random_state=0)\n",
        "iris_tree.fit(X_train, y_train)\n",
        "\n",
        "from sklearn.metrics import accuracy_score\n",
        "\n",
        "y_pred_tr = iris_tree.predict(X_test)\n",
        "print('Accuracy: %.2f' % accuracy_score(y_test, y_pred_tr))\n",
        "\n",
        "from sklearn.tree import export_graphviz\n",
        "import pydotplus\n",
        "from IPython.display import Image\n",
        "\n",
        "dot_data = export_graphviz(iris_tree, out_file=None, feature_names=['petal length', 'petal width'],\n",
        "                          class_names=iris.target_names, filled=True, rounded=True, special_characters=True)\n",
        "graph = pydotplus.graph_from_dot_data(dot_data)\n",
        "Image(graph.create_png())"
      ],
      "execution_count": 0,
      "outputs": [
        {
          "output_type": "stream",
          "text": [
            "Accuracy: 0.98\n"
          ],
          "name": "stdout"
        },
        {
          "output_type": "execute_result",
          "data": {
            "image/png": "[encoded data removed]",
            "text/plain": [
              "<IPython.core.display.Image object>"
            ]
          },
          "metadata": {
            "tags": []
          },
          "execution_count": 2
        }
      ]
    },
    {
      "cell_type": "code",
      "metadata": {
        "id": "N1e4ZTCxFgEb",
        "colab_type": "code",
        "colab": {}
      },
      "source": [
        "### DT 예시 3\n",
        "from sklearn.datasets import load_iris\n",
        "iris = load_iris()\n",
        "\n",
        "# Model (can also use single decision tree)\n",
        "from sklearn.ensemble import RandomForestClassifier\n",
        "model = RandomForestClassifier(n_estimators=10)\n",
        "\n",
        "# Train\n",
        "model.fit(iris.data, iris.target)\n",
        "# Extract single tree\n",
        "estimator = model.estimators_[5]\n",
        "\n",
        "from sklearn.tree import export_graphviz\n",
        "# Export as dot file\n",
        "export_graphviz(estimator, out_file='tree.dot', \n",
        "                feature_names = iris.feature_names,\n",
        "                class_names = iris.target_names,\n",
        "                rounded = True, proportion = False, \n",
        "                precision = 2, filled = True)\n",
        "\n",
        "# Convert to png using system command (requires Graphviz)\n",
        "from subprocess import call\n",
        "call(['dot', '-Tpng', 'tree.dot', '-o', 'tree.png', '-Gdpi=600'])\n",
        "\n",
        "# Display in jupyter notebook\n",
        "from IPython.display import Image\n",
        "Image(filename = 'tree.png')"
      ],
      "execution_count": 0,
      "outputs": []
    },
    {
      "cell_type": "code",
      "metadata": {
        "id": "IXy1D_oaHLNq",
        "colab_type": "code",
        "colab": {}
      },
      "source": [
        ""
      ],
      "execution_count": 0,
      "outputs": []
    },
    {
      "cell_type": "markdown",
      "metadata": {
        "colab_type": "text",
        "id": "Sw8bfsbHw98e"
      },
      "source": [
        "## 5-4. Ensemble"
      ]
    },
    {
      "cell_type": "markdown",
      "metadata": {
        "colab_type": "text",
        "id": "KQ9dVYBbHOTG"
      },
      "source": [
        "- 약한 학습기일지라도 충분하게 많고 다양하면 강한 학습기가 될 수 있다!\n",
        "- 이게 앙상블의 기본 마인드~\n",
        "- 앙상블 방법은 예측기가 가능한 한 독립적일 때 최고의 성능을 발휘함.\n",
        "\n",
        "\n",
        "> 대표적인 Ensemble 방식\n",
        " - Voting\n",
        " - Bagging\n",
        " - Boosting\n",
        " - Pasting\n",
        " - Stacking"
      ]
    },
    {
      "cell_type": "markdown",
      "metadata": {
        "colab_type": "text",
        "id": "vWqR0_CgHOTG"
      },
      "source": [
        "### 2. Voting"
      ]
    },
    {
      "cell_type": "markdown",
      "metadata": {
        "colab_type": "text",
        "id": "apdwIiWgHOTH"
      },
      "source": [
        "- Voting은 여러 개의 모델을 만들어서 투표를 붙여서 가장 많이 선택된 클래스를 선택해주는 것!\n",
        "- 투표 방식은 크게 2가지가 있다.\n",
        "\n",
        "> Hard voting\n",
        "   - 다수결\n",
        "   - voting model에서 hyperparmeter를 voting=\"hard\"로 바꾸면 됨\n",
        "\n",
        "> Soft voting\n",
        "   - 확률을 예측할 수 있으면 확률을 평균 내어서 확률이 가장 높은 클래스를 예측하는 것\n",
        "   - 확률이 높은 투표에 더 비중을 두기에 직접 투표방식보다 성능이 높다.\n",
        "   - voting model에서 hyperparmeter를 voting=\"soft\"로 바꾸면 됨\n",
        "<br>\n",
        "\n",
        "메소드 모음  \n",
        " - **VotingClassifier( estimators = [ 모델1, 모델2 ], voting = ' ')**: Voting Classifier를 설정하는 가장 기본 메소드\n"
      ]
    },
    {
      "cell_type": "code",
      "metadata": {
        "colab_type": "code",
        "id": "VfTv7LmpHOTH",
        "colab": {}
      },
      "source": [
        "# sklearn에서 나오는 VotingClassifier 예시\n",
        "from sklearn.ensemble import RandomForestClassifier\n",
        "from sklearn.ensemble import VotingClassifier\n",
        "from sklearn.linear_model import LogisticRegression\n",
        "from sklearn.svm import SVC\n",
        "\n",
        "log_clf = LogisticRegression(solver='liblinear', random_state=42)\n",
        "rnd_clf = RandomForestClassifier(n_estimators=10, random_state=42)\n",
        "svm_clf = SVC(gamma='auto', random_state=42)\n",
        "\n",
        "voting_clf = VotingClassifier(\n",
        "    estimators=[('lr', log_clf), ('rf', rnd_clf), ('svc', svm_clf)],\n",
        "    voting='hard')\n",
        "voting_clf.fit(X_train, y_train)"
      ],
      "execution_count": 0,
      "outputs": []
    },
    {
      "cell_type": "code",
      "metadata": {
        "colab_type": "code",
        "id": "KYoexZSBHOTJ",
        "colab": {}
      },
      "source": [
        "# 각 분류기의 테스트셋 정확도를 확인하기!\n",
        "from sklearn.metrics import accuracy_score\n",
        "\n",
        "for clf in (log_clf, rnd_clf, svm_clf, voting_clf):\n",
        "    clf.fit(X_train, y_train)\n",
        "    y_pred = clf.predict(X_test)\n",
        "    print(clf.__class__.__name__, accuracy_score(y_test, y_pred))"
      ],
      "execution_count": 0,
      "outputs": []
    },
    {
      "cell_type": "markdown",
      "metadata": {
        "colab_type": "text",
        "id": "6CC05NWfHOTL"
      },
      "source": [
        "### 3. Bagging  "
      ]
    },
    {
      "cell_type": "markdown",
      "metadata": {
        "colab_type": "text",
        "id": "kgZbjX5iw-AF"
      },
      "source": [
        "- Bagging은 \"Bootstrap Aggregating\"의 줄임말  \n",
        "  (bootstrap: 중복을 허용한 리샘플링)\n",
        "- 훈련 세트에서 중복을 허용하여 샘플링하는 방법이 Bagging  \n",
        "![](https://lh3.googleusercontent.com/proxy/KiziXRwtIElJNbhpG3TTietxX5lExmklEw8ea50CtBZFbU8MRl0m16Vgqrw0KdXTnRdFFafo-LVKslLAyJ6KkZ4CrRQthIX_cc9aKZ1yeuoGedm9dJ9qNlSjZDd54H8JCpIaTuCuolXpNfJVRxynCXYB0Elab0-10Km1J9hxPR6kMzdt)\n",
        "\n",
        "> 학습원리  \n",
        " 1. 먼저 원래 데이터에 대해서 여러 개의 작은 데이터셋 N개를 샘플링해서 만든 다음, 각각의 데이터를 작은 모델 N개로 학습을 시킨다.\n",
        " 2. 그 다음 학습된 N개의 모델을 모두 하나로 합쳐서 최종적인 예측을 낸다.\n",
        " 3. 병렬적으로 데이터를 나누어 여러 개의 모델을 \"동시에\" 학습시킴\n",
        "\n",
        "- Bagging을 쓰면 어떤 샘플은 여러 번 사용되고, 어떤 것은 전혀 선택되지 않을 수 있음\n",
        "- 예시) Random Forest  \n",
        "\n",
        "\n",
        "> oob 평가\n",
        "- 선택되지 않은 훈련 샘플을 out-of-bag 샘플이라고 부른다.\n",
        "\n",
        "메소드 모음\n",
        "- **BaggingClassifier(사용할모델, hyperparameter들)**: 기본 모델\n",
        "- **.fit( X_train, y_train )** : 학습하기\n",
        "- **.predict( X_test )** : 예측하기"
      ]
    },
    {
      "cell_type": "code",
      "metadata": {
        "colab_type": "code",
        "id": "vBSt2dN0LFSU",
        "colab": {}
      },
      "source": [
        "# BaggingClassifier 예시 \n",
        "from sklearn.ensemble import BaggingClassifier\n",
        "from sklearn.tree import DecisionTreeClassifier\n",
        "\n",
        "bag_clf = BaggingClassifier(\n",
        "    DecisionTreeClassifier(random_state=42), n_estimators=500,\n",
        "    max_samples=100, bootstrap=True, n_jobs=-1, random_state=42)\n",
        "bag_clf.fit(X_train, y_train)\n",
        "y_pred = bag_clf.predict(X_test)"
      ],
      "execution_count": 0,
      "outputs": []
    },
    {
      "cell_type": "code",
      "metadata": {
        "colab_type": "code",
        "id": "WcQeFvMYOcrn",
        "colab": {}
      },
      "source": [
        "# oob score 예시\n",
        "bag_clf = BaggingClassifier(\n",
        "    DecisionTreeClassifier(random_state=42), n_estimators=500,\n",
        "    bootstrap=True, n_jobs=-1, oob_score=True, random_state=40)\n",
        "bag_clf.fit(X_train, y_train)\n",
        "bag_clf.oob_score_\n",
        "\n",
        "from sklearn.metrics import accuracy_score\n",
        "y_pred = bag_clf.predict(X_test)\n",
        "accuracy_score(y_test, y_pred)"
      ],
      "execution_count": 0,
      "outputs": []
    },
    {
      "cell_type": "markdown",
      "metadata": {
        "colab_type": "text",
        "id": "RDBvKYR9HOTQ"
      },
      "source": [
        "#### Random Forest"
      ]
    },
    {
      "cell_type": "markdown",
      "metadata": {
        "colab_type": "text",
        "id": "SwHw2i3oyho5"
      },
      "source": [
        "\n",
        "- Decision tree를 모아놓은 ensemble 모델\n",
        "- Random forest는 수많은 Decision tree가 모여 만들어진 숲이라고 생각하면 됨!\n",
        "- 많은 decision tree의 의견을 다수결로 최종 결과를 반환\n",
        "- Null 값이 있으면 안 된다.\n",
        "\n",
        "> 그럼 왜 RandomForest를 만들었을까?\n",
        " - 각각의 tree는 비교적 예측을 잘 할 수 있지만 데이터의 일부에 overfitting하는 경향을 가진다는 데 기초합니다.\n",
        " - 잘 작동하되 서로 다른 방향으로 overfitting된 tree를 많이 만들면, 그 결과를 평균냄으로써 overfitting된 양을 줄일 수 있음!\n",
        " - 이렇게 했을 때 tree model의 예측 성능이 유지되면서 overfitting이 줄어드는 것이 수학적으로 증명되었다니 믿고 씁시다.\n",
        "- 서로 다른 방향으로 overfitting이 되게 무작위성을 심어줌!\n",
        "\n",
        "> RandomForest의 무작위성 요소\n",
        " - tree를 만들 때 사용하는 데이터를 무작위로 선택하고 (Bootstrap sampling)\n",
        " - 분할 테스트에서 특성을 무작위로 선택합니다.\n",
        " - 무작위로 선택한 특성 후보 중에서 최적의 특성을 찾는 식의 **무작위성**을 주입\n",
        "\n",
        "\n",
        "![](https://miro.medium.com/max/1170/1*58f1CZ8M4il0OZYg2oRN4w.png)\n",
        "<br>\n",
        "<br>\n",
        "\n",
        "> 학습원리 \n",
        " 1. 주어진 train data에서 무작위로 중복을 허용해 n개를 선택\n",
        " 2. 선택한 n개의 data에서 데이터 feature를 중복 허용없이 d개를 선택\n",
        " 3. 이를 바탕으로 decision tree로 학습\n",
        " 4. 1~3을 k번 반복\n",
        " 5. k개의 decision tree로 평균값 or 다수결로 최종 예측값을 결정    \n",
        "<br>\n",
        "<br>\n",
        "\n",
        "메소드 모음\n",
        " - **RandomForestClassifier ( n_estimators = 100 , criterion = ' gini ' , max_depth = None , min_samples_split = 2 , min_samples_leaf = 1 , min_weight_fraction_leaf = 0 , max_features = ' auto ' , max_leaf_nodes = None , min_impurity_decrease = 0 , min_impurity_split = None , bootstrap = True, oob_score = False , n_jobs = None, random_state = None , verbose = 0 , warm_start=False, class_weight=None, ccp_alpha=0.0, max_samples=None)** \n",
        "  - n_esitmators: 생성할 Decision Tree 개수\n",
        "  - max_features: 최대 선택할 특성의 수입니다. max_features를 전체 특성의수로 설정하면 모든 특성을 고려하기에 decision tree에서 무작위성이 들어가지 않음\n",
        "  - n_jobs: 학습을 수행하기 위한 병렬적으로 활용할 CPU 코어 개수\n",
        "  - criterion: 정보 순도를 계산하기 위한 방법들. entropy, gini 중에 설정 가능\n",
        "  - oob_score: 예측이 얼마나 정확한지에 대한 추정을 수치로 나타낸 것\n",
        "- **.feature_importances_**: feature importane를 뽑을 수 있다."
      ]
    },
    {
      "cell_type": "code",
      "metadata": {
        "colab_type": "code",
        "id": "A1w_-GBWVior",
        "colab": {}
      },
      "source": [
        "## Feature importance 사용 예시\n",
        "from sklearn.datasets import load_iris\n",
        "iris = load_iris()\n",
        "rnd_clf = RandomForestClassifier(n_estimators=500, n_jobs=-1, random_state=42)\n",
        "rnd_clf.fit(iris[\"data\"], iris[\"target\"])\n",
        "for name, score in zip(iris[\"feature_names\"], rnd_clf.feature_importances_):\n",
        "    print(name, score)"
      ],
      "execution_count": 0,
      "outputs": []
    },
    {
      "cell_type": "code",
      "metadata": {
        "colab_type": "code",
        "id": "YqMMN3LqEm9p",
        "colab": {}
      },
      "source": [
        "## 예시 1\n",
        "from sklearn.ensemble import RandomForestClassifier\n",
        "from sklearn import metrics    \n",
        "# 학습 진행\n",
        "forest = RandomForestClassifier(n_estimators=100)\n",
        "forest.fit(x_train, y_train)\n",
        " \n",
        "# 예측\n",
        "y_pred = forest.predict(x_test)\n",
        "print(y_pred)\n",
        "print(list(y_test))\n",
        " \n",
        "# 정확도 확인\n",
        "print('정확도 :', metrics.accuracy_score(y_test, y_pred))"
      ],
      "execution_count": 0,
      "outputs": []
    },
    {
      "cell_type": "code",
      "metadata": {
        "colab_type": "code",
        "id": "WW2Gc5zYE4cP",
        "colab": {}
      },
      "source": [
        "## 예시 2\n",
        "from sklearn.ensemble import RandomForestClassifier\n",
        "\n",
        "rf = RandomForestClassifier(n_estimators=100, oob_score=True, random_state=123456)\n",
        "rf.fit(X_train, y_train)\n",
        "\n",
        "from sklearn.metrics import accuracy_score\n",
        "\n",
        "predicted = rf.predict(X_test)\n",
        "accuracy = accuracy_score(y_test, predicted)\n",
        "\n",
        "print(f'Out-of-bag score estimate: {rf.oob_score_:.3}')\n",
        "print(f'Mean accuracy score: {accuracy:.3}')\n",
        "\n",
        "from sklearn.metrics import confusion_matrix\n",
        "\n",
        "cm = pd.DataFrame(confusion_matrix(y_test, predicted), columns=iris.target_names, index=iris.target_names)\n",
        "sns.heatmap(cm, annot=True)"
      ],
      "execution_count": 0,
      "outputs": []
    },
    {
      "cell_type": "markdown",
      "metadata": {
        "colab_type": "text",
        "id": "iqB656qNygjH"
      },
      "source": [
        "### 4. Boosting"
      ]
    },
    {
      "cell_type": "markdown",
      "metadata": {
        "colab_type": "text",
        "id": "hKnaWxRsHOTW"
      },
      "source": [
        "- Boosting은 Bagging과 다르게 이전 모델의 오차를 고려하여 학습을 하는 Ensemble 모델이다!"
      ]
    },
    {
      "cell_type": "markdown",
      "metadata": {
        "colab_type": "text",
        "id": "0AvQgkfqSKEC"
      },
      "source": [
        "#### Bagging vs Boosting\n"
      ]
    },
    {
      "cell_type": "markdown",
      "metadata": {
        "colab_type": "text",
        "id": "orswR1yswPMb"
      },
      "source": [
        "> Boosting이란?  \n",
        "![123123](https://quantdare.com/wp-content/uploads/2016/04/bb3.png)\n",
        "- Bagging은 샘플을 여러 번 뽑아 각 모델을 학습시켜 결과를 집계(Aggregating) 하는 방법이다.\n",
        "- Boosting은 Bagging과 다르게 이전 모델의 오차를 고려하여 학습을 하는 Ensemble 모델이다!\n",
        "- 못 맞춘 데이터에 대해서만 순차적으로 학습시켜서 여러 개의 모델을 학습함. 그래서 bagging에 비해서 상대적으로 속도가 많이 느리다. 그 전 모델의 학습이 끝나야 다음 모델학습이 가능하기 때문.\n",
        "\n",
        "\n",
        "\n",
        "\n",
        "\n",
        "\n",
        "\n",
        "\n",
        "\n"
      ]
    },
    {
      "cell_type": "markdown",
      "metadata": {
        "colab_type": "text",
        "id": "xaqIpgE5HOTX"
      },
      "source": [
        "> Bagging과 Boosting의 차이점  \n",
        "![123123](https://user-images.githubusercontent.com/31475037/59011343-5a586280-886f-11e9-86ab-3143ad265195.png)"
      ]
    },
    {
      "cell_type": "markdown",
      "metadata": {
        "colab_type": "text",
        "id": "8zgZEe2gHOTX"
      },
      "source": [
        "> Boosting 종류  \n",
        "![123123](https://image.slidesharecdn.com/mlstudyboostingv0-171128021615/95/boosting-bagging-vs-boosting-14-638.jpg?cb=1511939004)\n",
        "- 크게 Adaboost, GBM, Xgboost, Light GBM등이 있다."
      ]
    },
    {
      "cell_type": "markdown",
      "metadata": {
        "colab_type": "text",
        "id": "v0aUaYi0VwKw"
      },
      "source": [
        "#### AdaBoost"
      ]
    },
    {
      "cell_type": "markdown",
      "metadata": {
        "colab_type": "text",
        "id": "Zs_wKTyxVymh"
      },
      "source": [
        "\n",
        "- 이전 모델이 underfitting된 훈련 샘플의 가중치를 더 높여 새로운 예측기를 학습\n",
        "- 잘못 분류된 샘플의 가중치를 높여서 다음 훈련 때 \"더 많이 나오도록\" 바꾸는 방법!\n",
        "![](https://miro.medium.com/max/1664/1*sGDoUrsglxZl84WnTINbVA.png)\n",
        "> 학습원리\n",
        " 1. 첫 번째 분류기로 훈련 후 예측!\n",
        " 2. 잘못 분류된 훈련 샘플의 가중치를 상대적으로 높임\n",
        " 3. 다음 분류기는 업데이트된 가중치를 사용해 다시 훈련\n",
        " 4. 다시 가중치를 업데이트!\n",
        " <br>\n",
        " <br>"
      ]
    },
    {
      "cell_type": "markdown",
      "metadata": {
        "colab_type": "text",
        "id": "msiJa8SJHOTY"
      },
      "source": [
        " > j번째 예측기의 가중치가 적용된 에러율  \n",
        " $$r_j=\\frac{\\sum_{(i=1)}^{m}w^{(i)}(예측이_.틀린경우)}{\\sum_{(i=1)}^mw^{(i)}}$$\n",
        "\n",
        " > 예측기 가중치\n",
        " $$\\alpha_j = \\eta*log\\frac{1-r_j}{r_j}$$\n",
        "\n",
        " > 가중치 업데이트 규칙\n",
        " - $\\hat{y_j^{(i)}}$ = $y^{(i)}$ 일 때: $w^{(i)}$\n",
        " - $\\hat{y_j^{(i)}}$ != $y^{(i)}$ 일 때: $w^{(i)}exp(\\alpha_j)$\n",
        " - 하고서 모든 샘플의 가중치를 정규화함 ($\\sum_{(i=1)}^mw^{(i)}$)\n",
        "\n",
        " > Adaboost 예측  \n",
        "  - $\\hat{y}(x) = argmax_k\\sum_{j=1}^N\\alpha_j$"
      ]
    },
    {
      "cell_type": "code",
      "metadata": {
        "colab_type": "code",
        "id": "TAm0sQ5jRIiB",
        "colab": {}
      },
      "source": [
        "# 예시 1\n",
        "from sklearn.ensemble import AdaBoostClassifier\n",
        "\n",
        "ada_clf = AdaBoostClassifier(\n",
        "    DecisionTreeClassifier(max_depth=1), n_estimators=200,\n",
        "    algorithm=\"SAMME.R\", learning_rate=0.5, random_state=42)\n",
        "ada_clf.fit(X_train, y_train)"
      ],
      "execution_count": 0,
      "outputs": []
    },
    {
      "cell_type": "markdown",
      "metadata": {
        "colab_type": "text",
        "id": "bbK5_CuiZtyx"
      },
      "source": [
        "#### Gradient Boosting"
      ]
    },
    {
      "cell_type": "markdown",
      "metadata": {
        "colab_type": "text",
        "id": "KfhLo9TPZxvU"
      },
      "source": [
        "- Gradient Boosting은 residual fitting이다!\n",
        "- Gradient boosting은 추천 시스템, 예측 등 다양한 분야에서 활용되어지는 강력한 방법이다!\n",
        "- objective function 관점에서 loss function을 minimize하는 방향으로 boosting하는 것\n",
        "- Gradient Boosting은 최적의 파라미터 탐색 과정이(Gradient Descent) 함수 공간에서 이루어진다. 그래서 loss function을 파라미터가 현재까지 학습된 모델 함수로 미분한다.\n",
        "- 이때 미분되는 기울기는 Negative gradient인데 pseudo-residual이라고도 불리며, 이것은 어떤 데이터 포인트에서 loss function이 줄어들기 위해 f(x)가 가려고하는 방향이다.\n",
        "- 이 방향에 새로운 모델을 fitting해서 이것을 이전 모델과 결합하면, f(x) 는 loss function이 줄어드는 방향으로 업데이트한다!\n",
        "$$f_{i+1} = f_{i} - \\rho \\frac{\\partial{J}}{\\partial{f_{i}}}$$"
      ]
    },
    {
      "cell_type": "markdown",
      "metadata": {
        "colab_type": "text",
        "id": "flscTqiHZxgl"
      },
      "source": [
        "- ![](https://t1.daumcdn.net/cfile/tistory/99A9FC375C46C0201B)\n",
        "- 위 그림을 보시면 tree 1을 통해 예측하고 남은 잔차를 tree2를 통해 예측하고, 이를 반복함으로서 점점 잔차를 줄여나가는 것을 볼 수 있다. 이 때, 각각의 모델 tree1,2,3 을 weak learner, 이를 결합한 분류기를 strong learner라고 한다.\n",
        "- 보통 약한 분류기로는 간단한 의사결정나무 (decision tree)를 많이 사용한다. 이를 Gradient boosting tree라고도 한다.\n",
        "\n",
        "\n",
        "\n"
      ]
    },
    {
      "cell_type": "code",
      "metadata": {
        "colab_type": "code",
        "id": "X-EH-gIYRPUk",
        "colab": {}
      },
      "source": [
        "# Gradient boosting 원리 설명\n",
        "import numpy as np\n",
        "import matplotlib.pyplot as plt\n",
        "from sklearn.tree import DecisionTreeRegressor\n",
        "np.random.seed(42)\n",
        "X = np.random.rand(100, 1) - 0.5\n",
        "y = 3*X[:, 0]**2 + 0.05 * np.random.randn(100)\n",
        "\n",
        "tree_reg1 = DecisionTreeRegressor(max_depth=2, random_state=42)\n",
        "tree_reg1.fit(X, y)\n",
        "\n",
        "y2 = y - tree_reg1.predict(X)\n",
        "tree_reg2 = DecisionTreeRegressor(max_depth=2, random_state=42)\n",
        "tree_reg2.fit(X, y2)\n",
        "\n",
        "y3 = y2 - tree_reg2.predict(X)\n",
        "tree_reg3 = DecisionTreeRegressor(max_depth=2, random_state=42)\n",
        "tree_reg3.fit(X, y3)\n",
        "\n",
        "X_new = np.array([[0.8]])\n",
        "y_pred = sum(tree.predict(X_new) for tree in (tree_reg1, tree_reg2, tree_reg3))"
      ],
      "execution_count": 0,
      "outputs": []
    },
    {
      "cell_type": "markdown",
      "metadata": {
        "colab_type": "text",
        "id": "rhihySftHOTd"
      },
      "source": [
        "- 이러한 방법을 계속하면 잔차는 계속해서 줄어들게되고, training set을 잘 설명하는 예측 모형을 만들 수 있게 된다.\n",
        "- 하지만 이러한 방식은 bias는 상당히 줄일 수 있어도, 과적합이 일어날 수도 있다는 단점이 있다."
      ]
    },
    {
      "cell_type": "code",
      "metadata": {
        "colab_type": "code",
        "id": "gEY4IOK8SaCy",
        "outputId": "ad8f9807-4bd9-4daf-9c0c-5c8f1286415d",
        "colab": {
          "base_uri": "https://localhost:8080/",
          "height": 684
        }
      },
      "source": [
        "def plot_predictions(regressors, X, y, axes, label=None, style=\"r-\", data_style=\"b.\", data_label=None):\n",
        "    x1 = np.linspace(axes[0], axes[1], 500)\n",
        "    y_pred = sum(regressor.predict(x1.reshape(-1, 1)) for regressor in regressors)\n",
        "    plt.plot(X[:, 0], y, data_style, label=data_label)\n",
        "    plt.plot(x1, y_pred, style, linewidth=2, label=label)\n",
        "    if label or data_label:\n",
        "        plt.legend(loc=\"upper center\", fontsize=16)\n",
        "    plt.axis(axes)\n",
        "\n",
        "plt.figure(figsize=(11,11))\n",
        "\n",
        "plt.subplot(321)\n",
        "plot_predictions([tree_reg1], X, y, axes=[-0.5, 0.5, -0.1, 0.8], label=\"$h_1(x_1)$\", style=\"g-\", data_label=\"train set\")\n",
        "plt.ylabel(\"$y$\", fontsize=16, rotation=0)\n",
        "plt.title(\"residue and prediction with tree\", fontsize=16)\n",
        "\n",
        "plt.subplot(322)\n",
        "plot_predictions([tree_reg1], X, y, axes=[-0.5, 0.5, -0.1, 0.8], label=\"$h(x_1) = h_1(x_1)$\", data_label=\"train set\")\n",
        "plt.ylabel(\"$y$\", fontsize=16, rotation=0)\n",
        "plt.title(\"Predication with Ensemble\", fontsize=16)\n",
        "\n",
        "plt.subplot(323)\n",
        "plot_predictions([tree_reg2], X, y2, axes=[-0.5, 0.5, -0.5, 0.5], label=\"$h_2(x_1)$\", style=\"g-\", data_style=\"k+\", data_label=\"residue\")\n",
        "plt.ylabel(\"$y - h_1(x_1)$\", fontsize=16)\n",
        "\n",
        "plt.subplot(324)\n",
        "plot_predictions([tree_reg1, tree_reg2], X, y, axes=[-0.5, 0.5, -0.1, 0.8], label=\"$h(x_1) = h_1(x_1) + h_2(x_1)$\")\n",
        "plt.ylabel(\"$y$\", fontsize=16, rotation=0)\n",
        "\n",
        "plt.subplot(325)\n",
        "plot_predictions([tree_reg3], X, y3, axes=[-0.5, 0.5, -0.5, 0.5], label=\"$h_3(x_1)$\", style=\"g-\", data_style=\"k+\")\n",
        "plt.ylabel(\"$y - h_1(x_1) - h_2(x_1)$\", fontsize=16)\n",
        "plt.xlabel(\"$x_1$\", fontsize=16)\n",
        "\n",
        "plt.subplot(326)\n",
        "plot_predictions([tree_reg1, tree_reg2, tree_reg3], X, y, axes=[-0.5, 0.5, -0.1, 0.8], label=\"$h(x_1) = h_1(x_1) + h_2(x_1) + h_3(x_1)$\")\n",
        "plt.xlabel(\"$x_1$\", fontsize=16)\n",
        "plt.ylabel(\"$y$\", fontsize=16, rotation=0)\n",
        "\n",
        "# save_fig(\"gradient_boosting_plot\")\n",
        "plt.show()"
      ],
      "execution_count": 0,
      "outputs": [
        {
          "output_type": "display_data",
          "data": {
            "image/png": "[encoded data removed]",
            "text/plain": [
              "<Figure size 792x792 with 6 Axes>"
            ]
          },
          "metadata": {
            "tags": []
          }
        }
      ]
    },
    {
      "cell_type": "code",
      "metadata": {
        "colab_type": "code",
        "id": "ZoTQyHB0HOTf",
        "colab": {}
      },
      "source": [
        "# sklearn 예시\n",
        "from sklearn.ensemble import GradientBoostingRegressor\n",
        "\n",
        "gbrt = GradientBoostingRegressor(max_depth=2, n_estimators=3, learning_rate=0.1, random_state=42)\n",
        "gbrt.fit(X, y)"
      ],
      "execution_count": 0,
      "outputs": []
    },
    {
      "cell_type": "markdown",
      "metadata": {
        "colab_type": "text",
        "id": "uNJT6R2MHOTg"
      },
      "source": [
        "#### CatBoost"
      ]
    },
    {
      "cell_type": "markdown",
      "metadata": {
        "colab_type": "text",
        "id": "tjMcvT33ymnI"
      },
      "source": [
        "\n",
        "- Catboost는 Category와 Boosting을 합쳐서 만들어진 이름이다. \n",
        "- Deep Learning과 달리 적은 데이터로도 좋은 결과를 얻을 수 있는 효율적인 방법이다.\n",
        "- Catboost에서는 categorical 변수를 사용자가 다른 작업을 하지 않아도 자동으로 이를 변환하여 사용한다. model fitting할 때 지정해야됨!!!\n",
        "- default parameters값으로 더 나은 성능 -> CatBoost를 쓰는 이유\n",
        "- hyper-parmeter tuning을 하지 않더라도 기본적인 세팅으로도 좋은 결과를 얻을 수 있어 활용성이 뛰어나다. "
      ]
    },
    {
      "cell_type": "code",
      "metadata": {
        "colab_type": "code",
        "id": "bun_kQGCo9uQ",
        "colab": {}
      },
      "source": [
        "# CatBoost Regressor 예시\n",
        "from catboost import CatBoostRegressor\n",
        "train_data = pd.read_csv('train_data.csv', encdoing='euc-kr')\n",
        "test_data = pd.read_csv('test_data.csv', encdoing='euc-kr')\n",
        "cat_features = [0,1,2]\n",
        "train_labels = [10,20,30]\n",
        "\n",
        "model = CatBoostRegressor(iterations=2, learning_rate=1, depth=2)\n",
        "\n",
        "model.fit(train_data, train_labels, cat_features) # cat_features의 index를 꼭 지정해줘야한다."
      ],
      "execution_count": 0,
      "outputs": []
    },
    {
      "cell_type": "code",
      "metadata": {
        "colab_type": "code",
        "id": "sXRmy-mQo_9C",
        "colab": {}
      },
      "source": [
        "# CatBoost Classifier 예시\n",
        "import catboost as cb\n",
        "cat_features_index = [0,1,2,3,4,5,6]\n",
        "\n",
        "def auc(m, train, test): \n",
        "    return (metrics.roc_auc_score(y_train,m.predict_proba(train)[:,1]),\n",
        "                            metrics.roc_auc_score(y_test,m.predict_proba(test)[:,1]))\n",
        "\n",
        "params = {'depth': [4, 7, 10],\n",
        "          'learning_rate' : [0.03, 0.1, 0.15],\n",
        "         'l2_leaf_reg': [1,4,9],\n",
        "         'iterations': [300]}\n",
        "cb = cb.CatBoostClassifier()\n",
        "cb_model = GridSearchCV(cb, params, scoring=\"roc_auc\", cv = 3)\n",
        "cb_model.fit(train, y_train)\n",
        "\n",
        "# With Categorical features\n",
        "clf = cb.CatBoostClassifier(eval_metric=\"AUC\", depth=10, iterations= 500, l2_leaf_reg= 9, learning_rate= 0.15)\n",
        "clf.fit(train,y_train)\n",
        "auc(clf, train, test)\n",
        "\n",
        "# With Categorical features\n",
        "clf = cb.CatBoostClassifier(eval_metric=\"AUC\",one_hot_max_size=31, \\\n",
        "                            depth=10, iterations= 500, l2_leaf_reg= 9, learning_rate= 0.15)\n",
        "clf.fit(train,y_train, cat_features= cat_features_index)\n",
        "auc(clf, train, test)"
      ],
      "execution_count": 0,
      "outputs": []
    },
    {
      "cell_type": "markdown",
      "metadata": {
        "colab_type": "text",
        "id": "sQ1-0i6pHOTk"
      },
      "source": [
        "#### Xgboost\n"
      ]
    },
    {
      "cell_type": "markdown",
      "metadata": {
        "colab_type": "text",
        "id": "NY5w7x_6yqab"
      },
      "source": [
        "[Xgboost Hyperparameter](https://xgboost.readthedocs.io/en/latest/parameter.html)\n",
        "- XGBoost는 Gradient Boosting tree 알고리즘에서 유명하고 효율적인 오픈 소스 구현\n",
        "- Gradient boosting은 training loss만 minimize하는 데 XGboost는 training loss 뿐만 아니라 Tree의 complexity에 regularization function을 써서 복잡성도 줄여주는 방법으로 boosting을 하는 방법이다. 즉, complexity of tree에 penalty를 주는 것\n",
        "- Null값 있어도 상관없는 모델!\n",
        "- categorical variables는 모두 one-hot encoding을 통해서 바꿔줘야 함!\n",
        "- `tree_method = 'gpu_hist'` hyperparameter에 이거 넣으면 계산속도 빨라짐!!!\n",
        "-  `n_jobs`: Number of parallel threads used to run xgboost."
      ]
    },
    {
      "cell_type": "code",
      "metadata": {
        "colab_type": "code",
        "id": "MTtYgRztokxX",
        "colab": {}
      },
      "source": [
        "## Xgboost Classifier\n",
        "from xgboost import XGBClassifier, plot_importance\n",
        "\n",
        "model = XGBClassifier()\n",
        "model.fit(X_train, y_train)\n",
        "\n",
        "model.predict(X_test)\n",
        "\n",
        "y_pred = model.predict(X_test)\n",
        "\n",
        "from sklearn.metrics import f1_score\n",
        "\n",
        "f1_score(y_test,y_pred, average='weighted')"
      ],
      "execution_count": 0,
      "outputs": []
    },
    {
      "cell_type": "code",
      "metadata": {
        "colab_type": "code",
        "id": "p5F9hpbeop4V",
        "colab": {}
      },
      "source": [
        "## Xgboost Plot importance\n",
        "# 코드1\n",
        "from xgboost import plot_importance\n",
        "\n",
        "model = xgb.XGBClassifier()\n",
        "model.fit(X, y)\n",
        "sorted_idx = np.argsort(model.feature_importances_)[::-1]\n",
        "for index in sorted_idx:\n",
        "    print([X.columns[index], model.feature_importances_[index]])\n",
        "\n",
        "# 코드2\n",
        "from xgboost import XGBClassifier, plot_importance\n",
        "model = XGBClassifier()\n",
        "model.fit(train, label)\n",
        "\n",
        "sorted_idx = np.argsort(model.feature_importances_)[::-1]\n",
        "\n",
        "for index in sorted_idx:\n",
        "    print([train.columns[index], model.feature_importances_[index]]) \n",
        "\n",
        "    plot_importance(model, max_num_features = 15)\n",
        "pyplot.show()"
      ],
      "execution_count": 0,
      "outputs": []
    },
    {
      "cell_type": "markdown",
      "metadata": {
        "colab_type": "text",
        "id": "3r3SEJADHOTo"
      },
      "source": [
        "#### LightGBM\n"
      ]
    },
    {
      "cell_type": "markdown",
      "metadata": {
        "colab_type": "text",
        "id": "OXWSQuGTyqlO"
      },
      "source": [
        "- Tree based learning 알고리즘의 gradient boosting framework!\n",
        "- 작은 데이터셋 규모로 진행했을 때 overfitting될 가능성이 매우 높기 때문에 10,000 row 이상인 데이터셋에 적합하다.\n",
        "- 일반적인 GBM 패키지와 다르게 LGBM은 leaf wise방식을 사용한다. \n",
        "- 기존의 트리기반 알고리즘은 트리의 깊이를 줄이기 위해 level wise(균형 트리 분할)를 사용한다면 LGBM은 leaf wise(리프 중심 트리 분할)를 이용한다. 앞의 level wise는 트리를 균형적으로 분할하는데 균형작업이 추가로 들어간다고 보면 된다. \n",
        "- LGBM은 균형적으로 트리를 분할하지 않는 대신 최대 손실값(max delta loss)을 갖는 트리 노드를 계속 분할한다. 이 때문에 비대칭적으로 어느 트리는 깊이가 아주 깊어지게 된다. 이 방식은 균형 트리 분할보다 오류를 최소화할 수 있다.\n",
        "- The level-wise strategy maintains a balanced tree, whereas the leaf-wise strategy splits the leaf that reduces the loss the most.\n",
        "![](https://user-images.githubusercontent.com/46089347/67144522-3479aa80-f2b2-11e9-9a17-1206005286f6.png)\n",
        "\n",
        "> 주요 hyper parameter\n",
        "- n_estimators : default=100, 반복하려는 트리의 갯수\n",
        "- learning_rate : 0~1사이 값 지정. gradient descent에서 얼마나 움직일 것인지 설정한다. 간단히 학습률이라고 생각하면 된다.\n",
        "- max_depth : default=-1, 최대 깊이를 조절\n",
        "- min_child_samples : default=20, leaf node로 분류되기 위한 최소 데이터 수\n",
        "- num_leaves : default=31, one tree가 가잘 수 있는 leaf 갯수\n",
        "- boost : default=gbdt, gbdt는 gradient descent를 의미\n",
        "- reg_lambda : L2 규제 적용\n",
        "- leg_alpha : L1 규제\n"
      ]
    },
    {
      "cell_type": "markdown",
      "metadata": {
        "colab_type": "text",
        "id": "vn-FHxW0qdj1"
      },
      "source": [
        "기본적인 lightgbm 쓰는 방법"
      ]
    },
    {
      "cell_type": "code",
      "metadata": {
        "colab_type": "code",
        "id": "W7QjBAlPqc2V",
        "colab": {}
      },
      "source": [
        "import lightgbm as lgb\n",
        "from sklearn import metrics\n",
        "\n",
        "def auc2(m, train, test): \n",
        "    return (metrics.roc_auc_score(y_train,m.predict(train)),\n",
        "                            metrics.roc_auc_score(y_test,m.predict(test)))\n",
        "\n",
        "lg = lgb.LGBMClassifier(silent=False)\n",
        "param_dist = {\"max_depth\": [25,50, 75],\n",
        "              \"learning_rate\" : [0.01,0.05,0.1],\n",
        "              \"num_leaves\": [300,900,1200],\n",
        "              \"n_estimators\": [200]\n",
        "             }\n",
        "grid_search = GridSearchCV(lg, n_jobs=-1, param_grid=param_dist, cv = 3, scoring=\"roc_auc\", verbose=5)\n",
        "grid_search.fit(train,y_train)\n",
        "grid_search.best_estimator_\n",
        "\n",
        "d_train = lgb.Dataset(train, label=y_train)\n",
        "params = {\"max_depth\": 50, \"learning_rate\" : 0.1, \"num_leaves\": 900,  \"n_estimators\": 300}\n",
        "\n",
        "# Without Categorical Features\n",
        "model2 = lgb.train(params, d_train)\n",
        "auc2(model2, train, test)\n",
        "\n",
        "#With Catgeorical Features\n",
        "cate_features_name = [\"MONTH\",\"DAY\",\"DAY_OF_WEEK\",\"AIRLINE\",\"DESTINATION_AIRPORT\",\n",
        "                 \"ORIGIN_AIRPORT\"]\n",
        "model2 = lgb.train(params, d_train, categorical_feature = cate_features_name)\n",
        "auc2(model2, train, test)"
      ],
      "execution_count": 0,
      "outputs": []
    },
    {
      "cell_type": "markdown",
      "metadata": {
        "colab_type": "text",
        "id": "CrvIqWElqhzM"
      },
      "source": [
        "##### Kaggle: Card fraud detection에서 썼던 코드"
      ]
    },
    {
      "cell_type": "markdown",
      "metadata": {
        "colab_type": "text",
        "id": "nvetBrzeqwSe"
      },
      "source": [
        "Google Drive 마운트"
      ]
    },
    {
      "cell_type": "code",
      "metadata": {
        "colab_type": "code",
        "id": "ngNYjA_oqlqc",
        "colab": {}
      },
      "source": [
        "from google.colab import drive\n",
        "drive.mount('/content/gdrive')"
      ],
      "execution_count": 0,
      "outputs": []
    },
    {
      "cell_type": "code",
      "metadata": {
        "colab_type": "code",
        "id": "1LNwFrfKqlvB",
        "colab": {}
      },
      "source": [
        "cd /content/gdrive/My \\Drive/"
      ],
      "execution_count": 0,
      "outputs": []
    },
    {
      "cell_type": "code",
      "metadata": {
        "colab_type": "code",
        "id": "7U4B5Aj7qlzJ",
        "colab": {}
      },
      "source": [
        "# 사용자에 맞게 바꾸기\n",
        "# cd Colab \\Notebooks/"
      ],
      "execution_count": 0,
      "outputs": []
    },
    {
      "cell_type": "markdown",
      "metadata": {
        "colab_type": "text",
        "id": "cwz6n8Neql3P"
      },
      "source": [
        "Google Colab 사용 시 설치법"
      ]
    },
    {
      "cell_type": "code",
      "metadata": {
        "colab_type": "code",
        "id": "hg6Dx8llq3Yy",
        "colab": {}
      },
      "source": [
        "!git clone --recursive https://github.com/Microsoft/LightGBM"
      ],
      "execution_count": 0,
      "outputs": []
    },
    {
      "cell_type": "code",
      "metadata": {
        "colab_type": "code",
        "id": "M9Qpoodmq3dX",
        "colab": {}
      },
      "source": [
        "%cd LightGBM/"
      ],
      "execution_count": 0,
      "outputs": []
    },
    {
      "cell_type": "code",
      "metadata": {
        "colab_type": "code",
        "id": "UfRFrlYMq3hk",
        "colab": {}
      },
      "source": [
        "!mkdir build"
      ],
      "execution_count": 0,
      "outputs": []
    },
    {
      "cell_type": "code",
      "metadata": {
        "colab_type": "code",
        "id": "K88iB4L-q3lz",
        "colab": {}
      },
      "source": [
        "!cmake -DUSE_GPU=1 #avoid ..\n",
        "!make -j$(nproc)"
      ],
      "execution_count": 0,
      "outputs": []
    },
    {
      "cell_type": "code",
      "metadata": {
        "colab_type": "code",
        "id": "jbbgrNHBq3qH",
        "colab": {}
      },
      "source": [
        "!sudo apt-get -y install python-pip"
      ],
      "execution_count": 0,
      "outputs": []
    },
    {
      "cell_type": "code",
      "metadata": {
        "colab_type": "code",
        "id": "JqFs4VCwq3ua",
        "colab": {}
      },
      "source": [
        "!sudo -H pip install setuptools pandas numpy scipy scikit-learn -U"
      ],
      "execution_count": 0,
      "outputs": []
    },
    {
      "cell_type": "code",
      "metadata": {
        "colab_type": "code",
        "id": "kky8ZN9rq36g",
        "colab": {}
      },
      "source": [
        "%cd python-package/"
      ],
      "execution_count": 0,
      "outputs": []
    },
    {
      "cell_type": "code",
      "metadata": {
        "colab_type": "code",
        "id": "fpM7se7iq4Dw",
        "colab": {}
      },
      "source": [
        "!sudo python setup.py install --precompile"
      ],
      "execution_count": 0,
      "outputs": []
    },
    {
      "cell_type": "code",
      "metadata": {
        "colab_type": "code",
        "id": "iH-iFODEq4QG",
        "colab": {}
      },
      "source": [
        "# lgbm 설치시 pandas에서 오류가 나 재설정한 부분(선택적)\n",
        "!pip install pandas==0.18.1"
      ],
      "execution_count": 0,
      "outputs": []
    },
    {
      "cell_type": "markdown",
      "metadata": {
        "colab_type": "text",
        "id": "pjeBPFMOq4Zp"
      },
      "source": [
        "LGBM 설치된 경로로 추가 설치과정 필요"
      ]
    },
    {
      "cell_type": "code",
      "metadata": {
        "colab_type": "code",
        "id": "gXn1WmcLq4fZ",
        "colab": {}
      },
      "source": [
        "cd /content/gdrive/My \\Drive/"
      ],
      "execution_count": 0,
      "outputs": []
    },
    {
      "cell_type": "code",
      "metadata": {
        "colab_type": "code",
        "id": "Aspwch-Nq4XN",
        "colab": {}
      },
      "source": [
        "# 사용자에 따른 선택적, 개별 드라이브 상황에 따라 경로 설정-> but LightGBM을 설치한 경로에 맞춰야 함\n",
        "cd 경로/"
      ],
      "execution_count": 0,
      "outputs": []
    },
    {
      "cell_type": "code",
      "metadata": {
        "colab_type": "code",
        "id": "txuqad5Xq4Mj",
        "colab": {}
      },
      "source": [
        "cd LightGBM"
      ],
      "execution_count": 0,
      "outputs": []
    },
    {
      "cell_type": "code",
      "metadata": {
        "colab_type": "code",
        "id": "RIlNMtMVq4Jc",
        "colab": {}
      },
      "source": [
        "cd python-package"
      ],
      "execution_count": 0,
      "outputs": []
    },
    {
      "cell_type": "code",
      "metadata": {
        "colab_type": "code",
        "id": "pBxQZ340q4Au",
        "colab": {}
      },
      "source": [
        "!sudo python setup.py install --precompile"
      ],
      "execution_count": 0,
      "outputs": []
    },
    {
      "cell_type": "markdown",
      "metadata": {
        "colab_type": "text",
        "id": "k4Hvrlwsq33J"
      },
      "source": [
        "분석을 위한 경로 재설정"
      ]
    },
    {
      "cell_type": "code",
      "metadata": {
        "colab_type": "code",
        "id": "Nf1oQbkBrEWD",
        "colab": {}
      },
      "source": [
        "from google.colab import drive\n",
        "drive.mount('/content/gdrive')"
      ],
      "execution_count": 0,
      "outputs": []
    },
    {
      "cell_type": "code",
      "metadata": {
        "colab_type": "code",
        "id": "_lG-l4YirEff",
        "colab": {}
      },
      "source": [
        "cd /content/gdrive/My \\Drive/"
      ],
      "execution_count": 0,
      "outputs": []
    },
    {
      "cell_type": "code",
      "metadata": {
        "colab_type": "code",
        "id": "xOa1oUE0rEkJ",
        "colab": {}
      },
      "source": [
        "# 사용자에 따른 선택적, 개별 드라이브 상황에 따라 경로 설정-> but LightGBM을 설치한 경로에 맞춰야 함\n",
        "cd 경로"
      ],
      "execution_count": 0,
      "outputs": []
    },
    {
      "cell_type": "markdown",
      "metadata": {
        "colab_type": "text",
        "id": "XvDUnDimrEol"
      },
      "source": [
        "기본 패키지 및 설정, 데이터 적재"
      ]
    },
    {
      "cell_type": "code",
      "metadata": {
        "colab_type": "code",
        "id": "i3KSbDCKrEsy",
        "colab": {}
      },
      "source": [
        "import pandas as pd\n",
        "import numpy as np\n",
        "from sklearn.model_selection import train_test_split\n",
        "\n",
        "pd.set_option('display.max_columns', None)"
      ],
      "execution_count": 0,
      "outputs": []
    },
    {
      "cell_type": "code",
      "metadata": {
        "colab_type": "code",
        "id": "PSJXHLktrExZ",
        "colab": {}
      },
      "source": [
        "train = pd.read_csv('final_train_merged.csv')    # 맞는 데이터 적재하기\n",
        "test = pd.read_csv('final_test_merged.csv')    # 맞는 데이터 적재하기"
      ],
      "execution_count": 0,
      "outputs": []
    },
    {
      "cell_type": "code",
      "metadata": {
        "colab_type": "code",
        "id": "WErXw01frE1l",
        "colab": {}
      },
      "source": [
        "# test에 고객 아이디가 없어서 아이디 있는 파일 중 아무거나 가져옴. \n",
        "# test용 고객 아이디 있는 데이터면 수정해도 무방\n",
        "tt = pd.read_csv('pca_test_all_c_fraud.csv')"
      ],
      "execution_count": 0,
      "outputs": []
    },
    {
      "cell_type": "code",
      "metadata": {
        "colab_type": "code",
        "id": "Hvi4MMEyq3z8",
        "colab": {}
      },
      "source": [
        "del train['addr1_na']\n",
        "del test['addr1_na']\n",
        "\n",
        "del train['Unnamed: 0']\n",
        "del test['Unnamed: 0']"
      ],
      "execution_count": 0,
      "outputs": []
    },
    {
      "cell_type": "code",
      "metadata": {
        "colab_type": "code",
        "id": "nhiGTioHrMU4",
        "colab": {}
      },
      "source": [
        "X = train.iloc[:, 1:].values\n",
        "y = train.iloc[:, 0].values\n",
        "\n",
        "X_test = test.values"
      ],
      "execution_count": 0,
      "outputs": []
    },
    {
      "cell_type": "code",
      "metadata": {
        "colab_type": "code",
        "id": "OTdamFplrMbv",
        "colab": {}
      },
      "source": [
        "print(X.shape, y.shape)"
      ],
      "execution_count": 0,
      "outputs": []
    },
    {
      "cell_type": "code",
      "metadata": {
        "colab_type": "code",
        "id": "79ZZmRQ_rMj2",
        "colab": {}
      },
      "source": [
        "X_train, X_valid, y_train, y_valid = train_test_split(X, y, test_size=0.25)"
      ],
      "execution_count": 0,
      "outputs": []
    },
    {
      "cell_type": "markdown",
      "metadata": {
        "colab_type": "text",
        "id": "m6B1M9RvrMoK"
      },
      "source": [
        "LGBM 모델 사용"
      ]
    },
    {
      "cell_type": "code",
      "metadata": {
        "colab_type": "code",
        "id": "RXJ3aQfcrMrx",
        "colab": {}
      },
      "source": [
        "import lightgbm as lgb\n",
        "import matplotlib.pyplot as plt\n",
        "from sklearn.model_selection import PredefinedSplit\n",
        "from sklearn.model_selection import GridSearchCV, ParameterGrid\n",
        "from sklearn.metrics import (roc_curve, auc, accuracy_score)\n",
        "from sklearn.metrics import roc_auc_score"
      ],
      "execution_count": 0,
      "outputs": []
    },
    {
      "cell_type": "code",
      "metadata": {
        "colab_type": "code",
        "id": "GBiuqzdDrMwE",
        "colab": {}
      },
      "source": [
        "params = {\n",
        "    'task': 'train',\n",
        "    'boosting_type': 'gbdt',\n",
        "    'objective': 'binary',\n",
        "    'metric': {'binary_logloss', 'auc'},\n",
        "    'metric_freq': 1,\n",
        "    'is_training_metric': True,\n",
        "    'max_bin': 255,\n",
        "    'learning_rate': 0.01,\n",
        "    'num_leaves': 63,\n",
        "    'tree_learner': 'serial',\n",
        "    'feature_fraction': 0.8,\n",
        "    'bagging_fraction': 0.8,\n",
        "    'bagging_freq': 5,\n",
        "    'min_data_in_leaf': 50,\n",
        "    'min_sum_hessian_in_leaf': 5,\n",
        "    'is_enable_sparse': True,\n",
        "    'use_two_round_loading': False,\n",
        "    'is_save_binary_file': False,\n",
        "    'output_model': 'LightGBM_model.txt',\n",
        "    'num_machines': 1,\n",
        "    'local_listen_port': 12400,\n",
        "    'machine_list_file': 'mlist.txt',\n",
        "    'verbose': 0,\n",
        "    'subsample_for_bin': 200000,\n",
        "    'min_child_samples': 20,\n",
        "    'min_child_weight': 0.001,\n",
        "    'min_split_gain': 0.0,\n",
        "    'colsample_bytree': 1.0,\n",
        "    'reg_alpha': 0.0,\n",
        "    'reg_lambda': 0.0\n",
        "}"
      ],
      "execution_count": 0,
      "outputs": []
    },
    {
      "cell_type": "code",
      "metadata": {
        "colab_type": "code",
        "id": "F4ajsl13rM0H",
        "colab": {}
      },
      "source": [
        "lgb_train = lgb.Dataset(X_train, y_train)\n",
        "lgb_eval = lgb.Dataset(X_valid, y_valid, reference=lgb_train)"
      ],
      "execution_count": 0,
      "outputs": []
    },
    {
      "cell_type": "code",
      "metadata": {
        "colab_type": "code",
        "id": "mgqIB8ZFrM5T",
        "colab": {}
      },
      "source": [
        "model = lgb.train(params, lgb_train, 2500, lgb_eval, verbose_eval=10,  early_stopping_rounds=100)"
      ],
      "execution_count": 0,
      "outputs": []
    },
    {
      "cell_type": "code",
      "metadata": {
        "colab_type": "code",
        "id": "TzxObaWgrM84",
        "colab": {}
      },
      "source": [
        "y_valid_pred = model.predict(X_valid)\n",
        "roc_auc_score(y_valid, y_valid_pred)"
      ],
      "execution_count": 0,
      "outputs": []
    },
    {
      "cell_type": "code",
      "metadata": {
        "colab_type": "code",
        "id": "p7kMm2crrMhl",
        "colab": {}
      },
      "source": [
        "prediction = model.predict(X_test)"
      ],
      "execution_count": 0,
      "outputs": []
    },
    {
      "cell_type": "markdown",
      "metadata": {
        "colab_type": "text",
        "id": "dVmXelhErTme"
      },
      "source": [
        "제출용 csv 만들기"
      ]
    },
    {
      "cell_type": "code",
      "metadata": {
        "colab_type": "code",
        "id": "CA5-ZDj-rTsC",
        "colab": {}
      },
      "source": [
        "tt['isFraud'] = prediction"
      ],
      "execution_count": 0,
      "outputs": []
    },
    {
      "cell_type": "code",
      "metadata": {
        "colab_type": "code",
        "id": "JeRyCvCErTwW",
        "colab": {}
      },
      "source": [
        "tt2 = tt[['TransactionID', 'isFraud']]"
      ],
      "execution_count": 0,
      "outputs": []
    },
    {
      "cell_type": "code",
      "metadata": {
        "colab_type": "code",
        "id": "9RQwYkT2rT0k",
        "colab": {}
      },
      "source": [
        "tt2.to_csv('lgbm_git_.csv', index=False)"
      ],
      "execution_count": 0,
      "outputs": []
    },
    {
      "cell_type": "markdown",
      "metadata": {
        "colab_type": "text",
        "id": "-EK-RY0opSNX"
      },
      "source": [
        "#### Hyperparameter Tuning"
      ]
    },
    {
      "cell_type": "markdown",
      "metadata": {
        "colab_type": "text",
        "id": "uouKdNy2n-8_"
      },
      "source": [
        "- 사실 대부분 boosting 모델들이 parameter tuning을 하는 이유는 tree의 다형성과 overfitting 문제를 해결하기 위함이다.\n",
        "- Catboost 는 기본 파라미터가 기본적으로 최적화가 잘 되어있어서 parameter tuning에 크게 신경쓰지 않아도 됨\n",
        "- 반면 Xgboost나 LightGBM은 parameter tuning에 매우 민감하다.\n",
        "- Catboost 는 이를 내부적인 알고리즘으로 해결하고 있어서 parameter tuning을 할 필요가 없는 것이다. 굳이 한다면 learning_rate, random_strength, L2_regulariser 과 같은 parameter tuning인데, 결과는 큰 차이가 없다고 한다.\n",
        "\n"
      ]
    },
    {
      "cell_type": "markdown",
      "metadata": {
        "colab_type": "text",
        "id": "-EQ8ppMDpvHh"
      },
      "source": [
        "\n",
        "- [참고 사이트](http://machinelearningkorea.com/2019/09/29/lightgbm-%ED%8C%8C%EB%9D%BC%EB%AF%B8%ED%84%B0/)\n",
        " <br>\n",
        "> 주요 hyper parameter\n",
        "- n_estimators\n",
        "  - default=100, 반복하려는 트리의 갯수\n",
        "- learning_rate\n",
        "  - 0~1사이 값 지정. gradient descent에서 얼마나 움직일 것인지 설정한다. 간단히 학습률이라고 생각하면 된다.\n",
        "- min_child_samples \n",
        "  - default=20, leaf node로 분류되기 위한 최소 데이터 수\n",
        "- min_child_weight[default=1]\n",
        " - Overfitting을 컨트롤하는 파라미터로, 값이 높아지면, underfitting되는 경우가 있어 CV를 통해 튜닝되어야 함.\n",
        "- num_leaves\n",
        "  - default=31, one tree가 가잘 수 있는 leaf 갯수\n",
        "- boost\n",
        "  - default=gbdt, gbdt는 gradient descent를 의미\n",
        "- reg_lambda\n",
        "  - L2 규제 적용\n",
        "- leg_alpha\n",
        "  - L1 규제\n",
        "- max_depth[default=6]\n",
        " - 트리의 최대 깊이를 정의하는 parameter(DT에서 배웠음)\n",
        "- gamma[default=0]\n",
        " - 노드가 split되게 위한 loss function의 값이 감소하는 최소 값을 정의함. 값이 높아질수록 알고리즘은 보수적으로 변하고, loss function의 정의에 따라 적정값이 달라져 **반드시 튜닝되어야 한다**\n",
        "- subsample\n",
        " - 각 트리마다의 관측 데이터 샘플링 비율. 값을 적게 주면 over-fitting을 방지하지만 값을 너무 작게 주면 under-fitting(일반적으로 0.5~1).\n",
        "- colsample_bytree\n",
        " - 각 트리마다의 feature 샘플링 비율.\n"
      ]
    },
    {
      "cell_type": "code",
      "metadata": {
        "colab_type": "code",
        "id": "mNg2pZuEqOeC",
        "colab": {}
      },
      "source": [
        "## best parameter 찾는 예시 (밑에 GridsearchCV에도 같은 코드가 있음)\n",
        "# 우선 부차적인 parameter 찾아주고\n",
        "cb = CatBoostClassifier(\n",
        " learning_rate =0.1,\n",
        " iterations=100 #n-estimator대신 iteration을 사용,\n",
        ")\n",
        "\n",
        "cb_params_1 = {\n",
        "    'depth' : [3,5,7],\n",
        "    'random_strength' : [1,3],\n",
        "    'bagging_temperature' : [0,0.5,1],\n",
        "    'l2_leaf_reg' : [1,3,5,7],\n",
        "}\n",
        "cb_grid_1 = GridSearchCV(cb, param_grid=cb_params_1, scoring=my_scorer, cv=5, verbose=1)\n",
        "cb_grid_1.fit(train[features], train['Survived'])\n",
        "\n",
        "print(\"Best Score : {}\".format(cb_grid_1.best_score_))\n",
        "print(\"Best Params : {}\".format(cb_grid_1.best_params_))\n",
        "best_cb_model = cb_grid_1.best_estimator_\n",
        "\n",
        "# 최적의 core parameter 찾기\n",
        "cb_params_2 = {\n",
        "    'learning_rate' : [0.03, 0.07, 0.1],\n",
        "    'iterations' : [n for n in range(80,130,20)]\n",
        "}\n",
        "cb_grid_2 = GridSearchCV(best_cb_model, param_grid=cb_params_2, scoring=my_scorer, cv=5, verbose=1)\n",
        "cb_grid_2.fit(train[features], train['Survived'])\n",
        "\n",
        "print(\"Best Score : {}\".format(cb_grid_2.best_score_))\n",
        "print(\"Best Params : {}\".format(cb_grid_2.best_params_))\n",
        "best_cb_model = cb_grid_2.best_estimator_"
      ],
      "execution_count": 0,
      "outputs": []
    },
    {
      "cell_type": "markdown",
      "metadata": {
        "colab_type": "text",
        "id": "HjyIMn8LKlGI"
      },
      "source": [
        "### 5. Pasting"
      ]
    },
    {
      "cell_type": "markdown",
      "metadata": {
        "colab_type": "text",
        "id": "WyFSWnFVHOUd"
      },
      "source": [
        "- 중복을 허용하지 않고 샘플링하는 앙상블 방식"
      ]
    },
    {
      "cell_type": "code",
      "metadata": {
        "colab_type": "code",
        "id": "_Q7ApkHjHOUd",
        "colab": {}
      },
      "source": [
        "# Pasting 예시\n",
        "from sklearn.ensemble import BaggingClassifier\n",
        "from sklearn.tree import DecisionTreeClassifier\n",
        "\n",
        "bag_clf = BaggingClassifier(\n",
        "    DecisionTreeClassifier(random_state=42), n_estimators=500,\n",
        "    max_samples=100, bootstrap=False, n_jobs=-1, random_state=42)\n",
        "bag_clf.fit(X_train, y_train)\n",
        "y_pred = bag_clf.predict(X_test)"
      ],
      "execution_count": 0,
      "outputs": []
    },
    {
      "cell_type": "markdown",
      "metadata": {
        "colab_type": "text",
        "id": "evIvvP9qHOUf"
      },
      "source": [
        "### 6. Stacking"
      ]
    },
    {
      "cell_type": "markdown",
      "metadata": {
        "colab_type": "text",
        "id": "2xzKkSK9HOUf"
      },
      "source": [
        "- '앙상블에 속한 모든 모델의 예측을 취합하는 [함수] 대신 [모델]을 훈련시킬 수 없을까?'\n",
        "- 위 아이디어에서 나온 Ensemble 방식이다.\n",
        "![](https://i.pinimg.com/originals/ed/d8/87/edd8873400deea9625ee67b37377d077.jpg)\n",
        "- Stacking은 sklearn에서 지원하지 않고, LightGBM, Xgboost가 진리임"
      ]
    },
    {
      "cell_type": "markdown",
      "metadata": {
        "id": "5Kt66CjqyzCz",
        "colab_type": "text"
      },
      "source": [
        "# 6. Unsupervised Learning"
      ]
    },
    {
      "cell_type": "markdown",
      "metadata": {
        "id": "Bb4x7qwly1BF",
        "colab_type": "text"
      },
      "source": [
        "## 6-1.Dimensionality reduction"
      ]
    },
    {
      "cell_type": "markdown",
      "metadata": {
        "id": "wKJA1Xz6hsW1",
        "colab_type": "text"
      },
      "source": [
        "### Dimensinality Reduction이란....?\n",
        "- 차원의 저주를 해결하기 위해 feature를 줄여주는 과정.\n",
        "> 목적\n",
        " -  훈련 알고리즘 속도 향상\n",
        " - 데이터 시각화 및 insight 도출\n",
        " - 메모리 공간을 절약\n",
        "> 단점\n",
        " - 일부 정보를 손실해 성능 감소 우려\n",
        " - 계산 비용이 높다\n",
        " - 파이프라인의 복잡도 증가\n",
        " - 변환된 데이터를 해석하지 못함\n",
        "- 차원 축소는 지도 학습의 준비단계라고 할 수 있다. \n",
        "- Feature를 줄이면 속도는 빨라지지만, 정보가 줄어들기 때문에 약간의 성능 저하가 있을 수 있어서 차원 축소를 하기 전에 먼저 Original data를 training 시켜보는 것을 추천!\n",
        "- 모델을 학습시키기 전에 train data의 차원을 감소시키면 학습 속도는 빨라지지만 모델의 성능은 항상 더 낫거나 간단한 모델이 되는 것은 아니다. 이것은 데이터셋이 어떠한 모양을 하고 있느냐에 따라 달라진다.\n",
        "- 사람들은 2차원까지만 생각할 수 있기 때문에 데이터 시각화에도 유용하다.\n",
        "- 차원 축소는 대표적으로 ```PCA```와 ```LLE```가 있다.\n",
        "\n",
        "### Curse of Dimensionality<br>\n",
        "- 차원의 저주란 저차원 공간에는 없는 많은 문제가 고차원 공간에서 일어난다는 사실\n",
        "- 차원이 커지면 커질수록 데이터 간의 거리가 멀어진다. 그래서 그래프 상으로 보게 되면 엄청 떨어져 있는 모습을 볼 수 있다. \n",
        "- 이 상태로 모델을 돌리면 overfitting 될 가능성이 크다. \n",
        "- Overfitting을 해결하는 첫번째 방법은 feature만큼 row를 늘려줘서 density를 올려주는 방법이 있는데, 이는 row가 너무 많아질 가능성이 있기 때문에 좋은 방법은 아니다. 그래서 가장 많이 사용하는 방법은 Projection과 Manifold 방식이다. \n",
        "\n",
        "![123123](https://img1.daumcdn.net/thumb/R1280x0/?scode=mtistory2&fname=http%3A%2F%2Fcfile1.uf.tistory.com%2Fimage%2F99FF9F335B8A484A31820B)\n"
      ]
    },
    {
      "cell_type": "markdown",
      "metadata": {
        "id": "cUv7EQZOhveI",
        "colab_type": "text"
      },
      "source": [
        "\n",
        "### PCA란?\n",
        "- PCA(Principal Component Analysis)는 주성분 분석이라고도 하며 고차원 데이터 집합이 주어졌을 때 원래의 고차원 데이터와 가장 비슷하면서 더 낮은 차원 데이터를 찾아내는 방법\n",
        "- 차원축소 방법이다. 최적의 초평면을 찾고, 그 다음에 data를 그 초평면에 projection 시켜주는 방식이다. \n",
        "\n",
        "\n",
        "### 분산보존\n",
        "- 최적의 lower-dimension hyperplane을 찾는 기준 중 하나는 분산보존이다. \n",
        "- PCA는 데이터의 분산이 최대가 되는 축을 찾는다. \n",
        "- 즉, 원본 데이터셋과 투영된 데이터셋 간의 평균제곱거리를 최소화 하는 축을 찾는 것이다. \n",
        "- 밑에 그림을 보면 C1을 축으로 한 데이터의 분산이 가장 잘 보존되어 있는걸 볼 수 있다.\n",
        "![123123](https://img1.daumcdn.net/thumb/R1280x0/?scode=mtistory2&fname=http%3A%2F%2Fcfile28.uf.tistory.com%2Fimage%2F99AC093E5B8A4904213CC3)\n",
        "\n",
        "\n",
        "## PCA 단계\n",
        "PCA는 다음과 같은 단계로 이루어진다. \n",
        "1. 학습 데이터셋에서 분산이 최대인 축(axis)을 찾는다. \n",
        "2. 이렇게 찾은 첫번째 축과 직교(orthogonal)하면서 분산이 최대인 두 번째 축을 찾는다.\n",
        "3. 첫 번째 축과 두 번째 축에 직교하고 분산을 최대한 보존하는 세 번째 축을 찾는다.\n",
        "4. 1~3과 같은 방법으로 데이터셋의 차원(특성 수)만큼의 축을 찾는다.\n",
        "PC의 방향은 항상 일정하지 않다. train set을 살짝 조정해서 PCA를 실행시키면, 새로운 PC가 원래의 PC랑 반대에 있을 가능성이 있다. 그러나 축이나 평면은 같다.\n",
        "![123123](https://img1.daumcdn.net/thumb/R1280x0/?scode=mtistory2&fname=http%3A%2F%2Fcfile6.uf.tistory.com%2Fimage%2F996F65335B8A493207D19B)\n",
        "- PC를 찾을 때 Singular Value Decomposition(SVD)를 사용해서 원래의 training set matrix를 3개의 matrices로 분해시켜준다.\n",
        "<br>\n",
        "- PCA는 dataset이 origin 주변으로 center 되어있다고 가정한다.\n",
        "- Scikit-learn에서는 이 부분을 자동으로 만들어주지만, 아닐 경우 이 부분에 대해 고려해주어야 한다!\n",
        "\n",
        "### PCA for compression\n",
        "- PCA를 통해 없어진 변수는 다시 살릴 수 있다. \n",
        "- 그러나 원래 데이터와 완전 똑같이 복원할 순 없다!ㅠ.ㅠ\n",
        "- Original과 Recover 된 데이터 사이의 mean square distance를 reconstruction error라고 부른다.\n",
        "<br>\n",
        "<br>\n",
        "\n",
        "## PCA 종류\n",
        "### Randomized PCA\n",
        "- Stochastic algorithm을 사용하는 PCA 방법\n",
        "- scikit_learn에서 hyperparameter 중에서 svd_solver를 'randomzied'로 설정하면 된다.\n",
        "- Randomized PCA를 사용하면 처음 d개의 주성분을 대략적으로 찾을 수 있다. \n",
        "- d가 n개보다 훨씬 적게 되면 매우 빠른 성능을 볼 수 있다. 이 함수에 'auto'로 설정하면 n 값이 500개 이상이고 d 값이 n 값의 80%보다 적으면 자동으로 randomized로 진행되고, 그 외에는 full svd가 진행된다. \n",
        "\n",
        "### Incremental PCA (IPCA)\n",
        "- IPCA는 train data를 mini-batch로 나눈 뒤 IPCA 알고리즘에 하나의 mini-batch를 input으로 넣어준다.\n",
        "- 모든 train data를 memory에 fit 시켜줘야한다는 PCA의 문제를 해결해줌!\n",
        "- IPCA는 학습 데이터셋이 클때 유용하다.\n",
        "\n",
        "### Kernel PCA (KPCA)\n",
        "- non-linear 투영을 사용해서 차원을 축소하는 방법\n",
        "- SVM에서 데이터를 저차원에서 선형 고차원으로 mapping 시켜 비선형 데이터셋에 SVM을 적용시키는 방식이라 생각하면 됨!\n",
        "- 이 방식은 projection 후 데이터들의 cluster를 유지시키는데 좋고, unrolling dataset에도 사용 가능하다. (twisted manifold와 매우 비슷) \n",
        "- KPCA는 unsupervised learning이기 때문에 어떤 hyperparameter와 어떤 kernel이 best인지 명확하게 알 수 없지만 GridSearch를 이용할 수 있다!\n",
        "- KernelPCA에서도 inverse로 원래 데이터 형태로 돌릴 수 있다. \n",
        "<br>\n",
        "<br>\n",
        "\n",
        "## 언제 무엇을 쓸까?\n",
        "> 기본 PCA\n",
        " - 우선적으로 사용, 데이터셋 크기가 메모리에 맞을 때에 가능\n",
        "\n",
        "> Incremental PCA\n",
        " - 대용량 데이터셋에 적합\n",
        "\n",
        "> Randomized PCA\n",
        " - 데이터셋이 메모리 크기에 맞고 차원을 크게 축소시킬 때 사용\n",
        "\n",
        "> Kernel PCA\n",
        " - 비선형 데이터셋에 유용\n",
        "\n",
        "<br>\n",
        "\n",
        "## 메소드 모음\n",
        "- **PCA ( n_components = 정수 )** : 기본 사용방법\n",
        "- **.fit_transform()**: 특정행렬을 낮은 차원의 근사행렬로 변환\n",
        "- **.inverse_transform()**: 변환된 근사행렬을 원래의 차원으로 복귀. 역변환 수행해서 재구성 오차를 측정해서 알고리즘의 성능을 평가\n",
        "- **.mean_**: 데이터의 평균값을 반환\n",
        "- **.components_**: 단위기저벡터를 반환\n",
        "- **.explained_variance_ratio**: 각 주성분 축에 몇 %의 분산이 보존되어있는지 보여줌\n",
        "- **.inverse_transform()**: 압축했던 data를 다시 예전 차원으로 복원\n"
      ]
    },
    {
      "cell_type": "code",
      "metadata": {
        "id": "w_3jYnJqkF08",
        "colab_type": "code",
        "colab": {}
      },
      "source": [
        "## 분산으로도 적절한 차원의 수를 구할 수 있음\n",
        "from tensorflow.keras.datasets import mnist\n",
        "​\n",
        "# MNIST load\n",
        "(train_x, train_y), (test_x, test_y) = mnist.load_data()\n",
        "​\n",
        "# reshape\n",
        "train_x = train_x.reshape(-1, 28*28) \n",
        "​\n",
        "pca = PCA(n_components=0.95)\n",
        "X_reduced = pca.fit_transform(train_x)  # PCA 계산 후 투영\n",
        "\n",
        "print('선택한 차원(픽셀) 수 :', pca.n_components_)\n",
        "\n",
        "pca = PCA(n_components=0.95)\n",
        "X_reduced = pca.fit_transform(train_x)\n",
        "print('선택한 차원(픽셀) 수 :', pca.n_components_)"
      ],
      "execution_count": 0,
      "outputs": []
    },
    {
      "cell_type": "code",
      "metadata": {
        "id": "Jw3oLq-ckGY2",
        "colab_type": "code",
        "colab": {}
      },
      "source": [
        "## Scikit learn으로 간단하게 구하기\n",
        "# 적절한 차원의 개수 구하기\n",
        "from sklearn.decomposition import PCA\n",
        "pca = PCA(n_components=3)\n",
        "pca.fit(X)\n",
        "\n",
        "print('singular value :', pca.singular_values_)\n",
        "print('singular vector :\\n', pca.components_.T)\n",
        "\n",
        "print('eigen_value :', pca.explained_variance_)\n",
        "print('explained variance ratio :', pca.explained_variance_ratio_)\n",
        "\n",
        "cumsum = np.cumsum(pca.explained_variance_ratio_)\n",
        "d = np.argmax(cumsum >= 0.95) + 1\n",
        "print('선택할 차원 수 :', d)"
      ],
      "execution_count": 0,
      "outputs": []
    },
    {
      "cell_type": "code",
      "metadata": {
        "id": "DPgBWpc4kGfY",
        "colab_type": "code",
        "colab": {}
      },
      "source": [
        "## 다양한 차원축소법들 예제\n",
        "# KPCA 예제\n",
        "from sklearn.datasets import make_swiss_roll\n",
        "X, t = make_swiss_roll(n_samples=1000, noise=0.2, random_state=42) \n",
        "\n",
        "# KernelPCA 예제\n",
        "from sklearn.decomposition import KernelPCA\n",
        "rbf_pca = KernelPCA(n_components = 2, kernel=\"rbf\", gamma=0.04)\n",
        "X_reduced = rbf_pca.fit_transform(X)\n",
        "\n",
        "# MDS 예제\n",
        "from sklearn.manifold import MDS\n",
        "mds = MDS(n_components=2, random_state=42)\n",
        "X_reduced_mds = mds.fit_transform(X)\n",
        "\n",
        "# Isomap 예제\n",
        "from sklearn.manifold import Isomap\n",
        "isomap = Isomap(n_components=2)\n",
        "X_reduced_isomap = isomap.fit_transform(X)\n",
        "\n",
        "# TSNE 예제\n",
        "from sklearn.manifold import TSNE\n",
        "tsne = TSNE(n_components=2, random_state=42)\n",
        "X_reduced_tsne = tsne.fit_transform(X)"
      ],
      "execution_count": 0,
      "outputs": []
    },
    {
      "cell_type": "markdown",
      "metadata": {
        "id": "n_2owwjlrZuX",
        "colab_type": "text"
      },
      "source": [
        "### t-sne \n",
        "[참고 사이트](https://woolulu.tistory.com/category/python%20%EB%A8%B8%EC%8B%A0%EB%9F%AC%EB%8B%9D%20--%20%EB%B9%84%EC%A7%80%EB%8F%84%ED%95%99%EC%8A%B5/t-SNE%28%EB%A7%A4%EB%8B%88%ED%8F%B4%EB%93%9C%20%ED%95%99%EC%8A%B5%29)"
      ]
    },
    {
      "cell_type": "markdown",
      "metadata": {
        "id": "It1Q4tYG3yEJ",
        "colab_type": "text"
      },
      "source": [
        "### Factor Analysis\n",
        "- Factor analysis with python"
      ]
    },
    {
      "cell_type": "code",
      "metadata": {
        "id": "Rq9S2Qeq_A8r",
        "colab_type": "code",
        "colab": {}
      },
      "source": [
        "from factor_analyzer.factor_analyzer import calculate_bartlett_sphericity\n",
        "chi_square_value,p_value = calculate_bartlett_sphericity(ans)\n",
        "chi_square_value, p_value"
      ],
      "execution_count": 0,
      "outputs": []
    },
    {
      "cell_type": "code",
      "metadata": {
        "id": "BuhF0fGZ32BV",
        "colab_type": "code",
        "colab": {}
      },
      "source": [
        "# Factor analysis 예시\n",
        "from factor_analyzer import FactorAnalyzer\n",
        "fa = FactorAnalyzer(rotation='varimax',  n_factors = 17)\n",
        "fa.fit(df)\n",
        "\n",
        "# 스크리 도표 그리기\n",
        "ev, v = fa.get_eigenvalues()\n",
        "\n",
        "plt.scatter(range(1,df.shape[1]+1),ev)\n",
        "plt.plot(range(1,df.shape[1]+1),ev)\n",
        "plt.title('Scree Plot')\n",
        "plt.xlabel('Factors')\n",
        "plt.ylabel('Eigenvalue')\n",
        "plt.grid()\n",
        "plt.show()\n",
        "\n",
        "# column별 factor의 영향 확인하기\n",
        "pd.DataFrame(fa.loadings_)\n",
        "\n",
        "# fa 적용하여 새로운 column에 맞게 변형하기\n",
        "fa.transform(df.values)"
      ],
      "execution_count": 0,
      "outputs": []
    },
    {
      "cell_type": "markdown",
      "metadata": {
        "id": "b_0h1642y2nI",
        "colab_type": "text"
      },
      "source": [
        "## 6-2. Clustering"
      ]
    },
    {
      "cell_type": "markdown",
      "metadata": {
        "id": "PZdmhewVhldP",
        "colab_type": "text"
      },
      "source": [
        "### Clustering이란....?\n",
        "\n",
        "- 대표적인 비지도학습. 집단이 주어지지 않은 데이터에 군집을 부여해주는 것\n",
        "- 군집 내의 분산을 최소화하고 군집 간의 분산을 최대한 유사한 개체로 묶어주는 것!\n",
        "- 방법은 크게 5개  \n",
        "`K-means clustering /Hierarchical clustering/ DBSCAN / Gaussian Muxture model (GMM) / KNN clustering`"
      ]
    },
    {
      "cell_type": "markdown",
      "metadata": {
        "id": "wGGUGYR9y4LI",
        "colab_type": "text"
      },
      "source": [
        "### K-means clustering"
      ]
    },
    {
      "cell_type": "markdown",
      "metadata": {
        "id": "I-0IYbgCg2-m",
        "colab_type": "text"
      },
      "source": [
        "- Centroid 방식을 활용하여 주어진 갯수에 맞게 군집을 나눠준다.\n",
        "- 각 cluster와의 유클리디안 거리 차이들을 구하고 그 값들의 분산을 최소화하는 방식\n",
        "- K-means의 한계\n",
        " 1. sub-optimal solution을 피하기 위해 여러번 시행해야 함\n",
        " 2. Cluster 갯수를 직접 지정해야 하며, Outlier에 취약하다 (유클리디안 거리여서)\n",
        " 3. Varying sizes, Different densities, Non-spherical shapes의 경우에 성능이 좋지 않다.\n",
        "\n",
        "> K-Means Algorithm \n",
        "1. 데이터 집합의 Objects 중에서 설정한 Cluster의 개수인 k개의 Centroid를 임으로 선택한다.  \n",
        "2. 집합 속의 모든 Objects와 앞서 선택한 Centroid와의 거리를 각각 구하고, 가장 가까운 Centroid가 속하는 Cluster에 Objects를 할당한다.  \n",
        "3. 같은 Cluster로 할당된 Objects들의 중심점을 찾고, 그 점을 새로운 Centroid로 설정한다.  \n",
        "4. Centroid의 변화가 없을 때까지 2-3 과정을 반복한다.\n",
        "\n",
        "> K-means++ Algorithm   \n",
        "1. 첫 initial point c1을 임의로 선택한다.  \n",
        "2. 이후의 initial point ct는 이전에 선택한 ct-1과의 거리인 d(ct-1, ct)가 큰 점이 높은 확률로 선택되도록 샘플링 확률 분포를 다음과 같이 조절하고, 이 분포에 따라 하나의 점을 선택한다.\n",
        "3. k 개의 initial points를 선택할 때까지 step 2를 반복한다.\n",
        "샘플링 확률 분포를 사용함에 따라 ct는 이전에 선택한 점 ct-1과 거리가 먼 점일 가능성이 높다. 한 가지 단점이 있다면, ct-1과 ct+1이 비슷할 수도 있다. (※Ball cut이라는 방법으로 해결 가능.)\n",
        "\n",
        "> 성능평가\n",
        " - K-means는 inertia 값으로 성능을 평가한다.\n",
        " - inertia는 K-Means Clustering으로 계산된 SSE 값\n",
        " - kmeans.inertia_ 을 통해 값을 구할 수 있으며, 작을수록 좋다.\n",
        " - kmeans.score(X) 를 통해서도 성능 파악이 가능한데, 이 값은 inertia의 음의 값이다. (일반적으로 클수록 좋다는 **\"greater is better\"** rule 때문에 사용된다.)\n",
        "\n",
        " > k개의 적절한 군집 수 찾는 방법\n",
        " 1. Rule of thumb </b>  \n",
        "가장 간단한 방법으로, 데이터의 수가 n이라고 할 때, 필요한 Cluster의 수는 다음과 같이 계산할 수 있다.  \n",
        "$$k ≈ \\sqrt{n / 2}$$\n",
        " 2. Elbow method <br>\n",
        "Cluster의 수를 순차적으로 늘려가면서 결과를 모니터링 한다. 만약 하나의 클러스터를 추가했을 때, 이전보다 훨씬 더 나은 결과를 나타내지 않는다면, 이전의 클러스터의 수를 구하고자 하는 클러스터의 수로 결정한다.  <br>\n",
        " <br>\n",
        " 3. Silhouette Method  \n",
        "  - Clustering의 품질을 정량적으로 계산해주는 방법이다. i번째 데이터 x(i)에 대한 실루엣 계수 s(i) 값은 아래의 식으로 정의 <br>\n",
        " ![silhouette formula](https://static.packt-cdn.com/products/9781788996402/graphics/739fcde8-e95d-4ab2-a2f2-f3fc804a8872.png) <br>\n",
        "  - a(i)는 Cluster 내부의 데이터 응집도(cohesion)를 나타내는 값으로, x(i)와 동일한 Cluster 내의 나머지 데이터들과의 평균거리이다.\n",
        "  - b(i)는 Cluster 간의 분리도(separation)를 나타내는 값으로, 데이터 x(i)와 가장 가까운 클러스터 내의 모든 데이터들과의 평균거리이다.\n",
        "  - 실루엣 계수 값은 1에 가까울 수록 최적화된 Clustering이다.\n"
      ]
    },
    {
      "cell_type": "code",
      "metadata": {
        "id": "StUbiWNhg-Zs",
        "colab_type": "code",
        "colab": {}
      },
      "source": [
        "# K-means in image segmentation 예시\n",
        "img = plt.imread('./img/img_seg_1.jpg')\n",
        "\n",
        "X = img.reshape(-1,3)\n",
        "\n",
        "segmented_imgs = []\n",
        "n_colors = (20, 15, 10, 5, 3)\n",
        "for n_clusters in n_colors:\n",
        "    kmeans = KMeans(n_clusters=n_clusters, random_state=42).fit(X)\n",
        "    segmented_img = kmeans.cluster_centers_[kmeans.labels_]\n",
        "    segmented_imgs.append(segmented_img.reshape(img.shape))\n",
        "    \n",
        "    \n",
        "plt.figure(figsize=(10,8))\n",
        "plt.subplots_adjust(wspace=0.05, hspace=0.1)\n",
        "\n",
        "plt.subplot(231)\n",
        "plt.imshow(img)\n",
        "plt.title(\"Original image\")\n",
        "plt.axis('off')\n",
        "\n",
        "for idx, n_clusters in enumerate(n_colors):\n",
        "    plt.subplot(232 + idx)\n",
        "    plt.imshow(segmented_imgs[idx])\n",
        "    plt.title(\"{} colors\".format(n_clusters))\n",
        "    plt.axis('off')\n",
        "    \n",
        "plt.show()"
      ],
      "execution_count": 0,
      "outputs": []
    },
    {
      "cell_type": "code",
      "metadata": {
        "id": "v86PdPAdg-kR",
        "colab_type": "code",
        "colab": {}
      },
      "source": [
        "# Silhouette 분석 예시\n",
        "from __future__ import print_function\n",
        "\n",
        "from sklearn.datasets import make_blobs\n",
        "from sklearn.cluster import KMeans\n",
        "from sklearn.metrics import silhouette_samples, silhouette_score\n",
        "\n",
        "import matplotlib.pyplot as plt\n",
        "import matplotlib.cm as cm\n",
        "import numpy as np\n",
        "\n",
        "X, y = make_blobs(n_samples = 500, n_features = 2, centers = 4, cluster_std = 1.0,\n",
        "                  center_box = (-10.0, 10.0), shuffle = True, random_state = 1)\n",
        "\n",
        "range_n_clusters = [2, 3, 4, 5, 6]\n",
        "\n",
        "for n_clusters in range_n_clusters:\n",
        "    fig, (ax1, ax2) = plt. subplots(1, 2)\n",
        "    fig.set_size_inches(18, 7)\n",
        "    \n",
        "    ax1.set_xlim([-0.1, 1]) # 실루엣 계수 범위 지정\n",
        "    ax1.set_ylim([0, len(X) + (n_clusters+1) * 10]) # 실루엣 클러스터 사이의 공간 만들기\n",
        "    \n",
        "    kmeans__ = KMeans(n_clusters = n_clusters, random_state = 10)\n",
        "    kmeans__labels = kmeans__.fit_predict(X)\n",
        "    \n",
        "    silhouette_avg = silhouette_score(X, kmeans__labels)\n",
        "    print(\"For n_clusters =\", n_clusters, \"The average silhouette_score is :\", silhouette_avg)\n",
        "    \n",
        "    sample_silhouette_values = silhouette_samples(X, kmeans__labels)\n",
        "    \n",
        "    y_lower = 10\n",
        "    \n",
        "    for i in range(n_clusters):\n",
        "        ith_cluster_silhouette_values = \\\n",
        "            sample_silhouette_values[kmeans__labels == i]\n",
        "            \n",
        "        ith_cluster_silhouette_values.sort()\n",
        "            \n",
        "        size_cluster_i = ith_cluster_silhouette_values.shape[0]\n",
        "        y_upper = y_lower + size_cluster_i\n",
        "            \n",
        "        color = cm.nipy_spectral(float(i) / n_clusters)\n",
        "        ax1.fill_betweenx(np.arange(y_lower, y_upper),\n",
        "                          0, ith_cluster_silhouette_values,\n",
        "                          facecolor=color, edgecolor=color, alpha=0.7)\n",
        "\n",
        "        ax1.text(-0.05, y_lower + 0.5 * size_cluster_i, str(i)) # silhouette plots 각각 label 붙이기\n",
        "\n",
        "        y_lower = y_upper + 10  # 다음 plot을 그리기위해 y_lower 새로 갱신\n",
        "        \n",
        "    ax1.set_title(\"The silhouette plot for the various clusters.\")\n",
        "    ax1.set_xlabel(\"The silhouette coefficient values\")\n",
        "    ax1.set_ylabel(\"Cluster label\")\n",
        "    \n",
        "    ax1.axvline(x = silhouette_avg, color = \"r\", linestyle=\"--\") # silhouette score 평균값 그리기\n",
        "    \n",
        "\n",
        "    # Cluster 보여주기 (2nd plot)\n",
        "    colors = cm.nipy_spectral(kmeans__labels.astype(float) / n_clusters)\n",
        "    ax2.scatter(X[:, 0], X[:, 1], marker='.', s=30, lw=0, alpha=0.7,\n",
        "                c=colors, edgecolor='k')\n",
        "\n",
        "    kmeans__centers = kmeans__.cluster_centers_ # cluster labeling\n",
        "    ax2.scatter(kmeans__centers[:, 0], kmeans__centers[:, 1], marker='o',\n",
        "                c=\"white\", alpha=1, s=200, edgecolor='k') # centroid circle design\n",
        "\n",
        "    for i, c in enumerate(kmeans__centers):\n",
        "        ax2.scatter(c[0], c[1], marker='$%d$' % i, alpha=1,\n",
        "                    s=50, edgecolor='k')\n",
        "\n",
        "    ax2.set_title(\"The visualization of the clustered data.\")\n",
        "    ax2.set_xlabel(\"Feature space for the 1st feature\")\n",
        "    ax2.set_ylabel(\"Feature space for the 2nd feature\")\n",
        "\n",
        "    plt.suptitle((\"Silhouette analysis for KMeans clustering on sample data \"\n",
        "                  \"with n_clusters = %d\" % n_clusters),\n",
        "                 fontsize=14, fontweight='bold')\n",
        "\n",
        "    plt.show()\n",
        "    "
      ],
      "execution_count": 0,
      "outputs": []
    },
    {
      "cell_type": "code",
      "metadata": {
        "id": "l5R9OHf1g-3B",
        "colab_type": "code",
        "colab": {}
      },
      "source": [
        "# Elbow 예시\n",
        "X, y = make_blobs(n_samples = 150, n_features = 2, centers = 3, cluster_std= 0.50, shuffle = True, random_state=0)\n",
        "\n",
        "def elbow(X):\n",
        "    sse = []\n",
        "    for i in range(1,11):\n",
        "        kmeans_elbow = KMeans(n_clusters = i, init = 'k-means++', random_state = 0)\n",
        "        kmeans_elbow.fit(X)\n",
        "        sse.append(kmeans_elbow.inertia_)\n",
        "        \n",
        "    plt.plot(range(1,11), sse, 'o-')\n",
        "    plt.xlabel('Number of Clusters')\n",
        "    plt.ylabel('SSE(inertia)')\n",
        "    plt.xticks(np.arange(11))\n",
        "    \n",
        "    plt.show()\n",
        "\n",
        "elbow(X)"
      ],
      "execution_count": 0,
      "outputs": []
    },
    {
      "cell_type": "code",
      "metadata": {
        "id": "qsQJZOzVg-8E",
        "colab_type": "code",
        "colab": {}
      },
      "source": [
        "# Kmeans 예시 (random, k-means ++)\n",
        "from sklearn.cluster import KMeans\n",
        "\n",
        "X, y = make_blobs(n_samples = 1000, centers = 4, cluster_std= 0.60, random_state=0)\n",
        "\n",
        "k = 6\n",
        "kmeans_random = KMeans(n_clusters = k, init = 'random', max_iter = 3)\n",
        "kmeans_plus = KMeans(n_clusters = k, init = 'k-means++', max_iter = 3)\n",
        "kmeans_random.fit(X)\n",
        "kmeans_plus.fit(X)"
      ],
      "execution_count": 0,
      "outputs": []
    },
    {
      "cell_type": "code",
      "metadata": {
        "id": "RIc5Usg-g-_-",
        "colab_type": "code",
        "colab": {}
      },
      "source": [
        "# 성능평가 예시\n",
        "print(\"inertia = {:5.2f}, score = {:5.2f}\".format(kmeans.inertia_, kmeans.score(X)))"
      ],
      "execution_count": 0,
      "outputs": []
    },
    {
      "cell_type": "code",
      "metadata": {
        "id": "BrGlJVzrg_Di",
        "colab_type": "code",
        "colab": {}
      },
      "source": [
        "# Kmeans 예시1\n",
        "from sklearn.cluster import KMeans\n",
        "import numpy as np\n",
        "X = np.array([[1, 2], [1, 4], [1, 0],\n",
        "               [10, 2], [10, 4], [10, 0]])\n",
        "\n",
        "kmeans = KMeans(n_clusters=2, random_state=0).fit(X)  # 2개의 cluster로 나눠라\n",
        "\n",
        "kmeans.labels_    # 각 데이터에 대한 클러스터 결과물\n",
        "# array([1, 1, 1, 0, 0, 0], dtype=int32)\n",
        "\n",
        "kmeans.predict([[0, 0], [12, 3]])\n",
        "# array([1, 0], dtype=int32)\n",
        "\n",
        "kmeans.cluster_centers_\n",
        "#array([[10.,  2.], [ 1.,  2.]])"
      ],
      "execution_count": 0,
      "outputs": []
    },
    {
      "cell_type": "code",
      "metadata": {
        "id": "zwYBaKX5hMGs",
        "colab_type": "code",
        "colab": {}
      },
      "source": [
        "# Kmeans 예시2\n",
        "import pandas as pd\n",
        "from sklearn.cluster import KMeans\n",
        "\n",
        "df = pd.DataFrame([\n",
        "        [2, 1],\n",
        "        [3, 2],\n",
        "        [3, 4],\n",
        "        [5, 5],\n",
        "        [7, 5],\n",
        "        [2, 5],\n",
        "        [8, 9],\n",
        "        [9, 10],\n",
        "        [6, 12]\n",
        "    ], columns=['hour', 'attendance'])\n",
        "\n",
        "model = KMeans(n_clusters=3)\n",
        "\n",
        "model.fit(df)\n",
        "\n",
        "y_predict = model.fit_predict(df)\n",
        "print(y_predict) \n",
        "#[0 0 0 2 2 0 1 1 1]\n",
        "\n",
        "df['cluster'] = y_predict\n",
        "print(df)\n",
        "'''\n",
        "   hour  attendance  cluster\n",
        "0     2           1        0\n",
        "1     3           2        0\n",
        "2     3           4        0\n",
        "3     5           5        2\n",
        "4     7           5        2\n",
        "5     2           5        0\n",
        "6     8           9        1\n",
        "7     9          10        1\n",
        "8     6          12        1\n",
        "'''"
      ],
      "execution_count": 0,
      "outputs": []
    },
    {
      "cell_type": "code",
      "metadata": {
        "id": "zf_E3Obv-jsc",
        "colab_type": "code",
        "colab": {}
      },
      "source": [
        "# Clustering 후 cluster별 특징 그래프로 나타내기\n",
        "plt.rcParams['axes.unicode_minus'] = False #그래프에서 - 폰트 깨지는거 방지\n",
        "fontlocation=\"C:/Windows/Fonts/HMFMPYUN.TTF\"\n",
        "font_name = font_manager.FontProperties(fname=fontlocation).get_name()\n",
        "plt.rc('font', family=font_name)\n",
        "\n",
        "tempDf.iloc[:,1:].transpose().plot()"
      ],
      "execution_count": 0,
      "outputs": []
    },
    {
      "cell_type": "markdown",
      "metadata": {
        "id": "SAAHvcqYy4PZ",
        "colab_type": "text"
      },
      "source": [
        "### Hierarchical clustering"
      ]
    },
    {
      "cell_type": "markdown",
      "metadata": {
        "id": "Qhk0YecehMLv",
        "colab_type": "text"
      },
      "source": [
        "- Connectivity method를 활용하여 Bottom-Up 방식으로 덴드로그램을 그려주고 거기서 주관에 의해서 적절한 군집 갯수를 찾는 방식. 큰 데이터에는 적용하기 힘들다.\n",
        "- [거리측정 방식](https://datascienceschool.net/view-notebook/094bcb7b86574711a2e8d81f26bce2f5/)"
      ]
    },
    {
      "cell_type": "code",
      "metadata": {
        "id": "WCNTHwbxhMQS",
        "colab_type": "code",
        "colab": {}
      },
      "source": [
        "# Hierarchical clustering 예시1 (by.sklearn)\n",
        "from sklearn.cluster import AgglomerativeClustering\n",
        "\n",
        "cluster = AgglomerativeClustering(n_clusters=2, affinity='euclidean', linkage='ward')\n",
        "cluster.fit_predict(X)\n",
        "\n",
        "print(cluster.labels_)"
      ],
      "execution_count": 0,
      "outputs": []
    },
    {
      "cell_type": "code",
      "metadata": {
        "id": "bdj_3hPvhMTn",
        "colab_type": "code",
        "colab": {}
      },
      "source": [
        "# Hierarchical clustering 예시2 (실제 data로 응용하는 법)\n",
        "import scipy.cluster.hierarchy as shc\n",
        "data = customer_data.iloc[:, 3:5].values    # iloc 의미, 전체 row와 3~4번째 column의 값을 nparray 형식으로 반환\n",
        "\n",
        "plt.figure(figsize=(10, 7))\n",
        "plt.title(\"Customer Dendograms\")\n",
        "dend = shc.dendrogram(shc.linkage(data, method='ward'))    # dendrogram에서 적정 군집 수를 파악하고\n",
        "\n",
        "from sklearn.cluster import AgglomerativeClustering\n",
        "cluster = AgglomerativeClustering(n_clusters=5, affinity='euclidean', linkage='ward')    # 그 군집 수를 적용시켜줌\n",
        "cluster.fit_predict(data)\n",
        "\n",
        "print(cluster.labels_)\n",
        "\n",
        "# scatter plot 그리기\n",
        "plt.figure(figsize=(10, 7))\n",
        "plt.scatter(data[:,0], data[:,1], c=cluster.labels_, cmap='rainbow')"
      ],
      "execution_count": 0,
      "outputs": []
    },
    {
      "cell_type": "code",
      "metadata": {
        "id": "gQ97q4hWhVf0",
        "colab_type": "code",
        "colab": {}
      },
      "source": [
        "# Hierarchical clustering 예시3\n",
        "linked = linkage(X, 'single')\n",
        "\n",
        "labelList = range(1, 11)\n",
        "\n",
        "plt.figure(figsize=(10, 7))\n",
        "dendrogram(linked,\n",
        "            orientation='top',\n",
        "            labels=labelList,\n",
        "            distance_sort='descending',\n",
        "            show_leaf_counts=True)\n",
        "plt.show()"
      ],
      "execution_count": 0,
      "outputs": []
    },
    {
      "cell_type": "markdown",
      "metadata": {
        "id": "DvZ5Q-fky4TV",
        "colab_type": "text"
      },
      "source": [
        "### DBSCAN"
      ]
    },
    {
      "cell_type": "markdown",
      "metadata": {
        "id": "C9Qq6IrzhXTe",
        "colab_type": "text"
      },
      "source": [
        "- Density-Based Spatial Clustering of Applications with Noise  \n",
        ": 밀도 기반의 클러스터링으로 점이 세밀하게 몰려 있는 것을 기준으로 Clustering을 하는 방법  \n",
        ": 어느 한 점을 기준으로 일정 반경 이내의 점들을 하나의 Cluster로 인식한다.\n",
        ": perdict() 기능이 없어서 예측을 위해서는 `KNeightborsClassifier`를 사용\n",
        "\n",
        "> DBSCAN Algorithm\n",
        "1. 한 점 P를 기준으로 ε(eps) 반경 내에 점이 지정한 개수(minPts) 이상이 있으면 해당 점 P를 Core Point라고 한다.\n",
        "2. 앞의 점 P를 Core Point로 하는 Cluster에 속하는 P'중에서 ε(eps) 반경 내에 점이 지정한 개수(minPts)보다 작으면 Border Point라고 한다.\n",
        "3. 이 외에 ε(eps) 반경을 만족하는 범위에 어떠한 점도 포함하지 않는 점 P\"을 Noise Point라고 한다.\n",
        "4. Core Point와 Border Point와 같이 ε(eps) 반경 내에 서로의 군집에 Points가 속하는 경우에 하나의 Cluster로 할당한다.\n",
        "\n",
        "> DBSCAN의 장점\n",
        "1. Cluster 개수를 지정하지 않아도 적절한 Cluster를 찾아준다.\n",
        "2. 불특정한 모양 분포를 Clustering 할 수 있다. (Density-based)\n",
        "3. Outlier를 Noise Point로 분류하여 Clustering 성능을 좋게 한다.\n",
        "\n",
        "> DBSCAN의 단점\n",
        "1. 입력하는 parameter 값에 따라, 다른 Clustering 결과를 보인다. \n",
        "2. 데이터 특성을 모를 경우에 hyper-parameter를 설정하기 어렵다. \n",
        "3. Computational Complexity가 Linearithmic Time( O(m log m) )을 따르는데, eps 값이 커짐에 따라 Quadratic Time( O(m2) )을 따르게 되어 복잡도가 증가한다.\n",
        "\n",
        "> DBSCAN in `python`\n",
        "- scikit-learn의 cluster 서브 패키지는 DBSCAN Clustering을 위한 DBSCAN Class를 제공한다.\n",
        "``` python\n",
        "DBSCAN (eps=0.5, min_samples=5, metric=’euclidean’, metric_params=None, algorithm=’auto’, leaf_size=30, p=None, n_jobs=None)\n",
        "```\n",
        "주요 parameter\n",
        " 1. eps: ε(epsilon)으로 samples 사이의 maximum distance로 Core Point를 지정하기 위한 최대 반경. \n",
        " 2. min_samples: Core Point를 기준으로 eps 반경 안에 속하는 samples의 개수.\n",
        "\n",
        "> 주요 메소드\n",
        " 1. .labels_ : sample이 지정된 Cluster를 확인. (labeling 이 '-1'로 된 것은 알고리즘에서 anomaly로 지정된 것이다.) \n",
        " 2. .core_sample_indices_ : core point로 지정된 것들의 index를 확인. (len()으로 core points 총 개수 확인 가능) \n",
        " 3. .components_ : core point의 좌표 확인."
      ]
    },
    {
      "cell_type": "code",
      "metadata": {
        "id": "Ohr5DwKohXdN",
        "colab_type": "code",
        "colab": {}
      },
      "source": [
        "# DBSCAN 예시\n",
        "from sklearn.datasets import make_moons\n",
        "\n",
        "X, y = make_moons(n_samples = 1000, noise = .05, random_state = 0)\n",
        "\n",
        "from sklearn.cluster import DBSCAN\n",
        "\n",
        "dbscan = DBSCAN(eps = 0.08, min_samples = 5)\n",
        "dbscan.fit(X)\n",
        "\n",
        "np.unique(dbscan.labels_)\n",
        "```\n",
        "# array([-1,  0,  1], dtype=int64)\n",
        "```\n",
        "\n",
        "dbscan.core_sample_indices_[:10]\n",
        "```\n",
        "# array([0, 1, 2, 3, 4, 5, 6, 7, 8, 9], dtype=int64)\n",
        "```\n",
        "\n",
        "dbscan.components_[:10]\n",
        "```\n",
        "# array([[ 2.02100097,  0.49017924],\n",
        "        [ 1.6782009 , -0.20198687],\n",
        "        [-0.28224484,  0.85878484],\n",
        "        [-0.02143996,  0.17628146],\n",
        "        [ 0.50484202, -0.3910431 ],\n",
        "        [ 1.96953895,  0.36005521],\n",
        "        [ 0.95659588,  0.2536649 ],\n",
        "        [ 0.0948788 ,  0.98337847],\n",
        "        [-0.4416603 ,  0.87203428],\n",
        "        [ 0.70751638, -0.5126737 ]])\n",
        "````\n",
        "\n",
        "## Classifier 예시\n",
        "from sklearn.neighbors import KNeighborsClassifier\n",
        "\n",
        "knn = KNeighborsClassifier(n_neighbors = 50)\n",
        "knn.fit(dbscan.components_, dbscan.labels_[dbscan.core_sample_indices_])\n",
        "\n",
        "# 새로운 데이터 샘플을 임의로 설정\n",
        "X_new = np.array([[-0.5,0], [0,0.5], [1, -0.1], [2,1]])\n",
        "knn.predict(X_new)\n",
        "\n",
        "knn.predict_proba(X_new)\n",
        "```\n",
        "# array([[0.2 , 0.8 ],\n",
        "        [1.  , 0.  ],\n",
        "        [0.18, 0.82],\n",
        "        [1.  , 0.  ]])\n",
        "```\n",
        "\n",
        "core_mask = np.zeros_like(dbscan.labels_, dtype = bool)\n",
        "core_mask[dbscan.core_sample_indices_] = True\n",
        "noise_mask = dbscan.labels_ == -1\n",
        "border_mask = ~(core_mask | noise_mask)\n",
        "\n",
        "cores = dbscan.components_\n",
        "noise = X[noise_mask]\n",
        "border = X[border_mask]\n",
        "\n",
        "plt.scatter(cores[:,0], cores[:,1], s = 10, c = dbscan.labels_[core_mask])\n",
        "plt.scatter(noise[:,0], noise[:,1], c = 'r', marker = 'x', s= 30)\n",
        "plt.scatter(border[:,0], border[:,1], c = 'b', marker = '*', s = 30)\n",
        "\n",
        "plt.title(\"eps = 0.08, min_samples = 5\")\n",
        "\n",
        "# 새로 생성한 데이터를 추가\n",
        "plt.scatter(X_new[:,0], X_new[:,1], c= \"k\", marker = \"+\", s = 400, zorder = 999)\n",
        "\n",
        "y_dist, y_pred_idx = knn.kneighbors(X_new, n_neighbors=1)\n",
        "y_pred = dbscan.labels_[dbscan.core_sample_indices_][y_pred_idx]\n",
        "y_pred[y_dist > 0.2] = -1\n",
        "y_pred.ravel()"
      ],
      "execution_count": 0,
      "outputs": []
    },
    {
      "cell_type": "code",
      "metadata": {
        "id": "8uM2bgz0hbD-",
        "colab_type": "code",
        "colab": {}
      },
      "source": [
        "# DBSCAN을 적용한 scatter plot\n",
        "core_mask = np.zeros_like(dbscan.labels_, dtype = bool)\n",
        "core_mask[dbscan.core_sample_indices_] = True\n",
        "noise_mask = dbscan.labels_ == -1\n",
        "border_mask = ~(core_mask | noise_mask)\n",
        "\n",
        "cores = dbscan.components_\n",
        "noise = X[noise_mask]\n",
        "border = X[border_mask]\n",
        "\n",
        "plt.scatter(cores[:,0], cores[:,1], s = 10, c = dbscan.labels_[core_mask])\n",
        "plt.scatter(noise[:,0], noise[:,1], c = 'r', marker = 'x', s= 30)\n",
        "plt.scatter(border[:,0], border[:,1], c = 'b', marker = '*', s = 30)\n",
        "\n",
        "plt.title(\"eps = 0.08, min_samples = 5\")"
      ],
      "execution_count": 0,
      "outputs": []
    },
    {
      "cell_type": "markdown",
      "metadata": {
        "id": "3p0Lc8RFy4XJ",
        "colab_type": "text"
      },
      "source": [
        "### Gaussian Mixture model (GMM)"
      ]
    },
    {
      "cell_type": "markdown",
      "metadata": {
        "id": "SlQ8kqj4hchX",
        "colab_type": "text"
      },
      "source": [
        "- Mixture Model이란, 전체 분포에서 하위 분포가 존재한다고 가정하는 모델이다.\n",
        "- 데이터가 모수를 가지는 여러 개의 분포로부터 합쳐진 형태라는 것이다.\n",
        "- 즉, Gaussian Mixture Model은 합쳐진 여러 개의 분포가 Gaussian Distribution의 형태인 것을 말한다."
      ]
    },
    {
      "cell_type": "code",
      "metadata": {
        "id": "PfrtHrMahclu",
        "colab_type": "code",
        "colab": {}
      },
      "source": [
        "## GMM 예시\n",
        "# 분포 만들어주기\n",
        "import pandas as pd\n",
        "import numpy as np\n",
        "import matplotlib.pyplot as plt\n",
        "\n",
        "%matplotlib inline\n",
        "\n",
        "dist1 = np.random.normal(-0.5, 0.2, 2000)\n",
        "dist2 = np.random.normal(-0.1, 0.07, 5000)\n",
        "dist3 = np.random.normal(0.2, 0.13, 10000)\n",
        "\n",
        "df1 = pd.DataFrame(dist1)\n",
        "df2 = pd.DataFrame(dist2)\n",
        "df3 = pd.DataFrame(dist3)\n",
        "df_merged = pd.concat([df1, df2, df3], ignore_index = True)\n",
        "\n",
        "df_merged_weights = np.ones_like(df_merged.values)\n",
        "\n",
        "plt.hist(df_merged.values, bins = 80, weights = df_merged_weights, color = 'tomato')\n",
        "\n",
        "plt.xlim(-1.3, 1.0)\n",
        "plt.ylabel('counts')\n",
        "plt.legend(['Merged Distribution'], loc = \"upper left\")\n",
        "plt.show()\n",
        "\n",
        "# GMM 쓰기\n",
        "from sklearn.mixture import GaussianMixture\n",
        "gmm = GaussianMixture(n_components = 3, n_init = 10)\n",
        "gmm.fit(df_merged)\n",
        "\n",
        "gmm.weights_\n",
        "\n",
        "gmm.means_\n",
        "\n",
        "gmm.covariances_\n",
        "\n",
        "gmm.converged_\n",
        "\n",
        "gmm.n_iter_\n",
        "\n",
        "gmm.predict(df_merged)\n",
        "\n",
        "# GMM 적용 후 결과 plot으로 나타내기\n",
        "import scipy.stats as stats\n",
        "\n",
        "weights = gmm.weights_\n",
        "means = gmm.means_\n",
        "covars = gmm.covariances_\n",
        "\n",
        "# df_merged를 dataframe에서 array로 변환\n",
        "arr_merged = df_merged.values.flatten()\n",
        "\n",
        "# 데이터 범위 및 개수\n",
        "xx = np.linspace(min(arr_merged),max(arr_merged),17000)\n",
        "\n",
        "pdf_1 = stats.norm(loc = means[0], scale = np.sqrt(covars[0]))\n",
        "pdf_2 = stats.norm(loc = means[1], scale = np.sqrt(covars[1]))\n",
        "pdf_3 = stats.norm(loc = means[2], scale = np.sqrt(covars[2]))\n",
        "\n",
        "n, bins, patches = plt.hist(df_merged.values, bins = 50, normed=True, facecolor='tomato', alpha = .4)\n",
        "plt.plot(xx,weights[0]*pdf_1.pdf(xx)[0], c='green')\n",
        "plt.plot(xx,weights[1]*pdf_2.pdf(xx)[0], c='royalblue')\n",
        "plt.plot(xx,weights[2]*pdf_3.pdf(xx)[0], c='orange')\n",
        "\n",
        "plt.show()"
      ],
      "execution_count": 0,
      "outputs": []
    },
    {
      "cell_type": "markdown",
      "metadata": {
        "id": "Q4GE559ly4Zw",
        "colab_type": "text"
      },
      "source": [
        "### KNN clustering"
      ]
    },
    {
      "cell_type": "markdown",
      "metadata": {
        "id": "bf8mqYXLhfeo",
        "colab_type": "text"
      },
      "source": [
        "- 패턴 인식에서 분류나 회귀에 사용되는 비모수 방식이다. \n",
        "- 데이터의 지역 구조에 민감하다. 쉽게 구현이 되나 계산량이 많다.\n",
        "- 매우 일관성 있는 결과를 도출해낸다."
      ]
    }
  ]
}